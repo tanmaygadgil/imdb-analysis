{
 "cells": [
  {
   "cell_type": "markdown",
   "metadata": {},
   "source": [
    "# Model Creation and Tuning"
   ]
  },
  {
   "cell_type": "markdown",
   "metadata": {},
   "source": [
    "## Index\n",
    "\n",
    "- [Data Preprocessing](#Data-Preprocessing)\n",
    "- [Baseline Linear Model](#Baseline-Linear-Model)\n",
    "- [Baseline Random Forest](#Baseline-Random-Forest)\n",
    "- [Baseline XGB model](#Baseline-XGB-model)\n",
    "- [A Simple Neural-Net](#A-Simple-Neural-Net)\n",
    "- [Hyperparamerter tuning](#Hyperparamerter-tuning)"
   ]
  },
  {
   "cell_type": "code",
   "execution_count": 83,
   "metadata": {},
   "outputs": [],
   "source": [
    "import pandas as pd\n",
    "import numpy as np\n",
    "import matplotlib.pyplot as plt\n",
    "from collections import Counter\n",
    "import sklearn\n",
    "import os \n",
    "import sys\n",
    "import json"
   ]
  },
  {
   "cell_type": "code",
   "execution_count": 84,
   "metadata": {},
   "outputs": [],
   "source": [
    "import seaborn as sns"
   ]
  },
  {
   "cell_type": "code",
   "execution_count": 85,
   "metadata": {},
   "outputs": [],
   "source": [
    "import pickle"
   ]
  },
  {
   "cell_type": "code",
   "execution_count": 86,
   "metadata": {},
   "outputs": [],
   "source": [
    "from sklearn.metrics import *"
   ]
  },
  {
   "cell_type": "code",
   "execution_count": 87,
   "metadata": {},
   "outputs": [],
   "source": [
    "from sklearn.model_selection import *\n",
    "from sklearn.metrics import *\n",
    "\n",
    "from sklearn.preprocessing import StandardScaler, LabelEncoder, OrdinalEncoder"
   ]
  },
  {
   "cell_type": "code",
   "execution_count": 88,
   "metadata": {},
   "outputs": [],
   "source": [
    "from xgboost import XGBRegressor\n",
    "from sklearn.ensemble import RandomForestRegressor\n",
    "from sklearn.linear_model import LinearRegression"
   ]
  },
  {
   "cell_type": "code",
   "execution_count": 89,
   "metadata": {},
   "outputs": [],
   "source": [
    "# import keras\n",
    "import tensorflow as tf\n",
    "\n",
    "from tensorflow import keras\n",
    "from tensorflow.keras import layers"
   ]
  },
  {
   "cell_type": "code",
   "execution_count": 90,
   "metadata": {},
   "outputs": [],
   "source": [
    "from hyperopt import STATUS_OK, Trials, fmin, hp, tpe"
   ]
  },
  {
   "cell_type": "code",
   "execution_count": 91,
   "metadata": {},
   "outputs": [],
   "source": [
    "from tensorflow.keras.optimizers import Adam"
   ]
  },
  {
   "cell_type": "code",
   "execution_count": 92,
   "metadata": {},
   "outputs": [],
   "source": [
    "from sklearn.model_selection import RandomizedSearchCV"
   ]
  },
  {
   "cell_type": "markdown",
   "metadata": {},
   "source": [
    "## Data Preprocessing"
   ]
  },
  {
   "cell_type": "code",
   "execution_count": 93,
   "metadata": {},
   "outputs": [],
   "source": [
    "data = pd.read_csv('processed/training_df.csv')"
   ]
  },
  {
   "cell_type": "code",
   "execution_count": 94,
   "metadata": {},
   "outputs": [],
   "source": [
    "data.drop(columns=['Unnamed: 0', 'isAdult'], inplace = True)"
   ]
  },
  {
   "cell_type": "code",
   "execution_count": 95,
   "metadata": {},
   "outputs": [
    {
     "data": {
      "text/plain": [
       "Index(['startYear', 'runtimeMinutes', 'averageRating', 'numVotes', 'cast_mean',\n",
       "       'cast_std', 'cast_max', 'crew_mean', 'crew_std', 'crew_max', 'cast_exp',\n",
       "       'crew_exp', 'numRegions', 'Action', 'Adult', 'Adventure', 'Animation',\n",
       "       'Biography', 'Comedy', 'Crime', 'Documentary', 'Drama', 'Family',\n",
       "       'Fantasy', 'Film-Noir', 'Game-Show', 'History', 'Horror', 'Music',\n",
       "       'Musical', 'Mystery', 'News', 'Reality-TV', 'Romance', 'Sci-Fi',\n",
       "       'Short', 'Sport', 'Talk-Show', 'Thriller', 'War', 'Western'],\n",
       "      dtype='object')"
      ]
     },
     "execution_count": 95,
     "metadata": {},
     "output_type": "execute_result"
    }
   ],
   "source": [
    "data.columns"
   ]
  },
  {
   "cell_type": "code",
   "execution_count": 96,
   "metadata": {},
   "outputs": [],
   "source": [
    "label = 'averageRating'\n",
    "numerical_cols = ['runtimeMinutes', 'numVotes','cast_mean', \n",
    "                  'cast_std', 'cast_max', 'crew_mean', 'crew_std',\n",
    "                'crew_max', 'cast_exp', 'crew_exp', 'numRegions']\n",
    "ordinal_cols = ['startYear']"
   ]
  },
  {
   "cell_type": "code",
   "execution_count": 97,
   "metadata": {},
   "outputs": [],
   "source": [
    "def scaler(data, numerical_cols, ordinal_cols, save = False):\n",
    "    if numerical_cols:\n",
    "        ss  = StandardScaler()\n",
    "        data.loc[:, numerical_cols] = ss.fit_transform(data[numerical_cols])\n",
    "    if ordinal_cols:\n",
    "        os = OrdinalEncoder()\n",
    "        data.loc[:, ordinal_cols] = ss.fit_transform(data[ordinal_cols])\n",
    "    if save:\n",
    "        with open('models/standard_scaler', 'wb') as f:\n",
    "            pickle.dump(ss, f)\n",
    "        with open('models/ordinal_scaler', 'wb') as f:\n",
    "            pickle.dump(os, f)\n",
    "    return data"
   ]
  },
  {
   "cell_type": "code",
   "execution_count": 98,
   "metadata": {},
   "outputs": [],
   "source": [
    "data_scaled = scaler(data, numerical_cols, ordinal_cols, save=True)"
   ]
  },
  {
   "cell_type": "code",
   "execution_count": 99,
   "metadata": {},
   "outputs": [
    {
     "data": {
      "text/html": [
       "<div>\n",
       "<style scoped>\n",
       "    .dataframe tbody tr th:only-of-type {\n",
       "        vertical-align: middle;\n",
       "    }\n",
       "\n",
       "    .dataframe tbody tr th {\n",
       "        vertical-align: top;\n",
       "    }\n",
       "\n",
       "    .dataframe thead th {\n",
       "        text-align: right;\n",
       "    }\n",
       "</style>\n",
       "<table border=\"1\" class=\"dataframe\">\n",
       "  <thead>\n",
       "    <tr style=\"text-align: right;\">\n",
       "      <th></th>\n",
       "      <th>startYear</th>\n",
       "      <th>runtimeMinutes</th>\n",
       "      <th>averageRating</th>\n",
       "      <th>numVotes</th>\n",
       "      <th>cast_mean</th>\n",
       "      <th>cast_std</th>\n",
       "      <th>cast_max</th>\n",
       "      <th>crew_mean</th>\n",
       "      <th>crew_std</th>\n",
       "      <th>crew_max</th>\n",
       "      <th>...</th>\n",
       "      <th>News</th>\n",
       "      <th>Reality-TV</th>\n",
       "      <th>Romance</th>\n",
       "      <th>Sci-Fi</th>\n",
       "      <th>Short</th>\n",
       "      <th>Sport</th>\n",
       "      <th>Talk-Show</th>\n",
       "      <th>Thriller</th>\n",
       "      <th>War</th>\n",
       "      <th>Western</th>\n",
       "    </tr>\n",
       "  </thead>\n",
       "  <tbody>\n",
       "    <tr>\n",
       "      <th>0</th>\n",
       "      <td>-1.319724</td>\n",
       "      <td>0.068700</td>\n",
       "      <td>4.5</td>\n",
       "      <td>-0.095872</td>\n",
       "      <td>-1.947168</td>\n",
       "      <td>-0.997854</td>\n",
       "      <td>-3.015751</td>\n",
       "      <td>-0.986950</td>\n",
       "      <td>1.005087</td>\n",
       "      <td>-1.259929</td>\n",
       "      <td>...</td>\n",
       "      <td>0</td>\n",
       "      <td>0</td>\n",
       "      <td>0</td>\n",
       "      <td>0</td>\n",
       "      <td>0</td>\n",
       "      <td>0</td>\n",
       "      <td>0</td>\n",
       "      <td>0</td>\n",
       "      <td>0</td>\n",
       "      <td>0</td>\n",
       "    </tr>\n",
       "    <tr>\n",
       "      <th>1</th>\n",
       "      <td>-1.319724</td>\n",
       "      <td>-0.166455</td>\n",
       "      <td>6.0</td>\n",
       "      <td>-0.072000</td>\n",
       "      <td>-0.208452</td>\n",
       "      <td>-0.997854</td>\n",
       "      <td>-1.450210</td>\n",
       "      <td>-0.472322</td>\n",
       "      <td>-0.953246</td>\n",
       "      <td>-1.643088</td>\n",
       "      <td>...</td>\n",
       "      <td>0</td>\n",
       "      <td>0</td>\n",
       "      <td>0</td>\n",
       "      <td>0</td>\n",
       "      <td>0</td>\n",
       "      <td>0</td>\n",
       "      <td>0</td>\n",
       "      <td>0</td>\n",
       "      <td>0</td>\n",
       "      <td>0</td>\n",
       "    </tr>\n",
       "    <tr>\n",
       "      <th>2</th>\n",
       "      <td>-1.319724</td>\n",
       "      <td>-0.009685</td>\n",
       "      <td>4.6</td>\n",
       "      <td>-0.095775</td>\n",
       "      <td>-1.160606</td>\n",
       "      <td>-0.997854</td>\n",
       "      <td>-1.737226</td>\n",
       "      <td>-1.630350</td>\n",
       "      <td>-0.408200</td>\n",
       "      <td>-2.830881</td>\n",
       "      <td>...</td>\n",
       "      <td>0</td>\n",
       "      <td>0</td>\n",
       "      <td>0</td>\n",
       "      <td>0</td>\n",
       "      <td>0</td>\n",
       "      <td>0</td>\n",
       "      <td>0</td>\n",
       "      <td>0</td>\n",
       "      <td>0</td>\n",
       "      <td>0</td>\n",
       "    </tr>\n",
       "    <tr>\n",
       "      <th>3</th>\n",
       "      <td>-1.319724</td>\n",
       "      <td>0.037346</td>\n",
       "      <td>4.5</td>\n",
       "      <td>-0.095581</td>\n",
       "      <td>-1.599425</td>\n",
       "      <td>-0.997854</td>\n",
       "      <td>-2.389535</td>\n",
       "      <td>-1.668844</td>\n",
       "      <td>-0.953246</td>\n",
       "      <td>-2.677618</td>\n",
       "      <td>...</td>\n",
       "      <td>0</td>\n",
       "      <td>0</td>\n",
       "      <td>0</td>\n",
       "      <td>0</td>\n",
       "      <td>0</td>\n",
       "      <td>0</td>\n",
       "      <td>0</td>\n",
       "      <td>0</td>\n",
       "      <td>0</td>\n",
       "      <td>0</td>\n",
       "    </tr>\n",
       "    <tr>\n",
       "      <th>4</th>\n",
       "      <td>-1.319724</td>\n",
       "      <td>0.303856</td>\n",
       "      <td>3.8</td>\n",
       "      <td>-0.095549</td>\n",
       "      <td>-0.976385</td>\n",
       "      <td>1.338778</td>\n",
       "      <td>-0.771809</td>\n",
       "      <td>-0.473268</td>\n",
       "      <td>1.763490</td>\n",
       "      <td>0.129022</td>\n",
       "      <td>...</td>\n",
       "      <td>0</td>\n",
       "      <td>0</td>\n",
       "      <td>0</td>\n",
       "      <td>0</td>\n",
       "      <td>0</td>\n",
       "      <td>0</td>\n",
       "      <td>0</td>\n",
       "      <td>0</td>\n",
       "      <td>0</td>\n",
       "      <td>0</td>\n",
       "    </tr>\n",
       "    <tr>\n",
       "      <th>...</th>\n",
       "      <td>...</td>\n",
       "      <td>...</td>\n",
       "      <td>...</td>\n",
       "      <td>...</td>\n",
       "      <td>...</td>\n",
       "      <td>...</td>\n",
       "      <td>...</td>\n",
       "      <td>...</td>\n",
       "      <td>...</td>\n",
       "      <td>...</td>\n",
       "      <td>...</td>\n",
       "      <td>...</td>\n",
       "      <td>...</td>\n",
       "      <td>...</td>\n",
       "      <td>...</td>\n",
       "      <td>...</td>\n",
       "      <td>...</td>\n",
       "      <td>...</td>\n",
       "      <td>...</td>\n",
       "      <td>...</td>\n",
       "      <td>...</td>\n",
       "    </tr>\n",
       "    <tr>\n",
       "      <th>323829</th>\n",
       "      <td>1.161934</td>\n",
       "      <td>0.005992</td>\n",
       "      <td>6.4</td>\n",
       "      <td>0.047136</td>\n",
       "      <td>-0.035898</td>\n",
       "      <td>-0.997854</td>\n",
       "      <td>0.193608</td>\n",
       "      <td>0.164157</td>\n",
       "      <td>-0.953246</td>\n",
       "      <td>-0.499085</td>\n",
       "      <td>...</td>\n",
       "      <td>0</td>\n",
       "      <td>0</td>\n",
       "      <td>0</td>\n",
       "      <td>0</td>\n",
       "      <td>0</td>\n",
       "      <td>0</td>\n",
       "      <td>0</td>\n",
       "      <td>0</td>\n",
       "      <td>0</td>\n",
       "      <td>0</td>\n",
       "    </tr>\n",
       "    <tr>\n",
       "      <th>323830</th>\n",
       "      <td>1.112301</td>\n",
       "      <td>0.013831</td>\n",
       "      <td>3.8</td>\n",
       "      <td>-0.095872</td>\n",
       "      <td>-1.897582</td>\n",
       "      <td>-0.997854</td>\n",
       "      <td>-2.406930</td>\n",
       "      <td>-1.755456</td>\n",
       "      <td>1.167940</td>\n",
       "      <td>-1.681404</td>\n",
       "      <td>...</td>\n",
       "      <td>0</td>\n",
       "      <td>0</td>\n",
       "      <td>0</td>\n",
       "      <td>0</td>\n",
       "      <td>0</td>\n",
       "      <td>0</td>\n",
       "      <td>0</td>\n",
       "      <td>0</td>\n",
       "      <td>1</td>\n",
       "      <td>0</td>\n",
       "    </tr>\n",
       "    <tr>\n",
       "      <th>323831</th>\n",
       "      <td>1.112301</td>\n",
       "      <td>-0.636766</td>\n",
       "      <td>9.3</td>\n",
       "      <td>-0.095775</td>\n",
       "      <td>3.616722</td>\n",
       "      <td>-0.997854</td>\n",
       "      <td>1.993980</td>\n",
       "      <td>3.566343</td>\n",
       "      <td>-0.953246</td>\n",
       "      <td>2.111870</td>\n",
       "      <td>...</td>\n",
       "      <td>0</td>\n",
       "      <td>0</td>\n",
       "      <td>0</td>\n",
       "      <td>0</td>\n",
       "      <td>0</td>\n",
       "      <td>0</td>\n",
       "      <td>0</td>\n",
       "      <td>0</td>\n",
       "      <td>0</td>\n",
       "      <td>0</td>\n",
       "    </tr>\n",
       "    <tr>\n",
       "      <th>323832</th>\n",
       "      <td>1.112301</td>\n",
       "      <td>0.248986</td>\n",
       "      <td>8.3</td>\n",
       "      <td>-0.096130</td>\n",
       "      <td>1.261004</td>\n",
       "      <td>-0.997854</td>\n",
       "      <td>0.950286</td>\n",
       "      <td>1.006749</td>\n",
       "      <td>-0.953246</td>\n",
       "      <td>0.962393</td>\n",
       "      <td>...</td>\n",
       "      <td>0</td>\n",
       "      <td>0</td>\n",
       "      <td>0</td>\n",
       "      <td>0</td>\n",
       "      <td>0</td>\n",
       "      <td>0</td>\n",
       "      <td>0</td>\n",
       "      <td>0</td>\n",
       "      <td>0</td>\n",
       "      <td>0</td>\n",
       "    </tr>\n",
       "    <tr>\n",
       "      <th>323833</th>\n",
       "      <td>1.013035</td>\n",
       "      <td>0.194117</td>\n",
       "      <td>8.4</td>\n",
       "      <td>-0.096162</td>\n",
       "      <td>1.859653</td>\n",
       "      <td>-0.997854</td>\n",
       "      <td>1.211210</td>\n",
       "      <td>1.914308</td>\n",
       "      <td>-0.953246</td>\n",
       "      <td>1.077341</td>\n",
       "      <td>...</td>\n",
       "      <td>0</td>\n",
       "      <td>0</td>\n",
       "      <td>1</td>\n",
       "      <td>0</td>\n",
       "      <td>0</td>\n",
       "      <td>0</td>\n",
       "      <td>0</td>\n",
       "      <td>0</td>\n",
       "      <td>0</td>\n",
       "      <td>0</td>\n",
       "    </tr>\n",
       "  </tbody>\n",
       "</table>\n",
       "<p>323834 rows × 41 columns</p>\n",
       "</div>"
      ],
      "text/plain": [
       "        startYear  runtimeMinutes  averageRating  numVotes  cast_mean  \\\n",
       "0       -1.319724        0.068700            4.5 -0.095872  -1.947168   \n",
       "1       -1.319724       -0.166455            6.0 -0.072000  -0.208452   \n",
       "2       -1.319724       -0.009685            4.6 -0.095775  -1.160606   \n",
       "3       -1.319724        0.037346            4.5 -0.095581  -1.599425   \n",
       "4       -1.319724        0.303856            3.8 -0.095549  -0.976385   \n",
       "...           ...             ...            ...       ...        ...   \n",
       "323829   1.161934        0.005992            6.4  0.047136  -0.035898   \n",
       "323830   1.112301        0.013831            3.8 -0.095872  -1.897582   \n",
       "323831   1.112301       -0.636766            9.3 -0.095775   3.616722   \n",
       "323832   1.112301        0.248986            8.3 -0.096130   1.261004   \n",
       "323833   1.013035        0.194117            8.4 -0.096162   1.859653   \n",
       "\n",
       "        cast_std  cast_max  crew_mean  crew_std  crew_max  ...  News  \\\n",
       "0      -0.997854 -3.015751  -0.986950  1.005087 -1.259929  ...     0   \n",
       "1      -0.997854 -1.450210  -0.472322 -0.953246 -1.643088  ...     0   \n",
       "2      -0.997854 -1.737226  -1.630350 -0.408200 -2.830881  ...     0   \n",
       "3      -0.997854 -2.389535  -1.668844 -0.953246 -2.677618  ...     0   \n",
       "4       1.338778 -0.771809  -0.473268  1.763490  0.129022  ...     0   \n",
       "...          ...       ...        ...       ...       ...  ...   ...   \n",
       "323829 -0.997854  0.193608   0.164157 -0.953246 -0.499085  ...     0   \n",
       "323830 -0.997854 -2.406930  -1.755456  1.167940 -1.681404  ...     0   \n",
       "323831 -0.997854  1.993980   3.566343 -0.953246  2.111870  ...     0   \n",
       "323832 -0.997854  0.950286   1.006749 -0.953246  0.962393  ...     0   \n",
       "323833 -0.997854  1.211210   1.914308 -0.953246  1.077341  ...     0   \n",
       "\n",
       "        Reality-TV  Romance  Sci-Fi  Short  Sport  Talk-Show  Thriller  War  \\\n",
       "0                0        0       0      0      0          0         0    0   \n",
       "1                0        0       0      0      0          0         0    0   \n",
       "2                0        0       0      0      0          0         0    0   \n",
       "3                0        0       0      0      0          0         0    0   \n",
       "4                0        0       0      0      0          0         0    0   \n",
       "...            ...      ...     ...    ...    ...        ...       ...  ...   \n",
       "323829           0        0       0      0      0          0         0    0   \n",
       "323830           0        0       0      0      0          0         0    1   \n",
       "323831           0        0       0      0      0          0         0    0   \n",
       "323832           0        0       0      0      0          0         0    0   \n",
       "323833           0        1       0      0      0          0         0    0   \n",
       "\n",
       "        Western  \n",
       "0             0  \n",
       "1             0  \n",
       "2             0  \n",
       "3             0  \n",
       "4             0  \n",
       "...         ...  \n",
       "323829        0  \n",
       "323830        0  \n",
       "323831        0  \n",
       "323832        0  \n",
       "323833        0  \n",
       "\n",
       "[323834 rows x 41 columns]"
      ]
     },
     "execution_count": 99,
     "metadata": {},
     "output_type": "execute_result"
    }
   ],
   "source": [
    "data_scaled"
   ]
  },
  {
   "cell_type": "code",
   "execution_count": 100,
   "metadata": {},
   "outputs": [],
   "source": [
    "train_cols = ['startYear', 'runtimeMinutes', 'numVotes',\n",
    "       'cast_mean', 'cast_std', 'cast_max', 'crew_mean', 'crew_std',\n",
    "       'crew_max', 'cast_exp', 'crew_exp', 'numRegions', 'Action', 'Adult',\n",
    "       'Adventure', 'Animation', 'Biography', 'Comedy', 'Crime', 'Documentary',\n",
    "       'Drama', 'Family', 'Fantasy', 'Film-Noir', 'Game-Show', 'History',\n",
    "       'Horror', 'Music', 'Musical', 'Mystery', 'News', 'Reality-TV',\n",
    "       'Romance', 'Sci-Fi', 'Short', 'Sport', 'Talk-Show', 'Thriller', 'War',\n",
    "       'Western']"
   ]
  },
  {
   "cell_type": "code",
   "execution_count": 101,
   "metadata": {},
   "outputs": [],
   "source": [
    "X = data_scaled[train_cols].values"
   ]
  },
  {
   "cell_type": "code",
   "execution_count": 102,
   "metadata": {},
   "outputs": [],
   "source": [
    "y = data[label]"
   ]
  },
  {
   "cell_type": "code",
   "execution_count": 103,
   "metadata": {},
   "outputs": [
    {
     "data": {
      "text/plain": [
       "((323834, 40), (323834,))"
      ]
     },
     "execution_count": 103,
     "metadata": {},
     "output_type": "execute_result"
    }
   ],
   "source": [
    "X.shape, y.shape"
   ]
  },
  {
   "cell_type": "code",
   "execution_count": 104,
   "metadata": {},
   "outputs": [],
   "source": [
    "X_train, X_test, y_train, y_test = train_test_split(X, y, train_size = 0.7, random_state = 42)"
   ]
  },
  {
   "cell_type": "code",
   "execution_count": 105,
   "metadata": {},
   "outputs": [
    {
     "name": "stdout",
     "output_type": "stream",
     "text": [
      "Xtrain shape: (226683, 40)\n",
      "Xtrain shape: (97151, 40)\n",
      "Xtrain shape: (226683,)\n",
      "Xtrain shape: (97151,)\n"
     ]
    }
   ],
   "source": [
    "print(f\"Xtrain shape: {X_train.shape}\")\n",
    "print(f\"Xtrain shape: {X_test.shape}\")\n",
    "print(f\"Xtrain shape: {y_train.shape}\")\n",
    "print(f\"Xtrain shape: {y_test.shape}\")"
   ]
  },
  {
   "cell_type": "markdown",
   "metadata": {},
   "source": [
    "## Baseline Linear Model\n",
    "\n",
    "\n",
    "This Linear regression model provides a baseline for our other machine learning models"
   ]
  },
  {
   "cell_type": "code",
   "execution_count": 106,
   "metadata": {},
   "outputs": [],
   "source": [
    "lr = LinearRegression(n_jobs=-1)"
   ]
  },
  {
   "cell_type": "code",
   "execution_count": 107,
   "metadata": {},
   "outputs": [
    {
     "data": {
      "text/plain": [
       "LinearRegression(copy_X=True, fit_intercept=True, n_jobs=-1, normalize=False)"
      ]
     },
     "execution_count": 107,
     "metadata": {},
     "output_type": "execute_result"
    }
   ],
   "source": [
    "lr.fit(X_train, y_train)"
   ]
  },
  {
   "cell_type": "code",
   "execution_count": 108,
   "metadata": {},
   "outputs": [
    {
     "data": {
      "text/plain": [
       "0.743035345663549"
      ]
     },
     "execution_count": 108,
     "metadata": {},
     "output_type": "execute_result"
    }
   ],
   "source": [
    "\n",
    "lr.score(X_train, y_train)"
   ]
  },
  {
   "cell_type": "code",
   "execution_count": 109,
   "metadata": {},
   "outputs": [
    {
     "data": {
      "text/plain": [
       "0.7456664118529612"
      ]
     },
     "execution_count": 109,
     "metadata": {},
     "output_type": "execute_result"
    }
   ],
   "source": [
    "lr.score(X_test, y_test)"
   ]
  },
  {
   "cell_type": "code",
   "execution_count": 110,
   "metadata": {},
   "outputs": [
    {
     "data": {
      "text/plain": [
       "(array([ 0,  1,  2,  3,  4,  5,  6,  7,  8,  9, 10, 11, 12, 13, 14, 15, 16,\n",
       "        17, 18, 19, 20, 21, 22, 23, 24, 25, 26, 27, 28, 29, 30, 31, 32, 33,\n",
       "        34, 35, 36, 37, 38, 39]),\n",
       " <a list of 40 Text xticklabel objects>)"
      ]
     },
     "execution_count": 110,
     "metadata": {},
     "output_type": "execute_result"
    },
    {
     "data": {
      "image/png": "[encoded data removed]",
      "text/plain": [
       "<Figure size 1080x720 with 1 Axes>"
      ]
     },
     "metadata": {
      "needs_background": "light"
     },
     "output_type": "display_data"
    }
   ],
   "source": [
    "plt.figure(figsize = (15,10))\n",
    "sns.barplot(x = train_cols, y = lr.coef_, )\n",
    "plt.xticks(rotation=90)"
   ]
  },
  {
   "cell_type": "markdown",
   "metadata": {},
   "source": [
    "The coefficient values provide an indication of which variables are contributing to the models decisions for the final predictions. We can see that the `crew_mean` and `cast_mean` features have a very positive relationship with the rating. Certain genres like `film-noir`, `animation`, `short` and `western` also have a strong positive relationship with the IMDB rating. Other genres like `sci-fi` and `adventure` show a negative relationship"
   ]
  },
  {
   "cell_type": "markdown",
   "metadata": {},
   "source": [
    "## Baseline Random Forest\n",
    "\n",
    "Out random forest model overfits on the data, tuning hyperparameters and adding some regularization can help mitigate this."
   ]
  },
  {
   "cell_type": "code",
   "execution_count": 111,
   "metadata": {},
   "outputs": [
    {
     "data": {
      "text/plain": [
       "RandomForestRegressor(bootstrap=True, ccp_alpha=0.0, criterion='mse',\n",
       "                      max_depth=None, max_features='auto', max_leaf_nodes=None,\n",
       "                      max_samples=None, min_impurity_decrease=0.0,\n",
       "                      min_impurity_split=None, min_samples_leaf=1,\n",
       "                      min_samples_split=2, min_weight_fraction_leaf=0.0,\n",
       "                      n_estimators=100, n_jobs=-1, oob_score=False,\n",
       "                      random_state=None, verbose=0, warm_start=False)"
      ]
     },
     "execution_count": 111,
     "metadata": {},
     "output_type": "execute_result"
    }
   ],
   "source": [
    "rf_model = RandomForestRegressor(n_jobs=-1)\n",
    "rf_model.fit(X_train, y_train)"
   ]
  },
  {
   "cell_type": "code",
   "execution_count": 112,
   "metadata": {},
   "outputs": [
    {
     "data": {
      "text/plain": [
       "0.9758754019490326"
      ]
     },
     "execution_count": 112,
     "metadata": {},
     "output_type": "execute_result"
    }
   ],
   "source": [
    "rf_model.score(X_train, y_train)"
   ]
  },
  {
   "cell_type": "code",
   "execution_count": 113,
   "metadata": {},
   "outputs": [
    {
     "data": {
      "text/plain": [
       "0.8306235507668079"
      ]
     },
     "execution_count": 113,
     "metadata": {},
     "output_type": "execute_result"
    }
   ],
   "source": [
    "rf_model.score(X_test, y_test)"
   ]
  },
  {
   "cell_type": "markdown",
   "metadata": {},
   "source": [
    "## Baseline XGB model\n"
   ]
  },
  {
   "cell_type": "code",
   "execution_count": 114,
   "metadata": {},
   "outputs": [
    {
     "data": {
      "text/plain": [
       "XGBRegressor(base_score=0.5, booster='gbtree', colsample_bylevel=1,\n",
       "             colsample_bynode=1, colsample_bytree=1, enable_categorical=False,\n",
       "             gamma=0, gpu_id=-1, importance_type=None,\n",
       "             interaction_constraints='', learning_rate=0.300000012,\n",
       "             max_delta_step=0, max_depth=6, min_child_weight=1, missing=nan,\n",
       "             monotone_constraints='()', n_estimators=100, n_jobs=-1,\n",
       "             num_parallel_tree=1, objective='reg:squarederror',\n",
       "             predictor='auto', random_state=0, reg_alpha=0, reg_lambda=1,\n",
       "             scale_pos_weight=1, subsample=0.8, tree_method='exact',\n",
       "             validate_parameters=1, verbosity=None)"
      ]
     },
     "execution_count": 114,
     "metadata": {},
     "output_type": "execute_result"
    }
   ],
   "source": [
    "xgb = XGBRegressor(subsample=0.8, n_jobs=-1, )\n",
    "\n",
    "xgb.fit(X_train, y_train)"
   ]
  },
  {
   "cell_type": "code",
   "execution_count": 115,
   "metadata": {},
   "outputs": [
    {
     "data": {
      "text/plain": [
       "0.8529991516543748"
      ]
     },
     "execution_count": 115,
     "metadata": {},
     "output_type": "execute_result"
    }
   ],
   "source": [
    "xgb.score(X_train, y_train)"
   ]
  },
  {
   "cell_type": "code",
   "execution_count": 116,
   "metadata": {},
   "outputs": [
    {
     "data": {
      "text/plain": [
       "0.8320550686993525"
      ]
     },
     "execution_count": 116,
     "metadata": {},
     "output_type": "execute_result"
    }
   ],
   "source": [
    "xgb.score(X_test, y_test)"
   ]
  },
  {
   "cell_type": "markdown",
   "metadata": {},
   "source": [
    "## A Simple Neural Net"
   ]
  },
  {
   "cell_type": "code",
   "execution_count": 117,
   "metadata": {},
   "outputs": [],
   "source": [
    "def create_model(input_size):\n",
    "    model = keras.Sequential()\n",
    "    model.add(layers.Input(shape = (input_size, )))\n",
    "    model.add(layers.Dense(32, activation = 'relu'))\n",
    "\n",
    "    model.add(layers.Dense(64, activation = 'relu'))\n",
    "    model.add(layers.Dense(128, activation = 'relu'))\n",
    "    model.add(layers.Dense(64, activation = 'relu'))\n",
    "\n",
    "    model.add(layers.Dense(32, activation = 'relu'))\n",
    "    model.add(layers.Dense(1))\n",
    "    \n",
    "    opt = Adam(lr=1e-4, decay=1e-3 / 200)\n",
    "    model.compile(loss = 'mse', optimizer=opt)\n",
    "    \n",
    "    return model"
   ]
  },
  {
   "cell_type": "code",
   "execution_count": 118,
   "metadata": {},
   "outputs": [
    {
     "name": "stderr",
     "output_type": "stream",
     "text": [
      "/home/tanmay/anaconda3/lib/python3.7/site-packages/keras/optimizer_v2/adam.py:105: UserWarning: The `lr` argument is deprecated, use `learning_rate` instead.\n",
      "  super(Adam, self).__init__(name, **kwargs)\n"
     ]
    }
   ],
   "source": [
    "model = create_model(X.shape[1])"
   ]
  },
  {
   "cell_type": "code",
   "execution_count": 119,
   "metadata": {},
   "outputs": [
    {
     "name": "stdout",
     "output_type": "stream",
     "text": [
      "Model: \"sequential\"\n",
      "_________________________________________________________________\n",
      " Layer (type)                Output Shape              Param #   \n",
      "=================================================================\n",
      " dense (Dense)               (None, 32)                1312      \n",
      "                                                                 \n",
      " dense_1 (Dense)             (None, 64)                2112      \n",
      "                                                                 \n",
      " dense_2 (Dense)             (None, 128)               8320      \n",
      "                                                                 \n",
      " dense_3 (Dense)             (None, 64)                8256      \n",
      "                                                                 \n",
      " dense_4 (Dense)             (None, 32)                2080      \n",
      "                                                                 \n",
      " dense_5 (Dense)             (None, 1)                 33        \n",
      "                                                                 \n",
      "=================================================================\n",
      "Total params: 22,113\n",
      "Trainable params: 22,113\n",
      "Non-trainable params: 0\n",
      "_________________________________________________________________\n"
     ]
    }
   ],
   "source": [
    "model.summary()"
   ]
  },
  {
   "cell_type": "code",
   "execution_count": 120,
   "metadata": {
    "scrolled": true
   },
   "outputs": [
    {
     "name": "stdout",
     "output_type": "stream",
     "text": [
      "Epoch 1/40\n",
      "443/443 [==============================] - 3s 3ms/step - loss: 10.9565 - val_loss: 1.8722\n",
      "Epoch 2/40\n",
      "443/443 [==============================] - 1s 3ms/step - loss: 1.7158 - val_loss: 1.0021\n",
      "Epoch 3/40\n",
      "443/443 [==============================] - 1s 3ms/step - loss: 0.9645 - val_loss: 0.6976\n",
      "Epoch 4/40\n",
      "443/443 [==============================] - 1s 3ms/step - loss: 0.6582 - val_loss: 0.5468\n",
      "Epoch 5/40\n",
      "443/443 [==============================] - 1s 3ms/step - loss: 0.5217 - val_loss: 0.4761\n",
      "Epoch 6/40\n",
      "443/443 [==============================] - 1s 3ms/step - loss: 0.4599 - val_loss: 0.4396\n",
      "Epoch 7/40\n",
      "443/443 [==============================] - 1s 3ms/step - loss: 0.4293 - val_loss: 0.4184\n",
      "Epoch 8/40\n",
      "443/443 [==============================] - 1s 3ms/step - loss: 0.4100 - val_loss: 0.4020\n",
      "Epoch 9/40\n",
      "443/443 [==============================] - 1s 3ms/step - loss: 0.3962 - val_loss: 0.3897\n",
      "Epoch 10/40\n",
      "443/443 [==============================] - 1s 3ms/step - loss: 0.3857 - val_loss: 0.3812\n",
      "Epoch 11/40\n",
      "443/443 [==============================] - 1s 3ms/step - loss: 0.3779 - val_loss: 0.3742\n",
      "Epoch 12/40\n",
      "443/443 [==============================] - 1s 3ms/step - loss: 0.3716 - val_loss: 0.3695\n",
      "Epoch 13/40\n",
      "443/443 [==============================] - 1s 3ms/step - loss: 0.3663 - val_loss: 0.3645\n",
      "Epoch 14/40\n",
      "443/443 [==============================] - 1s 3ms/step - loss: 0.3623 - val_loss: 0.3605\n",
      "Epoch 15/40\n",
      "443/443 [==============================] - 1s 3ms/step - loss: 0.3586 - val_loss: 0.3580\n",
      "Epoch 16/40\n",
      "443/443 [==============================] - 1s 3ms/step - loss: 0.3551 - val_loss: 0.3555\n",
      "Epoch 17/40\n",
      "443/443 [==============================] - 1s 3ms/step - loss: 0.3526 - val_loss: 0.3572\n",
      "Epoch 18/40\n",
      "443/443 [==============================] - 1s 3ms/step - loss: 0.3513 - val_loss: 0.3502\n",
      "Epoch 19/40\n",
      "443/443 [==============================] - 1s 3ms/step - loss: 0.3473 - val_loss: 0.3471\n",
      "Epoch 20/40\n",
      "443/443 [==============================] - 1s 3ms/step - loss: 0.3458 - val_loss: 0.3457\n",
      "Epoch 21/40\n",
      "443/443 [==============================] - 1s 3ms/step - loss: 0.3445 - val_loss: 0.3455\n",
      "Epoch 22/40\n",
      "443/443 [==============================] - 1s 3ms/step - loss: 0.3414 - val_loss: 0.3457\n",
      "Epoch 23/40\n",
      "443/443 [==============================] - 1s 3ms/step - loss: 0.3391 - val_loss: 0.3399\n",
      "Epoch 24/40\n",
      "443/443 [==============================] - 1s 3ms/step - loss: 0.3374 - val_loss: 0.3398\n",
      "Epoch 25/40\n",
      "443/443 [==============================] - 1s 3ms/step - loss: 0.3370 - val_loss: 0.3379\n",
      "Epoch 26/40\n",
      "443/443 [==============================] - 1s 3ms/step - loss: 0.3381 - val_loss: 0.3367\n",
      "Epoch 27/40\n",
      "443/443 [==============================] - 1s 3ms/step - loss: 0.3342 - val_loss: 0.3377\n",
      "Epoch 28/40\n",
      "443/443 [==============================] - 1s 3ms/step - loss: 0.3336 - val_loss: 0.3360\n",
      "Epoch 29/40\n",
      "443/443 [==============================] - 1s 3ms/step - loss: 0.3321 - val_loss: 0.3335\n",
      "Epoch 30/40\n",
      "443/443 [==============================] - 1s 3ms/step - loss: 0.3308 - val_loss: 0.3329\n",
      "Epoch 31/40\n",
      "443/443 [==============================] - 1s 3ms/step - loss: 0.3299 - val_loss: 0.3319\n",
      "Epoch 32/40\n",
      "443/443 [==============================] - 1s 3ms/step - loss: 0.3298 - val_loss: 0.3326\n",
      "Epoch 33/40\n",
      "443/443 [==============================] - 1s 3ms/step - loss: 0.3296 - val_loss: 0.3399\n",
      "Epoch 34/40\n",
      "443/443 [==============================] - 1s 3ms/step - loss: 0.3295 - val_loss: 0.3316\n",
      "Epoch 35/40\n",
      "443/443 [==============================] - 1s 3ms/step - loss: 0.3251 - val_loss: 0.3313\n",
      "Epoch 36/40\n",
      "443/443 [==============================] - 1s 3ms/step - loss: 0.3243 - val_loss: 0.3288\n",
      "Epoch 37/40\n",
      "443/443 [==============================] - 1s 3ms/step - loss: 0.3237 - val_loss: 0.3311\n",
      "Epoch 38/40\n",
      "443/443 [==============================] - 1s 3ms/step - loss: 0.3227 - val_loss: 0.3269\n",
      "Epoch 39/40\n",
      "443/443 [==============================] - 1s 3ms/step - loss: 0.3228 - val_loss: 0.3267\n",
      "Epoch 40/40\n",
      "443/443 [==============================] - 1s 3ms/step - loss: 0.3230 - val_loss: 0.3318\n"
     ]
    }
   ],
   "source": [
    "history = model.fit(X_train, y_train, \n",
    "          validation_data=(X_test, y_test), \n",
    "          batch_size = 512, workers = -1, epochs = 40, verbose = 1)"
   ]
  },
  {
   "cell_type": "code",
   "execution_count": 121,
   "metadata": {},
   "outputs": [],
   "source": [
    "y_train_pred = model.predict(X_train)"
   ]
  },
  {
   "cell_type": "code",
   "execution_count": 122,
   "metadata": {},
   "outputs": [],
   "source": [
    "y_test_pred = model.predict(X_test)"
   ]
  },
  {
   "cell_type": "code",
   "execution_count": 123,
   "metadata": {},
   "outputs": [
    {
     "data": {
      "text/plain": [
       "0.7874406071611694"
      ]
     },
     "execution_count": 123,
     "metadata": {},
     "output_type": "execute_result"
    }
   ],
   "source": [
    "r2_score(y_train_pred, y_train)"
   ]
  },
  {
   "cell_type": "code",
   "execution_count": 124,
   "metadata": {},
   "outputs": [
    {
     "data": {
      "text/plain": [
       "0.7857484206804283"
      ]
     },
     "execution_count": 124,
     "metadata": {},
     "output_type": "execute_result"
    }
   ],
   "source": [
    "r2_score(y_test_pred, y_test)"
   ]
  },
  {
   "cell_type": "markdown",
   "metadata": {},
   "source": [
    "## Hyperparamerter tuning"
   ]
  },
  {
   "cell_type": "markdown",
   "metadata": {},
   "source": [
    "To get the best performance out of the mode, I used hyperopt to find an optimal set of hyperparameters for our XGBoost model"
   ]
  },
  {
   "cell_type": "code",
   "execution_count": 31,
   "metadata": {},
   "outputs": [],
   "source": [
    "# XGB parameters\n",
    "xgb_reg_params = {\n",
    "    'learning_rate':    hp.quniform('learning_rate', 0.2, 0.4, 0.05),\n",
    "    'max_depth':        hp.choice('max_depth',        np.arange(6, 16, 1, dtype=int)),\n",
    "    'min_child_weight': hp.choice('min_child_weight', np.arange(2, 6, 1, dtype=int)),\n",
    "    'colsample_bytree': hp.quniform('colsample_bytree', 0.3, 1, 0.1),\n",
    "    'subsample':        hp.uniform('subsample', 0.8, 1),\n",
    "    'n_estimators':     100,\n",
    "     'n_jobs': -1\n",
    "}\n",
    "xgb_fit_params = {\n",
    "    'eval_metric': 'rmse',\n",
    "    'early_stopping_rounds': 10,\n",
    "    'verbose': False\n",
    "}\n",
    "xgb_para = dict()\n",
    "xgb_para['reg_params'] = xgb_reg_params\n",
    "xgb_para['fit_params'] = xgb_fit_params\n",
    "xgb_para['loss_func' ] = lambda y, pred: np.sqrt(mean_squared_error(y, pred))"
   ]
  },
  {
   "cell_type": "code",
   "execution_count": 32,
   "metadata": {},
   "outputs": [
    {
     "data": {
      "text/plain": [
       "{'reg_params': {'learning_rate': <hyperopt.pyll.base.Apply at 0x7fa3b64c0210>,\n",
       "  'max_depth': <hyperopt.pyll.base.Apply at 0x7fa3b646c050>,\n",
       "  'min_child_weight': <hyperopt.pyll.base.Apply at 0x7fa3b646c450>,\n",
       "  'colsample_bytree': <hyperopt.pyll.base.Apply at 0x7fa3b646c710>,\n",
       "  'subsample': <hyperopt.pyll.base.Apply at 0x7fa3b646c890>,\n",
       "  'n_estimators': 100,\n",
       "  'n_jobs': -1},\n",
       " 'fit_params': {'eval_metric': 'rmse',\n",
       "  'early_stopping_rounds': 10,\n",
       "  'verbose': False},\n",
       " 'loss_func': <function __main__.<lambda>(y, pred)>}"
      ]
     },
     "execution_count": 32,
     "metadata": {},
     "output_type": "execute_result"
    }
   ],
   "source": [
    "xgb_para"
   ]
  },
  {
   "cell_type": "code",
   "execution_count": 33,
   "metadata": {},
   "outputs": [],
   "source": [
    "def objective(xgb_para):\n",
    "#     print(xgb_para)\n",
    "    reg=XGBRegressor( **xgb_para['reg_params'])\n",
    "    \n",
    "    evaluation = [(X_train, y_train), ( X_test, y_test)]\n",
    "    \n",
    "    reg.fit(X_train, y_train,\n",
    "            eval_set=evaluation,\n",
    "            eval_metric = xgb_para['fit_params']['eval_metric'],\n",
    "            early_stopping_rounds=xgb_para['fit_params']['early_stopping_rounds'],\n",
    "            verbose=False)\n",
    "    \n",
    "\n",
    "    pred = reg.predict(X_test)\n",
    "#     r2 = r2_score(y_test, pred)\n",
    "#     print (\"SCORE:\", r2)\n",
    "    loss = xgb_para['loss_func'](y_test, pred)\n",
    "    return {'loss': loss, 'status': STATUS_OK }"
   ]
  },
  {
   "cell_type": "code",
   "execution_count": 34,
   "metadata": {},
   "outputs": [],
   "source": [
    "trials = Trials()"
   ]
  },
  {
   "cell_type": "code",
   "execution_count": 35,
   "metadata": {
    "scrolled": true
   },
   "outputs": [
    {
     "name": "stdout",
     "output_type": "stream",
     "text": [
      "100%|██████████| 100/100 [41:26<00:00, 24.86s/trial, best loss: 0.5471998946757579]\n"
     ]
    }
   ],
   "source": [
    "best_hyperparams = fmin(fn = objective,\n",
    "                        space = xgb_para,\n",
    "                        algo = tpe.suggest,\n",
    "                        max_evals = 100,\n",
    "                        trials = trials)"
   ]
  },
  {
   "cell_type": "code",
   "execution_count": 36,
   "metadata": {},
   "outputs": [
    {
     "data": {
      "text/plain": [
       "{'colsample_bytree': 1.0,\n",
       " 'learning_rate': 0.2,\n",
       " 'max_depth': 3,\n",
       " 'min_child_weight': 3,\n",
       " 'subsample': 0.8494493452149325}"
      ]
     },
     "execution_count": 36,
     "metadata": {},
     "output_type": "execute_result"
    }
   ],
   "source": [
    "best_hyperparams"
   ]
  },
  {
   "cell_type": "code",
   "execution_count": 37,
   "metadata": {
    "scrolled": true
   },
   "outputs": [
    {
     "name": "stdout",
     "output_type": "stream",
     "text": [
      "[0]\tvalidation_0-rmse:4.72111\tvalidation_1-rmse:4.72132\n",
      "[1]\tvalidation_0-rmse:3.80197\tvalidation_1-rmse:3.80210\n",
      "[2]\tvalidation_0-rmse:3.07164\tvalidation_1-rmse:3.07187\n",
      "[3]\tvalidation_0-rmse:2.49241\tvalidation_1-rmse:2.49244\n",
      "[4]\tvalidation_0-rmse:2.03637\tvalidation_1-rmse:2.03652\n",
      "[5]\tvalidation_0-rmse:1.67925\tvalidation_1-rmse:1.67927\n",
      "[6]\tvalidation_0-rmse:1.40300\tvalidation_1-rmse:1.40288\n",
      "[7]\tvalidation_0-rmse:1.19232\tvalidation_1-rmse:1.19234\n",
      "[8]\tvalidation_0-rmse:1.03363\tvalidation_1-rmse:1.03386\n",
      "[9]\tvalidation_0-rmse:0.91672\tvalidation_1-rmse:0.91708\n",
      "[10]\tvalidation_0-rmse:0.83271\tvalidation_1-rmse:0.83304\n",
      "[11]\tvalidation_0-rmse:0.77295\tvalidation_1-rmse:0.77355\n",
      "[12]\tvalidation_0-rmse:0.73144\tvalidation_1-rmse:0.73205\n",
      "[13]\tvalidation_0-rmse:0.70315\tvalidation_1-rmse:0.70386\n",
      "[14]\tvalidation_0-rmse:0.68275\tvalidation_1-rmse:0.68356\n",
      "[15]\tvalidation_0-rmse:0.66939\tvalidation_1-rmse:0.67045\n",
      "[16]\tvalidation_0-rmse:0.65958\tvalidation_1-rmse:0.66079\n",
      "[17]\tvalidation_0-rmse:0.65292\tvalidation_1-rmse:0.65421\n",
      "[18]\tvalidation_0-rmse:0.64813\tvalidation_1-rmse:0.64949\n",
      "[19]\tvalidation_0-rmse:0.64475\tvalidation_1-rmse:0.64617\n",
      "[20]\tvalidation_0-rmse:0.64241\tvalidation_1-rmse:0.64389\n",
      "[21]\tvalidation_0-rmse:0.63945\tvalidation_1-rmse:0.64097\n",
      "[22]\tvalidation_0-rmse:0.63826\tvalidation_1-rmse:0.63981\n",
      "[23]\tvalidation_0-rmse:0.63719\tvalidation_1-rmse:0.63874\n",
      "[24]\tvalidation_0-rmse:0.63631\tvalidation_1-rmse:0.63788\n",
      "[25]\tvalidation_0-rmse:0.63563\tvalidation_1-rmse:0.63715\n",
      "[26]\tvalidation_0-rmse:0.63442\tvalidation_1-rmse:0.63601\n",
      "[27]\tvalidation_0-rmse:0.63328\tvalidation_1-rmse:0.63501\n",
      "[28]\tvalidation_0-rmse:0.63224\tvalidation_1-rmse:0.63407\n",
      "[29]\tvalidation_0-rmse:0.63082\tvalidation_1-rmse:0.63277\n",
      "[30]\tvalidation_0-rmse:0.63044\tvalidation_1-rmse:0.63237\n",
      "[31]\tvalidation_0-rmse:0.62858\tvalidation_1-rmse:0.63054\n",
      "[32]\tvalidation_0-rmse:0.62807\tvalidation_1-rmse:0.63004\n",
      "[33]\tvalidation_0-rmse:0.62732\tvalidation_1-rmse:0.62932\n",
      "[34]\tvalidation_0-rmse:0.62670\tvalidation_1-rmse:0.62870\n",
      "[35]\tvalidation_0-rmse:0.62644\tvalidation_1-rmse:0.62845\n",
      "[36]\tvalidation_0-rmse:0.62609\tvalidation_1-rmse:0.62814\n",
      "[37]\tvalidation_0-rmse:0.62483\tvalidation_1-rmse:0.62690\n",
      "[38]\tvalidation_0-rmse:0.62421\tvalidation_1-rmse:0.62633\n",
      "[39]\tvalidation_0-rmse:0.62375\tvalidation_1-rmse:0.62591\n",
      "[40]\tvalidation_0-rmse:0.62328\tvalidation_1-rmse:0.62538\n",
      "[41]\tvalidation_0-rmse:0.62303\tvalidation_1-rmse:0.62515\n",
      "[42]\tvalidation_0-rmse:0.62281\tvalidation_1-rmse:0.62500\n",
      "[43]\tvalidation_0-rmse:0.62163\tvalidation_1-rmse:0.62391\n",
      "[44]\tvalidation_0-rmse:0.62136\tvalidation_1-rmse:0.62377\n",
      "[45]\tvalidation_0-rmse:0.62093\tvalidation_1-rmse:0.62341\n",
      "[46]\tvalidation_0-rmse:0.62066\tvalidation_1-rmse:0.62323\n",
      "[47]\tvalidation_0-rmse:0.61998\tvalidation_1-rmse:0.62258\n",
      "[48]\tvalidation_0-rmse:0.61967\tvalidation_1-rmse:0.62230\n",
      "[49]\tvalidation_0-rmse:0.61949\tvalidation_1-rmse:0.62216\n",
      "[50]\tvalidation_0-rmse:0.61836\tvalidation_1-rmse:0.62104\n",
      "[51]\tvalidation_0-rmse:0.61741\tvalidation_1-rmse:0.62014\n",
      "[52]\tvalidation_0-rmse:0.61698\tvalidation_1-rmse:0.61969\n",
      "[53]\tvalidation_0-rmse:0.61681\tvalidation_1-rmse:0.61959\n",
      "[54]\tvalidation_0-rmse:0.61616\tvalidation_1-rmse:0.61891\n",
      "[55]\tvalidation_0-rmse:0.61560\tvalidation_1-rmse:0.61833\n",
      "[56]\tvalidation_0-rmse:0.61411\tvalidation_1-rmse:0.61696\n",
      "[57]\tvalidation_0-rmse:0.61357\tvalidation_1-rmse:0.61643\n",
      "[58]\tvalidation_0-rmse:0.61322\tvalidation_1-rmse:0.61614\n",
      "[59]\tvalidation_0-rmse:0.61293\tvalidation_1-rmse:0.61590\n",
      "[60]\tvalidation_0-rmse:0.61235\tvalidation_1-rmse:0.61534\n",
      "[61]\tvalidation_0-rmse:0.61162\tvalidation_1-rmse:0.61469\n",
      "[62]\tvalidation_0-rmse:0.61105\tvalidation_1-rmse:0.61414\n",
      "[63]\tvalidation_0-rmse:0.61061\tvalidation_1-rmse:0.61378\n",
      "[64]\tvalidation_0-rmse:0.61017\tvalidation_1-rmse:0.61337\n",
      "[65]\tvalidation_0-rmse:0.61000\tvalidation_1-rmse:0.61320\n",
      "[66]\tvalidation_0-rmse:0.60906\tvalidation_1-rmse:0.61235\n",
      "[67]\tvalidation_0-rmse:0.60891\tvalidation_1-rmse:0.61221\n",
      "[68]\tvalidation_0-rmse:0.60864\tvalidation_1-rmse:0.61195\n",
      "[69]\tvalidation_0-rmse:0.60850\tvalidation_1-rmse:0.61186\n",
      "[70]\tvalidation_0-rmse:0.60831\tvalidation_1-rmse:0.61167\n",
      "[71]\tvalidation_0-rmse:0.60779\tvalidation_1-rmse:0.61113\n",
      "[72]\tvalidation_0-rmse:0.60756\tvalidation_1-rmse:0.61096\n",
      "[73]\tvalidation_0-rmse:0.60710\tvalidation_1-rmse:0.61060\n",
      "[74]\tvalidation_0-rmse:0.60689\tvalidation_1-rmse:0.61041\n",
      "[75]\tvalidation_0-rmse:0.60676\tvalidation_1-rmse:0.61035\n",
      "[76]\tvalidation_0-rmse:0.60656\tvalidation_1-rmse:0.61022\n",
      "[77]\tvalidation_0-rmse:0.60623\tvalidation_1-rmse:0.60987\n",
      "[78]\tvalidation_0-rmse:0.60601\tvalidation_1-rmse:0.60983\n",
      "[79]\tvalidation_0-rmse:0.60582\tvalidation_1-rmse:0.60965\n",
      "[80]\tvalidation_0-rmse:0.60535\tvalidation_1-rmse:0.60931\n",
      "[81]\tvalidation_0-rmse:0.60515\tvalidation_1-rmse:0.60912\n",
      "[82]\tvalidation_0-rmse:0.60449\tvalidation_1-rmse:0.60849\n",
      "[83]\tvalidation_0-rmse:0.60414\tvalidation_1-rmse:0.60809\n",
      "[84]\tvalidation_0-rmse:0.60405\tvalidation_1-rmse:0.60806\n",
      "[85]\tvalidation_0-rmse:0.60394\tvalidation_1-rmse:0.60797\n",
      "[86]\tvalidation_0-rmse:0.60371\tvalidation_1-rmse:0.60776\n",
      "[87]\tvalidation_0-rmse:0.60327\tvalidation_1-rmse:0.60740\n",
      "[88]\tvalidation_0-rmse:0.60270\tvalidation_1-rmse:0.60686\n",
      "[89]\tvalidation_0-rmse:0.60229\tvalidation_1-rmse:0.60646\n",
      "[90]\tvalidation_0-rmse:0.60208\tvalidation_1-rmse:0.60627\n",
      "[91]\tvalidation_0-rmse:0.60194\tvalidation_1-rmse:0.60617\n",
      "[92]\tvalidation_0-rmse:0.60165\tvalidation_1-rmse:0.60597\n",
      "[93]\tvalidation_0-rmse:0.60117\tvalidation_1-rmse:0.60549\n",
      "[94]\tvalidation_0-rmse:0.60091\tvalidation_1-rmse:0.60527\n",
      "[95]\tvalidation_0-rmse:0.60072\tvalidation_1-rmse:0.60520\n",
      "[96]\tvalidation_0-rmse:0.60056\tvalidation_1-rmse:0.60513\n",
      "[97]\tvalidation_0-rmse:0.60049\tvalidation_1-rmse:0.60508\n",
      "[98]\tvalidation_0-rmse:0.60024\tvalidation_1-rmse:0.60487\n",
      "[99]\tvalidation_0-rmse:0.60020\tvalidation_1-rmse:0.60485\n"
     ]
    },
    {
     "data": {
      "text/plain": [
       "XGBRegressor(base_score=0.5, booster='gbtree', colsample_bylevel=1,\n",
       "             colsample_bynode=1, colsample_bytree=1.0, enable_categorical=False,\n",
       "             gamma=0, gpu_id=-1, importance_type=None,\n",
       "             interaction_constraints='', learning_rate=0.2, max_delta_step=0,\n",
       "             max_depth=3, min_child_weight=3, missing=nan,\n",
       "             monotone_constraints='()', n_estimators=100, n_jobs=8,\n",
       "             num_parallel_tree=1, objective='reg:squarederror',\n",
       "             predictor='auto', random_state=0, reg_alpha=0, reg_lambda=1,\n",
       "             scale_pos_weight=1, subsample=0.8494493452149325,\n",
       "             tree_method='exact', validate_parameters=1, verbosity=None)"
      ]
     },
     "execution_count": 37,
     "metadata": {},
     "output_type": "execute_result"
    }
   ],
   "source": [
    "reg=XGBRegressor( **best_hyperparams)\n",
    "    \n",
    "evaluation = [(X_train, y_train), ( X_test, y_test)]\n",
    "\n",
    "reg.fit(X_train, y_train,\n",
    "        eval_set=evaluation,\n",
    "        eval_metric = xgb_para['fit_params']['eval_metric'],\n",
    "        early_stopping_rounds=xgb_para['fit_params']['early_stopping_rounds'],\n",
    "        verbose=True)"
   ]
  },
  {
   "cell_type": "code",
   "execution_count": 40,
   "metadata": {},
   "outputs": [
    {
     "data": {
      "text/plain": [
       "0.8029051010614847"
      ]
     },
     "execution_count": 40,
     "metadata": {},
     "output_type": "execute_result"
    }
   ],
   "source": [
    "reg.score(X_train, y_train)"
   ]
  },
  {
   "cell_type": "code",
   "execution_count": 41,
   "metadata": {},
   "outputs": [
    {
     "data": {
      "text/plain": [
       "0.8017566426975278"
      ]
     },
     "execution_count": 41,
     "metadata": {},
     "output_type": "execute_result"
    }
   ],
   "source": [
    "reg.score(X_test, y_test)"
   ]
  },
  {
   "cell_type": "code",
   "execution_count": 218,
   "metadata": {},
   "outputs": [],
   "source": [
    "imp = pd.DataFrame({\"importances\": reg.feature_importances_},index= train_cols).sort_values(by = 'importances', \n",
    "                                                                                                 ascending = False)"
   ]
  },
  {
   "cell_type": "code",
   "execution_count": 219,
   "metadata": {},
   "outputs": [
    {
     "data": {
      "text/plain": [
       "<matplotlib.axes._subplots.AxesSubplot at 0x7f23dc4fecd0>"
      ]
     },
     "execution_count": 219,
     "metadata": {},
     "output_type": "execute_result"
    },
    {
     "data": {
      "image/png": "[encoded data removed]",
      "text/plain": [
       "<Figure size 1080x720 with 1 Axes>"
      ]
     },
     "metadata": {
      "needs_background": "light"
     },
     "output_type": "display_data"
    }
   ],
   "source": [
    "imp.plot.bar(figsize = (15, 10))"
   ]
  },
  {
   "cell_type": "code",
   "execution_count": null,
   "metadata": {},
   "outputs": [],
   "source": []
  },
  {
   "cell_type": "markdown",
   "metadata": {},
   "source": [
    "We can see the crew ratings and cast ratings dominate the predictions for the movies\n",
    "It will be interesting to see how a model will perform without these features"
   ]
  },
  {
   "cell_type": "code",
   "execution_count": 236,
   "metadata": {},
   "outputs": [],
   "source": [
    "train_cols_sub =  ['isAdult', 'startYear', 'runtimeMinutes', 'numVotes', 'cast_std', 'crew_std',\n",
    "                   'cast_exp', 'crew_exp', 'numRegions', 'Action', 'Adult',\n",
    "                   'Adventure', 'Animation', 'Biography', 'Comedy', 'Crime', 'Documentary',\n",
    "                   'Drama', 'Family', 'Fantasy', 'Film-Noir', 'Game-Show', 'History',\n",
    "                   'Horror', 'Music', 'Musical', 'Mystery', 'News', 'Reality-TV',\n",
    "                   'Romance', 'Sci-Fi', 'Short', 'Sport', 'Talk-Show', 'Thriller', 'War',\n",
    "                   'Western']"
   ]
  },
  {
   "cell_type": "code",
   "execution_count": null,
   "metadata": {},
   "outputs": [],
   "source": []
  },
  {
   "cell_type": "code",
   "execution_count": 237,
   "metadata": {},
   "outputs": [],
   "source": [
    "X = data_scaled[train_cols_sub].values"
   ]
  },
  {
   "cell_type": "code",
   "execution_count": 238,
   "metadata": {},
   "outputs": [],
   "source": [
    "y = data[label]"
   ]
  },
  {
   "cell_type": "code",
   "execution_count": 239,
   "metadata": {},
   "outputs": [
    {
     "data": {
      "text/plain": [
       "((323834, 37), (323834,))"
      ]
     },
     "execution_count": 239,
     "metadata": {},
     "output_type": "execute_result"
    }
   ],
   "source": [
    "X.shape, y.shape"
   ]
  },
  {
   "cell_type": "code",
   "execution_count": 240,
   "metadata": {},
   "outputs": [],
   "source": [
    "X_train, X_test, y_train, y_test = train_test_split(X, y, train_size = 0.7, random_state = 42)"
   ]
  },
  {
   "cell_type": "code",
   "execution_count": 241,
   "metadata": {},
   "outputs": [
    {
     "name": "stdout",
     "output_type": "stream",
     "text": [
      "Xtrain shape: (226683, 37)\n",
      "Xtrain shape: (97151, 37)\n",
      "Xtrain shape: (226683,)\n",
      "Xtrain shape: (97151,)\n"
     ]
    }
   ],
   "source": [
    "print(f\"Xtrain shape: {X_train.shape}\")\n",
    "print(f\"Xtrain shape: {X_test.shape}\")\n",
    "print(f\"Xtrain shape: {y_train.shape}\")\n",
    "print(f\"Xtrain shape: {y_test.shape}\")"
   ]
  },
  {
   "cell_type": "code",
   "execution_count": 242,
   "metadata": {},
   "outputs": [
    {
     "data": {
      "text/plain": [
       "XGBRegressor(base_score=0.5, booster='gbtree', colsample_bylevel=1,\n",
       "             colsample_bynode=1, colsample_bytree=1, enable_categorical=False,\n",
       "             gamma=0, gpu_id=-1, importance_type=None,\n",
       "             interaction_constraints='', learning_rate=0.300000012,\n",
       "             max_delta_step=0, max_depth=6, min_child_weight=1, missing=nan,\n",
       "             monotone_constraints='()', n_estimators=100, n_jobs=-1,\n",
       "             num_parallel_tree=1, objective='reg:squarederror',\n",
       "             predictor='auto', random_state=0, reg_alpha=0, reg_lambda=1,\n",
       "             scale_pos_weight=1, subsample=0.8, tree_method='exact',\n",
       "             validate_parameters=1, verbosity=None)"
      ]
     },
     "execution_count": 242,
     "metadata": {},
     "output_type": "execute_result"
    }
   ],
   "source": [
    "xgb = XGBRegressor(subsample=0.8, n_jobs=-1, )\n",
    "\n",
    "xgb.fit(X_train, y_train)"
   ]
  },
  {
   "cell_type": "code",
   "execution_count": 243,
   "metadata": {},
   "outputs": [
    {
     "data": {
      "text/plain": [
       "0.39440839388209986"
      ]
     },
     "execution_count": 243,
     "metadata": {},
     "output_type": "execute_result"
    }
   ],
   "source": [
    "xgb.score(X_train, y_train)"
   ]
  },
  {
   "cell_type": "code",
   "execution_count": 244,
   "metadata": {},
   "outputs": [
    {
     "data": {
      "text/plain": [
       "0.3372135157524546"
      ]
     },
     "execution_count": 244,
     "metadata": {},
     "output_type": "execute_result"
    }
   ],
   "source": [
    "xgb.score(X_test, y_test)"
   ]
  },
  {
   "cell_type": "code",
   "execution_count": null,
   "metadata": {},
   "outputs": [],
   "source": []
  },
  {
   "cell_type": "code",
   "execution_count": 245,
   "metadata": {},
   "outputs": [],
   "source": [
    "imp = pd.DataFrame({\"importances\": xgb.feature_importances_},index= train_cols_sub).sort_values(by = 'importances', \n",
    "                                                                                                 ascending = False)"
   ]
  },
  {
   "cell_type": "code",
   "execution_count": 246,
   "metadata": {},
   "outputs": [
    {
     "data": {
      "text/plain": [
       "<matplotlib.axes._subplots.AxesSubplot at 0x7f24b547e110>"
      ]
     },
     "execution_count": 246,
     "metadata": {},
     "output_type": "execute_result"
    },
    {
     "data": {
      "image/png": "[encoded data removed]",
      "text/plain": [
       "<Figure size 1080x720 with 1 Axes>"
      ]
     },
     "metadata": {
      "needs_background": "light"
     },
     "output_type": "display_data"
    }
   ],
   "source": [
    "imp.plot.bar(figsize = (15, 10))"
   ]
  },
  {
   "cell_type": "markdown",
   "metadata": {},
   "source": [
    "The model's performance is much worse with out these features. This indicates that greater enrichment of the dataset may be needed to predict a movies rating. Ideas for future features are presented in the documentation. "
   ]
  },
  {
   "cell_type": "markdown",
   "metadata": {},
   "source": [
    "## Model Analysis"
   ]
  },
  {
   "cell_type": "markdown",
   "metadata": {},
   "source": [
    "Used this section to pinpoint which features were causing a reductions in pre"
   ]
  },
  {
   "cell_type": "code",
   "execution_count": 125,
   "metadata": {},
   "outputs": [
    {
     "name": "stdout",
     "output_type": "stream",
     "text": [
      "(323834, 40) (323834,)\n"
     ]
    }
   ],
   "source": [
    "print(X.shape, y.shape)"
   ]
  },
  {
   "cell_type": "code",
   "execution_count": 126,
   "metadata": {},
   "outputs": [
    {
     "data": {
      "text/plain": [
       "XGBRegressor(base_score=0.5, booster='gbtree', colsample_bylevel=1,\n",
       "             colsample_bynode=1, colsample_bytree=1, enable_categorical=False,\n",
       "             gamma=0, gpu_id=-1, importance_type=None,\n",
       "             interaction_constraints='', learning_rate=0.300000012,\n",
       "             max_delta_step=0, max_depth=6, min_child_weight=1, missing=nan,\n",
       "             monotone_constraints='()', n_estimators=100, n_jobs=-1,\n",
       "             num_parallel_tree=1, objective='reg:squarederror',\n",
       "             predictor='auto', random_state=0, reg_alpha=0, reg_lambda=1,\n",
       "             scale_pos_weight=1, subsample=0.8, tree_method='exact',\n",
       "             validate_parameters=1, verbosity=None)"
      ]
     },
     "execution_count": 126,
     "metadata": {},
     "output_type": "execute_result"
    }
   ],
   "source": [
    "xgb = XGBRegressor(subsample=0.8, n_jobs=-1, )\n",
    "\n",
    "xgb.fit(X, y)"
   ]
  },
  {
   "cell_type": "code",
   "execution_count": 127,
   "metadata": {},
   "outputs": [
    {
     "data": {
      "text/plain": [
       "0.8488201594688043"
      ]
     },
     "execution_count": 127,
     "metadata": {},
     "output_type": "execute_result"
    }
   ],
   "source": [
    "xgb.score(X, y)"
   ]
  },
  {
   "cell_type": "code",
   "execution_count": 128,
   "metadata": {},
   "outputs": [],
   "source": [
    "preds = xgb.predict(X)"
   ]
  },
  {
   "cell_type": "code",
   "execution_count": 129,
   "metadata": {},
   "outputs": [
    {
     "data": {
      "text/plain": [
       "array([4.2986665, 5.7299833, 4.932159 , ..., 9.301145 , 7.7499113,\n",
       "       8.271024 ], dtype=float32)"
      ]
     },
     "execution_count": 129,
     "metadata": {},
     "output_type": "execute_result"
    }
   ],
   "source": [
    "preds"
   ]
  },
  {
   "cell_type": "code",
   "execution_count": 130,
   "metadata": {},
   "outputs": [
    {
     "data": {
      "text/html": [
       "<div>\n",
       "<style scoped>\n",
       "    .dataframe tbody tr th:only-of-type {\n",
       "        vertical-align: middle;\n",
       "    }\n",
       "\n",
       "    .dataframe tbody tr th {\n",
       "        vertical-align: top;\n",
       "    }\n",
       "\n",
       "    .dataframe thead th {\n",
       "        text-align: right;\n",
       "    }\n",
       "</style>\n",
       "<table border=\"1\" class=\"dataframe\">\n",
       "  <thead>\n",
       "    <tr style=\"text-align: right;\">\n",
       "      <th></th>\n",
       "      <th>isAdult</th>\n",
       "      <th>runtimeMinutes</th>\n",
       "      <th>averageRating</th>\n",
       "      <th>numVotes</th>\n",
       "      <th>cast_mean</th>\n",
       "      <th>cast_std</th>\n",
       "      <th>cast_max</th>\n",
       "      <th>crew_mean</th>\n",
       "      <th>crew_std</th>\n",
       "      <th>crew_max</th>\n",
       "      <th>...</th>\n",
       "      <th>Reality-TV</th>\n",
       "      <th>Romance</th>\n",
       "      <th>Sci-Fi</th>\n",
       "      <th>Short</th>\n",
       "      <th>Sport</th>\n",
       "      <th>Talk-Show</th>\n",
       "      <th>Thriller</th>\n",
       "      <th>War</th>\n",
       "      <th>Western</th>\n",
       "      <th>preds</th>\n",
       "    </tr>\n",
       "  </thead>\n",
       "  <tbody>\n",
       "    <tr>\n",
       "      <th>count</th>\n",
       "      <td>323834.000000</td>\n",
       "      <td>323834.000000</td>\n",
       "      <td>323834.000000</td>\n",
       "      <td>3.238340e+05</td>\n",
       "      <td>323834.000000</td>\n",
       "      <td>323834.000000</td>\n",
       "      <td>323834.000000</td>\n",
       "      <td>323834.000000</td>\n",
       "      <td>323834.000000</td>\n",
       "      <td>323834.000000</td>\n",
       "      <td>...</td>\n",
       "      <td>323834.000000</td>\n",
       "      <td>323834.000000</td>\n",
       "      <td>323834.000000</td>\n",
       "      <td>323834.000000</td>\n",
       "      <td>323834.000000</td>\n",
       "      <td>323834.000000</td>\n",
       "      <td>323834.000000</td>\n",
       "      <td>323834.000000</td>\n",
       "      <td>323834.000000</td>\n",
       "      <td>323834.000000</td>\n",
       "    </tr>\n",
       "    <tr>\n",
       "      <th>mean</th>\n",
       "      <td>0.014285</td>\n",
       "      <td>91.235547</td>\n",
       "      <td>6.216690</td>\n",
       "      <td>2.985866e+03</td>\n",
       "      <td>6.179833</td>\n",
       "      <td>0.530523</td>\n",
       "      <td>7.389497</td>\n",
       "      <td>6.211778</td>\n",
       "      <td>0.494672</td>\n",
       "      <td>7.462756</td>\n",
       "      <td>...</td>\n",
       "      <td>0.000392</td>\n",
       "      <td>0.109927</td>\n",
       "      <td>0.023330</td>\n",
       "      <td>0.000077</td>\n",
       "      <td>0.012049</td>\n",
       "      <td>0.000068</td>\n",
       "      <td>0.080841</td>\n",
       "      <td>0.020594</td>\n",
       "      <td>0.016487</td>\n",
       "      <td>6.216690</td>\n",
       "    </tr>\n",
       "    <tr>\n",
       "      <th>std</th>\n",
       "      <td>0.118664</td>\n",
       "      <td>127.575322</td>\n",
       "      <td>1.353901</td>\n",
       "      <td>3.099838e+04</td>\n",
       "      <td>0.862707</td>\n",
       "      <td>0.531665</td>\n",
       "      <td>0.958137</td>\n",
       "      <td>0.865937</td>\n",
       "      <td>0.518935</td>\n",
       "      <td>0.869962</td>\n",
       "      <td>...</td>\n",
       "      <td>0.019800</td>\n",
       "      <td>0.312799</td>\n",
       "      <td>0.150949</td>\n",
       "      <td>0.008786</td>\n",
       "      <td>0.109107</td>\n",
       "      <td>0.008242</td>\n",
       "      <td>0.272591</td>\n",
       "      <td>0.142021</td>\n",
       "      <td>0.127338</td>\n",
       "      <td>1.236888</td>\n",
       "    </tr>\n",
       "    <tr>\n",
       "      <th>min</th>\n",
       "      <td>0.000000</td>\n",
       "      <td>0.000000</td>\n",
       "      <td>1.000000</td>\n",
       "      <td>5.000000e+00</td>\n",
       "      <td>1.000000</td>\n",
       "      <td>0.000000</td>\n",
       "      <td>1.000000</td>\n",
       "      <td>1.000000</td>\n",
       "      <td>0.000000</td>\n",
       "      <td>1.000000</td>\n",
       "      <td>...</td>\n",
       "      <td>0.000000</td>\n",
       "      <td>0.000000</td>\n",
       "      <td>0.000000</td>\n",
       "      <td>0.000000</td>\n",
       "      <td>0.000000</td>\n",
       "      <td>0.000000</td>\n",
       "      <td>0.000000</td>\n",
       "      <td>0.000000</td>\n",
       "      <td>0.000000</td>\n",
       "      <td>0.561659</td>\n",
       "    </tr>\n",
       "    <tr>\n",
       "      <th>25%</th>\n",
       "      <td>0.000000</td>\n",
       "      <td>80.000000</td>\n",
       "      <td>5.400000</td>\n",
       "      <td>1.700000e+01</td>\n",
       "      <td>5.747144</td>\n",
       "      <td>0.000000</td>\n",
       "      <td>6.850000</td>\n",
       "      <td>5.746667</td>\n",
       "      <td>0.000000</td>\n",
       "      <td>7.050000</td>\n",
       "      <td>...</td>\n",
       "      <td>0.000000</td>\n",
       "      <td>0.000000</td>\n",
       "      <td>0.000000</td>\n",
       "      <td>0.000000</td>\n",
       "      <td>0.000000</td>\n",
       "      <td>0.000000</td>\n",
       "      <td>0.000000</td>\n",
       "      <td>0.000000</td>\n",
       "      <td>0.000000</td>\n",
       "      <td>5.511211</td>\n",
       "    </tr>\n",
       "    <tr>\n",
       "      <th>50%</th>\n",
       "      <td>0.000000</td>\n",
       "      <td>90.000000</td>\n",
       "      <td>6.300000</td>\n",
       "      <td>5.100000e+01</td>\n",
       "      <td>6.215477</td>\n",
       "      <td>0.654840</td>\n",
       "      <td>7.500000</td>\n",
       "      <td>6.240278</td>\n",
       "      <td>0.555642</td>\n",
       "      <td>7.555556</td>\n",
       "      <td>...</td>\n",
       "      <td>0.000000</td>\n",
       "      <td>0.000000</td>\n",
       "      <td>0.000000</td>\n",
       "      <td>0.000000</td>\n",
       "      <td>0.000000</td>\n",
       "      <td>0.000000</td>\n",
       "      <td>0.000000</td>\n",
       "      <td>0.000000</td>\n",
       "      <td>0.000000</td>\n",
       "      <td>6.291383</td>\n",
       "    </tr>\n",
       "    <tr>\n",
       "      <th>75%</th>\n",
       "      <td>0.000000</td>\n",
       "      <td>100.000000</td>\n",
       "      <td>7.100000</td>\n",
       "      <td>2.540000e+02</td>\n",
       "      <td>6.609973</td>\n",
       "      <td>0.964899</td>\n",
       "      <td>8.020000</td>\n",
       "      <td>6.700000</td>\n",
       "      <td>0.927787</td>\n",
       "      <td>8.000000</td>\n",
       "      <td>...</td>\n",
       "      <td>0.000000</td>\n",
       "      <td>0.000000</td>\n",
       "      <td>0.000000</td>\n",
       "      <td>0.000000</td>\n",
       "      <td>0.000000</td>\n",
       "      <td>0.000000</td>\n",
       "      <td>0.000000</td>\n",
       "      <td>0.000000</td>\n",
       "      <td>0.000000</td>\n",
       "      <td>6.996336</td>\n",
       "    </tr>\n",
       "    <tr>\n",
       "      <th>max</th>\n",
       "      <td>1.000000</td>\n",
       "      <td>51420.000000</td>\n",
       "      <td>10.000000</td>\n",
       "      <td>2.551267e+06</td>\n",
       "      <td>10.000000</td>\n",
       "      <td>4.842949</td>\n",
       "      <td>10.000000</td>\n",
       "      <td>10.000000</td>\n",
       "      <td>5.091169</td>\n",
       "      <td>10.000000</td>\n",
       "      <td>...</td>\n",
       "      <td>1.000000</td>\n",
       "      <td>1.000000</td>\n",
       "      <td>1.000000</td>\n",
       "      <td>1.000000</td>\n",
       "      <td>1.000000</td>\n",
       "      <td>1.000000</td>\n",
       "      <td>1.000000</td>\n",
       "      <td>1.000000</td>\n",
       "      <td>1.000000</td>\n",
       "      <td>10.481356</td>\n",
       "    </tr>\n",
       "  </tbody>\n",
       "</table>\n",
       "<p>8 rows × 42 columns</p>\n",
       "</div>"
      ],
      "text/plain": [
       "             isAdult  runtimeMinutes  averageRating      numVotes  \\\n",
       "count  323834.000000   323834.000000  323834.000000  3.238340e+05   \n",
       "mean        0.014285       91.235547       6.216690  2.985866e+03   \n",
       "std         0.118664      127.575322       1.353901  3.099838e+04   \n",
       "min         0.000000        0.000000       1.000000  5.000000e+00   \n",
       "25%         0.000000       80.000000       5.400000  1.700000e+01   \n",
       "50%         0.000000       90.000000       6.300000  5.100000e+01   \n",
       "75%         0.000000      100.000000       7.100000  2.540000e+02   \n",
       "max         1.000000    51420.000000      10.000000  2.551267e+06   \n",
       "\n",
       "           cast_mean       cast_std       cast_max      crew_mean  \\\n",
       "count  323834.000000  323834.000000  323834.000000  323834.000000   \n",
       "mean        6.179833       0.530523       7.389497       6.211778   \n",
       "std         0.862707       0.531665       0.958137       0.865937   \n",
       "min         1.000000       0.000000       1.000000       1.000000   \n",
       "25%         5.747144       0.000000       6.850000       5.746667   \n",
       "50%         6.215477       0.654840       7.500000       6.240278   \n",
       "75%         6.609973       0.964899       8.020000       6.700000   \n",
       "max        10.000000       4.842949      10.000000      10.000000   \n",
       "\n",
       "            crew_std       crew_max  ...     Reality-TV        Romance  \\\n",
       "count  323834.000000  323834.000000  ...  323834.000000  323834.000000   \n",
       "mean        0.494672       7.462756  ...       0.000392       0.109927   \n",
       "std         0.518935       0.869962  ...       0.019800       0.312799   \n",
       "min         0.000000       1.000000  ...       0.000000       0.000000   \n",
       "25%         0.000000       7.050000  ...       0.000000       0.000000   \n",
       "50%         0.555642       7.555556  ...       0.000000       0.000000   \n",
       "75%         0.927787       8.000000  ...       0.000000       0.000000   \n",
       "max         5.091169      10.000000  ...       1.000000       1.000000   \n",
       "\n",
       "              Sci-Fi          Short          Sport      Talk-Show  \\\n",
       "count  323834.000000  323834.000000  323834.000000  323834.000000   \n",
       "mean        0.023330       0.000077       0.012049       0.000068   \n",
       "std         0.150949       0.008786       0.109107       0.008242   \n",
       "min         0.000000       0.000000       0.000000       0.000000   \n",
       "25%         0.000000       0.000000       0.000000       0.000000   \n",
       "50%         0.000000       0.000000       0.000000       0.000000   \n",
       "75%         0.000000       0.000000       0.000000       0.000000   \n",
       "max         1.000000       1.000000       1.000000       1.000000   \n",
       "\n",
       "            Thriller            War        Western          preds  \n",
       "count  323834.000000  323834.000000  323834.000000  323834.000000  \n",
       "mean        0.080841       0.020594       0.016487       6.216690  \n",
       "std         0.272591       0.142021       0.127338       1.236888  \n",
       "min         0.000000       0.000000       0.000000       0.561659  \n",
       "25%         0.000000       0.000000       0.000000       5.511211  \n",
       "50%         0.000000       0.000000       0.000000       6.291383  \n",
       "75%         0.000000       0.000000       0.000000       6.996336  \n",
       "max         1.000000       1.000000       1.000000      10.481356  \n",
       "\n",
       "[8 rows x 42 columns]"
      ]
     },
     "execution_count": 130,
     "metadata": {},
     "output_type": "execute_result"
    }
   ],
   "source": [
    "df.describe()"
   ]
  },
  {
   "cell_type": "code",
   "execution_count": 131,
   "metadata": {},
   "outputs": [],
   "source": [
    "genres = ['Action', 'Adult',\n",
    "           'Adventure', 'Animation', 'Biography', 'Comedy', 'Crime', 'Documentary',\n",
    "           'Drama', 'Family', 'Fantasy', 'Film-Noir', 'Game-Show', 'History',\n",
    "           'Horror', 'Music', 'Musical', 'Mystery', 'News', 'Reality-TV',\n",
    "           'Romance', 'Sci-Fi', 'Short', 'Sport', 'Talk-Show', 'Thriller', 'War',\n",
    "           'Western']"
   ]
  },
  {
   "cell_type": "code",
   "execution_count": 132,
   "metadata": {},
   "outputs": [],
   "source": [
    "df = pd.read_csv('processed/title_rating_prof_reg_one.csv')"
   ]
  },
  {
   "cell_type": "code",
   "execution_count": 133,
   "metadata": {},
   "outputs": [
    {
     "data": {
      "text/html": [
       "<div>\n",
       "<style scoped>\n",
       "    .dataframe tbody tr th:only-of-type {\n",
       "        vertical-align: middle;\n",
       "    }\n",
       "\n",
       "    .dataframe tbody tr th {\n",
       "        vertical-align: top;\n",
       "    }\n",
       "\n",
       "    .dataframe thead th {\n",
       "        text-align: right;\n",
       "    }\n",
       "</style>\n",
       "<table border=\"1\" class=\"dataframe\">\n",
       "  <thead>\n",
       "    <tr style=\"text-align: right;\">\n",
       "      <th></th>\n",
       "      <th>tconst</th>\n",
       "      <th>titleType</th>\n",
       "      <th>primaryTitle</th>\n",
       "      <th>originalTitle</th>\n",
       "      <th>isAdult</th>\n",
       "      <th>startYear</th>\n",
       "      <th>runtimeMinutes</th>\n",
       "      <th>averageRating</th>\n",
       "      <th>numVotes</th>\n",
       "      <th>genres</th>\n",
       "      <th>...</th>\n",
       "      <th>News</th>\n",
       "      <th>Reality-TV</th>\n",
       "      <th>Romance</th>\n",
       "      <th>Sci-Fi</th>\n",
       "      <th>Short</th>\n",
       "      <th>Sport</th>\n",
       "      <th>Talk-Show</th>\n",
       "      <th>Thriller</th>\n",
       "      <th>War</th>\n",
       "      <th>Western</th>\n",
       "    </tr>\n",
       "  </thead>\n",
       "  <tbody>\n",
       "    <tr>\n",
       "      <th>0</th>\n",
       "      <td>tt0000502</td>\n",
       "      <td>movie</td>\n",
       "      <td>Bohemios</td>\n",
       "      <td>Bohemios</td>\n",
       "      <td>0</td>\n",
       "      <td>1970-01-01 00:00:00.000001905</td>\n",
       "      <td>100.0</td>\n",
       "      <td>4.5</td>\n",
       "      <td>14</td>\n",
       "      <td>Comedy,Musical</td>\n",
       "      <td>...</td>\n",
       "      <td>0</td>\n",
       "      <td>0</td>\n",
       "      <td>0</td>\n",
       "      <td>0</td>\n",
       "      <td>0</td>\n",
       "      <td>0</td>\n",
       "      <td>0</td>\n",
       "      <td>0</td>\n",
       "      <td>0</td>\n",
       "      <td>0</td>\n",
       "    </tr>\n",
       "    <tr>\n",
       "      <th>1</th>\n",
       "      <td>tt0000574</td>\n",
       "      <td>movie</td>\n",
       "      <td>The Story of the Kelly Gang</td>\n",
       "      <td>The Story of the Kelly Gang</td>\n",
       "      <td>0</td>\n",
       "      <td>1970-01-01 00:00:00.000001906</td>\n",
       "      <td>70.0</td>\n",
       "      <td>6.0</td>\n",
       "      <td>754</td>\n",
       "      <td>Action,Adventure,Biography</td>\n",
       "      <td>...</td>\n",
       "      <td>0</td>\n",
       "      <td>0</td>\n",
       "      <td>0</td>\n",
       "      <td>0</td>\n",
       "      <td>0</td>\n",
       "      <td>0</td>\n",
       "      <td>0</td>\n",
       "      <td>0</td>\n",
       "      <td>0</td>\n",
       "      <td>0</td>\n",
       "    </tr>\n",
       "    <tr>\n",
       "      <th>2</th>\n",
       "      <td>tt0000591</td>\n",
       "      <td>movie</td>\n",
       "      <td>The Prodigal Son</td>\n",
       "      <td>L'enfant prodigue</td>\n",
       "      <td>0</td>\n",
       "      <td>1970-01-01 00:00:00.000001907</td>\n",
       "      <td>90.0</td>\n",
       "      <td>4.6</td>\n",
       "      <td>17</td>\n",
       "      <td>Drama</td>\n",
       "      <td>...</td>\n",
       "      <td>0</td>\n",
       "      <td>0</td>\n",
       "      <td>0</td>\n",
       "      <td>0</td>\n",
       "      <td>0</td>\n",
       "      <td>0</td>\n",
       "      <td>0</td>\n",
       "      <td>0</td>\n",
       "      <td>0</td>\n",
       "      <td>0</td>\n",
       "    </tr>\n",
       "    <tr>\n",
       "      <th>3</th>\n",
       "      <td>tt0000615</td>\n",
       "      <td>movie</td>\n",
       "      <td>Robbery Under Arms</td>\n",
       "      <td>Robbery Under Arms</td>\n",
       "      <td>0</td>\n",
       "      <td>1970-01-01 00:00:00.000001907</td>\n",
       "      <td>96.0</td>\n",
       "      <td>4.5</td>\n",
       "      <td>23</td>\n",
       "      <td>Drama</td>\n",
       "      <td>...</td>\n",
       "      <td>0</td>\n",
       "      <td>0</td>\n",
       "      <td>0</td>\n",
       "      <td>0</td>\n",
       "      <td>0</td>\n",
       "      <td>0</td>\n",
       "      <td>0</td>\n",
       "      <td>0</td>\n",
       "      <td>0</td>\n",
       "      <td>0</td>\n",
       "    </tr>\n",
       "    <tr>\n",
       "      <th>4</th>\n",
       "      <td>tt0000630</td>\n",
       "      <td>movie</td>\n",
       "      <td>Hamlet</td>\n",
       "      <td>Amleto</td>\n",
       "      <td>0</td>\n",
       "      <td>1970-01-01 00:00:00.000001908</td>\n",
       "      <td>130.0</td>\n",
       "      <td>3.8</td>\n",
       "      <td>24</td>\n",
       "      <td>Drama</td>\n",
       "      <td>...</td>\n",
       "      <td>0</td>\n",
       "      <td>0</td>\n",
       "      <td>0</td>\n",
       "      <td>0</td>\n",
       "      <td>0</td>\n",
       "      <td>0</td>\n",
       "      <td>0</td>\n",
       "      <td>0</td>\n",
       "      <td>0</td>\n",
       "      <td>0</td>\n",
       "    </tr>\n",
       "    <tr>\n",
       "      <th>...</th>\n",
       "      <td>...</td>\n",
       "      <td>...</td>\n",
       "      <td>...</td>\n",
       "      <td>...</td>\n",
       "      <td>...</td>\n",
       "      <td>...</td>\n",
       "      <td>...</td>\n",
       "      <td>...</td>\n",
       "      <td>...</td>\n",
       "      <td>...</td>\n",
       "      <td>...</td>\n",
       "      <td>...</td>\n",
       "      <td>...</td>\n",
       "      <td>...</td>\n",
       "      <td>...</td>\n",
       "      <td>...</td>\n",
       "      <td>...</td>\n",
       "      <td>...</td>\n",
       "      <td>...</td>\n",
       "      <td>...</td>\n",
       "      <td>...</td>\n",
       "    </tr>\n",
       "    <tr>\n",
       "      <th>323829</th>\n",
       "      <td>tt9916362</td>\n",
       "      <td>movie</td>\n",
       "      <td>Coven</td>\n",
       "      <td>Akelarre</td>\n",
       "      <td>0</td>\n",
       "      <td>2020-01-01</td>\n",
       "      <td>92.0</td>\n",
       "      <td>6.4</td>\n",
       "      <td>4447</td>\n",
       "      <td>Drama,History</td>\n",
       "      <td>...</td>\n",
       "      <td>0</td>\n",
       "      <td>0</td>\n",
       "      <td>0</td>\n",
       "      <td>0</td>\n",
       "      <td>0</td>\n",
       "      <td>0</td>\n",
       "      <td>0</td>\n",
       "      <td>0</td>\n",
       "      <td>0</td>\n",
       "      <td>0</td>\n",
       "    </tr>\n",
       "    <tr>\n",
       "      <th>323830</th>\n",
       "      <td>tt9916428</td>\n",
       "      <td>movie</td>\n",
       "      <td>The Secret of China</td>\n",
       "      <td>Hong xing zhao yao Zhong guo</td>\n",
       "      <td>0</td>\n",
       "      <td>2019-01-01</td>\n",
       "      <td>93.0</td>\n",
       "      <td>3.8</td>\n",
       "      <td>14</td>\n",
       "      <td>Adventure,History,War</td>\n",
       "      <td>...</td>\n",
       "      <td>0</td>\n",
       "      <td>0</td>\n",
       "      <td>0</td>\n",
       "      <td>0</td>\n",
       "      <td>0</td>\n",
       "      <td>0</td>\n",
       "      <td>0</td>\n",
       "      <td>0</td>\n",
       "      <td>1</td>\n",
       "      <td>0</td>\n",
       "    </tr>\n",
       "    <tr>\n",
       "      <th>323831</th>\n",
       "      <td>tt9916460</td>\n",
       "      <td>tvMovie</td>\n",
       "      <td>Pink Taxi</td>\n",
       "      <td>Pink Taxi</td>\n",
       "      <td>0</td>\n",
       "      <td>2019-01-01</td>\n",
       "      <td>10.0</td>\n",
       "      <td>9.3</td>\n",
       "      <td>17</td>\n",
       "      <td>Comedy</td>\n",
       "      <td>...</td>\n",
       "      <td>0</td>\n",
       "      <td>0</td>\n",
       "      <td>0</td>\n",
       "      <td>0</td>\n",
       "      <td>0</td>\n",
       "      <td>0</td>\n",
       "      <td>0</td>\n",
       "      <td>0</td>\n",
       "      <td>0</td>\n",
       "      <td>0</td>\n",
       "    </tr>\n",
       "    <tr>\n",
       "      <th>323832</th>\n",
       "      <td>tt9916538</td>\n",
       "      <td>movie</td>\n",
       "      <td>Kuambil Lagi Hatiku</td>\n",
       "      <td>Kuambil Lagi Hatiku</td>\n",
       "      <td>0</td>\n",
       "      <td>2019-01-01</td>\n",
       "      <td>123.0</td>\n",
       "      <td>8.3</td>\n",
       "      <td>6</td>\n",
       "      <td>Drama</td>\n",
       "      <td>...</td>\n",
       "      <td>0</td>\n",
       "      <td>0</td>\n",
       "      <td>0</td>\n",
       "      <td>0</td>\n",
       "      <td>0</td>\n",
       "      <td>0</td>\n",
       "      <td>0</td>\n",
       "      <td>0</td>\n",
       "      <td>0</td>\n",
       "      <td>0</td>\n",
       "    </tr>\n",
       "    <tr>\n",
       "      <th>323833</th>\n",
       "      <td>tt9916730</td>\n",
       "      <td>movie</td>\n",
       "      <td>6 Gunn</td>\n",
       "      <td>6 Gunn</td>\n",
       "      <td>0</td>\n",
       "      <td>2017-01-01</td>\n",
       "      <td>116.0</td>\n",
       "      <td>8.4</td>\n",
       "      <td>5</td>\n",
       "      <td>Drama,Romance</td>\n",
       "      <td>...</td>\n",
       "      <td>0</td>\n",
       "      <td>0</td>\n",
       "      <td>1</td>\n",
       "      <td>0</td>\n",
       "      <td>0</td>\n",
       "      <td>0</td>\n",
       "      <td>0</td>\n",
       "      <td>0</td>\n",
       "      <td>0</td>\n",
       "      <td>0</td>\n",
       "    </tr>\n",
       "  </tbody>\n",
       "</table>\n",
       "<p>323834 rows × 47 columns</p>\n",
       "</div>"
      ],
      "text/plain": [
       "           tconst titleType                 primaryTitle  \\\n",
       "0       tt0000502     movie                     Bohemios   \n",
       "1       tt0000574     movie  The Story of the Kelly Gang   \n",
       "2       tt0000591     movie             The Prodigal Son   \n",
       "3       tt0000615     movie           Robbery Under Arms   \n",
       "4       tt0000630     movie                       Hamlet   \n",
       "...           ...       ...                          ...   \n",
       "323829  tt9916362     movie                        Coven   \n",
       "323830  tt9916428     movie          The Secret of China   \n",
       "323831  tt9916460   tvMovie                    Pink Taxi   \n",
       "323832  tt9916538     movie          Kuambil Lagi Hatiku   \n",
       "323833  tt9916730     movie                       6 Gunn   \n",
       "\n",
       "                       originalTitle  isAdult                      startYear  \\\n",
       "0                           Bohemios        0  1970-01-01 00:00:00.000001905   \n",
       "1        The Story of the Kelly Gang        0  1970-01-01 00:00:00.000001906   \n",
       "2                  L'enfant prodigue        0  1970-01-01 00:00:00.000001907   \n",
       "3                 Robbery Under Arms        0  1970-01-01 00:00:00.000001907   \n",
       "4                             Amleto        0  1970-01-01 00:00:00.000001908   \n",
       "...                              ...      ...                            ...   \n",
       "323829                      Akelarre        0                     2020-01-01   \n",
       "323830  Hong xing zhao yao Zhong guo        0                     2019-01-01   \n",
       "323831                     Pink Taxi        0                     2019-01-01   \n",
       "323832           Kuambil Lagi Hatiku        0                     2019-01-01   \n",
       "323833                        6 Gunn        0                     2017-01-01   \n",
       "\n",
       "        runtimeMinutes  averageRating  numVotes                      genres  \\\n",
       "0                100.0            4.5        14              Comedy,Musical   \n",
       "1                 70.0            6.0       754  Action,Adventure,Biography   \n",
       "2                 90.0            4.6        17                       Drama   \n",
       "3                 96.0            4.5        23                       Drama   \n",
       "4                130.0            3.8        24                       Drama   \n",
       "...                ...            ...       ...                         ...   \n",
       "323829            92.0            6.4      4447               Drama,History   \n",
       "323830            93.0            3.8        14       Adventure,History,War   \n",
       "323831            10.0            9.3        17                      Comedy   \n",
       "323832           123.0            8.3         6                       Drama   \n",
       "323833           116.0            8.4         5               Drama,Romance   \n",
       "\n",
       "        ...  News  Reality-TV  Romance  Sci-Fi  Short  Sport  Talk-Show  \\\n",
       "0       ...     0           0        0       0      0      0          0   \n",
       "1       ...     0           0        0       0      0      0          0   \n",
       "2       ...     0           0        0       0      0      0          0   \n",
       "3       ...     0           0        0       0      0      0          0   \n",
       "4       ...     0           0        0       0      0      0          0   \n",
       "...     ...   ...         ...      ...     ...    ...    ...        ...   \n",
       "323829  ...     0           0        0       0      0      0          0   \n",
       "323830  ...     0           0        0       0      0      0          0   \n",
       "323831  ...     0           0        0       0      0      0          0   \n",
       "323832  ...     0           0        0       0      0      0          0   \n",
       "323833  ...     0           0        1       0      0      0          0   \n",
       "\n",
       "        Thriller  War  Western  \n",
       "0              0    0        0  \n",
       "1              0    0        0  \n",
       "2              0    0        0  \n",
       "3              0    0        0  \n",
       "4              0    0        0  \n",
       "...          ...  ...      ...  \n",
       "323829         0    0        0  \n",
       "323830         0    1        0  \n",
       "323831         0    0        0  \n",
       "323832         0    0        0  \n",
       "323833         0    0        0  \n",
       "\n",
       "[323834 rows x 47 columns]"
      ]
     },
     "execution_count": 133,
     "metadata": {},
     "output_type": "execute_result"
    }
   ],
   "source": [
    "df"
   ]
  },
  {
   "cell_type": "code",
   "execution_count": 134,
   "metadata": {},
   "outputs": [],
   "source": [
    "df['preds'] = preds"
   ]
  },
  {
   "cell_type": "code",
   "execution_count": 135,
   "metadata": {},
   "outputs": [
    {
     "data": {
      "text/html": [
       "<div>\n",
       "<style scoped>\n",
       "    .dataframe tbody tr th:only-of-type {\n",
       "        vertical-align: middle;\n",
       "    }\n",
       "\n",
       "    .dataframe tbody tr th {\n",
       "        vertical-align: top;\n",
       "    }\n",
       "\n",
       "    .dataframe thead th {\n",
       "        text-align: right;\n",
       "    }\n",
       "</style>\n",
       "<table border=\"1\" class=\"dataframe\">\n",
       "  <thead>\n",
       "    <tr style=\"text-align: right;\">\n",
       "      <th></th>\n",
       "      <th>tconst</th>\n",
       "      <th>titleType</th>\n",
       "      <th>primaryTitle</th>\n",
       "      <th>originalTitle</th>\n",
       "      <th>isAdult</th>\n",
       "      <th>startYear</th>\n",
       "      <th>runtimeMinutes</th>\n",
       "      <th>averageRating</th>\n",
       "      <th>numVotes</th>\n",
       "      <th>genres</th>\n",
       "      <th>...</th>\n",
       "      <th>Reality-TV</th>\n",
       "      <th>Romance</th>\n",
       "      <th>Sci-Fi</th>\n",
       "      <th>Short</th>\n",
       "      <th>Sport</th>\n",
       "      <th>Talk-Show</th>\n",
       "      <th>Thriller</th>\n",
       "      <th>War</th>\n",
       "      <th>Western</th>\n",
       "      <th>preds</th>\n",
       "    </tr>\n",
       "  </thead>\n",
       "  <tbody>\n",
       "    <tr>\n",
       "      <th>7</th>\n",
       "      <td>tt0000739</td>\n",
       "      <td>movie</td>\n",
       "      <td>El pastorcito de Torrente</td>\n",
       "      <td>El pastorcito de Torrente</td>\n",
       "      <td>0</td>\n",
       "      <td>1970-01-01 00:00:00.000001908</td>\n",
       "      <td>93.0</td>\n",
       "      <td>6.2</td>\n",
       "      <td>16</td>\n",
       "      <td>Drama</td>\n",
       "      <td>...</td>\n",
       "      <td>0</td>\n",
       "      <td>0</td>\n",
       "      <td>0</td>\n",
       "      <td>0</td>\n",
       "      <td>0</td>\n",
       "      <td>0</td>\n",
       "      <td>0</td>\n",
       "      <td>0</td>\n",
       "      <td>0</td>\n",
       "      <td>5.092190</td>\n",
       "    </tr>\n",
       "    <tr>\n",
       "      <th>15</th>\n",
       "      <td>tt0001038</td>\n",
       "      <td>movie</td>\n",
       "      <td>Sherlock Holmes VI</td>\n",
       "      <td>Sherlock Holmes VI</td>\n",
       "      <td>0</td>\n",
       "      <td>1970-01-01 00:00:00.000001910</td>\n",
       "      <td>113.0</td>\n",
       "      <td>3.8</td>\n",
       "      <td>21</td>\n",
       "      <td>Drama,Comedy</td>\n",
       "      <td>...</td>\n",
       "      <td>0</td>\n",
       "      <td>0</td>\n",
       "      <td>0</td>\n",
       "      <td>0</td>\n",
       "      <td>0</td>\n",
       "      <td>0</td>\n",
       "      <td>0</td>\n",
       "      <td>0</td>\n",
       "      <td>0</td>\n",
       "      <td>6.266273</td>\n",
       "    </tr>\n",
       "    <tr>\n",
       "      <th>33</th>\n",
       "      <td>tt0001386</td>\n",
       "      <td>movie</td>\n",
       "      <td>Le roi des parfums</td>\n",
       "      <td>Le roi des parfums</td>\n",
       "      <td>0</td>\n",
       "      <td>1970-01-01 00:00:00.000001910</td>\n",
       "      <td>93.0</td>\n",
       "      <td>4.4</td>\n",
       "      <td>18</td>\n",
       "      <td>Drama,History</td>\n",
       "      <td>...</td>\n",
       "      <td>0</td>\n",
       "      <td>0</td>\n",
       "      <td>0</td>\n",
       "      <td>0</td>\n",
       "      <td>0</td>\n",
       "      <td>0</td>\n",
       "      <td>0</td>\n",
       "      <td>0</td>\n",
       "      <td>0</td>\n",
       "      <td>6.725710</td>\n",
       "    </tr>\n",
       "    <tr>\n",
       "      <th>39</th>\n",
       "      <td>tt0001586</td>\n",
       "      <td>movie</td>\n",
       "      <td>A Dog's Tale</td>\n",
       "      <td>A Dog's Tale</td>\n",
       "      <td>0</td>\n",
       "      <td>1970-01-01 00:00:00.000001911</td>\n",
       "      <td>93.0</td>\n",
       "      <td>3.8</td>\n",
       "      <td>16</td>\n",
       "      <td>Drama,War</td>\n",
       "      <td>...</td>\n",
       "      <td>0</td>\n",
       "      <td>0</td>\n",
       "      <td>0</td>\n",
       "      <td>0</td>\n",
       "      <td>0</td>\n",
       "      <td>0</td>\n",
       "      <td>0</td>\n",
       "      <td>1</td>\n",
       "      <td>0</td>\n",
       "      <td>6.390996</td>\n",
       "    </tr>\n",
       "    <tr>\n",
       "      <th>44</th>\n",
       "      <td>tt0001803</td>\n",
       "      <td>movie</td>\n",
       "      <td>The Mystery of a Hansom Cab</td>\n",
       "      <td>The Mystery of a Hansom Cab</td>\n",
       "      <td>0</td>\n",
       "      <td>1970-01-01 00:00:00.000001911</td>\n",
       "      <td>100.0</td>\n",
       "      <td>4.0</td>\n",
       "      <td>11</td>\n",
       "      <td>Action,Adventure</td>\n",
       "      <td>...</td>\n",
       "      <td>0</td>\n",
       "      <td>0</td>\n",
       "      <td>0</td>\n",
       "      <td>0</td>\n",
       "      <td>0</td>\n",
       "      <td>0</td>\n",
       "      <td>0</td>\n",
       "      <td>0</td>\n",
       "      <td>0</td>\n",
       "      <td>5.146398</td>\n",
       "    </tr>\n",
       "    <tr>\n",
       "      <th>...</th>\n",
       "      <td>...</td>\n",
       "      <td>...</td>\n",
       "      <td>...</td>\n",
       "      <td>...</td>\n",
       "      <td>...</td>\n",
       "      <td>...</td>\n",
       "      <td>...</td>\n",
       "      <td>...</td>\n",
       "      <td>...</td>\n",
       "      <td>...</td>\n",
       "      <td>...</td>\n",
       "      <td>...</td>\n",
       "      <td>...</td>\n",
       "      <td>...</td>\n",
       "      <td>...</td>\n",
       "      <td>...</td>\n",
       "      <td>...</td>\n",
       "      <td>...</td>\n",
       "      <td>...</td>\n",
       "      <td>...</td>\n",
       "      <td>...</td>\n",
       "    </tr>\n",
       "    <tr>\n",
       "      <th>323791</th>\n",
       "      <td>tt9910206</td>\n",
       "      <td>movie</td>\n",
       "      <td>Facebook idióták - A Mozifilm</td>\n",
       "      <td>Facebook idióták - A Mozifilm</td>\n",
       "      <td>0</td>\n",
       "      <td>2017-01-01</td>\n",
       "      <td>45.0</td>\n",
       "      <td>8.1</td>\n",
       "      <td>10</td>\n",
       "      <td>Action,Adventure,Comedy</td>\n",
       "      <td>...</td>\n",
       "      <td>0</td>\n",
       "      <td>0</td>\n",
       "      <td>0</td>\n",
       "      <td>0</td>\n",
       "      <td>0</td>\n",
       "      <td>0</td>\n",
       "      <td>0</td>\n",
       "      <td>0</td>\n",
       "      <td>0</td>\n",
       "      <td>6.935173</td>\n",
       "    </tr>\n",
       "    <tr>\n",
       "      <th>323812</th>\n",
       "      <td>tt9914286</td>\n",
       "      <td>movie</td>\n",
       "      <td>Sokagin Çocuklari</td>\n",
       "      <td>Sokagin Çocuklari</td>\n",
       "      <td>0</td>\n",
       "      <td>2019-01-01</td>\n",
       "      <td>98.0</td>\n",
       "      <td>8.0</td>\n",
       "      <td>219</td>\n",
       "      <td>Drama,Family</td>\n",
       "      <td>...</td>\n",
       "      <td>0</td>\n",
       "      <td>0</td>\n",
       "      <td>0</td>\n",
       "      <td>0</td>\n",
       "      <td>0</td>\n",
       "      <td>0</td>\n",
       "      <td>0</td>\n",
       "      <td>0</td>\n",
       "      <td>0</td>\n",
       "      <td>5.664526</td>\n",
       "    </tr>\n",
       "    <tr>\n",
       "      <th>323817</th>\n",
       "      <td>tt9914972</td>\n",
       "      <td>movie</td>\n",
       "      <td>Blind Ambition</td>\n",
       "      <td>Blind Ambition</td>\n",
       "      <td>0</td>\n",
       "      <td>2021-01-01</td>\n",
       "      <td>96.0</td>\n",
       "      <td>8.2</td>\n",
       "      <td>22</td>\n",
       "      <td>Documentary</td>\n",
       "      <td>...</td>\n",
       "      <td>0</td>\n",
       "      <td>0</td>\n",
       "      <td>0</td>\n",
       "      <td>0</td>\n",
       "      <td>0</td>\n",
       "      <td>0</td>\n",
       "      <td>0</td>\n",
       "      <td>0</td>\n",
       "      <td>0</td>\n",
       "      <td>7.193419</td>\n",
       "    </tr>\n",
       "    <tr>\n",
       "      <th>323826</th>\n",
       "      <td>tt9916190</td>\n",
       "      <td>movie</td>\n",
       "      <td>Safeguard</td>\n",
       "      <td>Safeguard</td>\n",
       "      <td>0</td>\n",
       "      <td>2020-01-01</td>\n",
       "      <td>90.0</td>\n",
       "      <td>3.6</td>\n",
       "      <td>231</td>\n",
       "      <td>Action,Adventure,Thriller</td>\n",
       "      <td>...</td>\n",
       "      <td>0</td>\n",
       "      <td>0</td>\n",
       "      <td>0</td>\n",
       "      <td>0</td>\n",
       "      <td>0</td>\n",
       "      <td>0</td>\n",
       "      <td>1</td>\n",
       "      <td>0</td>\n",
       "      <td>0</td>\n",
       "      <td>4.603934</td>\n",
       "    </tr>\n",
       "    <tr>\n",
       "      <th>323827</th>\n",
       "      <td>tt9916192</td>\n",
       "      <td>tvMovie</td>\n",
       "      <td>Danielle Darrieux: Il est poli d'être gai!</td>\n",
       "      <td>Danielle Darrieux: Il est poli d'être gai!</td>\n",
       "      <td>0</td>\n",
       "      <td>2019-01-01</td>\n",
       "      <td>53.0</td>\n",
       "      <td>7.6</td>\n",
       "      <td>16</td>\n",
       "      <td>Biography</td>\n",
       "      <td>...</td>\n",
       "      <td>0</td>\n",
       "      <td>0</td>\n",
       "      <td>0</td>\n",
       "      <td>0</td>\n",
       "      <td>0</td>\n",
       "      <td>0</td>\n",
       "      <td>0</td>\n",
       "      <td>0</td>\n",
       "      <td>0</td>\n",
       "      <td>6.570211</td>\n",
       "    </tr>\n",
       "  </tbody>\n",
       "</table>\n",
       "<p>21461 rows × 48 columns</p>\n",
       "</div>"
      ],
      "text/plain": [
       "           tconst titleType                                primaryTitle  \\\n",
       "7       tt0000739     movie                   El pastorcito de Torrente   \n",
       "15      tt0001038     movie                          Sherlock Holmes VI   \n",
       "33      tt0001386     movie                          Le roi des parfums   \n",
       "39      tt0001586     movie                                A Dog's Tale   \n",
       "44      tt0001803     movie                 The Mystery of a Hansom Cab   \n",
       "...           ...       ...                                         ...   \n",
       "323791  tt9910206     movie               Facebook idióták - A Mozifilm   \n",
       "323812  tt9914286     movie                           Sokagin Çocuklari   \n",
       "323817  tt9914972     movie                              Blind Ambition   \n",
       "323826  tt9916190     movie                                   Safeguard   \n",
       "323827  tt9916192   tvMovie  Danielle Darrieux: Il est poli d'être gai!   \n",
       "\n",
       "                                     originalTitle  isAdult  \\\n",
       "7                        El pastorcito de Torrente        0   \n",
       "15                              Sherlock Holmes VI        0   \n",
       "33                              Le roi des parfums        0   \n",
       "39                                    A Dog's Tale        0   \n",
       "44                     The Mystery of a Hansom Cab        0   \n",
       "...                                            ...      ...   \n",
       "323791               Facebook idióták - A Mozifilm        0   \n",
       "323812                           Sokagin Çocuklari        0   \n",
       "323817                              Blind Ambition        0   \n",
       "323826                                   Safeguard        0   \n",
       "323827  Danielle Darrieux: Il est poli d'être gai!        0   \n",
       "\n",
       "                            startYear  runtimeMinutes  averageRating  \\\n",
       "7       1970-01-01 00:00:00.000001908            93.0            6.2   \n",
       "15      1970-01-01 00:00:00.000001910           113.0            3.8   \n",
       "33      1970-01-01 00:00:00.000001910            93.0            4.4   \n",
       "39      1970-01-01 00:00:00.000001911            93.0            3.8   \n",
       "44      1970-01-01 00:00:00.000001911           100.0            4.0   \n",
       "...                               ...             ...            ...   \n",
       "323791                     2017-01-01            45.0            8.1   \n",
       "323812                     2019-01-01            98.0            8.0   \n",
       "323817                     2021-01-01            96.0            8.2   \n",
       "323826                     2020-01-01            90.0            3.6   \n",
       "323827                     2019-01-01            53.0            7.6   \n",
       "\n",
       "        numVotes                     genres  ...  Reality-TV  Romance  Sci-Fi  \\\n",
       "7             16                      Drama  ...           0        0       0   \n",
       "15            21               Drama,Comedy  ...           0        0       0   \n",
       "33            18              Drama,History  ...           0        0       0   \n",
       "39            16                  Drama,War  ...           0        0       0   \n",
       "44            11           Action,Adventure  ...           0        0       0   \n",
       "...          ...                        ...  ...         ...      ...     ...   \n",
       "323791        10    Action,Adventure,Comedy  ...           0        0       0   \n",
       "323812       219               Drama,Family  ...           0        0       0   \n",
       "323817        22                Documentary  ...           0        0       0   \n",
       "323826       231  Action,Adventure,Thriller  ...           0        0       0   \n",
       "323827        16                  Biography  ...           0        0       0   \n",
       "\n",
       "        Short  Sport  Talk-Show  Thriller  War  Western     preds  \n",
       "7           0      0          0         0    0        0  5.092190  \n",
       "15          0      0          0         0    0        0  6.266273  \n",
       "33          0      0          0         0    0        0  6.725710  \n",
       "39          0      0          0         0    1        0  6.390996  \n",
       "44          0      0          0         0    0        0  5.146398  \n",
       "...       ...    ...        ...       ...  ...      ...       ...  \n",
       "323791      0      0          0         0    0        0  6.935173  \n",
       "323812      0      0          0         0    0        0  5.664526  \n",
       "323817      0      0          0         0    0        0  7.193419  \n",
       "323826      0      0          0         1    0        0  4.603934  \n",
       "323827      0      0          0         0    0        0  6.570211  \n",
       "\n",
       "[21461 rows x 48 columns]"
      ]
     },
     "execution_count": 135,
     "metadata": {},
     "output_type": "execute_result"
    }
   ],
   "source": [
    "df[abs(df['preds'] - df['averageRating']) > 1]"
   ]
  },
  {
   "cell_type": "code",
   "execution_count": 136,
   "metadata": {},
   "outputs": [
    {
     "data": {
      "text/html": [
       "<div>\n",
       "<style scoped>\n",
       "    .dataframe tbody tr th:only-of-type {\n",
       "        vertical-align: middle;\n",
       "    }\n",
       "\n",
       "    .dataframe tbody tr th {\n",
       "        vertical-align: top;\n",
       "    }\n",
       "\n",
       "    .dataframe thead th {\n",
       "        text-align: right;\n",
       "    }\n",
       "</style>\n",
       "<table border=\"1\" class=\"dataframe\">\n",
       "  <thead>\n",
       "    <tr style=\"text-align: right;\">\n",
       "      <th></th>\n",
       "      <th>isAdult</th>\n",
       "      <th>runtimeMinutes</th>\n",
       "      <th>averageRating</th>\n",
       "      <th>numVotes</th>\n",
       "      <th>cast_mean</th>\n",
       "      <th>cast_std</th>\n",
       "      <th>cast_max</th>\n",
       "      <th>crew_mean</th>\n",
       "      <th>crew_std</th>\n",
       "      <th>crew_max</th>\n",
       "      <th>...</th>\n",
       "      <th>Reality-TV</th>\n",
       "      <th>Romance</th>\n",
       "      <th>Sci-Fi</th>\n",
       "      <th>Short</th>\n",
       "      <th>Sport</th>\n",
       "      <th>Talk-Show</th>\n",
       "      <th>Thriller</th>\n",
       "      <th>War</th>\n",
       "      <th>Western</th>\n",
       "      <th>preds</th>\n",
       "    </tr>\n",
       "  </thead>\n",
       "  <tbody>\n",
       "    <tr>\n",
       "      <th>count</th>\n",
       "      <td>1434.000000</td>\n",
       "      <td>1434.000000</td>\n",
       "      <td>1434.000000</td>\n",
       "      <td>1434.000000</td>\n",
       "      <td>1434.000000</td>\n",
       "      <td>1434.000000</td>\n",
       "      <td>1434.000000</td>\n",
       "      <td>1434.000000</td>\n",
       "      <td>1434.000000</td>\n",
       "      <td>1434.000000</td>\n",
       "      <td>...</td>\n",
       "      <td>1434.000000</td>\n",
       "      <td>1434.000000</td>\n",
       "      <td>1434.000000</td>\n",
       "      <td>1434.0</td>\n",
       "      <td>1434.000000</td>\n",
       "      <td>1434.0</td>\n",
       "      <td>1434.000000</td>\n",
       "      <td>1434.000000</td>\n",
       "      <td>1434.000000</td>\n",
       "      <td>1434.000000</td>\n",
       "    </tr>\n",
       "    <tr>\n",
       "      <th>mean</th>\n",
       "      <td>0.018131</td>\n",
       "      <td>87.750349</td>\n",
       "      <td>4.869526</td>\n",
       "      <td>836.750349</td>\n",
       "      <td>5.982785</td>\n",
       "      <td>1.024529</td>\n",
       "      <td>7.743260</td>\n",
       "      <td>5.966198</td>\n",
       "      <td>0.939401</td>\n",
       "      <td>7.767724</td>\n",
       "      <td>...</td>\n",
       "      <td>0.002092</td>\n",
       "      <td>0.087866</td>\n",
       "      <td>0.018131</td>\n",
       "      <td>0.0</td>\n",
       "      <td>0.006974</td>\n",
       "      <td>0.0</td>\n",
       "      <td>0.035565</td>\n",
       "      <td>0.020223</td>\n",
       "      <td>0.006276</td>\n",
       "      <td>5.788120</td>\n",
       "    </tr>\n",
       "    <tr>\n",
       "      <th>std</th>\n",
       "      <td>0.133472</td>\n",
       "      <td>34.651516</td>\n",
       "      <td>2.069730</td>\n",
       "      <td>11042.754932</td>\n",
       "      <td>0.588373</td>\n",
       "      <td>0.559466</td>\n",
       "      <td>0.758091</td>\n",
       "      <td>0.642776</td>\n",
       "      <td>0.626966</td>\n",
       "      <td>0.712718</td>\n",
       "      <td>...</td>\n",
       "      <td>0.045707</td>\n",
       "      <td>0.283199</td>\n",
       "      <td>0.133472</td>\n",
       "      <td>0.0</td>\n",
       "      <td>0.083245</td>\n",
       "      <td>0.0</td>\n",
       "      <td>0.185267</td>\n",
       "      <td>0.140812</td>\n",
       "      <td>0.079001</td>\n",
       "      <td>1.020843</td>\n",
       "    </tr>\n",
       "    <tr>\n",
       "      <th>min</th>\n",
       "      <td>0.000000</td>\n",
       "      <td>0.000000</td>\n",
       "      <td>1.000000</td>\n",
       "      <td>5.000000</td>\n",
       "      <td>3.143902</td>\n",
       "      <td>0.000000</td>\n",
       "      <td>5.400000</td>\n",
       "      <td>3.280000</td>\n",
       "      <td>0.000000</td>\n",
       "      <td>5.666667</td>\n",
       "      <td>...</td>\n",
       "      <td>0.000000</td>\n",
       "      <td>0.000000</td>\n",
       "      <td>0.000000</td>\n",
       "      <td>0.0</td>\n",
       "      <td>0.000000</td>\n",
       "      <td>0.0</td>\n",
       "      <td>0.000000</td>\n",
       "      <td>0.000000</td>\n",
       "      <td>0.000000</td>\n",
       "      <td>2.635826</td>\n",
       "    </tr>\n",
       "    <tr>\n",
       "      <th>25%</th>\n",
       "      <td>0.000000</td>\n",
       "      <td>73.000000</td>\n",
       "      <td>3.300000</td>\n",
       "      <td>10.000000</td>\n",
       "      <td>5.618624</td>\n",
       "      <td>0.962303</td>\n",
       "      <td>7.186161</td>\n",
       "      <td>5.599708</td>\n",
       "      <td>0.000000</td>\n",
       "      <td>7.300000</td>\n",
       "      <td>...</td>\n",
       "      <td>0.000000</td>\n",
       "      <td>0.000000</td>\n",
       "      <td>0.000000</td>\n",
       "      <td>0.0</td>\n",
       "      <td>0.000000</td>\n",
       "      <td>0.0</td>\n",
       "      <td>0.000000</td>\n",
       "      <td>0.000000</td>\n",
       "      <td>0.000000</td>\n",
       "      <td>5.076653</td>\n",
       "    </tr>\n",
       "    <tr>\n",
       "      <th>50%</th>\n",
       "      <td>0.000000</td>\n",
       "      <td>93.000000</td>\n",
       "      <td>4.300000</td>\n",
       "      <td>19.000000</td>\n",
       "      <td>6.088453</td>\n",
       "      <td>1.161817</td>\n",
       "      <td>7.850000</td>\n",
       "      <td>6.058635</td>\n",
       "      <td>1.117629</td>\n",
       "      <td>7.820000</td>\n",
       "      <td>...</td>\n",
       "      <td>0.000000</td>\n",
       "      <td>0.000000</td>\n",
       "      <td>0.000000</td>\n",
       "      <td>0.0</td>\n",
       "      <td>0.000000</td>\n",
       "      <td>0.0</td>\n",
       "      <td>0.000000</td>\n",
       "      <td>0.000000</td>\n",
       "      <td>0.000000</td>\n",
       "      <td>5.859857</td>\n",
       "    </tr>\n",
       "    <tr>\n",
       "      <th>75%</th>\n",
       "      <td>0.000000</td>\n",
       "      <td>99.000000</td>\n",
       "      <td>6.800000</td>\n",
       "      <td>59.000000</td>\n",
       "      <td>6.279012</td>\n",
       "      <td>1.383480</td>\n",
       "      <td>8.300000</td>\n",
       "      <td>6.320025</td>\n",
       "      <td>1.360360</td>\n",
       "      <td>8.258889</td>\n",
       "      <td>...</td>\n",
       "      <td>0.000000</td>\n",
       "      <td>0.000000</td>\n",
       "      <td>0.000000</td>\n",
       "      <td>0.0</td>\n",
       "      <td>0.000000</td>\n",
       "      <td>0.0</td>\n",
       "      <td>0.000000</td>\n",
       "      <td>0.000000</td>\n",
       "      <td>0.000000</td>\n",
       "      <td>6.439767</td>\n",
       "    </tr>\n",
       "    <tr>\n",
       "      <th>max</th>\n",
       "      <td>1.000000</td>\n",
       "      <td>485.000000</td>\n",
       "      <td>9.700000</td>\n",
       "      <td>311963.000000</td>\n",
       "      <td>8.236079</td>\n",
       "      <td>2.799298</td>\n",
       "      <td>9.800000</td>\n",
       "      <td>8.498294</td>\n",
       "      <td>2.756119</td>\n",
       "      <td>9.933333</td>\n",
       "      <td>...</td>\n",
       "      <td>1.000000</td>\n",
       "      <td>1.000000</td>\n",
       "      <td>1.000000</td>\n",
       "      <td>0.0</td>\n",
       "      <td>1.000000</td>\n",
       "      <td>0.0</td>\n",
       "      <td>1.000000</td>\n",
       "      <td>1.000000</td>\n",
       "      <td>1.000000</td>\n",
       "      <td>9.258376</td>\n",
       "    </tr>\n",
       "  </tbody>\n",
       "</table>\n",
       "<p>8 rows × 42 columns</p>\n",
       "</div>"
      ],
      "text/plain": [
       "           isAdult  runtimeMinutes  averageRating       numVotes    cast_mean  \\\n",
       "count  1434.000000     1434.000000    1434.000000    1434.000000  1434.000000   \n",
       "mean      0.018131       87.750349       4.869526     836.750349     5.982785   \n",
       "std       0.133472       34.651516       2.069730   11042.754932     0.588373   \n",
       "min       0.000000        0.000000       1.000000       5.000000     3.143902   \n",
       "25%       0.000000       73.000000       3.300000      10.000000     5.618624   \n",
       "50%       0.000000       93.000000       4.300000      19.000000     6.088453   \n",
       "75%       0.000000       99.000000       6.800000      59.000000     6.279012   \n",
       "max       1.000000      485.000000       9.700000  311963.000000     8.236079   \n",
       "\n",
       "          cast_std     cast_max    crew_mean     crew_std     crew_max  ...  \\\n",
       "count  1434.000000  1434.000000  1434.000000  1434.000000  1434.000000  ...   \n",
       "mean      1.024529     7.743260     5.966198     0.939401     7.767724  ...   \n",
       "std       0.559466     0.758091     0.642776     0.626966     0.712718  ...   \n",
       "min       0.000000     5.400000     3.280000     0.000000     5.666667  ...   \n",
       "25%       0.962303     7.186161     5.599708     0.000000     7.300000  ...   \n",
       "50%       1.161817     7.850000     6.058635     1.117629     7.820000  ...   \n",
       "75%       1.383480     8.300000     6.320025     1.360360     8.258889  ...   \n",
       "max       2.799298     9.800000     8.498294     2.756119     9.933333  ...   \n",
       "\n",
       "        Reality-TV      Romance       Sci-Fi   Short        Sport  Talk-Show  \\\n",
       "count  1434.000000  1434.000000  1434.000000  1434.0  1434.000000     1434.0   \n",
       "mean      0.002092     0.087866     0.018131     0.0     0.006974        0.0   \n",
       "std       0.045707     0.283199     0.133472     0.0     0.083245        0.0   \n",
       "min       0.000000     0.000000     0.000000     0.0     0.000000        0.0   \n",
       "25%       0.000000     0.000000     0.000000     0.0     0.000000        0.0   \n",
       "50%       0.000000     0.000000     0.000000     0.0     0.000000        0.0   \n",
       "75%       0.000000     0.000000     0.000000     0.0     0.000000        0.0   \n",
       "max       1.000000     1.000000     1.000000     0.0     1.000000        0.0   \n",
       "\n",
       "          Thriller          War      Western        preds  \n",
       "count  1434.000000  1434.000000  1434.000000  1434.000000  \n",
       "mean      0.035565     0.020223     0.006276     5.788120  \n",
       "std       0.185267     0.140812     0.079001     1.020843  \n",
       "min       0.000000     0.000000     0.000000     2.635826  \n",
       "25%       0.000000     0.000000     0.000000     5.076653  \n",
       "50%       0.000000     0.000000     0.000000     5.859857  \n",
       "75%       0.000000     0.000000     0.000000     6.439767  \n",
       "max       1.000000     1.000000     1.000000     9.258376  \n",
       "\n",
       "[8 rows x 42 columns]"
      ]
     },
     "execution_count": 136,
     "metadata": {},
     "output_type": "execute_result"
    }
   ],
   "source": [
    "df[abs(df['preds'] - df['averageRating']) > 2].describe()"
   ]
  },
  {
   "cell_type": "code",
   "execution_count": null,
   "metadata": {},
   "outputs": [],
   "source": []
  },
  {
   "cell_type": "code",
   "execution_count": 139,
   "metadata": {},
   "outputs": [
    {
     "data": {
      "image/png": "[encoded data removed]",
      "text/plain": [
       "<Figure size 432x288 with 1 Axes>"
      ]
     },
     "metadata": {
      "needs_background": "light"
     },
     "output_type": "display_data"
    },
    {
     "data": {
      "text/plain": [
       "<matplotlib.axes._subplots.AxesSubplot at 0x7fa33442e950>"
      ]
     },
     "execution_count": 139,
     "metadata": {},
     "output_type": "execute_result"
    },
    {
     "data": {
      "image/png": "[encoded data removed]",
      "text/plain": [
       "<Figure size 432x288 with 1 Axes>"
      ]
     },
     "metadata": {
      "needs_background": "light"
     },
     "output_type": "display_data"
    }
   ],
   "source": [
    "diff_2 = df[abs(df['preds'] - df['averageRating']) > 2]\n",
    "sns.histplot(x = 'crew_mean', data = diff_2)\n",
    "plt.show()\n",
    "sns.histplot(x = 'crew_mean', data = df)"
   ]
  },
  {
   "cell_type": "code",
   "execution_count": null,
   "metadata": {},
   "outputs": [],
   "source": []
  },
  {
   "cell_type": "code",
   "execution_count": 140,
   "metadata": {},
   "outputs": [
    {
     "data": {
      "image/png": "[encoded data removed]",
      "text/plain": [
       "<Figure size 432x288 with 1 Axes>"
      ]
     },
     "metadata": {
      "needs_background": "light"
     },
     "output_type": "display_data"
    },
    {
     "data": {
      "text/plain": [
       "<matplotlib.axes._subplots.AxesSubplot at 0x7fa325ce7c90>"
      ]
     },
     "execution_count": 140,
     "metadata": {},
     "output_type": "execute_result"
    },
    {
     "data": {
      "image/png": "[encoded data removed]",
      "text/plain": [
       "<Figure size 432x288 with 1 Axes>"
      ]
     },
     "metadata": {
      "needs_background": "light"
     },
     "output_type": "display_data"
    }
   ],
   "source": [
    "sns.histplot(x = 'averageRating', data = diff_2)\n",
    "plt.show()\n",
    "sns.histplot(x = 'averageRating', data = df)"
   ]
  },
  {
   "cell_type": "code",
   "execution_count": 137,
   "metadata": {},
   "outputs": [
    {
     "data": {
      "image/png": "[encoded data removed]",
      "text/plain": [
       "<Figure size 432x288 with 1 Axes>"
      ]
     },
     "metadata": {
      "needs_background": "light"
     },
     "output_type": "display_data"
    },
    {
     "data": {
      "text/plain": [
       "<matplotlib.axes._subplots.AxesSubplot at 0x7fa355b65490>"
      ]
     },
     "execution_count": 137,
     "metadata": {},
     "output_type": "execute_result"
    },
    {
     "data": {
      "image/png": "[encoded data removed]",
      "text/plain": [
       "<Figure size 432x288 with 1 Axes>"
      ]
     },
     "metadata": {
      "needs_background": "light"
     },
     "output_type": "display_data"
    }
   ],
   "source": [
    "diff_3 = df[abs(df['preds'] - df['averageRating']) > 3]\n",
    "sns.histplot(x = 'crew_mean', data = diff_3)\n",
    "plt.show()\n",
    "sns.histplot(x = 'crew_mean', data = df)"
   ]
  },
  {
   "cell_type": "code",
   "execution_count": 138,
   "metadata": {},
   "outputs": [
    {
     "data": {
      "image/png": "[encoded data removed]",
      "text/plain": [
       "<Figure size 432x288 with 1 Axes>"
      ]
     },
     "metadata": {
      "needs_background": "light"
     },
     "output_type": "display_data"
    },
    {
     "data": {
      "text/plain": [
       "<matplotlib.axes._subplots.AxesSubplot at 0x7fa33c22be90>"
      ]
     },
     "execution_count": 138,
     "metadata": {},
     "output_type": "execute_result"
    },
    {
     "data": {
      "image/png": "[encoded data removed]",
      "text/plain": [
       "<Figure size 432x288 with 1 Axes>"
      ]
     },
     "metadata": {
      "needs_background": "light"
     },
     "output_type": "display_data"
    }
   ],
   "source": [
    "sns.histplot(x = 'averageRating', data = diff_3)\n",
    "plt.show()\n",
    "sns.histplot(x = 'averageRating', data = df)"
   ]
  },
  {
   "cell_type": "markdown",
   "metadata": {},
   "source": [
    "We can see from the plots above that the biggest discrepancies in the predictions occur when a talented crew makes a bad film. Since the model relies heavily on crew performance, we can see that this mismatch is hard for the model to catch"
   ]
  },
  {
   "cell_type": "code",
   "execution_count": null,
   "metadata": {},
   "outputs": [],
   "source": []
  }
 ],
 "metadata": {
  "kernelspec": {
   "display_name": "Python 3",
   "language": "python",
   "name": "python3"
  },
  "language_info": {
   "codemirror_mode": {
    "name": "ipython",
    "version": 3
   },
   "file_extension": ".py",
   "mimetype": "text/x-python",
   "name": "python",
   "nbconvert_exporter": "python",
   "pygments_lexer": "ipython3",
   "version": "3.7.6"
  }
 },
 "nbformat": 4,
 "nbformat_minor": 4
}
