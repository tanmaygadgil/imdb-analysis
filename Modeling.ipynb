{
 "cells": [
  {
   "cell_type": "markdown",
   "metadata": {},
   "source": [
    "# Model Creation and Tuning"
   ]
  },
  {
   "cell_type": "code",
   "execution_count": 4,
   "metadata": {},
   "outputs": [
    {
     "name": "stdout",
     "output_type": "stream",
     "text": [
      "Collecting xgboost\n",
      "  Downloading xgboost-1.5.2-py3-none-manylinux2014_x86_64.whl (173.6 MB)\n",
      "\u001b[K     |████████████████████████████████| 173.6 MB 2.2 kB/s  eta 0:00:01\n",
      "\u001b[?25hRequirement already satisfied: scipy in /home/tanmay/anaconda3/lib/python3.7/site-packages (from xgboost) (1.4.1)\n",
      "Requirement already satisfied: numpy in /home/tanmay/anaconda3/lib/python3.7/site-packages (from xgboost) (1.18.1)\n",
      "Installing collected packages: xgboost\n",
      "Successfully installed xgboost-1.5.2\n"
     ]
    }
   ],
   "source": [
    "!pip install xgboost"
   ]
  },
  {
   "cell_type": "code",
   "execution_count": 1,
   "metadata": {},
   "outputs": [],
   "source": [
    "import pandas as pd\n",
    "import numpy as np\n",
    "import matplotlib.pyplot as plt\n",
    "from collections import Counter\n",
    "import sklearn\n",
    "import os \n",
    "import sys\n",
    "import json"
   ]
  },
  {
   "cell_type": "code",
   "execution_count": 35,
   "metadata": {},
   "outputs": [],
   "source": [
    "import pickle"
   ]
  },
  {
   "cell_type": "code",
   "execution_count": 2,
   "metadata": {},
   "outputs": [],
   "source": [
    "from sklearn.metrics import *"
   ]
  },
  {
   "cell_type": "code",
   "execution_count": 6,
   "metadata": {},
   "outputs": [],
   "source": [
    "from sklearn.model_selection import *\n",
    "from sklearn.metrics import *\n",
    "\n",
    "from sklearn.preprocessing import StandardScaler, LabelEncoder, OrdinalEncoder"
   ]
  },
  {
   "cell_type": "code",
   "execution_count": 5,
   "metadata": {},
   "outputs": [],
   "source": [
    "from xgboost import XGBRegressor\n",
    "from sklearn.ensemble import RandomForestRegressor\n",
    "from sklearn.linear_model import LinearRegression"
   ]
  },
  {
   "cell_type": "code",
   "execution_count": null,
   "metadata": {},
   "outputs": [],
   "source": []
  },
  {
   "cell_type": "markdown",
   "metadata": {},
   "source": [
    "## Data Preprocessing"
   ]
  },
  {
   "cell_type": "code",
   "execution_count": 8,
   "metadata": {},
   "outputs": [],
   "source": [
    "data = pd.read_csv('processed/training_df.csv')"
   ]
  },
  {
   "cell_type": "code",
   "execution_count": 10,
   "metadata": {},
   "outputs": [],
   "source": [
    "data.drop(columns=['Unnamed: 0'], inplace = True)"
   ]
  },
  {
   "cell_type": "code",
   "execution_count": 12,
   "metadata": {},
   "outputs": [
    {
     "data": {
      "text/plain": [
       "Index(['isAdult', 'startYear', 'runtimeMinutes', 'averageRating', 'numVotes',\n",
       "       'cast_mean', 'cast_std', 'cast_max', 'crew_mean', 'crew_std',\n",
       "       'crew_max', 'cast_exp', 'crew_exp', 'numRegions', 'Action', 'Adult',\n",
       "       'Adventure', 'Animation', 'Biography', 'Comedy', 'Crime', 'Documentary',\n",
       "       'Drama', 'Family', 'Fantasy', 'Film-Noir', 'Game-Show', 'History',\n",
       "       'Horror', 'Music', 'Musical', 'Mystery', 'News', 'Reality-TV',\n",
       "       'Romance', 'Sci-Fi', 'Short', 'Sport', 'Talk-Show', 'Thriller', 'War',\n",
       "       'Western'],\n",
       "      dtype='object')"
      ]
     },
     "execution_count": 12,
     "metadata": {},
     "output_type": "execute_result"
    }
   ],
   "source": [
    "data.columns"
   ]
  },
  {
   "cell_type": "code",
   "execution_count": 15,
   "metadata": {},
   "outputs": [],
   "source": [
    "label = 'averageRating'\n",
    "numerical_cols = ['runtimeMinutes', 'numVotes','cast_mean', \n",
    "                  'cast_std', 'cast_max', 'crew_mean', 'crew_std',\n",
    "                'crew_max', 'cast_exp', 'crew_exp', 'numRegions']\n",
    "ordinal_cols = ['startYear']"
   ]
  },
  {
   "cell_type": "code",
   "execution_count": 16,
   "metadata": {},
   "outputs": [],
   "source": [
    "def scaler(data, numerical_cols, ordinal_cols):\n",
    "    if numerical_cols:\n",
    "        ss  = StandardScaler()\n",
    "        data.loc[:, numerical_cols] = ss.fit_transform(data[numerical_cols])\n",
    "    if ordinal_cols:\n",
    "        os = OrdinalEncoder()\n",
    "        data.loc[:, ordinal_cols] = ss.fit_transform(data[ordinal_cols])\n",
    "        \n",
    "    return data"
   ]
  },
  {
   "cell_type": "code",
   "execution_count": 17,
   "metadata": {},
   "outputs": [],
   "source": [
    "data_scaled = scaler(data, numerical_cols, ordinal_cols)"
   ]
  },
  {
   "cell_type": "code",
   "execution_count": 18,
   "metadata": {},
   "outputs": [
    {
     "data": {
      "text/html": [
       "<div>\n",
       "<style scoped>\n",
       "    .dataframe tbody tr th:only-of-type {\n",
       "        vertical-align: middle;\n",
       "    }\n",
       "\n",
       "    .dataframe tbody tr th {\n",
       "        vertical-align: top;\n",
       "    }\n",
       "\n",
       "    .dataframe thead th {\n",
       "        text-align: right;\n",
       "    }\n",
       "</style>\n",
       "<table border=\"1\" class=\"dataframe\">\n",
       "  <thead>\n",
       "    <tr style=\"text-align: right;\">\n",
       "      <th></th>\n",
       "      <th>isAdult</th>\n",
       "      <th>startYear</th>\n",
       "      <th>runtimeMinutes</th>\n",
       "      <th>averageRating</th>\n",
       "      <th>numVotes</th>\n",
       "      <th>cast_mean</th>\n",
       "      <th>cast_std</th>\n",
       "      <th>cast_max</th>\n",
       "      <th>crew_mean</th>\n",
       "      <th>crew_std</th>\n",
       "      <th>...</th>\n",
       "      <th>News</th>\n",
       "      <th>Reality-TV</th>\n",
       "      <th>Romance</th>\n",
       "      <th>Sci-Fi</th>\n",
       "      <th>Short</th>\n",
       "      <th>Sport</th>\n",
       "      <th>Talk-Show</th>\n",
       "      <th>Thriller</th>\n",
       "      <th>War</th>\n",
       "      <th>Western</th>\n",
       "    </tr>\n",
       "  </thead>\n",
       "  <tbody>\n",
       "    <tr>\n",
       "      <th>0</th>\n",
       "      <td>0</td>\n",
       "      <td>-1.319724</td>\n",
       "      <td>0.068700</td>\n",
       "      <td>4.5</td>\n",
       "      <td>-0.095872</td>\n",
       "      <td>-1.947168</td>\n",
       "      <td>-0.997854</td>\n",
       "      <td>-3.015751</td>\n",
       "      <td>-0.986950</td>\n",
       "      <td>1.005087</td>\n",
       "      <td>...</td>\n",
       "      <td>0</td>\n",
       "      <td>0</td>\n",
       "      <td>0</td>\n",
       "      <td>0</td>\n",
       "      <td>0</td>\n",
       "      <td>0</td>\n",
       "      <td>0</td>\n",
       "      <td>0</td>\n",
       "      <td>0</td>\n",
       "      <td>0</td>\n",
       "    </tr>\n",
       "    <tr>\n",
       "      <th>1</th>\n",
       "      <td>0</td>\n",
       "      <td>-1.319724</td>\n",
       "      <td>-0.166455</td>\n",
       "      <td>6.0</td>\n",
       "      <td>-0.072000</td>\n",
       "      <td>-0.208452</td>\n",
       "      <td>-0.997854</td>\n",
       "      <td>-1.450210</td>\n",
       "      <td>-0.472322</td>\n",
       "      <td>-0.953246</td>\n",
       "      <td>...</td>\n",
       "      <td>0</td>\n",
       "      <td>0</td>\n",
       "      <td>0</td>\n",
       "      <td>0</td>\n",
       "      <td>0</td>\n",
       "      <td>0</td>\n",
       "      <td>0</td>\n",
       "      <td>0</td>\n",
       "      <td>0</td>\n",
       "      <td>0</td>\n",
       "    </tr>\n",
       "    <tr>\n",
       "      <th>2</th>\n",
       "      <td>0</td>\n",
       "      <td>-1.319724</td>\n",
       "      <td>-0.009685</td>\n",
       "      <td>4.6</td>\n",
       "      <td>-0.095775</td>\n",
       "      <td>-1.160606</td>\n",
       "      <td>-0.997854</td>\n",
       "      <td>-1.737226</td>\n",
       "      <td>-1.630350</td>\n",
       "      <td>-0.408200</td>\n",
       "      <td>...</td>\n",
       "      <td>0</td>\n",
       "      <td>0</td>\n",
       "      <td>0</td>\n",
       "      <td>0</td>\n",
       "      <td>0</td>\n",
       "      <td>0</td>\n",
       "      <td>0</td>\n",
       "      <td>0</td>\n",
       "      <td>0</td>\n",
       "      <td>0</td>\n",
       "    </tr>\n",
       "    <tr>\n",
       "      <th>3</th>\n",
       "      <td>0</td>\n",
       "      <td>-1.319724</td>\n",
       "      <td>0.037346</td>\n",
       "      <td>4.5</td>\n",
       "      <td>-0.095581</td>\n",
       "      <td>-1.599425</td>\n",
       "      <td>-0.997854</td>\n",
       "      <td>-2.389535</td>\n",
       "      <td>-1.668844</td>\n",
       "      <td>-0.953246</td>\n",
       "      <td>...</td>\n",
       "      <td>0</td>\n",
       "      <td>0</td>\n",
       "      <td>0</td>\n",
       "      <td>0</td>\n",
       "      <td>0</td>\n",
       "      <td>0</td>\n",
       "      <td>0</td>\n",
       "      <td>0</td>\n",
       "      <td>0</td>\n",
       "      <td>0</td>\n",
       "    </tr>\n",
       "    <tr>\n",
       "      <th>4</th>\n",
       "      <td>0</td>\n",
       "      <td>-1.319724</td>\n",
       "      <td>0.303856</td>\n",
       "      <td>3.8</td>\n",
       "      <td>-0.095549</td>\n",
       "      <td>-0.976385</td>\n",
       "      <td>1.338778</td>\n",
       "      <td>-0.771809</td>\n",
       "      <td>-0.473268</td>\n",
       "      <td>1.763490</td>\n",
       "      <td>...</td>\n",
       "      <td>0</td>\n",
       "      <td>0</td>\n",
       "      <td>0</td>\n",
       "      <td>0</td>\n",
       "      <td>0</td>\n",
       "      <td>0</td>\n",
       "      <td>0</td>\n",
       "      <td>0</td>\n",
       "      <td>0</td>\n",
       "      <td>0</td>\n",
       "    </tr>\n",
       "    <tr>\n",
       "      <th>...</th>\n",
       "      <td>...</td>\n",
       "      <td>...</td>\n",
       "      <td>...</td>\n",
       "      <td>...</td>\n",
       "      <td>...</td>\n",
       "      <td>...</td>\n",
       "      <td>...</td>\n",
       "      <td>...</td>\n",
       "      <td>...</td>\n",
       "      <td>...</td>\n",
       "      <td>...</td>\n",
       "      <td>...</td>\n",
       "      <td>...</td>\n",
       "      <td>...</td>\n",
       "      <td>...</td>\n",
       "      <td>...</td>\n",
       "      <td>...</td>\n",
       "      <td>...</td>\n",
       "      <td>...</td>\n",
       "      <td>...</td>\n",
       "      <td>...</td>\n",
       "    </tr>\n",
       "    <tr>\n",
       "      <th>323829</th>\n",
       "      <td>0</td>\n",
       "      <td>1.161934</td>\n",
       "      <td>0.005992</td>\n",
       "      <td>6.4</td>\n",
       "      <td>0.047136</td>\n",
       "      <td>-0.035898</td>\n",
       "      <td>-0.997854</td>\n",
       "      <td>0.193608</td>\n",
       "      <td>0.164157</td>\n",
       "      <td>-0.953246</td>\n",
       "      <td>...</td>\n",
       "      <td>0</td>\n",
       "      <td>0</td>\n",
       "      <td>0</td>\n",
       "      <td>0</td>\n",
       "      <td>0</td>\n",
       "      <td>0</td>\n",
       "      <td>0</td>\n",
       "      <td>0</td>\n",
       "      <td>0</td>\n",
       "      <td>0</td>\n",
       "    </tr>\n",
       "    <tr>\n",
       "      <th>323830</th>\n",
       "      <td>0</td>\n",
       "      <td>1.112301</td>\n",
       "      <td>0.013831</td>\n",
       "      <td>3.8</td>\n",
       "      <td>-0.095872</td>\n",
       "      <td>-1.897582</td>\n",
       "      <td>-0.997854</td>\n",
       "      <td>-2.406930</td>\n",
       "      <td>-1.755456</td>\n",
       "      <td>1.167940</td>\n",
       "      <td>...</td>\n",
       "      <td>0</td>\n",
       "      <td>0</td>\n",
       "      <td>0</td>\n",
       "      <td>0</td>\n",
       "      <td>0</td>\n",
       "      <td>0</td>\n",
       "      <td>0</td>\n",
       "      <td>0</td>\n",
       "      <td>1</td>\n",
       "      <td>0</td>\n",
       "    </tr>\n",
       "    <tr>\n",
       "      <th>323831</th>\n",
       "      <td>0</td>\n",
       "      <td>1.112301</td>\n",
       "      <td>-0.636766</td>\n",
       "      <td>9.3</td>\n",
       "      <td>-0.095775</td>\n",
       "      <td>3.616722</td>\n",
       "      <td>-0.997854</td>\n",
       "      <td>1.993980</td>\n",
       "      <td>3.566343</td>\n",
       "      <td>-0.953246</td>\n",
       "      <td>...</td>\n",
       "      <td>0</td>\n",
       "      <td>0</td>\n",
       "      <td>0</td>\n",
       "      <td>0</td>\n",
       "      <td>0</td>\n",
       "      <td>0</td>\n",
       "      <td>0</td>\n",
       "      <td>0</td>\n",
       "      <td>0</td>\n",
       "      <td>0</td>\n",
       "    </tr>\n",
       "    <tr>\n",
       "      <th>323832</th>\n",
       "      <td>0</td>\n",
       "      <td>1.112301</td>\n",
       "      <td>0.248986</td>\n",
       "      <td>8.3</td>\n",
       "      <td>-0.096130</td>\n",
       "      <td>1.261004</td>\n",
       "      <td>-0.997854</td>\n",
       "      <td>0.950286</td>\n",
       "      <td>1.006749</td>\n",
       "      <td>-0.953246</td>\n",
       "      <td>...</td>\n",
       "      <td>0</td>\n",
       "      <td>0</td>\n",
       "      <td>0</td>\n",
       "      <td>0</td>\n",
       "      <td>0</td>\n",
       "      <td>0</td>\n",
       "      <td>0</td>\n",
       "      <td>0</td>\n",
       "      <td>0</td>\n",
       "      <td>0</td>\n",
       "    </tr>\n",
       "    <tr>\n",
       "      <th>323833</th>\n",
       "      <td>0</td>\n",
       "      <td>1.013035</td>\n",
       "      <td>0.194117</td>\n",
       "      <td>8.4</td>\n",
       "      <td>-0.096162</td>\n",
       "      <td>1.859653</td>\n",
       "      <td>-0.997854</td>\n",
       "      <td>1.211210</td>\n",
       "      <td>1.914308</td>\n",
       "      <td>-0.953246</td>\n",
       "      <td>...</td>\n",
       "      <td>0</td>\n",
       "      <td>0</td>\n",
       "      <td>1</td>\n",
       "      <td>0</td>\n",
       "      <td>0</td>\n",
       "      <td>0</td>\n",
       "      <td>0</td>\n",
       "      <td>0</td>\n",
       "      <td>0</td>\n",
       "      <td>0</td>\n",
       "    </tr>\n",
       "  </tbody>\n",
       "</table>\n",
       "<p>323834 rows × 42 columns</p>\n",
       "</div>"
      ],
      "text/plain": [
       "        isAdult  startYear  runtimeMinutes  averageRating  numVotes  \\\n",
       "0             0  -1.319724        0.068700            4.5 -0.095872   \n",
       "1             0  -1.319724       -0.166455            6.0 -0.072000   \n",
       "2             0  -1.319724       -0.009685            4.6 -0.095775   \n",
       "3             0  -1.319724        0.037346            4.5 -0.095581   \n",
       "4             0  -1.319724        0.303856            3.8 -0.095549   \n",
       "...         ...        ...             ...            ...       ...   \n",
       "323829        0   1.161934        0.005992            6.4  0.047136   \n",
       "323830        0   1.112301        0.013831            3.8 -0.095872   \n",
       "323831        0   1.112301       -0.636766            9.3 -0.095775   \n",
       "323832        0   1.112301        0.248986            8.3 -0.096130   \n",
       "323833        0   1.013035        0.194117            8.4 -0.096162   \n",
       "\n",
       "        cast_mean  cast_std  cast_max  crew_mean  crew_std  ...  News  \\\n",
       "0       -1.947168 -0.997854 -3.015751  -0.986950  1.005087  ...     0   \n",
       "1       -0.208452 -0.997854 -1.450210  -0.472322 -0.953246  ...     0   \n",
       "2       -1.160606 -0.997854 -1.737226  -1.630350 -0.408200  ...     0   \n",
       "3       -1.599425 -0.997854 -2.389535  -1.668844 -0.953246  ...     0   \n",
       "4       -0.976385  1.338778 -0.771809  -0.473268  1.763490  ...     0   \n",
       "...           ...       ...       ...        ...       ...  ...   ...   \n",
       "323829  -0.035898 -0.997854  0.193608   0.164157 -0.953246  ...     0   \n",
       "323830  -1.897582 -0.997854 -2.406930  -1.755456  1.167940  ...     0   \n",
       "323831   3.616722 -0.997854  1.993980   3.566343 -0.953246  ...     0   \n",
       "323832   1.261004 -0.997854  0.950286   1.006749 -0.953246  ...     0   \n",
       "323833   1.859653 -0.997854  1.211210   1.914308 -0.953246  ...     0   \n",
       "\n",
       "        Reality-TV  Romance  Sci-Fi  Short  Sport  Talk-Show  Thriller  War  \\\n",
       "0                0        0       0      0      0          0         0    0   \n",
       "1                0        0       0      0      0          0         0    0   \n",
       "2                0        0       0      0      0          0         0    0   \n",
       "3                0        0       0      0      0          0         0    0   \n",
       "4                0        0       0      0      0          0         0    0   \n",
       "...            ...      ...     ...    ...    ...        ...       ...  ...   \n",
       "323829           0        0       0      0      0          0         0    0   \n",
       "323830           0        0       0      0      0          0         0    1   \n",
       "323831           0        0       0      0      0          0         0    0   \n",
       "323832           0        0       0      0      0          0         0    0   \n",
       "323833           0        1       0      0      0          0         0    0   \n",
       "\n",
       "        Western  \n",
       "0             0  \n",
       "1             0  \n",
       "2             0  \n",
       "3             0  \n",
       "4             0  \n",
       "...         ...  \n",
       "323829        0  \n",
       "323830        0  \n",
       "323831        0  \n",
       "323832        0  \n",
       "323833        0  \n",
       "\n",
       "[323834 rows x 42 columns]"
      ]
     },
     "execution_count": 18,
     "metadata": {},
     "output_type": "execute_result"
    }
   ],
   "source": [
    "data_scaled"
   ]
  },
  {
   "cell_type": "code",
   "execution_count": 20,
   "metadata": {},
   "outputs": [],
   "source": [
    "X = data_scaled[['isAdult', 'startYear', 'runtimeMinutes', 'numVotes',\n",
    "       'cast_mean', 'cast_std', 'cast_max', 'crew_mean', 'crew_std',\n",
    "       'crew_max', 'cast_exp', 'crew_exp', 'numRegions', 'Action', 'Adult',\n",
    "       'Adventure', 'Animation', 'Biography', 'Comedy', 'Crime', 'Documentary',\n",
    "       'Drama', 'Family', 'Fantasy', 'Film-Noir', 'Game-Show', 'History',\n",
    "       'Horror', 'Music', 'Musical', 'Mystery', 'News', 'Reality-TV',\n",
    "       'Romance', 'Sci-Fi', 'Short', 'Sport', 'Talk-Show', 'Thriller', 'War',\n",
    "       'Western']].values"
   ]
  },
  {
   "cell_type": "code",
   "execution_count": 21,
   "metadata": {},
   "outputs": [],
   "source": [
    "y = data[label]"
   ]
  },
  {
   "cell_type": "code",
   "execution_count": 22,
   "metadata": {},
   "outputs": [
    {
     "data": {
      "text/plain": [
       "((323834, 41), (323834,))"
      ]
     },
     "execution_count": 22,
     "metadata": {},
     "output_type": "execute_result"
    }
   ],
   "source": [
    "X.shape, y.shape"
   ]
  },
  {
   "cell_type": "code",
   "execution_count": 28,
   "metadata": {},
   "outputs": [],
   "source": [
    "X_train, X_test, y_train, y_test = train_test_split(X, y, train_size = 0.7, random_state = 42)"
   ]
  },
  {
   "cell_type": "code",
   "execution_count": 29,
   "metadata": {},
   "outputs": [
    {
     "name": "stdout",
     "output_type": "stream",
     "text": [
      "Xtrain shape: (226683, 41)\n",
      "Xtrain shape: (97151, 41)\n",
      "Xtrain shape: (226683,)\n",
      "Xtrain shape: (97151,)\n"
     ]
    }
   ],
   "source": [
    "print(f\"Xtrain shape: {X_train.shape}\")\n",
    "print(f\"Xtrain shape: {X_test.shape}\")\n",
    "print(f\"Xtrain shape: {y_train.shape}\")\n",
    "print(f\"Xtrain shape: {y_test.shape}\")"
   ]
  },
  {
   "cell_type": "markdown",
   "metadata": {},
   "source": [
    "## Baseline Linear Model"
   ]
  },
  {
   "cell_type": "code",
   "execution_count": 30,
   "metadata": {},
   "outputs": [],
   "source": [
    "lr = LinearRegression(n_jobs=-1)"
   ]
  },
  {
   "cell_type": "code",
   "execution_count": 31,
   "metadata": {},
   "outputs": [
    {
     "data": {
      "text/plain": [
       "LinearRegression(copy_X=True, fit_intercept=True, n_jobs=-1, normalize=False)"
      ]
     },
     "execution_count": 31,
     "metadata": {},
     "output_type": "execute_result"
    }
   ],
   "source": [
    "lr.fit(X_train, y_train)"
   ]
  },
  {
   "cell_type": "code",
   "execution_count": 33,
   "metadata": {},
   "outputs": [
    {
     "data": {
      "text/plain": [
       "0.7430537794248169"
      ]
     },
     "execution_count": 33,
     "metadata": {},
     "output_type": "execute_result"
    }
   ],
   "source": [
    "\n",
    "lr.score(X_train, y_train)"
   ]
  },
  {
   "cell_type": "code",
   "execution_count": 34,
   "metadata": {},
   "outputs": [
    {
     "data": {
      "text/plain": [
       "0.7456695128983963"
      ]
     },
     "execution_count": 34,
     "metadata": {},
     "output_type": "execute_result"
    }
   ],
   "source": [
    "lr.score(X_test, y_test)"
   ]
  },
  {
   "cell_type": "markdown",
   "metadata": {},
   "source": [
    "## Baseline Random Forest"
   ]
  },
  {
   "cell_type": "code",
   "execution_count": 36,
   "metadata": {},
   "outputs": [
    {
     "data": {
      "text/plain": [
       "RandomForestRegressor(bootstrap=True, ccp_alpha=0.0, criterion='mse',\n",
       "                      max_depth=None, max_features='auto', max_leaf_nodes=None,\n",
       "                      max_samples=None, min_impurity_decrease=0.0,\n",
       "                      min_impurity_split=None, min_samples_leaf=1,\n",
       "                      min_samples_split=2, min_weight_fraction_leaf=0.0,\n",
       "                      n_estimators=100, n_jobs=-1, oob_score=False,\n",
       "                      random_state=None, verbose=0, warm_start=False)"
      ]
     },
     "execution_count": 36,
     "metadata": {},
     "output_type": "execute_result"
    }
   ],
   "source": [
    "rf_model = RandomForestRegressor(n_jobs=-1)\n",
    "rf_model.fit(X_train, y_train)"
   ]
  },
  {
   "cell_type": "code",
   "execution_count": 37,
   "metadata": {},
   "outputs": [
    {
     "data": {
      "text/plain": [
       "0.9759075492103017"
      ]
     },
     "execution_count": 37,
     "metadata": {},
     "output_type": "execute_result"
    }
   ],
   "source": [
    "rf_model.score(X_train, y_train)"
   ]
  },
  {
   "cell_type": "code",
   "execution_count": 38,
   "metadata": {},
   "outputs": [
    {
     "data": {
      "text/plain": [
       "0.830430301030396"
      ]
     },
     "execution_count": 38,
     "metadata": {},
     "output_type": "execute_result"
    }
   ],
   "source": [
    "rf_model.score(X_test, y_test)"
   ]
  },
  {
   "cell_type": "code",
   "execution_count": 39,
   "metadata": {},
   "outputs": [
    {
     "data": {
      "text/plain": [
       "array([2.45319173e-04, 1.33528929e-02, 1.32591878e-02, 1.82988987e-02,\n",
       "       2.03452145e-01, 3.26198968e-02, 3.48809225e-02, 5.81235453e-01,\n",
       "       2.37546969e-02, 2.65316066e-02, 1.46335730e-02, 1.50484753e-02,\n",
       "       7.44189419e-03, 1.07208672e-03, 2.70124295e-04, 8.41037091e-04,\n",
       "       3.67760546e-04, 4.15762509e-04, 1.50786270e-03, 8.75111623e-04,\n",
       "       1.15073636e-03, 1.71793956e-03, 5.73897828e-04, 4.81125858e-04,\n",
       "       1.80650029e-05, 2.05219258e-07, 3.89712630e-04, 7.91241762e-04,\n",
       "       4.38633565e-04, 4.71487073e-04, 4.62407479e-04, 5.36226420e-05,\n",
       "       2.83866000e-05, 1.00515746e-03, 6.00836522e-04, 1.63999764e-07,\n",
       "       2.37333054e-04, 7.86576968e-07, 8.04496262e-04, 3.60064240e-04,\n",
       "       3.08992483e-04])"
      ]
     },
     "execution_count": 39,
     "metadata": {},
     "output_type": "execute_result"
    }
   ],
   "source": [
    "rf_model.feature_importances_"
   ]
  },
  {
   "cell_type": "code",
   "execution_count": 40,
   "metadata": {},
   "outputs": [],
   "source": [
    "train_cols = ['isAdult', 'startYear', 'runtimeMinutes', 'numVotes',\n",
    "       'cast_mean', 'cast_std', 'cast_max', 'crew_mean', 'crew_std',\n",
    "       'crew_max', 'cast_exp', 'crew_exp', 'numRegions', 'Action', 'Adult',\n",
    "       'Adventure', 'Animation', 'Biography', 'Comedy', 'Crime', 'Documentary',\n",
    "       'Drama', 'Family', 'Fantasy', 'Film-Noir', 'Game-Show', 'History',\n",
    "       'Horror', 'Music', 'Musical', 'Mystery', 'News', 'Reality-TV',\n",
    "       'Romance', 'Sci-Fi', 'Short', 'Sport', 'Talk-Show', 'Thriller', 'War',\n",
    "       'Western']"
   ]
  },
  {
   "cell_type": "code",
   "execution_count": 45,
   "metadata": {},
   "outputs": [],
   "source": [
    "imp = pd.DataFrame.from_dict({\"importances\": rf_model.feature_importances_},orient = 'columns')"
   ]
  },
  {
   "cell_type": "code",
   "execution_count": 46,
   "metadata": {},
   "outputs": [],
   "source": [
    "imp.index = train_cols"
   ]
  },
  {
   "cell_type": "code",
   "execution_count": 52,
   "metadata": {},
   "outputs": [],
   "source": [
    "imp = imp.sort_values(by = 'importances', ascending=False)"
   ]
  },
  {
   "cell_type": "code",
   "execution_count": 54,
   "metadata": {},
   "outputs": [
    {
     "data": {
      "text/plain": [
       "<matplotlib.axes._subplots.AxesSubplot at 0x7f9245581750>"
      ]
     },
     "execution_count": 54,
     "metadata": {},
     "output_type": "execute_result"
    },
    {
     "data": {
      "image/png": "[encoded data removed]",
      "text/plain": [
       "<Figure size 1080x720 with 1 Axes>"
      ]
     },
     "metadata": {
      "needs_background": "light"
     },
     "output_type": "display_data"
    }
   ],
   "source": [
    "imp.plot.bar(figsize = (15, 10))"
   ]
  },
  {
   "cell_type": "markdown",
   "metadata": {},
   "source": [
    "## Baseline XGB model\n"
   ]
  },
  {
   "cell_type": "code",
   "execution_count": 56,
   "metadata": {},
   "outputs": [
    {
     "data": {
      "text/plain": [
       "XGBRegressor(base_score=0.5, booster='gbtree', colsample_bylevel=1,\n",
       "             colsample_bynode=1, colsample_bytree=1, enable_categorical=False,\n",
       "             gamma=0, gpu_id=-1, importance_type=None,\n",
       "             interaction_constraints='', learning_rate=0.300000012,\n",
       "             max_delta_step=0, max_depth=6, min_child_weight=1, missing=nan,\n",
       "             monotone_constraints='()', n_estimators=100, n_jobs=-1,\n",
       "             num_parallel_tree=1, objective='reg:squarederror',\n",
       "             predictor='auto', random_state=0, reg_alpha=0, reg_lambda=1,\n",
       "             scale_pos_weight=1, subsample=0.8, tree_method='exact',\n",
       "             validate_parameters=1, verbosity=None)"
      ]
     },
     "execution_count": 56,
     "metadata": {},
     "output_type": "execute_result"
    }
   ],
   "source": [
    "xgb = XGBRegressor(subsample=0.8, n_jobs=-1)\n",
    "\n",
    "xgb.fit(X_train, y_train)"
   ]
  },
  {
   "cell_type": "code",
   "execution_count": 57,
   "metadata": {},
   "outputs": [
    {
     "data": {
      "text/plain": [
       "0.8528961559157758"
      ]
     },
     "execution_count": 57,
     "metadata": {},
     "output_type": "execute_result"
    }
   ],
   "source": [
    "xgb.score(X_train, y_train)"
   ]
  },
  {
   "cell_type": "code",
   "execution_count": 58,
   "metadata": {},
   "outputs": [
    {
     "data": {
      "text/plain": [
       "0.8325755483882249"
      ]
     },
     "execution_count": 58,
     "metadata": {},
     "output_type": "execute_result"
    }
   ],
   "source": [
    "xgb.score(X_test, y_test)"
   ]
  },
  {
   "cell_type": "code",
   "execution_count": 59,
   "metadata": {},
   "outputs": [
    {
     "data": {
      "text/plain": [
       "array([0.00804844, 0.00584528, 0.00460978, 0.00906458, 0.26780924,\n",
       "       0.02154225, 0.026933  , 0.44964457, 0.01263842, 0.02041378,\n",
       "       0.00749191, 0.00620742, 0.00705716, 0.0069712 , 0.01927788,\n",
       "       0.00588633, 0.00729401, 0.00596137, 0.00569865, 0.00461444,\n",
       "       0.00687665, 0.00907428, 0.00654586, 0.00282292, 0.0013899 ,\n",
       "       0.        , 0.0026491 , 0.00747005, 0.0037583 , 0.00551881,\n",
       "       0.00362561, 0.00421406, 0.00470564, 0.00405272, 0.01692042,\n",
       "       0.        , 0.00242275, 0.        , 0.00422202, 0.00454057,\n",
       "       0.00618055], dtype=float32)"
      ]
     },
     "execution_count": 59,
     "metadata": {},
     "output_type": "execute_result"
    }
   ],
   "source": [
    "xgb.feature_importances_"
   ]
  },
  {
   "cell_type": "code",
   "execution_count": 62,
   "metadata": {},
   "outputs": [],
   "source": [
    "imp = pd.DataFrame({\"importances\": rf_model.feature_importances_},index= train_cols).sort_values(by = 'importances', \n",
    "                                                                                                 ascending = False)"
   ]
  },
  {
   "cell_type": "code",
   "execution_count": 64,
   "metadata": {},
   "outputs": [
    {
     "data": {
      "text/plain": [
       "<matplotlib.axes._subplots.AxesSubplot at 0x7f92450e73d0>"
      ]
     },
     "execution_count": 64,
     "metadata": {},
     "output_type": "execute_result"
    },
    {
     "data": {
      "image/png": "[encoded data removed]",
      "text/plain": [
       "<Figure size 432x288 with 1 Axes>"
      ]
     },
     "metadata": {
      "needs_background": "light"
     },
     "output_type": "display_data"
    }
   ],
   "source": [
    "imp.plot.bar()"
   ]
  },
  {
   "cell_type": "code",
   "execution_count": null,
   "metadata": {},
   "outputs": [],
   "source": []
  }
 ],
 "metadata": {
  "kernelspec": {
   "display_name": "Python 3",
   "language": "python",
   "name": "python3"
  },
  "language_info": {
   "codemirror_mode": {
    "name": "ipython",
    "version": 3
   },
   "file_extension": ".py",
   "mimetype": "text/x-python",
   "name": "python",
   "nbconvert_exporter": "python",
   "pygments_lexer": "ipython3",
   "version": "3.7.6"
  }
 },
 "nbformat": 4,
 "nbformat_minor": 4
}
