{
 "cells": [
  {
   "cell_type": "markdown",
   "metadata": {},
   "source": [
    "# Model Creation and Tuning"
   ]
  },
  {
   "cell_type": "code",
   "execution_count": 4,
   "metadata": {},
   "outputs": [
    {
     "name": "stdout",
     "output_type": "stream",
     "text": [
      "Collecting xgboost\n",
      "  Downloading xgboost-1.5.2-py3-none-manylinux2014_x86_64.whl (173.6 MB)\n",
      "\u001b[K     |████████████████████████████████| 173.6 MB 2.2 kB/s  eta 0:00:01\n",
      "\u001b[?25hRequirement already satisfied: scipy in /home/tanmay/anaconda3/lib/python3.7/site-packages (from xgboost) (1.4.1)\n",
      "Requirement already satisfied: numpy in /home/tanmay/anaconda3/lib/python3.7/site-packages (from xgboost) (1.18.1)\n",
      "Installing collected packages: xgboost\n",
      "Successfully installed xgboost-1.5.2\n"
     ]
    }
   ],
   "source": [
    "!pip install xgboost"
   ]
  },
  {
   "cell_type": "code",
   "execution_count": 115,
   "metadata": {},
   "outputs": [
    {
     "name": "stdout",
     "output_type": "stream",
     "text": [
      "Collecting hyperopt\n",
      "  Downloading hyperopt-0.2.7-py2.py3-none-any.whl (1.6 MB)\n",
      "\u001b[K     |████████████████████████████████| 1.6 MB 3.0 MB/s eta 0:00:01\n",
      "\u001b[?25hRequirement already satisfied: numpy in /home/tanmay/anaconda3/lib/python3.7/site-packages (from hyperopt) (1.21.5)\n",
      "Collecting py4j\n",
      "  Downloading py4j-0.10.9.3-py2.py3-none-any.whl (198 kB)\n",
      "\u001b[K     |████████████████████████████████| 198 kB 12.0 MB/s eta 0:00:01\n",
      "\u001b[?25hRequirement already satisfied: scipy in /home/tanmay/anaconda3/lib/python3.7/site-packages (from hyperopt) (1.4.1)\n",
      "Requirement already satisfied: cloudpickle in /home/tanmay/anaconda3/lib/python3.7/site-packages (from hyperopt) (1.3.0)\n",
      "Requirement already satisfied: future in /home/tanmay/anaconda3/lib/python3.7/site-packages (from hyperopt) (0.18.2)\n",
      "Requirement already satisfied: tqdm in /home/tanmay/anaconda3/lib/python3.7/site-packages (from hyperopt) (4.42.1)\n",
      "Requirement already satisfied: six in /home/tanmay/anaconda3/lib/python3.7/site-packages (from hyperopt) (1.14.0)\n",
      "Requirement already satisfied: networkx>=2.2 in /home/tanmay/anaconda3/lib/python3.7/site-packages (from hyperopt) (2.4)\n",
      "Requirement already satisfied: decorator>=4.3.0 in /home/tanmay/anaconda3/lib/python3.7/site-packages (from networkx>=2.2->hyperopt) (4.4.1)\n",
      "Installing collected packages: py4j, hyperopt\n",
      "Successfully installed hyperopt-0.2.7 py4j-0.10.9.3\n"
     ]
    }
   ],
   "source": [
    "!pip install hyperopt"
   ]
  },
  {
   "cell_type": "code",
   "execution_count": null,
   "metadata": {},
   "outputs": [],
   "source": []
  },
  {
   "cell_type": "code",
   "execution_count": 1,
   "metadata": {},
   "outputs": [],
   "source": [
    "import pandas as pd\n",
    "import numpy as np\n",
    "import matplotlib.pyplot as plt\n",
    "from collections import Counter\n",
    "import sklearn\n",
    "import os \n",
    "import sys\n",
    "import json"
   ]
  },
  {
   "cell_type": "code",
   "execution_count": 2,
   "metadata": {},
   "outputs": [],
   "source": [
    "import pickle"
   ]
  },
  {
   "cell_type": "code",
   "execution_count": 3,
   "metadata": {},
   "outputs": [],
   "source": [
    "from sklearn.metrics import *"
   ]
  },
  {
   "cell_type": "code",
   "execution_count": 4,
   "metadata": {},
   "outputs": [],
   "source": [
    "from sklearn.model_selection import *\n",
    "from sklearn.metrics import *\n",
    "\n",
    "from sklearn.preprocessing import StandardScaler, LabelEncoder, OrdinalEncoder"
   ]
  },
  {
   "cell_type": "code",
   "execution_count": 5,
   "metadata": {},
   "outputs": [],
   "source": [
    "from xgboost import XGBRegressor\n",
    "from sklearn.ensemble import RandomForestRegressor\n",
    "from sklearn.linear_model import LinearRegression"
   ]
  },
  {
   "cell_type": "code",
   "execution_count": 32,
   "metadata": {},
   "outputs": [],
   "source": [
    "# import keras\n",
    "import tensorflow as tf\n",
    "\n",
    "from tensorflow import keras\n",
    "from tensorflow.keras import layers"
   ]
  },
  {
   "cell_type": "code",
   "execution_count": 120,
   "metadata": {},
   "outputs": [],
   "source": [
    "from hyperopt import STATUS_OK, Trials, fmin, hp, tpe"
   ]
  },
  {
   "cell_type": "code",
   "execution_count": 35,
   "metadata": {},
   "outputs": [],
   "source": [
    "from tensorflow.keras.optimizers import Adam"
   ]
  },
  {
   "cell_type": "markdown",
   "metadata": {},
   "source": [
    "## Data Preprocessing"
   ]
  },
  {
   "cell_type": "code",
   "execution_count": 7,
   "metadata": {},
   "outputs": [],
   "source": [
    "data = pd.read_csv('processed/training_df.csv')"
   ]
  },
  {
   "cell_type": "code",
   "execution_count": 8,
   "metadata": {},
   "outputs": [],
   "source": [
    "data.drop(columns=['Unnamed: 0'], inplace = True)"
   ]
  },
  {
   "cell_type": "code",
   "execution_count": 9,
   "metadata": {},
   "outputs": [
    {
     "data": {
      "text/plain": [
       "Index(['isAdult', 'startYear', 'runtimeMinutes', 'averageRating', 'numVotes',\n",
       "       'cast_mean', 'cast_std', 'cast_max', 'crew_mean', 'crew_std',\n",
       "       'crew_max', 'cast_exp', 'crew_exp', 'numRegions', 'Action', 'Adult',\n",
       "       'Adventure', 'Animation', 'Biography', 'Comedy', 'Crime', 'Documentary',\n",
       "       'Drama', 'Family', 'Fantasy', 'Film-Noir', 'Game-Show', 'History',\n",
       "       'Horror', 'Music', 'Musical', 'Mystery', 'News', 'Reality-TV',\n",
       "       'Romance', 'Sci-Fi', 'Short', 'Sport', 'Talk-Show', 'Thriller', 'War',\n",
       "       'Western'],\n",
       "      dtype='object')"
      ]
     },
     "execution_count": 9,
     "metadata": {},
     "output_type": "execute_result"
    }
   ],
   "source": [
    "data.columns"
   ]
  },
  {
   "cell_type": "code",
   "execution_count": 10,
   "metadata": {},
   "outputs": [],
   "source": [
    "label = 'averageRating'\n",
    "numerical_cols = ['runtimeMinutes', 'numVotes','cast_mean', \n",
    "                  'cast_std', 'cast_max', 'crew_mean', 'crew_std',\n",
    "                'crew_max', 'cast_exp', 'crew_exp', 'numRegions']\n",
    "ordinal_cols = ['startYear']"
   ]
  },
  {
   "cell_type": "code",
   "execution_count": 222,
   "metadata": {},
   "outputs": [],
   "source": [
    "def scaler(data, numerical_cols, ordinal_cols, save = False):\n",
    "    if numerical_cols:\n",
    "        ss  = StandardScaler()\n",
    "        data.loc[:, numerical_cols] = ss.fit_transform(data[numerical_cols])\n",
    "    if ordinal_cols:\n",
    "        os = OrdinalEncoder()\n",
    "        data.loc[:, ordinal_cols] = ss.fit_transform(data[ordinal_cols])\n",
    "    if save:\n",
    "        with open('models/standard_scaler', 'wb') as f:\n",
    "            pickle.dump(ss, f)\n",
    "        with open('models/ordinal_scaler', 'wb') as f:\n",
    "            pickle.dump(os, f)\n",
    "    return data"
   ]
  },
  {
   "cell_type": "code",
   "execution_count": 223,
   "metadata": {},
   "outputs": [],
   "source": [
    "data_scaled = scaler(data, numerical_cols, ordinal_cols, save=True)"
   ]
  },
  {
   "cell_type": "code",
   "execution_count": 224,
   "metadata": {},
   "outputs": [
    {
     "data": {
      "text/html": [
       "<div>\n",
       "<style scoped>\n",
       "    .dataframe tbody tr th:only-of-type {\n",
       "        vertical-align: middle;\n",
       "    }\n",
       "\n",
       "    .dataframe tbody tr th {\n",
       "        vertical-align: top;\n",
       "    }\n",
       "\n",
       "    .dataframe thead th {\n",
       "        text-align: right;\n",
       "    }\n",
       "</style>\n",
       "<table border=\"1\" class=\"dataframe\">\n",
       "  <thead>\n",
       "    <tr style=\"text-align: right;\">\n",
       "      <th></th>\n",
       "      <th>isAdult</th>\n",
       "      <th>startYear</th>\n",
       "      <th>runtimeMinutes</th>\n",
       "      <th>averageRating</th>\n",
       "      <th>numVotes</th>\n",
       "      <th>cast_mean</th>\n",
       "      <th>cast_std</th>\n",
       "      <th>cast_max</th>\n",
       "      <th>crew_mean</th>\n",
       "      <th>crew_std</th>\n",
       "      <th>...</th>\n",
       "      <th>News</th>\n",
       "      <th>Reality-TV</th>\n",
       "      <th>Romance</th>\n",
       "      <th>Sci-Fi</th>\n",
       "      <th>Short</th>\n",
       "      <th>Sport</th>\n",
       "      <th>Talk-Show</th>\n",
       "      <th>Thriller</th>\n",
       "      <th>War</th>\n",
       "      <th>Western</th>\n",
       "    </tr>\n",
       "  </thead>\n",
       "  <tbody>\n",
       "    <tr>\n",
       "      <th>0</th>\n",
       "      <td>0</td>\n",
       "      <td>-1.319724</td>\n",
       "      <td>0.068700</td>\n",
       "      <td>4.5</td>\n",
       "      <td>-0.095872</td>\n",
       "      <td>-1.947168</td>\n",
       "      <td>-0.997854</td>\n",
       "      <td>-3.015751</td>\n",
       "      <td>-0.986950</td>\n",
       "      <td>1.005087</td>\n",
       "      <td>...</td>\n",
       "      <td>0</td>\n",
       "      <td>0</td>\n",
       "      <td>0</td>\n",
       "      <td>0</td>\n",
       "      <td>0</td>\n",
       "      <td>0</td>\n",
       "      <td>0</td>\n",
       "      <td>0</td>\n",
       "      <td>0</td>\n",
       "      <td>0</td>\n",
       "    </tr>\n",
       "    <tr>\n",
       "      <th>1</th>\n",
       "      <td>0</td>\n",
       "      <td>-1.319724</td>\n",
       "      <td>-0.166455</td>\n",
       "      <td>6.0</td>\n",
       "      <td>-0.072000</td>\n",
       "      <td>-0.208452</td>\n",
       "      <td>-0.997854</td>\n",
       "      <td>-1.450210</td>\n",
       "      <td>-0.472322</td>\n",
       "      <td>-0.953246</td>\n",
       "      <td>...</td>\n",
       "      <td>0</td>\n",
       "      <td>0</td>\n",
       "      <td>0</td>\n",
       "      <td>0</td>\n",
       "      <td>0</td>\n",
       "      <td>0</td>\n",
       "      <td>0</td>\n",
       "      <td>0</td>\n",
       "      <td>0</td>\n",
       "      <td>0</td>\n",
       "    </tr>\n",
       "    <tr>\n",
       "      <th>2</th>\n",
       "      <td>0</td>\n",
       "      <td>-1.319724</td>\n",
       "      <td>-0.009685</td>\n",
       "      <td>4.6</td>\n",
       "      <td>-0.095775</td>\n",
       "      <td>-1.160606</td>\n",
       "      <td>-0.997854</td>\n",
       "      <td>-1.737226</td>\n",
       "      <td>-1.630350</td>\n",
       "      <td>-0.408200</td>\n",
       "      <td>...</td>\n",
       "      <td>0</td>\n",
       "      <td>0</td>\n",
       "      <td>0</td>\n",
       "      <td>0</td>\n",
       "      <td>0</td>\n",
       "      <td>0</td>\n",
       "      <td>0</td>\n",
       "      <td>0</td>\n",
       "      <td>0</td>\n",
       "      <td>0</td>\n",
       "    </tr>\n",
       "    <tr>\n",
       "      <th>3</th>\n",
       "      <td>0</td>\n",
       "      <td>-1.319724</td>\n",
       "      <td>0.037346</td>\n",
       "      <td>4.5</td>\n",
       "      <td>-0.095581</td>\n",
       "      <td>-1.599425</td>\n",
       "      <td>-0.997854</td>\n",
       "      <td>-2.389535</td>\n",
       "      <td>-1.668844</td>\n",
       "      <td>-0.953246</td>\n",
       "      <td>...</td>\n",
       "      <td>0</td>\n",
       "      <td>0</td>\n",
       "      <td>0</td>\n",
       "      <td>0</td>\n",
       "      <td>0</td>\n",
       "      <td>0</td>\n",
       "      <td>0</td>\n",
       "      <td>0</td>\n",
       "      <td>0</td>\n",
       "      <td>0</td>\n",
       "    </tr>\n",
       "    <tr>\n",
       "      <th>4</th>\n",
       "      <td>0</td>\n",
       "      <td>-1.319724</td>\n",
       "      <td>0.303856</td>\n",
       "      <td>3.8</td>\n",
       "      <td>-0.095549</td>\n",
       "      <td>-0.976385</td>\n",
       "      <td>1.338778</td>\n",
       "      <td>-0.771809</td>\n",
       "      <td>-0.473268</td>\n",
       "      <td>1.763490</td>\n",
       "      <td>...</td>\n",
       "      <td>0</td>\n",
       "      <td>0</td>\n",
       "      <td>0</td>\n",
       "      <td>0</td>\n",
       "      <td>0</td>\n",
       "      <td>0</td>\n",
       "      <td>0</td>\n",
       "      <td>0</td>\n",
       "      <td>0</td>\n",
       "      <td>0</td>\n",
       "    </tr>\n",
       "    <tr>\n",
       "      <th>...</th>\n",
       "      <td>...</td>\n",
       "      <td>...</td>\n",
       "      <td>...</td>\n",
       "      <td>...</td>\n",
       "      <td>...</td>\n",
       "      <td>...</td>\n",
       "      <td>...</td>\n",
       "      <td>...</td>\n",
       "      <td>...</td>\n",
       "      <td>...</td>\n",
       "      <td>...</td>\n",
       "      <td>...</td>\n",
       "      <td>...</td>\n",
       "      <td>...</td>\n",
       "      <td>...</td>\n",
       "      <td>...</td>\n",
       "      <td>...</td>\n",
       "      <td>...</td>\n",
       "      <td>...</td>\n",
       "      <td>...</td>\n",
       "      <td>...</td>\n",
       "    </tr>\n",
       "    <tr>\n",
       "      <th>323829</th>\n",
       "      <td>0</td>\n",
       "      <td>1.161934</td>\n",
       "      <td>0.005992</td>\n",
       "      <td>6.4</td>\n",
       "      <td>0.047136</td>\n",
       "      <td>-0.035898</td>\n",
       "      <td>-0.997854</td>\n",
       "      <td>0.193608</td>\n",
       "      <td>0.164157</td>\n",
       "      <td>-0.953246</td>\n",
       "      <td>...</td>\n",
       "      <td>0</td>\n",
       "      <td>0</td>\n",
       "      <td>0</td>\n",
       "      <td>0</td>\n",
       "      <td>0</td>\n",
       "      <td>0</td>\n",
       "      <td>0</td>\n",
       "      <td>0</td>\n",
       "      <td>0</td>\n",
       "      <td>0</td>\n",
       "    </tr>\n",
       "    <tr>\n",
       "      <th>323830</th>\n",
       "      <td>0</td>\n",
       "      <td>1.112301</td>\n",
       "      <td>0.013831</td>\n",
       "      <td>3.8</td>\n",
       "      <td>-0.095872</td>\n",
       "      <td>-1.897582</td>\n",
       "      <td>-0.997854</td>\n",
       "      <td>-2.406930</td>\n",
       "      <td>-1.755456</td>\n",
       "      <td>1.167940</td>\n",
       "      <td>...</td>\n",
       "      <td>0</td>\n",
       "      <td>0</td>\n",
       "      <td>0</td>\n",
       "      <td>0</td>\n",
       "      <td>0</td>\n",
       "      <td>0</td>\n",
       "      <td>0</td>\n",
       "      <td>0</td>\n",
       "      <td>1</td>\n",
       "      <td>0</td>\n",
       "    </tr>\n",
       "    <tr>\n",
       "      <th>323831</th>\n",
       "      <td>0</td>\n",
       "      <td>1.112301</td>\n",
       "      <td>-0.636766</td>\n",
       "      <td>9.3</td>\n",
       "      <td>-0.095775</td>\n",
       "      <td>3.616722</td>\n",
       "      <td>-0.997854</td>\n",
       "      <td>1.993980</td>\n",
       "      <td>3.566343</td>\n",
       "      <td>-0.953246</td>\n",
       "      <td>...</td>\n",
       "      <td>0</td>\n",
       "      <td>0</td>\n",
       "      <td>0</td>\n",
       "      <td>0</td>\n",
       "      <td>0</td>\n",
       "      <td>0</td>\n",
       "      <td>0</td>\n",
       "      <td>0</td>\n",
       "      <td>0</td>\n",
       "      <td>0</td>\n",
       "    </tr>\n",
       "    <tr>\n",
       "      <th>323832</th>\n",
       "      <td>0</td>\n",
       "      <td>1.112301</td>\n",
       "      <td>0.248986</td>\n",
       "      <td>8.3</td>\n",
       "      <td>-0.096130</td>\n",
       "      <td>1.261004</td>\n",
       "      <td>-0.997854</td>\n",
       "      <td>0.950286</td>\n",
       "      <td>1.006749</td>\n",
       "      <td>-0.953246</td>\n",
       "      <td>...</td>\n",
       "      <td>0</td>\n",
       "      <td>0</td>\n",
       "      <td>0</td>\n",
       "      <td>0</td>\n",
       "      <td>0</td>\n",
       "      <td>0</td>\n",
       "      <td>0</td>\n",
       "      <td>0</td>\n",
       "      <td>0</td>\n",
       "      <td>0</td>\n",
       "    </tr>\n",
       "    <tr>\n",
       "      <th>323833</th>\n",
       "      <td>0</td>\n",
       "      <td>1.013035</td>\n",
       "      <td>0.194117</td>\n",
       "      <td>8.4</td>\n",
       "      <td>-0.096162</td>\n",
       "      <td>1.859653</td>\n",
       "      <td>-0.997854</td>\n",
       "      <td>1.211210</td>\n",
       "      <td>1.914308</td>\n",
       "      <td>-0.953246</td>\n",
       "      <td>...</td>\n",
       "      <td>0</td>\n",
       "      <td>0</td>\n",
       "      <td>1</td>\n",
       "      <td>0</td>\n",
       "      <td>0</td>\n",
       "      <td>0</td>\n",
       "      <td>0</td>\n",
       "      <td>0</td>\n",
       "      <td>0</td>\n",
       "      <td>0</td>\n",
       "    </tr>\n",
       "  </tbody>\n",
       "</table>\n",
       "<p>323834 rows × 42 columns</p>\n",
       "</div>"
      ],
      "text/plain": [
       "        isAdult  startYear  runtimeMinutes  averageRating  numVotes  \\\n",
       "0             0  -1.319724        0.068700            4.5 -0.095872   \n",
       "1             0  -1.319724       -0.166455            6.0 -0.072000   \n",
       "2             0  -1.319724       -0.009685            4.6 -0.095775   \n",
       "3             0  -1.319724        0.037346            4.5 -0.095581   \n",
       "4             0  -1.319724        0.303856            3.8 -0.095549   \n",
       "...         ...        ...             ...            ...       ...   \n",
       "323829        0   1.161934        0.005992            6.4  0.047136   \n",
       "323830        0   1.112301        0.013831            3.8 -0.095872   \n",
       "323831        0   1.112301       -0.636766            9.3 -0.095775   \n",
       "323832        0   1.112301        0.248986            8.3 -0.096130   \n",
       "323833        0   1.013035        0.194117            8.4 -0.096162   \n",
       "\n",
       "        cast_mean  cast_std  cast_max  crew_mean  crew_std  ...  News  \\\n",
       "0       -1.947168 -0.997854 -3.015751  -0.986950  1.005087  ...     0   \n",
       "1       -0.208452 -0.997854 -1.450210  -0.472322 -0.953246  ...     0   \n",
       "2       -1.160606 -0.997854 -1.737226  -1.630350 -0.408200  ...     0   \n",
       "3       -1.599425 -0.997854 -2.389535  -1.668844 -0.953246  ...     0   \n",
       "4       -0.976385  1.338778 -0.771809  -0.473268  1.763490  ...     0   \n",
       "...           ...       ...       ...        ...       ...  ...   ...   \n",
       "323829  -0.035898 -0.997854  0.193608   0.164157 -0.953246  ...     0   \n",
       "323830  -1.897582 -0.997854 -2.406930  -1.755456  1.167940  ...     0   \n",
       "323831   3.616722 -0.997854  1.993980   3.566343 -0.953246  ...     0   \n",
       "323832   1.261004 -0.997854  0.950286   1.006749 -0.953246  ...     0   \n",
       "323833   1.859653 -0.997854  1.211210   1.914308 -0.953246  ...     0   \n",
       "\n",
       "        Reality-TV  Romance  Sci-Fi  Short  Sport  Talk-Show  Thriller  War  \\\n",
       "0                0        0       0      0      0          0         0    0   \n",
       "1                0        0       0      0      0          0         0    0   \n",
       "2                0        0       0      0      0          0         0    0   \n",
       "3                0        0       0      0      0          0         0    0   \n",
       "4                0        0       0      0      0          0         0    0   \n",
       "...            ...      ...     ...    ...    ...        ...       ...  ...   \n",
       "323829           0        0       0      0      0          0         0    0   \n",
       "323830           0        0       0      0      0          0         0    1   \n",
       "323831           0        0       0      0      0          0         0    0   \n",
       "323832           0        0       0      0      0          0         0    0   \n",
       "323833           0        1       0      0      0          0         0    0   \n",
       "\n",
       "        Western  \n",
       "0             0  \n",
       "1             0  \n",
       "2             0  \n",
       "3             0  \n",
       "4             0  \n",
       "...         ...  \n",
       "323829        0  \n",
       "323830        0  \n",
       "323831        0  \n",
       "323832        0  \n",
       "323833        0  \n",
       "\n",
       "[323834 rows x 42 columns]"
      ]
     },
     "execution_count": 224,
     "metadata": {},
     "output_type": "execute_result"
    }
   ],
   "source": [
    "data_scaled"
   ]
  },
  {
   "cell_type": "code",
   "execution_count": 14,
   "metadata": {},
   "outputs": [],
   "source": [
    "X = data_scaled[['isAdult', 'startYear', 'runtimeMinutes', 'numVotes',\n",
    "       'cast_mean', 'cast_std', 'cast_max', 'crew_mean', 'crew_std',\n",
    "       'crew_max', 'cast_exp', 'crew_exp', 'numRegions', 'Action', 'Adult',\n",
    "       'Adventure', 'Animation', 'Biography', 'Comedy', 'Crime', 'Documentary',\n",
    "       'Drama', 'Family', 'Fantasy', 'Film-Noir', 'Game-Show', 'History',\n",
    "       'Horror', 'Music', 'Musical', 'Mystery', 'News', 'Reality-TV',\n",
    "       'Romance', 'Sci-Fi', 'Short', 'Sport', 'Talk-Show', 'Thriller', 'War',\n",
    "       'Western']].values"
   ]
  },
  {
   "cell_type": "code",
   "execution_count": null,
   "metadata": {},
   "outputs": [],
   "source": [
    "train_cols = ['isAdult', 'startYear', 'runtimeMinutes', 'numVotes',\n",
    "       'cast_mean', 'cast_std', 'cast_max', 'crew_mean', 'crew_std',\n",
    "       'crew_max', 'cast_exp', 'crew_exp', 'numRegions', 'Action', 'Adult',\n",
    "       'Adventure', 'Animation', 'Biography', 'Comedy', 'Crime', 'Documentary',\n",
    "       'Drama', 'Family', 'Fantasy', 'Film-Noir', 'Game-Show', 'History',\n",
    "       'Horror', 'Music', 'Musical', 'Mystery', 'News', 'Reality-TV',\n",
    "       'Romance', 'Sci-Fi', 'Short', 'Sport', 'Talk-Show', 'Thriller', 'War',\n",
    "       'Western']"
   ]
  },
  {
   "cell_type": "code",
   "execution_count": 15,
   "metadata": {},
   "outputs": [],
   "source": [
    "y = data[label]"
   ]
  },
  {
   "cell_type": "code",
   "execution_count": 16,
   "metadata": {},
   "outputs": [
    {
     "data": {
      "text/plain": [
       "((323834, 41), (323834,))"
      ]
     },
     "execution_count": 16,
     "metadata": {},
     "output_type": "execute_result"
    }
   ],
   "source": [
    "X.shape, y.shape"
   ]
  },
  {
   "cell_type": "code",
   "execution_count": 17,
   "metadata": {},
   "outputs": [],
   "source": [
    "X_train, X_test, y_train, y_test = train_test_split(X, y, train_size = 0.7, random_state = 42)"
   ]
  },
  {
   "cell_type": "code",
   "execution_count": 18,
   "metadata": {},
   "outputs": [
    {
     "name": "stdout",
     "output_type": "stream",
     "text": [
      "Xtrain shape: (226683, 41)\n",
      "Xtrain shape: (97151, 41)\n",
      "Xtrain shape: (226683,)\n",
      "Xtrain shape: (97151,)\n"
     ]
    }
   ],
   "source": [
    "print(f\"Xtrain shape: {X_train.shape}\")\n",
    "print(f\"Xtrain shape: {X_test.shape}\")\n",
    "print(f\"Xtrain shape: {y_train.shape}\")\n",
    "print(f\"Xtrain shape: {y_test.shape}\")"
   ]
  },
  {
   "cell_type": "markdown",
   "metadata": {},
   "source": [
    "## Baseline Linear Model"
   ]
  },
  {
   "cell_type": "code",
   "execution_count": 19,
   "metadata": {},
   "outputs": [],
   "source": [
    "lr = LinearRegression(n_jobs=-1)"
   ]
  },
  {
   "cell_type": "code",
   "execution_count": 20,
   "metadata": {},
   "outputs": [
    {
     "data": {
      "text/plain": [
       "LinearRegression(copy_X=True, fit_intercept=True, n_jobs=-1, normalize=False)"
      ]
     },
     "execution_count": 20,
     "metadata": {},
     "output_type": "execute_result"
    }
   ],
   "source": [
    "lr.fit(X_train, y_train)"
   ]
  },
  {
   "cell_type": "code",
   "execution_count": 21,
   "metadata": {},
   "outputs": [
    {
     "data": {
      "text/plain": [
       "0.7430537794248169"
      ]
     },
     "execution_count": 21,
     "metadata": {},
     "output_type": "execute_result"
    }
   ],
   "source": [
    "\n",
    "lr.score(X_train, y_train)"
   ]
  },
  {
   "cell_type": "code",
   "execution_count": 22,
   "metadata": {},
   "outputs": [
    {
     "data": {
      "text/plain": [
       "0.7456695128983963"
      ]
     },
     "execution_count": 22,
     "metadata": {},
     "output_type": "execute_result"
    }
   ],
   "source": [
    "lr.score(X_test, y_test)"
   ]
  },
  {
   "cell_type": "markdown",
   "metadata": {},
   "source": [
    "## Baseline Random Forest"
   ]
  },
  {
   "cell_type": "code",
   "execution_count": 36,
   "metadata": {},
   "outputs": [
    {
     "data": {
      "text/plain": [
       "RandomForestRegressor(bootstrap=True, ccp_alpha=0.0, criterion='mse',\n",
       "                      max_depth=None, max_features='auto', max_leaf_nodes=None,\n",
       "                      max_samples=None, min_impurity_decrease=0.0,\n",
       "                      min_impurity_split=None, min_samples_leaf=1,\n",
       "                      min_samples_split=2, min_weight_fraction_leaf=0.0,\n",
       "                      n_estimators=100, n_jobs=-1, oob_score=False,\n",
       "                      random_state=None, verbose=0, warm_start=False)"
      ]
     },
     "execution_count": 36,
     "metadata": {},
     "output_type": "execute_result"
    }
   ],
   "source": [
    "rf_model = RandomForestRegressor(n_jobs=-1)\n",
    "rf_model.fit(X_train, y_train)"
   ]
  },
  {
   "cell_type": "code",
   "execution_count": 37,
   "metadata": {},
   "outputs": [
    {
     "data": {
      "text/plain": [
       "0.9759075492103017"
      ]
     },
     "execution_count": 37,
     "metadata": {},
     "output_type": "execute_result"
    }
   ],
   "source": [
    "rf_model.score(X_train, y_train)"
   ]
  },
  {
   "cell_type": "code",
   "execution_count": 38,
   "metadata": {},
   "outputs": [
    {
     "data": {
      "text/plain": [
       "0.830430301030396"
      ]
     },
     "execution_count": 38,
     "metadata": {},
     "output_type": "execute_result"
    }
   ],
   "source": [
    "rf_model.score(X_test, y_test)"
   ]
  },
  {
   "cell_type": "markdown",
   "metadata": {},
   "source": [
    "## Baseline XGB model\n"
   ]
  },
  {
   "cell_type": "code",
   "execution_count": 23,
   "metadata": {},
   "outputs": [
    {
     "data": {
      "text/plain": [
       "XGBRegressor(base_score=0.5, booster='gbtree', colsample_bylevel=1,\n",
       "             colsample_bynode=1, colsample_bytree=1, enable_categorical=False,\n",
       "             gamma=0, gpu_id=-1, importance_type=None,\n",
       "             interaction_constraints='', learning_rate=0.300000012,\n",
       "             max_delta_step=0, max_depth=6, min_child_weight=1, missing=nan,\n",
       "             monotone_constraints='()', n_estimators=100, n_jobs=-1,\n",
       "             num_parallel_tree=1, objective='reg:squarederror',\n",
       "             predictor='auto', random_state=0, reg_alpha=0, reg_lambda=1,\n",
       "             scale_pos_weight=1, subsample=0.8, tree_method='exact',\n",
       "             validate_parameters=1, verbosity=None)"
      ]
     },
     "execution_count": 23,
     "metadata": {},
     "output_type": "execute_result"
    }
   ],
   "source": [
    "xgb = XGBRegressor(subsample=0.8, n_jobs=-1, )\n",
    "\n",
    "xgb.fit(X_train, y_train)"
   ]
  },
  {
   "cell_type": "code",
   "execution_count": 24,
   "metadata": {},
   "outputs": [
    {
     "data": {
      "text/plain": [
       "0.8528961559157758"
      ]
     },
     "execution_count": 24,
     "metadata": {},
     "output_type": "execute_result"
    }
   ],
   "source": [
    "xgb.score(X_train, y_train)"
   ]
  },
  {
   "cell_type": "code",
   "execution_count": 25,
   "metadata": {},
   "outputs": [
    {
     "data": {
      "text/plain": [
       "0.8325755483882249"
      ]
     },
     "execution_count": 25,
     "metadata": {},
     "output_type": "execute_result"
    }
   ],
   "source": [
    "xgb.score(X_test, y_test)"
   ]
  },
  {
   "cell_type": "markdown",
   "metadata": {},
   "source": [
    "## A Simple Neural Net"
   ]
  },
  {
   "cell_type": "code",
   "execution_count": 107,
   "metadata": {},
   "outputs": [],
   "source": [
    "def create_model(input_size):\n",
    "    model = keras.Sequential()\n",
    "    model.add(layers.Input(shape = (input_size, )))\n",
    "    model.add(layers.Dense(32, activation = 'relu'))\n",
    "\n",
    "    model.add(layers.Dense(64, activation = 'relu'))\n",
    "    model.add(layers.Dense(128, activation = 'relu'))\n",
    "    model.add(layers.Dense(64, activation = 'relu'))\n",
    "\n",
    "    model.add(layers.Dense(32, activation = 'relu'))\n",
    "    model.add(layers.Dense(1, activation = 'relu'))\n",
    "    \n",
    "    opt = Adam(lr=1e-4, decay=1e-3 / 200)\n",
    "    model.compile(loss = 'mse', optimizer=opt)\n",
    "    \n",
    "    return model"
   ]
  },
  {
   "cell_type": "code",
   "execution_count": 108,
   "metadata": {},
   "outputs": [
    {
     "name": "stderr",
     "output_type": "stream",
     "text": [
      "/home/tanmay/anaconda3/lib/python3.7/site-packages/keras/optimizer_v2/adam.py:105: UserWarning: The `lr` argument is deprecated, use `learning_rate` instead.\n",
      "  super(Adam, self).__init__(name, **kwargs)\n"
     ]
    }
   ],
   "source": [
    "model = create_model(X.shape[1])"
   ]
  },
  {
   "cell_type": "code",
   "execution_count": 109,
   "metadata": {},
   "outputs": [
    {
     "name": "stdout",
     "output_type": "stream",
     "text": [
      "Model: \"sequential_8\"\n",
      "_________________________________________________________________\n",
      " Layer (type)                Output Shape              Param #   \n",
      "=================================================================\n",
      " dense_39 (Dense)            (None, 32)                1344      \n",
      "                                                                 \n",
      " dense_40 (Dense)            (None, 64)                2112      \n",
      "                                                                 \n",
      " dense_41 (Dense)            (None, 128)               8320      \n",
      "                                                                 \n",
      " dense_42 (Dense)            (None, 64)                8256      \n",
      "                                                                 \n",
      " dense_43 (Dense)            (None, 32)                2080      \n",
      "                                                                 \n",
      " dense_44 (Dense)            (None, 1)                 33        \n",
      "                                                                 \n",
      "=================================================================\n",
      "Total params: 22,145\n",
      "Trainable params: 22,145\n",
      "Non-trainable params: 0\n",
      "_________________________________________________________________\n"
     ]
    }
   ],
   "source": [
    "model.summary()"
   ]
  },
  {
   "cell_type": "code",
   "execution_count": 110,
   "metadata": {
    "scrolled": true
   },
   "outputs": [
    {
     "name": "stdout",
     "output_type": "stream",
     "text": [
      "Epoch 1/40\n",
      "443/443 [==============================] - 2s 3ms/step - loss: 13.0978 - val_loss: 2.2463\n",
      "Epoch 2/40\n",
      "443/443 [==============================] - 1s 3ms/step - loss: 2.2184 - val_loss: 1.1900\n",
      "Epoch 3/40\n",
      "443/443 [==============================] - 1s 3ms/step - loss: 1.1761 - val_loss: 0.7598\n",
      "Epoch 4/40\n",
      "443/443 [==============================] - 1s 3ms/step - loss: 0.7025 - val_loss: 0.5417\n",
      "Epoch 5/40\n",
      "443/443 [==============================] - 1s 3ms/step - loss: 0.5142 - val_loss: 0.4593\n",
      "Epoch 6/40\n",
      "443/443 [==============================] - 1s 3ms/step - loss: 0.4439 - val_loss: 0.4243\n",
      "Epoch 7/40\n",
      "443/443 [==============================] - 1s 3ms/step - loss: 0.4158 - val_loss: 0.4048\n",
      "Epoch 8/40\n",
      "443/443 [==============================] - 1s 3ms/step - loss: 0.3988 - val_loss: 0.3913\n",
      "Epoch 9/40\n",
      "443/443 [==============================] - 1s 3ms/step - loss: 0.3873 - val_loss: 0.3820\n",
      "Epoch 10/40\n",
      "443/443 [==============================] - 1s 3ms/step - loss: 0.3790 - val_loss: 0.3761\n",
      "Epoch 11/40\n",
      "443/443 [==============================] - 1s 3ms/step - loss: 0.3723 - val_loss: 0.3691\n",
      "Epoch 12/40\n",
      "443/443 [==============================] - 1s 3ms/step - loss: 0.3670 - val_loss: 0.3644\n",
      "Epoch 13/40\n",
      "443/443 [==============================] - 1s 3ms/step - loss: 0.3627 - val_loss: 0.3607\n",
      "Epoch 14/40\n",
      "443/443 [==============================] - 1s 3ms/step - loss: 0.3590 - val_loss: 0.3573\n",
      "Epoch 15/40\n",
      "443/443 [==============================] - 1s 3ms/step - loss: 0.3563 - val_loss: 0.3552\n",
      "Epoch 16/40\n",
      "443/443 [==============================] - 1s 3ms/step - loss: 0.3534 - val_loss: 0.3526\n",
      "Epoch 17/40\n",
      "443/443 [==============================] - 1s 3ms/step - loss: 0.3538 - val_loss: 0.3614\n",
      "Epoch 18/40\n",
      "443/443 [==============================] - 1s 3ms/step - loss: 0.3500 - val_loss: 0.3490\n",
      "Epoch 19/40\n",
      "443/443 [==============================] - 1s 3ms/step - loss: 0.3470 - val_loss: 0.3470\n",
      "Epoch 20/40\n",
      "443/443 [==============================] - 1s 3ms/step - loss: 0.3451 - val_loss: 0.3457\n",
      "Epoch 21/40\n",
      "443/443 [==============================] - 1s 3ms/step - loss: 0.3429 - val_loss: 0.3434\n",
      "Epoch 22/40\n",
      "443/443 [==============================] - 1s 3ms/step - loss: 0.3412 - val_loss: 0.3434\n",
      "Epoch 23/40\n",
      "443/443 [==============================] - 1s 3ms/step - loss: 0.3399 - val_loss: 0.3434\n",
      "Epoch 24/40\n",
      "443/443 [==============================] - 1s 3ms/step - loss: 0.3390 - val_loss: 0.3398\n",
      "Epoch 25/40\n",
      "443/443 [==============================] - 1s 3ms/step - loss: 0.3372 - val_loss: 0.3382\n",
      "Epoch 26/40\n",
      "443/443 [==============================] - 1s 3ms/step - loss: 0.3356 - val_loss: 0.3379\n",
      "Epoch 27/40\n",
      "443/443 [==============================] - 1s 3ms/step - loss: 0.3345 - val_loss: 0.3368\n",
      "Epoch 28/40\n",
      "443/443 [==============================] - 1s 3ms/step - loss: 0.3341 - val_loss: 0.3362\n",
      "Epoch 29/40\n",
      "443/443 [==============================] - 1s 3ms/step - loss: 0.3332 - val_loss: 0.3359\n",
      "Epoch 30/40\n",
      "443/443 [==============================] - 1s 3ms/step - loss: 0.3313 - val_loss: 0.3340\n",
      "Epoch 31/40\n",
      "443/443 [==============================] - 1s 3ms/step - loss: 0.3306 - val_loss: 0.3508\n",
      "Epoch 32/40\n",
      "443/443 [==============================] - 1s 3ms/step - loss: 0.3304 - val_loss: 0.3330\n",
      "Epoch 33/40\n",
      "443/443 [==============================] - 1s 3ms/step - loss: 0.3291 - val_loss: 0.3354\n",
      "Epoch 34/40\n",
      "443/443 [==============================] - 1s 3ms/step - loss: 0.3285 - val_loss: 0.3333\n",
      "Epoch 35/40\n",
      "443/443 [==============================] - 1s 3ms/step - loss: 0.3272 - val_loss: 0.3333\n",
      "Epoch 36/40\n",
      "443/443 [==============================] - 1s 3ms/step - loss: 0.3288 - val_loss: 0.3334\n",
      "Epoch 37/40\n",
      "443/443 [==============================] - 1s 3ms/step - loss: 0.3254 - val_loss: 0.3302\n",
      "Epoch 38/40\n",
      "443/443 [==============================] - 1s 3ms/step - loss: 0.3277 - val_loss: 0.3293\n",
      "Epoch 39/40\n",
      "443/443 [==============================] - 1s 3ms/step - loss: 0.3245 - val_loss: 0.3293\n",
      "Epoch 40/40\n",
      "443/443 [==============================] - 1s 3ms/step - loss: 0.3237 - val_loss: 0.3278\n"
     ]
    }
   ],
   "source": [
    "history = model.fit(X_train, y_train, \n",
    "          validation_data=(X_test, y_test), \n",
    "          batch_size = 512, workers = -1, epochs = 40, verbose = 1)"
   ]
  },
  {
   "cell_type": "code",
   "execution_count": 111,
   "metadata": {},
   "outputs": [],
   "source": [
    "y_train_pred = model.predict(X_train)"
   ]
  },
  {
   "cell_type": "code",
   "execution_count": 112,
   "metadata": {},
   "outputs": [],
   "source": [
    "y_test_pred = model.predict(X_test)"
   ]
  },
  {
   "cell_type": "code",
   "execution_count": 113,
   "metadata": {},
   "outputs": [
    {
     "data": {
      "text/plain": [
       "0.7860020004576371"
      ]
     },
     "execution_count": 113,
     "metadata": {},
     "output_type": "execute_result"
    }
   ],
   "source": [
    "r2_score(y_train_pred, y_train)"
   ]
  },
  {
   "cell_type": "code",
   "execution_count": 114,
   "metadata": {},
   "outputs": [
    {
     "data": {
      "text/plain": [
       "0.7840550603733157"
      ]
     },
     "execution_count": 114,
     "metadata": {},
     "output_type": "execute_result"
    }
   ],
   "source": [
    "r2_score(y_test_pred, y_test)"
   ]
  },
  {
   "cell_type": "markdown",
   "metadata": {},
   "source": [
    "## Hyperparamerter tuning"
   ]
  },
  {
   "cell_type": "markdown",
   "metadata": {},
   "source": [
    "To get the best performance out of the mode, I used hyperopt to find an optimal set of hyperparameters for our XGBoost model"
   ]
  },
  {
   "cell_type": "code",
   "execution_count": 207,
   "metadata": {},
   "outputs": [],
   "source": [
    "# XGB parameters\n",
    "xgb_reg_params = {\n",
    "    'learning_rate':    hp.quniform('learning_rate', 0.05, 0.31, 0.05),\n",
    "    'max_depth':        hp.choice('max_depth',        np.arange(5, 16, 1, dtype=int)),\n",
    "    'min_child_weight': hp.choice('min_child_weight', np.arange(1, 8, 1, dtype=int)),\n",
    "    'colsample_bytree': hp.quniform('colsample_bytree', 0.3, 0.8, 0.1),\n",
    "    'subsample':        hp.uniform('subsample', 0.8, 1),\n",
    "    'n_estimators':     100,\n",
    "     'n_jobs': -1\n",
    "}\n",
    "xgb_fit_params = {\n",
    "    'eval_metric': 'rmse',\n",
    "    'early_stopping_rounds': 10,\n",
    "    'verbose': False\n",
    "}\n",
    "xgb_para = dict()\n",
    "xgb_para['reg_params'] = xgb_reg_params\n",
    "xgb_para['fit_params'] = xgb_fit_params\n",
    "xgb_para['loss_func' ] = lambda y, pred: np.sqrt(mean_squared_error(y, pred))"
   ]
  },
  {
   "cell_type": "code",
   "execution_count": 208,
   "metadata": {},
   "outputs": [
    {
     "data": {
      "text/plain": [
       "{'reg_params': {'learning_rate': <hyperopt.pyll.base.Apply at 0x7f23f0156e10>,\n",
       "  'max_depth': <hyperopt.pyll.base.Apply at 0x7f23f01564d0>,\n",
       "  'min_child_weight': <hyperopt.pyll.base.Apply at 0x7f23f01568d0>,\n",
       "  'colsample_bytree': <hyperopt.pyll.base.Apply at 0x7f23f01664d0>,\n",
       "  'subsample': <hyperopt.pyll.base.Apply at 0x7f23f013cc50>,\n",
       "  'n_estimators': 100,\n",
       "  'n_jobs': -1},\n",
       " 'fit_params': {'eval_metric': 'rmse',\n",
       "  'early_stopping_rounds': 10,\n",
       "  'verbose': False},\n",
       " 'loss_func': <function __main__.<lambda>(y, pred)>}"
      ]
     },
     "execution_count": 208,
     "metadata": {},
     "output_type": "execute_result"
    }
   ],
   "source": [
    "xgb_para"
   ]
  },
  {
   "cell_type": "code",
   "execution_count": 213,
   "metadata": {},
   "outputs": [],
   "source": [
    "def objective(xgb_para):\n",
    "#     print(xgb_para)\n",
    "    reg=XGBRegressor( **xgb_para['reg_params'])\n",
    "    \n",
    "    evaluation = [(X_train, y_train), ( X_test, y_test)]\n",
    "    \n",
    "    reg.fit(X_train, y_train,\n",
    "            eval_set=evaluation,\n",
    "            eval_metric = xgb_para['fit_params']['eval_metric'],\n",
    "            early_stopping_rounds=xgb_para['fit_params']['early_stopping_rounds'],\n",
    "            verbose=False)\n",
    "    \n",
    "\n",
    "    pred = reg.predict(X_test)\n",
    "#     r2 = r2_score(y_test, pred)\n",
    "#     print (\"SCORE:\", r2)\n",
    "    loss = xgb_para['loss_func'](y_test, pred)\n",
    "    return {'loss': loss, 'status': STATUS_OK }"
   ]
  },
  {
   "cell_type": "code",
   "execution_count": 214,
   "metadata": {},
   "outputs": [],
   "source": [
    "trials = Trials()"
   ]
  },
  {
   "cell_type": "code",
   "execution_count": 215,
   "metadata": {
    "scrolled": true
   },
   "outputs": [
    {
     "name": "stdout",
     "output_type": "stream",
     "text": [
      "100%|██████████| 100/100 [42:16<00:00, 25.36s/trial, best loss: 0.5438842633827597]\n"
     ]
    }
   ],
   "source": [
    "best_hyperparams = fmin(fn = objective,\n",
    "                        space = xgb_para,\n",
    "                        algo = tpe.suggest,\n",
    "                        max_evals = 100,\n",
    "                        trials = trials)"
   ]
  },
  {
   "cell_type": "code",
   "execution_count": 216,
   "metadata": {},
   "outputs": [
    {
     "data": {
      "text/plain": [
       "{'colsample_bytree': 0.8,\n",
       " 'learning_rate': 0.1,\n",
       " 'max_depth': 5,\n",
       " 'min_child_weight': 4,\n",
       " 'subsample': 0.8867322779507704}"
      ]
     },
     "execution_count": 216,
     "metadata": {},
     "output_type": "execute_result"
    }
   ],
   "source": [
    "best_hyperparams"
   ]
  },
  {
   "cell_type": "code",
   "execution_count": 217,
   "metadata": {
    "scrolled": true
   },
   "outputs": [
    {
     "name": "stdout",
     "output_type": "stream",
     "text": [
      "[0]\tvalidation_0-rmse:5.29543\tvalidation_1-rmse:5.29555\n",
      "[1]\tvalidation_0-rmse:4.77486\tvalidation_1-rmse:4.77502\n",
      "[2]\tvalidation_0-rmse:4.30721\tvalidation_1-rmse:4.30747\n",
      "[3]\tvalidation_0-rmse:3.88716\tvalidation_1-rmse:3.88744\n",
      "[4]\tvalidation_0-rmse:3.50984\tvalidation_1-rmse:3.51017\n",
      "[5]\tvalidation_0-rmse:3.17140\tvalidation_1-rmse:3.17173\n",
      "[6]\tvalidation_0-rmse:2.86859\tvalidation_1-rmse:2.86896\n",
      "[7]\tvalidation_0-rmse:2.59785\tvalidation_1-rmse:2.59822\n",
      "[8]\tvalidation_0-rmse:2.35581\tvalidation_1-rmse:2.35631\n",
      "[9]\tvalidation_0-rmse:2.13807\tvalidation_1-rmse:2.13859\n",
      "[10]\tvalidation_0-rmse:1.94433\tvalidation_1-rmse:1.94480\n",
      "[11]\tvalidation_0-rmse:1.77138\tvalidation_1-rmse:1.77192\n",
      "[12]\tvalidation_0-rmse:1.61748\tvalidation_1-rmse:1.61807\n",
      "[13]\tvalidation_0-rmse:1.48088\tvalidation_1-rmse:1.48148\n",
      "[14]\tvalidation_0-rmse:1.36024\tvalidation_1-rmse:1.36100\n",
      "[15]\tvalidation_0-rmse:1.25394\tvalidation_1-rmse:1.25475\n",
      "[16]\tvalidation_0-rmse:1.16114\tvalidation_1-rmse:1.16208\n",
      "[17]\tvalidation_0-rmse:1.07929\tvalidation_1-rmse:1.08033\n",
      "[18]\tvalidation_0-rmse:1.00814\tvalidation_1-rmse:1.00928\n",
      "[19]\tvalidation_0-rmse:0.94597\tvalidation_1-rmse:0.94723\n",
      "[20]\tvalidation_0-rmse:0.89236\tvalidation_1-rmse:0.89364\n",
      "[21]\tvalidation_0-rmse:0.84605\tvalidation_1-rmse:0.84746\n",
      "[22]\tvalidation_0-rmse:0.80644\tvalidation_1-rmse:0.80799\n",
      "[23]\tvalidation_0-rmse:0.77290\tvalidation_1-rmse:0.77450\n",
      "[24]\tvalidation_0-rmse:0.74435\tvalidation_1-rmse:0.74614\n",
      "[25]\tvalidation_0-rmse:0.71962\tvalidation_1-rmse:0.72156\n",
      "[26]\tvalidation_0-rmse:0.69896\tvalidation_1-rmse:0.70114\n",
      "[27]\tvalidation_0-rmse:0.68168\tvalidation_1-rmse:0.68402\n",
      "[28]\tvalidation_0-rmse:0.66679\tvalidation_1-rmse:0.66926\n",
      "[29]\tvalidation_0-rmse:0.65442\tvalidation_1-rmse:0.65700\n",
      "[30]\tvalidation_0-rmse:0.64405\tvalidation_1-rmse:0.64666\n",
      "[31]\tvalidation_0-rmse:0.63563\tvalidation_1-rmse:0.63840\n",
      "[32]\tvalidation_0-rmse:0.62825\tvalidation_1-rmse:0.63119\n",
      "[33]\tvalidation_0-rmse:0.62242\tvalidation_1-rmse:0.62545\n",
      "[34]\tvalidation_0-rmse:0.61732\tvalidation_1-rmse:0.62049\n",
      "[35]\tvalidation_0-rmse:0.61298\tvalidation_1-rmse:0.61621\n",
      "[36]\tvalidation_0-rmse:0.60907\tvalidation_1-rmse:0.61245\n",
      "[37]\tvalidation_0-rmse:0.60551\tvalidation_1-rmse:0.60901\n",
      "[38]\tvalidation_0-rmse:0.60274\tvalidation_1-rmse:0.60632\n",
      "[39]\tvalidation_0-rmse:0.60035\tvalidation_1-rmse:0.60399\n",
      "[40]\tvalidation_0-rmse:0.59839\tvalidation_1-rmse:0.60212\n",
      "[41]\tvalidation_0-rmse:0.59655\tvalidation_1-rmse:0.60035\n",
      "[42]\tvalidation_0-rmse:0.59513\tvalidation_1-rmse:0.59903\n",
      "[43]\tvalidation_0-rmse:0.59394\tvalidation_1-rmse:0.59791\n",
      "[44]\tvalidation_0-rmse:0.59296\tvalidation_1-rmse:0.59705\n",
      "[45]\tvalidation_0-rmse:0.59192\tvalidation_1-rmse:0.59613\n",
      "[46]\tvalidation_0-rmse:0.59117\tvalidation_1-rmse:0.59545\n",
      "[47]\tvalidation_0-rmse:0.59029\tvalidation_1-rmse:0.59467\n",
      "[48]\tvalidation_0-rmse:0.58964\tvalidation_1-rmse:0.59408\n",
      "[49]\tvalidation_0-rmse:0.58894\tvalidation_1-rmse:0.59352\n",
      "[50]\tvalidation_0-rmse:0.58819\tvalidation_1-rmse:0.59283\n",
      "[51]\tvalidation_0-rmse:0.58769\tvalidation_1-rmse:0.59246\n",
      "[52]\tvalidation_0-rmse:0.58722\tvalidation_1-rmse:0.59206\n",
      "[53]\tvalidation_0-rmse:0.58692\tvalidation_1-rmse:0.59183\n",
      "[54]\tvalidation_0-rmse:0.58608\tvalidation_1-rmse:0.59105\n",
      "[55]\tvalidation_0-rmse:0.58553\tvalidation_1-rmse:0.59058\n",
      "[56]\tvalidation_0-rmse:0.58523\tvalidation_1-rmse:0.59036\n",
      "[57]\tvalidation_0-rmse:0.58505\tvalidation_1-rmse:0.59020\n",
      "[58]\tvalidation_0-rmse:0.58436\tvalidation_1-rmse:0.58957\n",
      "[59]\tvalidation_0-rmse:0.58411\tvalidation_1-rmse:0.58945\n",
      "[60]\tvalidation_0-rmse:0.58367\tvalidation_1-rmse:0.58907\n",
      "[61]\tvalidation_0-rmse:0.58339\tvalidation_1-rmse:0.58888\n",
      "[62]\tvalidation_0-rmse:0.58288\tvalidation_1-rmse:0.58856\n",
      "[63]\tvalidation_0-rmse:0.58260\tvalidation_1-rmse:0.58834\n",
      "[64]\tvalidation_0-rmse:0.58217\tvalidation_1-rmse:0.58800\n",
      "[65]\tvalidation_0-rmse:0.58171\tvalidation_1-rmse:0.58765\n",
      "[66]\tvalidation_0-rmse:0.58147\tvalidation_1-rmse:0.58752\n",
      "[67]\tvalidation_0-rmse:0.58122\tvalidation_1-rmse:0.58732\n",
      "[68]\tvalidation_0-rmse:0.58103\tvalidation_1-rmse:0.58714\n",
      "[69]\tvalidation_0-rmse:0.58082\tvalidation_1-rmse:0.58696\n",
      "[70]\tvalidation_0-rmse:0.58043\tvalidation_1-rmse:0.58665\n",
      "[71]\tvalidation_0-rmse:0.58027\tvalidation_1-rmse:0.58655\n",
      "[72]\tvalidation_0-rmse:0.57968\tvalidation_1-rmse:0.58601\n",
      "[73]\tvalidation_0-rmse:0.57948\tvalidation_1-rmse:0.58591\n",
      "[74]\tvalidation_0-rmse:0.57926\tvalidation_1-rmse:0.58576\n",
      "[75]\tvalidation_0-rmse:0.57883\tvalidation_1-rmse:0.58542\n",
      "[76]\tvalidation_0-rmse:0.57861\tvalidation_1-rmse:0.58526\n",
      "[77]\tvalidation_0-rmse:0.57841\tvalidation_1-rmse:0.58512\n",
      "[78]\tvalidation_0-rmse:0.57813\tvalidation_1-rmse:0.58508\n",
      "[79]\tvalidation_0-rmse:0.57785\tvalidation_1-rmse:0.58492\n",
      "[80]\tvalidation_0-rmse:0.57747\tvalidation_1-rmse:0.58460\n",
      "[81]\tvalidation_0-rmse:0.57719\tvalidation_1-rmse:0.58438\n",
      "[82]\tvalidation_0-rmse:0.57704\tvalidation_1-rmse:0.58429\n",
      "[83]\tvalidation_0-rmse:0.57676\tvalidation_1-rmse:0.58410\n",
      "[84]\tvalidation_0-rmse:0.57665\tvalidation_1-rmse:0.58402\n",
      "[85]\tvalidation_0-rmse:0.57651\tvalidation_1-rmse:0.58391\n",
      "[86]\tvalidation_0-rmse:0.57617\tvalidation_1-rmse:0.58363\n",
      "[87]\tvalidation_0-rmse:0.57600\tvalidation_1-rmse:0.58351\n",
      "[88]\tvalidation_0-rmse:0.57560\tvalidation_1-rmse:0.58317\n",
      "[89]\tvalidation_0-rmse:0.57515\tvalidation_1-rmse:0.58292\n",
      "[90]\tvalidation_0-rmse:0.57500\tvalidation_1-rmse:0.58283\n",
      "[91]\tvalidation_0-rmse:0.57486\tvalidation_1-rmse:0.58274\n",
      "[92]\tvalidation_0-rmse:0.57468\tvalidation_1-rmse:0.58265\n",
      "[93]\tvalidation_0-rmse:0.57458\tvalidation_1-rmse:0.58256\n",
      "[94]\tvalidation_0-rmse:0.57444\tvalidation_1-rmse:0.58255\n",
      "[95]\tvalidation_0-rmse:0.57421\tvalidation_1-rmse:0.58239\n",
      "[96]\tvalidation_0-rmse:0.57387\tvalidation_1-rmse:0.58213\n",
      "[97]\tvalidation_0-rmse:0.57365\tvalidation_1-rmse:0.58195\n",
      "[98]\tvalidation_0-rmse:0.57343\tvalidation_1-rmse:0.58182\n",
      "[99]\tvalidation_0-rmse:0.57323\tvalidation_1-rmse:0.58167\n"
     ]
    },
    {
     "data": {
      "text/plain": [
       "XGBRegressor(base_score=0.5, booster='gbtree', colsample_bylevel=1,\n",
       "             colsample_bynode=1, colsample_bytree=0.8, enable_categorical=False,\n",
       "             gamma=0, gpu_id=-1, importance_type=None,\n",
       "             interaction_constraints='', learning_rate=0.1, max_delta_step=0,\n",
       "             max_depth=5, min_child_weight=4, missing=nan,\n",
       "             monotone_constraints='()', n_estimators=100, n_jobs=8,\n",
       "             num_parallel_tree=1, objective='reg:squarederror',\n",
       "             predictor='auto', random_state=0, reg_alpha=0, reg_lambda=1,\n",
       "             scale_pos_weight=1, subsample=0.8867322779507704,\n",
       "             tree_method='exact', validate_parameters=1, verbosity=None)"
      ]
     },
     "execution_count": 217,
     "metadata": {},
     "output_type": "execute_result"
    }
   ],
   "source": [
    "reg=XGBRegressor( **best_hyperparams)\n",
    "    \n",
    "evaluation = [(X_train, y_train), ( X_test, y_test)]\n",
    "\n",
    "reg.fit(X_train, y_train,\n",
    "        eval_set=evaluation,\n",
    "        eval_metric = xgb_para['fit_params']['eval_metric'],\n",
    "        early_stopping_rounds=xgb_para['fit_params']['early_stopping_rounds'],\n",
    "        verbose=True)"
   ]
  },
  {
   "cell_type": "code",
   "execution_count": 220,
   "metadata": {},
   "outputs": [
    {
     "data": {
      "text/plain": [
       "0.8202151950617195"
      ]
     },
     "execution_count": 220,
     "metadata": {},
     "output_type": "execute_result"
    }
   ],
   "source": [
    "reg.score(X_train, y_train)"
   ]
  },
  {
   "cell_type": "code",
   "execution_count": 221,
   "metadata": {},
   "outputs": [
    {
     "data": {
      "text/plain": [
       "0.8166604941915551"
      ]
     },
     "execution_count": 221,
     "metadata": {},
     "output_type": "execute_result"
    }
   ],
   "source": [
    "reg.score(X_test, y_test)"
   ]
  },
  {
   "cell_type": "code",
   "execution_count": 218,
   "metadata": {},
   "outputs": [],
   "source": [
    "imp = pd.DataFrame({\"importances\": reg.feature_importances_},index= train_cols).sort_values(by = 'importances', \n",
    "                                                                                                 ascending = False)"
   ]
  },
  {
   "cell_type": "code",
   "execution_count": 219,
   "metadata": {},
   "outputs": [
    {
     "data": {
      "text/plain": [
       "<matplotlib.axes._subplots.AxesSubplot at 0x7f23dc4fecd0>"
      ]
     },
     "execution_count": 219,
     "metadata": {},
     "output_type": "execute_result"
    },
    {
     "data": {
      "image/png": "[encoded data removed]",
      "text/plain": [
       "<Figure size 1080x720 with 1 Axes>"
      ]
     },
     "metadata": {
      "needs_background": "light"
     },
     "output_type": "display_data"
    }
   ],
   "source": [
    "imp.plot.bar(figsize = (15, 10))"
   ]
  },
  {
   "cell_type": "code",
   "execution_count": null,
   "metadata": {},
   "outputs": [],
   "source": []
  }
 ],
 "metadata": {
  "kernelspec": {
   "display_name": "Python 3",
   "language": "python",
   "name": "python3"
  },
  "language_info": {
   "codemirror_mode": {
    "name": "ipython",
    "version": 3
   },
   "file_extension": ".py",
   "mimetype": "text/x-python",
   "name": "python",
   "nbconvert_exporter": "python",
   "pygments_lexer": "ipython3",
   "version": "3.7.6"
  }
 },
 "nbformat": 4,
 "nbformat_minor": 4
}
