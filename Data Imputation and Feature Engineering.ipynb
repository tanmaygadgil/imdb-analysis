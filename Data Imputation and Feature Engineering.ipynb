{
 "cells": [
  {
   "cell_type": "markdown",
   "metadata": {},
   "source": [
    "# Data Imputation and Feature Engineering"
   ]
  },
  {
   "cell_type": "code",
   "execution_count": null,
   "metadata": {},
   "outputs": [],
   "source": []
  },
  {
   "cell_type": "code",
   "execution_count": 1,
   "metadata": {},
   "outputs": [],
   "source": [
    "import pandas as pd\n",
    "import numpy as np\n",
    "import matplotlib.pyplot as plt"
   ]
  },
  {
   "cell_type": "code",
   "execution_count": 2,
   "metadata": {},
   "outputs": [],
   "source": [
    "from collections import Counter"
   ]
  },
  {
   "cell_type": "code",
   "execution_count": 3,
   "metadata": {},
   "outputs": [],
   "source": [
    "import os \n",
    "import sys"
   ]
  },
  {
   "cell_type": "code",
   "execution_count": 4,
   "metadata": {},
   "outputs": [],
   "source": [
    "from tqdm import tqdm"
   ]
  },
  {
   "cell_type": "code",
   "execution_count": 5,
   "metadata": {
    "scrolled": true
   },
   "outputs": [
    {
     "name": "stderr",
     "output_type": "stream",
     "text": [
      "/home/tanmay/anaconda3/lib/python3.7/site-packages/tqdm/std.py:658: FutureWarning: The Panel class is removed from pandas. Accessing it from the top-level namespace will also be removed in the next version\n",
      "  from pandas import Panel\n"
     ]
    }
   ],
   "source": [
    "tqdm.pandas()"
   ]
  },
  {
   "cell_type": "code",
   "execution_count": 39,
   "metadata": {},
   "outputs": [],
   "source": [
    "from pandarallel import pandarallel"
   ]
  },
  {
   "cell_type": "code",
   "execution_count": 40,
   "metadata": {},
   "outputs": [
    {
     "name": "stdout",
     "output_type": "stream",
     "text": [
      "INFO: Pandarallel will run on 4 workers.\n",
      "INFO: Pandarallel will use Memory file system to transfer data between the main process and workers.\n"
     ]
    }
   ],
   "source": [
    "pandarallel.initialize(progress_bar=True)"
   ]
  },
  {
   "cell_type": "markdown",
   "metadata": {},
   "source": [
    "## Utils"
   ]
  },
  {
   "cell_type": "code",
   "execution_count": 10,
   "metadata": {},
   "outputs": [],
   "source": [
    "def split_names(x):\n",
    "    \n",
    "    \"\"\"\n",
    "    A df function that will split a string of names for further processing\n",
    "    \"\"\"\n",
    "    \n",
    "    return [n for n in x.split(',') if (not pd.isna(x) and not x == '')]"
   ]
  },
  {
   "cell_type": "code",
   "execution_count": null,
   "metadata": {},
   "outputs": [],
   "source": []
  },
  {
   "cell_type": "code",
   "execution_count": null,
   "metadata": {},
   "outputs": [],
   "source": []
  },
  {
   "cell_type": "markdown",
   "metadata": {},
   "source": [
    "## Data Imputation"
   ]
  },
  {
   "cell_type": "markdown",
   "metadata": {},
   "source": [
    "The first step is to impute missing data from our datasets.\n",
    "Feature to be imputed are:\n",
    "- Genres\n",
    "- runtime\n",
    "- num votes\n"
   ]
  },
  {
   "cell_type": "markdown",
   "metadata": {},
   "source": [
    "### Genres"
   ]
  },
  {
   "cell_type": "code",
   "execution_count": 11,
   "metadata": {},
   "outputs": [],
   "source": [
    "title_rating = pd.read_csv('processed/title_rating.csv')"
   ]
  },
  {
   "cell_type": "code",
   "execution_count": 12,
   "metadata": {},
   "outputs": [
    {
     "data": {
      "text/html": [
       "<div>\n",
       "<style scoped>\n",
       "    .dataframe tbody tr th:only-of-type {\n",
       "        vertical-align: middle;\n",
       "    }\n",
       "\n",
       "    .dataframe tbody tr th {\n",
       "        vertical-align: top;\n",
       "    }\n",
       "\n",
       "    .dataframe thead th {\n",
       "        text-align: right;\n",
       "    }\n",
       "</style>\n",
       "<table border=\"1\" class=\"dataframe\">\n",
       "  <thead>\n",
       "    <tr style=\"text-align: right;\">\n",
       "      <th></th>\n",
       "      <th>tconst</th>\n",
       "      <th>titleType</th>\n",
       "      <th>primaryTitle</th>\n",
       "      <th>originalTitle</th>\n",
       "      <th>isAdult</th>\n",
       "      <th>startYear</th>\n",
       "      <th>endYear</th>\n",
       "      <th>runtimeMinutes</th>\n",
       "      <th>genres</th>\n",
       "      <th>averageRating</th>\n",
       "      <th>numVotes</th>\n",
       "    </tr>\n",
       "  </thead>\n",
       "  <tbody>\n",
       "    <tr>\n",
       "      <th>0</th>\n",
       "      <td>tt0000502</td>\n",
       "      <td>movie</td>\n",
       "      <td>Bohemios</td>\n",
       "      <td>Bohemios</td>\n",
       "      <td>0</td>\n",
       "      <td>1970-01-01 00:00:00.000001905</td>\n",
       "      <td>NaN</td>\n",
       "      <td>100.0</td>\n",
       "      <td>NaN</td>\n",
       "      <td>4.5</td>\n",
       "      <td>14</td>\n",
       "    </tr>\n",
       "    <tr>\n",
       "      <th>1</th>\n",
       "      <td>tt0000574</td>\n",
       "      <td>movie</td>\n",
       "      <td>The Story of the Kelly Gang</td>\n",
       "      <td>The Story of the Kelly Gang</td>\n",
       "      <td>0</td>\n",
       "      <td>1970-01-01 00:00:00.000001906</td>\n",
       "      <td>NaN</td>\n",
       "      <td>70.0</td>\n",
       "      <td>Action,Adventure,Biography</td>\n",
       "      <td>6.0</td>\n",
       "      <td>754</td>\n",
       "    </tr>\n",
       "    <tr>\n",
       "      <th>2</th>\n",
       "      <td>tt0000591</td>\n",
       "      <td>movie</td>\n",
       "      <td>The Prodigal Son</td>\n",
       "      <td>L'enfant prodigue</td>\n",
       "      <td>0</td>\n",
       "      <td>1970-01-01 00:00:00.000001907</td>\n",
       "      <td>NaN</td>\n",
       "      <td>90.0</td>\n",
       "      <td>Drama</td>\n",
       "      <td>4.6</td>\n",
       "      <td>17</td>\n",
       "    </tr>\n",
       "    <tr>\n",
       "      <th>3</th>\n",
       "      <td>tt0000615</td>\n",
       "      <td>movie</td>\n",
       "      <td>Robbery Under Arms</td>\n",
       "      <td>Robbery Under Arms</td>\n",
       "      <td>0</td>\n",
       "      <td>1970-01-01 00:00:00.000001907</td>\n",
       "      <td>NaN</td>\n",
       "      <td>NaN</td>\n",
       "      <td>Drama</td>\n",
       "      <td>4.5</td>\n",
       "      <td>23</td>\n",
       "    </tr>\n",
       "    <tr>\n",
       "      <th>4</th>\n",
       "      <td>tt0000630</td>\n",
       "      <td>movie</td>\n",
       "      <td>Hamlet</td>\n",
       "      <td>Amleto</td>\n",
       "      <td>0</td>\n",
       "      <td>1970-01-01 00:00:00.000001908</td>\n",
       "      <td>NaN</td>\n",
       "      <td>NaN</td>\n",
       "      <td>Drama</td>\n",
       "      <td>3.8</td>\n",
       "      <td>24</td>\n",
       "    </tr>\n",
       "  </tbody>\n",
       "</table>\n",
       "</div>"
      ],
      "text/plain": [
       "      tconst titleType                 primaryTitle  \\\n",
       "0  tt0000502     movie                     Bohemios   \n",
       "1  tt0000574     movie  The Story of the Kelly Gang   \n",
       "2  tt0000591     movie             The Prodigal Son   \n",
       "3  tt0000615     movie           Robbery Under Arms   \n",
       "4  tt0000630     movie                       Hamlet   \n",
       "\n",
       "                 originalTitle  isAdult                      startYear  \\\n",
       "0                     Bohemios        0  1970-01-01 00:00:00.000001905   \n",
       "1  The Story of the Kelly Gang        0  1970-01-01 00:00:00.000001906   \n",
       "2            L'enfant prodigue        0  1970-01-01 00:00:00.000001907   \n",
       "3           Robbery Under Arms        0  1970-01-01 00:00:00.000001907   \n",
       "4                       Amleto        0  1970-01-01 00:00:00.000001908   \n",
       "\n",
       "   endYear  runtimeMinutes                      genres  averageRating  \\\n",
       "0      NaN           100.0                         NaN            4.5   \n",
       "1      NaN            70.0  Action,Adventure,Biography            6.0   \n",
       "2      NaN            90.0                       Drama            4.6   \n",
       "3      NaN             NaN                       Drama            4.5   \n",
       "4      NaN             NaN                       Drama            3.8   \n",
       "\n",
       "   numVotes  \n",
       "0        14  \n",
       "1       754  \n",
       "2        17  \n",
       "3        23  \n",
       "4        24  "
      ]
     },
     "execution_count": 12,
     "metadata": {},
     "output_type": "execute_result"
    }
   ],
   "source": [
    "title_rating.head()"
   ]
  },
  {
   "cell_type": "code",
   "execution_count": 13,
   "metadata": {},
   "outputs": [],
   "source": [
    "title_rating.genres.fillna('', inplace = True)"
   ]
  },
  {
   "cell_type": "code",
   "execution_count": 14,
   "metadata": {},
   "outputs": [
    {
     "data": {
      "text/plain": [
       "0"
      ]
     },
     "execution_count": 14,
     "metadata": {},
     "output_type": "execute_result"
    }
   ],
   "source": [
    "title_rating.genres.isna().sum()"
   ]
  },
  {
   "cell_type": "markdown",
   "metadata": {},
   "source": [
    "We have 11,666 values that need to be imputed"
   ]
  },
  {
   "cell_type": "markdown",
   "metadata": {},
   "source": [
    "**Imputation strategy**\n",
    "\n",
    "One way to impute genre values is to consider the people working on that movie. Generally people tend to work on similar movies and we can use this hypothesis to impute genre values "
   ]
  },
  {
   "cell_type": "code",
   "execution_count": 15,
   "metadata": {},
   "outputs": [],
   "source": [
    "crew = pd.read_csv('processed/title_rating_crew.csv')\n",
    "principal = pd.read_csv('processed/title_rating_principal.csv')"
   ]
  },
  {
   "cell_type": "code",
   "execution_count": 16,
   "metadata": {},
   "outputs": [],
   "source": [
    "crew['directors'].replace({'\\\\N': ''}, inplace = True)\n",
    "crew['writers'].replace({'\\\\N': ''}, inplace = True)\n",
    "principal['nconst'].replace({'\\\\N': ''}, inplace = True)"
   ]
  },
  {
   "cell_type": "code",
   "execution_count": 17,
   "metadata": {},
   "outputs": [],
   "source": [
    "names = pd.read_csv('processed/name_basics.csv')"
   ]
  },
  {
   "cell_type": "code",
   "execution_count": 18,
   "metadata": {},
   "outputs": [
    {
     "data": {
      "text/html": [
       "<div>\n",
       "<style scoped>\n",
       "    .dataframe tbody tr th:only-of-type {\n",
       "        vertical-align: middle;\n",
       "    }\n",
       "\n",
       "    .dataframe tbody tr th {\n",
       "        vertical-align: top;\n",
       "    }\n",
       "\n",
       "    .dataframe thead th {\n",
       "        text-align: right;\n",
       "    }\n",
       "</style>\n",
       "<table border=\"1\" class=\"dataframe\">\n",
       "  <thead>\n",
       "    <tr style=\"text-align: right;\">\n",
       "      <th></th>\n",
       "      <th>tconst</th>\n",
       "      <th>titleType</th>\n",
       "      <th>primaryTitle</th>\n",
       "      <th>originalTitle</th>\n",
       "      <th>isAdult</th>\n",
       "      <th>startYear</th>\n",
       "      <th>endYear</th>\n",
       "      <th>runtimeMinutes</th>\n",
       "      <th>genres</th>\n",
       "      <th>averageRating</th>\n",
       "      <th>numVotes</th>\n",
       "      <th>directors</th>\n",
       "      <th>writers</th>\n",
       "    </tr>\n",
       "  </thead>\n",
       "  <tbody>\n",
       "    <tr>\n",
       "      <th>0</th>\n",
       "      <td>tt0000502</td>\n",
       "      <td>movie</td>\n",
       "      <td>Bohemios</td>\n",
       "      <td>Bohemios</td>\n",
       "      <td>0</td>\n",
       "      <td>1970-01-01 00:00:00.000001905</td>\n",
       "      <td>NaN</td>\n",
       "      <td>100.0</td>\n",
       "      <td>NaN</td>\n",
       "      <td>4.5</td>\n",
       "      <td>14</td>\n",
       "      <td>nm0063413</td>\n",
       "      <td>nm0063413,nm0657268,nm0675388</td>\n",
       "    </tr>\n",
       "    <tr>\n",
       "      <th>1</th>\n",
       "      <td>tt0000574</td>\n",
       "      <td>movie</td>\n",
       "      <td>The Story of the Kelly Gang</td>\n",
       "      <td>The Story of the Kelly Gang</td>\n",
       "      <td>0</td>\n",
       "      <td>1970-01-01 00:00:00.000001906</td>\n",
       "      <td>NaN</td>\n",
       "      <td>70.0</td>\n",
       "      <td>Action,Adventure,Biography</td>\n",
       "      <td>6.0</td>\n",
       "      <td>754</td>\n",
       "      <td>nm0846879</td>\n",
       "      <td>nm0846879</td>\n",
       "    </tr>\n",
       "    <tr>\n",
       "      <th>2</th>\n",
       "      <td>tt0000591</td>\n",
       "      <td>movie</td>\n",
       "      <td>The Prodigal Son</td>\n",
       "      <td>L'enfant prodigue</td>\n",
       "      <td>0</td>\n",
       "      <td>1970-01-01 00:00:00.000001907</td>\n",
       "      <td>NaN</td>\n",
       "      <td>90.0</td>\n",
       "      <td>Drama</td>\n",
       "      <td>4.6</td>\n",
       "      <td>17</td>\n",
       "      <td>nm0141150</td>\n",
       "      <td>nm0141150</td>\n",
       "    </tr>\n",
       "    <tr>\n",
       "      <th>3</th>\n",
       "      <td>tt0000615</td>\n",
       "      <td>movie</td>\n",
       "      <td>Robbery Under Arms</td>\n",
       "      <td>Robbery Under Arms</td>\n",
       "      <td>0</td>\n",
       "      <td>1970-01-01 00:00:00.000001907</td>\n",
       "      <td>NaN</td>\n",
       "      <td>NaN</td>\n",
       "      <td>Drama</td>\n",
       "      <td>4.5</td>\n",
       "      <td>23</td>\n",
       "      <td>nm0533958</td>\n",
       "      <td>nm0092809,nm0533958</td>\n",
       "    </tr>\n",
       "    <tr>\n",
       "      <th>4</th>\n",
       "      <td>tt0000630</td>\n",
       "      <td>movie</td>\n",
       "      <td>Hamlet</td>\n",
       "      <td>Amleto</td>\n",
       "      <td>0</td>\n",
       "      <td>1970-01-01 00:00:00.000001908</td>\n",
       "      <td>NaN</td>\n",
       "      <td>NaN</td>\n",
       "      <td>Drama</td>\n",
       "      <td>3.8</td>\n",
       "      <td>24</td>\n",
       "      <td>nm0143333</td>\n",
       "      <td>nm0000636</td>\n",
       "    </tr>\n",
       "    <tr>\n",
       "      <th>...</th>\n",
       "      <td>...</td>\n",
       "      <td>...</td>\n",
       "      <td>...</td>\n",
       "      <td>...</td>\n",
       "      <td>...</td>\n",
       "      <td>...</td>\n",
       "      <td>...</td>\n",
       "      <td>...</td>\n",
       "      <td>...</td>\n",
       "      <td>...</td>\n",
       "      <td>...</td>\n",
       "      <td>...</td>\n",
       "      <td>...</td>\n",
       "    </tr>\n",
       "    <tr>\n",
       "      <th>323829</th>\n",
       "      <td>tt9916362</td>\n",
       "      <td>movie</td>\n",
       "      <td>Coven</td>\n",
       "      <td>Akelarre</td>\n",
       "      <td>0</td>\n",
       "      <td>2020-01-01</td>\n",
       "      <td>NaN</td>\n",
       "      <td>92.0</td>\n",
       "      <td>Drama,History</td>\n",
       "      <td>6.4</td>\n",
       "      <td>4447</td>\n",
       "      <td>nm1893148</td>\n",
       "      <td>nm1893148,nm3471432</td>\n",
       "    </tr>\n",
       "    <tr>\n",
       "      <th>323830</th>\n",
       "      <td>tt9916428</td>\n",
       "      <td>movie</td>\n",
       "      <td>The Secret of China</td>\n",
       "      <td>Hong xing zhao yao Zhong guo</td>\n",
       "      <td>0</td>\n",
       "      <td>2019-01-01</td>\n",
       "      <td>NaN</td>\n",
       "      <td>NaN</td>\n",
       "      <td>Adventure,History,War</td>\n",
       "      <td>3.8</td>\n",
       "      <td>14</td>\n",
       "      <td>nm0910951</td>\n",
       "      <td></td>\n",
       "    </tr>\n",
       "    <tr>\n",
       "      <th>323831</th>\n",
       "      <td>tt9916460</td>\n",
       "      <td>tvMovie</td>\n",
       "      <td>Pink Taxi</td>\n",
       "      <td>Pink Taxi</td>\n",
       "      <td>0</td>\n",
       "      <td>2019-01-01</td>\n",
       "      <td>NaN</td>\n",
       "      <td>NaN</td>\n",
       "      <td>Comedy</td>\n",
       "      <td>9.3</td>\n",
       "      <td>17</td>\n",
       "      <td>nm7048843</td>\n",
       "      <td>nm7048843,nm8691452</td>\n",
       "    </tr>\n",
       "    <tr>\n",
       "      <th>323832</th>\n",
       "      <td>tt9916538</td>\n",
       "      <td>movie</td>\n",
       "      <td>Kuambil Lagi Hatiku</td>\n",
       "      <td>Kuambil Lagi Hatiku</td>\n",
       "      <td>0</td>\n",
       "      <td>2019-01-01</td>\n",
       "      <td>NaN</td>\n",
       "      <td>123.0</td>\n",
       "      <td>Drama</td>\n",
       "      <td>8.3</td>\n",
       "      <td>6</td>\n",
       "      <td>nm4457074</td>\n",
       "      <td>nm4843252,nm4900525,nm2679404</td>\n",
       "    </tr>\n",
       "    <tr>\n",
       "      <th>323833</th>\n",
       "      <td>tt9916730</td>\n",
       "      <td>movie</td>\n",
       "      <td>6 Gunn</td>\n",
       "      <td>6 Gunn</td>\n",
       "      <td>0</td>\n",
       "      <td>2017-01-01</td>\n",
       "      <td>NaN</td>\n",
       "      <td>116.0</td>\n",
       "      <td>NaN</td>\n",
       "      <td>8.4</td>\n",
       "      <td>5</td>\n",
       "      <td>nm10538612</td>\n",
       "      <td>nm10538612</td>\n",
       "    </tr>\n",
       "  </tbody>\n",
       "</table>\n",
       "<p>323834 rows × 13 columns</p>\n",
       "</div>"
      ],
      "text/plain": [
       "           tconst titleType                 primaryTitle  \\\n",
       "0       tt0000502     movie                     Bohemios   \n",
       "1       tt0000574     movie  The Story of the Kelly Gang   \n",
       "2       tt0000591     movie             The Prodigal Son   \n",
       "3       tt0000615     movie           Robbery Under Arms   \n",
       "4       tt0000630     movie                       Hamlet   \n",
       "...           ...       ...                          ...   \n",
       "323829  tt9916362     movie                        Coven   \n",
       "323830  tt9916428     movie          The Secret of China   \n",
       "323831  tt9916460   tvMovie                    Pink Taxi   \n",
       "323832  tt9916538     movie          Kuambil Lagi Hatiku   \n",
       "323833  tt9916730     movie                       6 Gunn   \n",
       "\n",
       "                       originalTitle  isAdult                      startYear  \\\n",
       "0                           Bohemios        0  1970-01-01 00:00:00.000001905   \n",
       "1        The Story of the Kelly Gang        0  1970-01-01 00:00:00.000001906   \n",
       "2                  L'enfant prodigue        0  1970-01-01 00:00:00.000001907   \n",
       "3                 Robbery Under Arms        0  1970-01-01 00:00:00.000001907   \n",
       "4                             Amleto        0  1970-01-01 00:00:00.000001908   \n",
       "...                              ...      ...                            ...   \n",
       "323829                      Akelarre        0                     2020-01-01   \n",
       "323830  Hong xing zhao yao Zhong guo        0                     2019-01-01   \n",
       "323831                     Pink Taxi        0                     2019-01-01   \n",
       "323832           Kuambil Lagi Hatiku        0                     2019-01-01   \n",
       "323833                        6 Gunn        0                     2017-01-01   \n",
       "\n",
       "        endYear  runtimeMinutes                      genres  averageRating  \\\n",
       "0           NaN           100.0                         NaN            4.5   \n",
       "1           NaN            70.0  Action,Adventure,Biography            6.0   \n",
       "2           NaN            90.0                       Drama            4.6   \n",
       "3           NaN             NaN                       Drama            4.5   \n",
       "4           NaN             NaN                       Drama            3.8   \n",
       "...         ...             ...                         ...            ...   \n",
       "323829      NaN            92.0               Drama,History            6.4   \n",
       "323830      NaN             NaN       Adventure,History,War            3.8   \n",
       "323831      NaN             NaN                      Comedy            9.3   \n",
       "323832      NaN           123.0                       Drama            8.3   \n",
       "323833      NaN           116.0                         NaN            8.4   \n",
       "\n",
       "        numVotes   directors                        writers  \n",
       "0             14   nm0063413  nm0063413,nm0657268,nm0675388  \n",
       "1            754   nm0846879                      nm0846879  \n",
       "2             17   nm0141150                      nm0141150  \n",
       "3             23   nm0533958            nm0092809,nm0533958  \n",
       "4             24   nm0143333                      nm0000636  \n",
       "...          ...         ...                            ...  \n",
       "323829      4447   nm1893148            nm1893148,nm3471432  \n",
       "323830        14   nm0910951                                 \n",
       "323831        17   nm7048843            nm7048843,nm8691452  \n",
       "323832         6   nm4457074  nm4843252,nm4900525,nm2679404  \n",
       "323833         5  nm10538612                     nm10538612  \n",
       "\n",
       "[323834 rows x 13 columns]"
      ]
     },
     "execution_count": 18,
     "metadata": {},
     "output_type": "execute_result"
    }
   ],
   "source": [
    "crew"
   ]
  },
  {
   "cell_type": "code",
   "execution_count": 19,
   "metadata": {},
   "outputs": [
    {
     "data": {
      "text/html": [
       "<div>\n",
       "<style scoped>\n",
       "    .dataframe tbody tr th:only-of-type {\n",
       "        vertical-align: middle;\n",
       "    }\n",
       "\n",
       "    .dataframe tbody tr th {\n",
       "        vertical-align: top;\n",
       "    }\n",
       "\n",
       "    .dataframe thead th {\n",
       "        text-align: right;\n",
       "    }\n",
       "</style>\n",
       "<table border=\"1\" class=\"dataframe\">\n",
       "  <thead>\n",
       "    <tr style=\"text-align: right;\">\n",
       "      <th></th>\n",
       "      <th>tconst</th>\n",
       "      <th>titleType</th>\n",
       "      <th>primaryTitle</th>\n",
       "      <th>originalTitle</th>\n",
       "      <th>isAdult</th>\n",
       "      <th>startYear</th>\n",
       "      <th>endYear</th>\n",
       "      <th>runtimeMinutes</th>\n",
       "      <th>genres</th>\n",
       "      <th>averageRating</th>\n",
       "      <th>numVotes</th>\n",
       "      <th>ordering</th>\n",
       "      <th>nconst</th>\n",
       "      <th>category</th>\n",
       "      <th>job</th>\n",
       "      <th>characters</th>\n",
       "    </tr>\n",
       "  </thead>\n",
       "  <tbody>\n",
       "    <tr>\n",
       "      <th>0</th>\n",
       "      <td>tt0000502</td>\n",
       "      <td>movie</td>\n",
       "      <td>Bohemios</td>\n",
       "      <td>Bohemios</td>\n",
       "      <td>0</td>\n",
       "      <td>1970-01-01 00:00:00.000001905</td>\n",
       "      <td>NaN</td>\n",
       "      <td>100.0</td>\n",
       "      <td>NaN</td>\n",
       "      <td>4.5</td>\n",
       "      <td>14</td>\n",
       "      <td>1</td>\n",
       "      <td>nm0215752</td>\n",
       "      <td>actor</td>\n",
       "      <td>\\N</td>\n",
       "      <td>\\N</td>\n",
       "    </tr>\n",
       "    <tr>\n",
       "      <th>1</th>\n",
       "      <td>tt0000502</td>\n",
       "      <td>movie</td>\n",
       "      <td>Bohemios</td>\n",
       "      <td>Bohemios</td>\n",
       "      <td>0</td>\n",
       "      <td>1970-01-01 00:00:00.000001905</td>\n",
       "      <td>NaN</td>\n",
       "      <td>100.0</td>\n",
       "      <td>NaN</td>\n",
       "      <td>4.5</td>\n",
       "      <td>14</td>\n",
       "      <td>2</td>\n",
       "      <td>nm0252720</td>\n",
       "      <td>actor</td>\n",
       "      <td>\\N</td>\n",
       "      <td>\\N</td>\n",
       "    </tr>\n",
       "    <tr>\n",
       "      <th>2</th>\n",
       "      <td>tt0000502</td>\n",
       "      <td>movie</td>\n",
       "      <td>Bohemios</td>\n",
       "      <td>Bohemios</td>\n",
       "      <td>0</td>\n",
       "      <td>1970-01-01 00:00:00.000001905</td>\n",
       "      <td>NaN</td>\n",
       "      <td>100.0</td>\n",
       "      <td>NaN</td>\n",
       "      <td>4.5</td>\n",
       "      <td>14</td>\n",
       "      <td>3</td>\n",
       "      <td>nm0063413</td>\n",
       "      <td>director</td>\n",
       "      <td>\\N</td>\n",
       "      <td>\\N</td>\n",
       "    </tr>\n",
       "    <tr>\n",
       "      <th>3</th>\n",
       "      <td>tt0000502</td>\n",
       "      <td>movie</td>\n",
       "      <td>Bohemios</td>\n",
       "      <td>Bohemios</td>\n",
       "      <td>0</td>\n",
       "      <td>1970-01-01 00:00:00.000001905</td>\n",
       "      <td>NaN</td>\n",
       "      <td>100.0</td>\n",
       "      <td>NaN</td>\n",
       "      <td>4.5</td>\n",
       "      <td>14</td>\n",
       "      <td>4</td>\n",
       "      <td>nm0657268</td>\n",
       "      <td>writer</td>\n",
       "      <td>\\N</td>\n",
       "      <td>\\N</td>\n",
       "    </tr>\n",
       "    <tr>\n",
       "      <th>4</th>\n",
       "      <td>tt0000502</td>\n",
       "      <td>movie</td>\n",
       "      <td>Bohemios</td>\n",
       "      <td>Bohemios</td>\n",
       "      <td>0</td>\n",
       "      <td>1970-01-01 00:00:00.000001905</td>\n",
       "      <td>NaN</td>\n",
       "      <td>100.0</td>\n",
       "      <td>NaN</td>\n",
       "      <td>4.5</td>\n",
       "      <td>14</td>\n",
       "      <td>5</td>\n",
       "      <td>nm0675388</td>\n",
       "      <td>writer</td>\n",
       "      <td>\\N</td>\n",
       "      <td>\\N</td>\n",
       "    </tr>\n",
       "    <tr>\n",
       "      <th>...</th>\n",
       "      <td>...</td>\n",
       "      <td>...</td>\n",
       "      <td>...</td>\n",
       "      <td>...</td>\n",
       "      <td>...</td>\n",
       "      <td>...</td>\n",
       "      <td>...</td>\n",
       "      <td>...</td>\n",
       "      <td>...</td>\n",
       "      <td>...</td>\n",
       "      <td>...</td>\n",
       "      <td>...</td>\n",
       "      <td>...</td>\n",
       "      <td>...</td>\n",
       "      <td>...</td>\n",
       "      <td>...</td>\n",
       "    </tr>\n",
       "    <tr>\n",
       "      <th>2885442</th>\n",
       "      <td>tt9916730</td>\n",
       "      <td>movie</td>\n",
       "      <td>6 Gunn</td>\n",
       "      <td>6 Gunn</td>\n",
       "      <td>0</td>\n",
       "      <td>2017-01-01</td>\n",
       "      <td>NaN</td>\n",
       "      <td>116.0</td>\n",
       "      <td>NaN</td>\n",
       "      <td>8.4</td>\n",
       "      <td>5</td>\n",
       "      <td>5</td>\n",
       "      <td>nm10538612</td>\n",
       "      <td>director</td>\n",
       "      <td>\\N</td>\n",
       "      <td>\\N</td>\n",
       "    </tr>\n",
       "    <tr>\n",
       "      <th>2885443</th>\n",
       "      <td>tt9916730</td>\n",
       "      <td>movie</td>\n",
       "      <td>6 Gunn</td>\n",
       "      <td>6 Gunn</td>\n",
       "      <td>0</td>\n",
       "      <td>2017-01-01</td>\n",
       "      <td>NaN</td>\n",
       "      <td>116.0</td>\n",
       "      <td>NaN</td>\n",
       "      <td>8.4</td>\n",
       "      <td>5</td>\n",
       "      <td>6</td>\n",
       "      <td>nm10538614</td>\n",
       "      <td>producer</td>\n",
       "      <td>producer</td>\n",
       "      <td>\\N</td>\n",
       "    </tr>\n",
       "    <tr>\n",
       "      <th>2885444</th>\n",
       "      <td>tt9916730</td>\n",
       "      <td>movie</td>\n",
       "      <td>6 Gunn</td>\n",
       "      <td>6 Gunn</td>\n",
       "      <td>0</td>\n",
       "      <td>2017-01-01</td>\n",
       "      <td>NaN</td>\n",
       "      <td>116.0</td>\n",
       "      <td>NaN</td>\n",
       "      <td>8.4</td>\n",
       "      <td>5</td>\n",
       "      <td>7</td>\n",
       "      <td>nm10538613</td>\n",
       "      <td>producer</td>\n",
       "      <td>associate producer</td>\n",
       "      <td>\\N</td>\n",
       "    </tr>\n",
       "    <tr>\n",
       "      <th>2885445</th>\n",
       "      <td>tt9916730</td>\n",
       "      <td>movie</td>\n",
       "      <td>6 Gunn</td>\n",
       "      <td>6 Gunn</td>\n",
       "      <td>0</td>\n",
       "      <td>2017-01-01</td>\n",
       "      <td>NaN</td>\n",
       "      <td>116.0</td>\n",
       "      <td>NaN</td>\n",
       "      <td>8.4</td>\n",
       "      <td>5</td>\n",
       "      <td>8</td>\n",
       "      <td>nm1957275</td>\n",
       "      <td>cinematographer</td>\n",
       "      <td>\\N</td>\n",
       "      <td>\\N</td>\n",
       "    </tr>\n",
       "    <tr>\n",
       "      <th>2885446</th>\n",
       "      <td>tt9916730</td>\n",
       "      <td>movie</td>\n",
       "      <td>6 Gunn</td>\n",
       "      <td>6 Gunn</td>\n",
       "      <td>0</td>\n",
       "      <td>2017-01-01</td>\n",
       "      <td>NaN</td>\n",
       "      <td>116.0</td>\n",
       "      <td>NaN</td>\n",
       "      <td>8.4</td>\n",
       "      <td>5</td>\n",
       "      <td>9</td>\n",
       "      <td>nm9785908</td>\n",
       "      <td>editor</td>\n",
       "      <td>\\N</td>\n",
       "      <td>\\N</td>\n",
       "    </tr>\n",
       "  </tbody>\n",
       "</table>\n",
       "<p>2885447 rows × 16 columns</p>\n",
       "</div>"
      ],
      "text/plain": [
       "            tconst titleType primaryTitle originalTitle  isAdult  \\\n",
       "0        tt0000502     movie     Bohemios      Bohemios        0   \n",
       "1        tt0000502     movie     Bohemios      Bohemios        0   \n",
       "2        tt0000502     movie     Bohemios      Bohemios        0   \n",
       "3        tt0000502     movie     Bohemios      Bohemios        0   \n",
       "4        tt0000502     movie     Bohemios      Bohemios        0   \n",
       "...            ...       ...          ...           ...      ...   \n",
       "2885442  tt9916730     movie       6 Gunn        6 Gunn        0   \n",
       "2885443  tt9916730     movie       6 Gunn        6 Gunn        0   \n",
       "2885444  tt9916730     movie       6 Gunn        6 Gunn        0   \n",
       "2885445  tt9916730     movie       6 Gunn        6 Gunn        0   \n",
       "2885446  tt9916730     movie       6 Gunn        6 Gunn        0   \n",
       "\n",
       "                             startYear  endYear  runtimeMinutes genres  \\\n",
       "0        1970-01-01 00:00:00.000001905      NaN           100.0    NaN   \n",
       "1        1970-01-01 00:00:00.000001905      NaN           100.0    NaN   \n",
       "2        1970-01-01 00:00:00.000001905      NaN           100.0    NaN   \n",
       "3        1970-01-01 00:00:00.000001905      NaN           100.0    NaN   \n",
       "4        1970-01-01 00:00:00.000001905      NaN           100.0    NaN   \n",
       "...                                ...      ...             ...    ...   \n",
       "2885442                     2017-01-01      NaN           116.0    NaN   \n",
       "2885443                     2017-01-01      NaN           116.0    NaN   \n",
       "2885444                     2017-01-01      NaN           116.0    NaN   \n",
       "2885445                     2017-01-01      NaN           116.0    NaN   \n",
       "2885446                     2017-01-01      NaN           116.0    NaN   \n",
       "\n",
       "         averageRating  numVotes  ordering      nconst         category  \\\n",
       "0                  4.5        14         1   nm0215752            actor   \n",
       "1                  4.5        14         2   nm0252720            actor   \n",
       "2                  4.5        14         3   nm0063413         director   \n",
       "3                  4.5        14         4   nm0657268           writer   \n",
       "4                  4.5        14         5   nm0675388           writer   \n",
       "...                ...       ...       ...         ...              ...   \n",
       "2885442            8.4         5         5  nm10538612         director   \n",
       "2885443            8.4         5         6  nm10538614         producer   \n",
       "2885444            8.4         5         7  nm10538613         producer   \n",
       "2885445            8.4         5         8   nm1957275  cinematographer   \n",
       "2885446            8.4         5         9   nm9785908           editor   \n",
       "\n",
       "                        job characters  \n",
       "0                        \\N         \\N  \n",
       "1                        \\N         \\N  \n",
       "2                        \\N         \\N  \n",
       "3                        \\N         \\N  \n",
       "4                        \\N         \\N  \n",
       "...                     ...        ...  \n",
       "2885442                  \\N         \\N  \n",
       "2885443            producer         \\N  \n",
       "2885444  associate producer         \\N  \n",
       "2885445                  \\N         \\N  \n",
       "2885446                  \\N         \\N  \n",
       "\n",
       "[2885447 rows x 16 columns]"
      ]
     },
     "execution_count": 19,
     "metadata": {},
     "output_type": "execute_result"
    }
   ],
   "source": [
    "principal"
   ]
  },
  {
   "cell_type": "code",
   "execution_count": 20,
   "metadata": {},
   "outputs": [],
   "source": [
    "#creating some useful data stuctures for further processing\n",
    "title_genre = title_rating[['tconst', 'genres']]"
   ]
  },
  {
   "cell_type": "code",
   "execution_count": 21,
   "metadata": {},
   "outputs": [
    {
     "name": "stderr",
     "output_type": "stream",
     "text": [
      "/home/tanmay/anaconda3/lib/python3.7/site-packages/ipykernel_launcher.py:1: SettingWithCopyWarning: \n",
      "A value is trying to be set on a copy of a slice from a DataFrame.\n",
      "Try using .loc[row_indexer,col_indexer] = value instead\n",
      "\n",
      "See the caveats in the documentation: https://pandas.pydata.org/pandas-docs/stable/user_guide/indexing.html#returning-a-view-versus-a-copy\n",
      "  \"\"\"Entry point for launching an IPython kernel.\n"
     ]
    }
   ],
   "source": [
    "title_genre['genres'] = title_genre['genres'].apply(lambda x: split_names(x))"
   ]
  },
  {
   "cell_type": "code",
   "execution_count": 22,
   "metadata": {},
   "outputs": [],
   "source": [
    "title_genre_dict = title_genre.set_index('tconst').to_dict()['genres']"
   ]
  },
  {
   "cell_type": "code",
   "execution_count": 23,
   "metadata": {},
   "outputs": [],
   "source": [
    "names['knownForTitles'].fillna('', inplace = True)"
   ]
  },
  {
   "cell_type": "code",
   "execution_count": 24,
   "metadata": {},
   "outputs": [],
   "source": [
    "names = names[['nconst', 'knownForTitles']]"
   ]
  },
  {
   "cell_type": "code",
   "execution_count": 25,
   "metadata": {},
   "outputs": [],
   "source": [
    "names['knownForTitles'] = names['knownForTitles'].apply(lambda x: split_names(x))\n"
   ]
  },
  {
   "cell_type": "code",
   "execution_count": 28,
   "metadata": {},
   "outputs": [
    {
     "data": {
      "text/html": [
       "<div>\n",
       "<style scoped>\n",
       "    .dataframe tbody tr th:only-of-type {\n",
       "        vertical-align: middle;\n",
       "    }\n",
       "\n",
       "    .dataframe tbody tr th {\n",
       "        vertical-align: top;\n",
       "    }\n",
       "\n",
       "    .dataframe thead th {\n",
       "        text-align: right;\n",
       "    }\n",
       "</style>\n",
       "<table border=\"1\" class=\"dataframe\">\n",
       "  <thead>\n",
       "    <tr style=\"text-align: right;\">\n",
       "      <th></th>\n",
       "      <th>nconst</th>\n",
       "      <th>knownForTitles</th>\n",
       "    </tr>\n",
       "  </thead>\n",
       "  <tbody>\n",
       "    <tr>\n",
       "      <th>0</th>\n",
       "      <td>nm0000001</td>\n",
       "      <td>[tt0050419, tt0031983, tt0072308, tt0053137]</td>\n",
       "    </tr>\n",
       "    <tr>\n",
       "      <th>1</th>\n",
       "      <td>nm0000002</td>\n",
       "      <td>[tt0037382, tt0038355, tt0071877, tt0117057]</td>\n",
       "    </tr>\n",
       "    <tr>\n",
       "      <th>2</th>\n",
       "      <td>nm0000003</td>\n",
       "      <td>[tt0057345, tt0056404, tt0054452, tt0049189]</td>\n",
       "    </tr>\n",
       "    <tr>\n",
       "      <th>3</th>\n",
       "      <td>nm0000004</td>\n",
       "      <td>[tt0080455, tt0078723, tt0072562, tt0077975]</td>\n",
       "    </tr>\n",
       "    <tr>\n",
       "      <th>4</th>\n",
       "      <td>nm0000005</td>\n",
       "      <td>[tt0050986, tt0083922, tt0060827, tt0069467]</td>\n",
       "    </tr>\n",
       "    <tr>\n",
       "      <th>...</th>\n",
       "      <td>...</td>\n",
       "      <td>...</td>\n",
       "    </tr>\n",
       "    <tr>\n",
       "      <th>964582</th>\n",
       "      <td>nm9993616</td>\n",
       "      <td>[tt4844148]</td>\n",
       "    </tr>\n",
       "    <tr>\n",
       "      <th>964583</th>\n",
       "      <td>nm9993650</td>\n",
       "      <td>[tt8739208]</td>\n",
       "    </tr>\n",
       "    <tr>\n",
       "      <th>964584</th>\n",
       "      <td>nm9993690</td>\n",
       "      <td>[tt7888884]</td>\n",
       "    </tr>\n",
       "    <tr>\n",
       "      <th>964585</th>\n",
       "      <td>nm9993691</td>\n",
       "      <td>[tt7888884]</td>\n",
       "    </tr>\n",
       "    <tr>\n",
       "      <th>964586</th>\n",
       "      <td>nm9993693</td>\n",
       "      <td>[tt11580944, tt12856788, tt13847502, tt8302382]</td>\n",
       "    </tr>\n",
       "  </tbody>\n",
       "</table>\n",
       "<p>964587 rows × 2 columns</p>\n",
       "</div>"
      ],
      "text/plain": [
       "           nconst                                   knownForTitles\n",
       "0       nm0000001     [tt0050419, tt0031983, tt0072308, tt0053137]\n",
       "1       nm0000002     [tt0037382, tt0038355, tt0071877, tt0117057]\n",
       "2       nm0000003     [tt0057345, tt0056404, tt0054452, tt0049189]\n",
       "3       nm0000004     [tt0080455, tt0078723, tt0072562, tt0077975]\n",
       "4       nm0000005     [tt0050986, tt0083922, tt0060827, tt0069467]\n",
       "...           ...                                              ...\n",
       "964582  nm9993616                                      [tt4844148]\n",
       "964583  nm9993650                                      [tt8739208]\n",
       "964584  nm9993690                                      [tt7888884]\n",
       "964585  nm9993691                                      [tt7888884]\n",
       "964586  nm9993693  [tt11580944, tt12856788, tt13847502, tt8302382]\n",
       "\n",
       "[964587 rows x 2 columns]"
      ]
     },
     "execution_count": 28,
     "metadata": {},
     "output_type": "execute_result"
    }
   ],
   "source": [
    "names"
   ]
  },
  {
   "cell_type": "code",
   "execution_count": 27,
   "metadata": {},
   "outputs": [],
   "source": [
    "names['nconst'].dropna(inplace = True) "
   ]
  },
  {
   "cell_type": "code",
   "execution_count": 29,
   "metadata": {},
   "outputs": [],
   "source": [
    "names_title_dict = names.set_index('nconst').to_dict()['knownForTitles']"
   ]
  },
  {
   "cell_type": "code",
   "execution_count": 39,
   "metadata": {},
   "outputs": [],
   "source": [
    "t = 'tt0000502'"
   ]
  },
  {
   "cell_type": "code",
   "execution_count": 51,
   "metadata": {},
   "outputs": [],
   "source": [
    "people = set()"
   ]
  },
  {
   "cell_type": "code",
   "execution_count": 52,
   "metadata": {},
   "outputs": [],
   "source": [
    "people.update(principal[principal['tconst'] == t]['nconst'].values)"
   ]
  },
  {
   "cell_type": "code",
   "execution_count": 54,
   "metadata": {},
   "outputs": [],
   "source": [
    "people.update(split_names(crew[crew['tconst'] == t]['directors'].values[0]))\n",
    "people.update(split_names(crew[crew['tconst'] == t]['writers'].values[0]))"
   ]
  },
  {
   "cell_type": "code",
   "execution_count": 55,
   "metadata": {},
   "outputs": [
    {
     "data": {
      "text/plain": [
       "{'nm0063413', 'nm0215752', 'nm0252720', 'nm0657268', 'nm0675388'}"
      ]
     },
     "execution_count": 55,
     "metadata": {},
     "output_type": "execute_result"
    }
   ],
   "source": [
    "people"
   ]
  },
  {
   "cell_type": "code",
   "execution_count": 67,
   "metadata": {},
   "outputs": [
    {
     "name": "stdout",
     "output_type": "stream",
     "text": [
      "['tt0004406', 'tt0000941', 'tt0002886', 'tt0024495']\n",
      "['tt0000502']\n",
      "['tt0031112', 'tt0208070', 'tt0088954', 'tt0064102']\n",
      "['tt0088954', 'tt0064102', 'tt0208070', 'tt0031112']\n",
      "['tt0000502']\n"
     ]
    }
   ],
   "source": [
    "related = set()\n",
    "for p in people:\n",
    "    print(names_title_dict[p])\n",
    "    related.update(names_title_dict[p])"
   ]
  },
  {
   "cell_type": "code",
   "execution_count": 75,
   "metadata": {},
   "outputs": [],
   "source": [
    "genres = []\n",
    "for r in related:\n",
    "    try:\n",
    "        genres = genres+title_genre_dict[r]\n",
    "    except:\n",
    "        pass"
   ]
  },
  {
   "cell_type": "code",
   "execution_count": 77,
   "metadata": {},
   "outputs": [
    {
     "data": {
      "text/plain": [
       "['Comedy', 'Musical', 'Drama', 'Comedy', 'Musical']"
      ]
     },
     "execution_count": 77,
     "metadata": {},
     "output_type": "execute_result"
    }
   ],
   "source": [
    "genres"
   ]
  },
  {
   "cell_type": "code",
   "execution_count": 78,
   "metadata": {},
   "outputs": [],
   "source": [
    "c = Counter(genres)"
   ]
  },
  {
   "cell_type": "code",
   "execution_count": 83,
   "metadata": {},
   "outputs": [
    {
     "data": {
      "text/plain": [
       "[('Comedy', 2), ('Musical', 2)]"
      ]
     },
     "execution_count": 83,
     "metadata": {},
     "output_type": "execute_result"
    }
   ],
   "source": [
    "c.most_common(2)"
   ]
  },
  {
   "cell_type": "code",
   "execution_count": 30,
   "metadata": {},
   "outputs": [],
   "source": [
    "def impute_genre(title, names_title_dict, \n",
    "                 title_genre_dict, \n",
    "                 principal,\n",
    "                 crew):\n",
    "    people = set()\n",
    "    \n",
    "    people.update(principal[principal['tconst'] == title]['nconst'].values)\n",
    "    people.update(split_names(crew[crew['tconst'] == title]['directors'].values[0]))\n",
    "    people.update(split_names(crew[crew['tconst'] == title]['writers'].values[0]))\n",
    "    \n",
    "    related = set()\n",
    "    print(people)\n",
    "    for p in people:\n",
    "#         print(names_title_dict[p])\n",
    "        related.update(names_title_dict[p])\n",
    "    \n",
    "    genres = []\n",
    "    for r in related:\n",
    "        try:\n",
    "            genres = genres+title_genre_dict[r]\n",
    "        except:\n",
    "            pass\n",
    "        \n",
    "    c = Counter(genres)\n",
    "    comm = c.most_common(2)\n",
    "#     print(comm)\n",
    "    impute = []\n",
    "    for item in comm:\n",
    "        impute.append(item[0])\n",
    "        \n",
    "    return impute\n",
    "    "
   ]
  },
  {
   "cell_type": "code",
   "execution_count": null,
   "metadata": {},
   "outputs": [],
   "source": []
  },
  {
   "cell_type": "code",
   "execution_count": 35,
   "metadata": {},
   "outputs": [
    {
     "name": "stdout",
     "output_type": "stream",
     "text": [
      "{'nm0718213', 'nm0029787', 'nm0005777', 'nm0541004', 'nm0402895', 'nm0802445', 'nm0352278', 'nm0116753', 'nm0081411', 'nm0036120'}\n"
     ]
    },
    {
     "data": {
      "text/plain": [
       "['Drama', 'Comedy']"
      ]
     },
     "execution_count": 35,
     "metadata": {},
     "output_type": "execute_result"
    }
   ],
   "source": [
    "impute_genre('tt0076430', names_title_dict, \n",
    "                 title_genre_dict, \n",
    "                 principal,\n",
    "                 crew)"
   ]
  },
  {
   "cell_type": "code",
   "execution_count": null,
   "metadata": {},
   "outputs": [],
   "source": [
    "title_rating['genres'] == title_rating.parallel_apply(lambda x: impute_genre(x['tconst'], names_title_dict, \n",
    "                                                                             title_genre_dict, \n",
    "                                                                             principal,\n",
    "                                                                             crew) if x['genres'] == '' else x['genres'])"
   ]
  }
 ],
 "metadata": {
  "kernelspec": {
   "display_name": "Python 3",
   "language": "python",
   "name": "python3"
  },
  "language_info": {
   "codemirror_mode": {
    "name": "ipython",
    "version": 3
   },
   "file_extension": ".py",
   "mimetype": "text/x-python",
   "name": "python",
   "nbconvert_exporter": "python",
   "pygments_lexer": "ipython3",
   "version": "3.7.6"
  }
 },
 "nbformat": 4,
 "nbformat_minor": 4
}
