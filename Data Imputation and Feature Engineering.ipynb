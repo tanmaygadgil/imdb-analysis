{
 "cells": [
  {
   "cell_type": "markdown",
   "metadata": {},
   "source": [
    "# Data Imputation and Feature Engineering"
   ]
  },
  {
   "cell_type": "code",
   "execution_count": 1,
   "metadata": {},
   "outputs": [],
   "source": [
    "# !pip install tmdbv3api"
   ]
  },
  {
   "cell_type": "code",
   "execution_count": 1,
   "metadata": {},
   "outputs": [],
   "source": [
    "API_KEY = '5b9105a64cdd16b8cc9259f36cae74d0'"
   ]
  },
  {
   "cell_type": "code",
   "execution_count": null,
   "metadata": {},
   "outputs": [],
   "source": []
  },
  {
   "cell_type": "code",
   "execution_count": 2,
   "metadata": {},
   "outputs": [],
   "source": [
    "from tmdbv3api import Movie"
   ]
  },
  {
   "cell_type": "code",
   "execution_count": 3,
   "metadata": {},
   "outputs": [],
   "source": [
    "from tmdbv3api import TMDb"
   ]
  },
  {
   "cell_type": "code",
   "execution_count": 4,
   "metadata": {},
   "outputs": [],
   "source": [
    "import requests"
   ]
  },
  {
   "cell_type": "code",
   "execution_count": 5,
   "metadata": {},
   "outputs": [],
   "source": [
    "tmdb = TMDb()\n",
    "tmdb.api_key = API_KEY"
   ]
  },
  {
   "cell_type": "code",
   "execution_count": 6,
   "metadata": {},
   "outputs": [],
   "source": [
    "import pandas as pd\n",
    "import numpy as np\n",
    "import matplotlib.pyplot as plt"
   ]
  },
  {
   "cell_type": "code",
   "execution_count": 7,
   "metadata": {},
   "outputs": [],
   "source": [
    "from collections import Counter"
   ]
  },
  {
   "cell_type": "code",
   "execution_count": 8,
   "metadata": {},
   "outputs": [],
   "source": [
    "import os \n",
    "import sys"
   ]
  },
  {
   "cell_type": "code",
   "execution_count": 9,
   "metadata": {},
   "outputs": [],
   "source": [
    "from tqdm import tqdm"
   ]
  },
  {
   "cell_type": "code",
   "execution_count": 10,
   "metadata": {},
   "outputs": [],
   "source": [
    "import json"
   ]
  },
  {
   "cell_type": "code",
   "execution_count": 11,
   "metadata": {},
   "outputs": [],
   "source": [
    "import tqdm.notebook as tq"
   ]
  },
  {
   "cell_type": "code",
   "execution_count": 12,
   "metadata": {},
   "outputs": [
    {
     "name": "stderr",
     "output_type": "stream",
     "text": [
      "/home/tanmay/anaconda3/lib/python3.7/site-packages/ipykernel_launcher.py:1: FutureWarning: The Panel class is removed from pandas. Accessing it from the top-level namespace will also be removed in the next version\n",
      "  \"\"\"Entry point for launching an IPython kernel.\n"
     ]
    }
   ],
   "source": [
    "from pandas import Panel"
   ]
  },
  {
   "cell_type": "code",
   "execution_count": 13,
   "metadata": {},
   "outputs": [
    {
     "name": "stderr",
     "output_type": "stream",
     "text": [
      "/home/tanmay/anaconda3/lib/python3.7/site-packages/tqdm/std.py:658: FutureWarning: The Panel class is removed from pandas. Accessing it from the top-level namespace will also be removed in the next version\n",
      "  from pandas import Panel\n"
     ]
    }
   ],
   "source": [
    "tqdm.pandas()"
   ]
  },
  {
   "cell_type": "code",
   "execution_count": 14,
   "metadata": {},
   "outputs": [],
   "source": [
    "from pandarallel import pandarallel"
   ]
  },
  {
   "cell_type": "code",
   "execution_count": 15,
   "metadata": {},
   "outputs": [
    {
     "name": "stdout",
     "output_type": "stream",
     "text": [
      "INFO: Pandarallel will run on 4 workers.\n",
      "INFO: Pandarallel will use Memory file system to transfer data between the main process and workers.\n"
     ]
    }
   ],
   "source": [
    "pandarallel.initialize(progress_bar=True)"
   ]
  },
  {
   "cell_type": "markdown",
   "metadata": {},
   "source": [
    "## Utils"
   ]
  },
  {
   "cell_type": "code",
   "execution_count": 10,
   "metadata": {},
   "outputs": [],
   "source": [
    "def split_names(x):\n",
    "    \n",
    "    \"\"\"\n",
    "    A df function that will split a string of names for further processing\n",
    "    \"\"\"\n",
    "    \n",
    "    return [n for n in x.split(',') if (not pd.isna(x) and not x == '')]"
   ]
  },
  {
   "cell_type": "code",
   "execution_count": null,
   "metadata": {},
   "outputs": [],
   "source": []
  },
  {
   "cell_type": "code",
   "execution_count": null,
   "metadata": {},
   "outputs": [],
   "source": []
  },
  {
   "cell_type": "markdown",
   "metadata": {},
   "source": [
    "## Data Imputation"
   ]
  },
  {
   "cell_type": "markdown",
   "metadata": {},
   "source": [
    "The first step is to impute missing data from our datasets.\n",
    "Feature to be imputed are:\n",
    "- Genres\n",
    "- runtime\n",
    "- num votes\n"
   ]
  },
  {
   "cell_type": "markdown",
   "metadata": {},
   "source": [
    "### Genres"
   ]
  },
  {
   "cell_type": "code",
   "execution_count": 11,
   "metadata": {},
   "outputs": [],
   "source": [
    "title_rating = pd.read_csv('processed/title_rating.csv')"
   ]
  },
  {
   "cell_type": "code",
   "execution_count": 12,
   "metadata": {},
   "outputs": [
    {
     "data": {
      "text/html": [
       "<div>\n",
       "<style scoped>\n",
       "    .dataframe tbody tr th:only-of-type {\n",
       "        vertical-align: middle;\n",
       "    }\n",
       "\n",
       "    .dataframe tbody tr th {\n",
       "        vertical-align: top;\n",
       "    }\n",
       "\n",
       "    .dataframe thead th {\n",
       "        text-align: right;\n",
       "    }\n",
       "</style>\n",
       "<table border=\"1\" class=\"dataframe\">\n",
       "  <thead>\n",
       "    <tr style=\"text-align: right;\">\n",
       "      <th></th>\n",
       "      <th>tconst</th>\n",
       "      <th>titleType</th>\n",
       "      <th>primaryTitle</th>\n",
       "      <th>originalTitle</th>\n",
       "      <th>isAdult</th>\n",
       "      <th>startYear</th>\n",
       "      <th>endYear</th>\n",
       "      <th>runtimeMinutes</th>\n",
       "      <th>genres</th>\n",
       "      <th>averageRating</th>\n",
       "      <th>numVotes</th>\n",
       "    </tr>\n",
       "  </thead>\n",
       "  <tbody>\n",
       "    <tr>\n",
       "      <th>0</th>\n",
       "      <td>tt0000502</td>\n",
       "      <td>movie</td>\n",
       "      <td>Bohemios</td>\n",
       "      <td>Bohemios</td>\n",
       "      <td>0</td>\n",
       "      <td>1970-01-01 00:00:00.000001905</td>\n",
       "      <td>NaN</td>\n",
       "      <td>100.0</td>\n",
       "      <td>NaN</td>\n",
       "      <td>4.5</td>\n",
       "      <td>14</td>\n",
       "    </tr>\n",
       "    <tr>\n",
       "      <th>1</th>\n",
       "      <td>tt0000574</td>\n",
       "      <td>movie</td>\n",
       "      <td>The Story of the Kelly Gang</td>\n",
       "      <td>The Story of the Kelly Gang</td>\n",
       "      <td>0</td>\n",
       "      <td>1970-01-01 00:00:00.000001906</td>\n",
       "      <td>NaN</td>\n",
       "      <td>70.0</td>\n",
       "      <td>Action,Adventure,Biography</td>\n",
       "      <td>6.0</td>\n",
       "      <td>754</td>\n",
       "    </tr>\n",
       "    <tr>\n",
       "      <th>2</th>\n",
       "      <td>tt0000591</td>\n",
       "      <td>movie</td>\n",
       "      <td>The Prodigal Son</td>\n",
       "      <td>L'enfant prodigue</td>\n",
       "      <td>0</td>\n",
       "      <td>1970-01-01 00:00:00.000001907</td>\n",
       "      <td>NaN</td>\n",
       "      <td>90.0</td>\n",
       "      <td>Drama</td>\n",
       "      <td>4.6</td>\n",
       "      <td>17</td>\n",
       "    </tr>\n",
       "    <tr>\n",
       "      <th>3</th>\n",
       "      <td>tt0000615</td>\n",
       "      <td>movie</td>\n",
       "      <td>Robbery Under Arms</td>\n",
       "      <td>Robbery Under Arms</td>\n",
       "      <td>0</td>\n",
       "      <td>1970-01-01 00:00:00.000001907</td>\n",
       "      <td>NaN</td>\n",
       "      <td>NaN</td>\n",
       "      <td>Drama</td>\n",
       "      <td>4.5</td>\n",
       "      <td>23</td>\n",
       "    </tr>\n",
       "    <tr>\n",
       "      <th>4</th>\n",
       "      <td>tt0000630</td>\n",
       "      <td>movie</td>\n",
       "      <td>Hamlet</td>\n",
       "      <td>Amleto</td>\n",
       "      <td>0</td>\n",
       "      <td>1970-01-01 00:00:00.000001908</td>\n",
       "      <td>NaN</td>\n",
       "      <td>NaN</td>\n",
       "      <td>Drama</td>\n",
       "      <td>3.8</td>\n",
       "      <td>24</td>\n",
       "    </tr>\n",
       "  </tbody>\n",
       "</table>\n",
       "</div>"
      ],
      "text/plain": [
       "      tconst titleType                 primaryTitle  \\\n",
       "0  tt0000502     movie                     Bohemios   \n",
       "1  tt0000574     movie  The Story of the Kelly Gang   \n",
       "2  tt0000591     movie             The Prodigal Son   \n",
       "3  tt0000615     movie           Robbery Under Arms   \n",
       "4  tt0000630     movie                       Hamlet   \n",
       "\n",
       "                 originalTitle  isAdult                      startYear  \\\n",
       "0                     Bohemios        0  1970-01-01 00:00:00.000001905   \n",
       "1  The Story of the Kelly Gang        0  1970-01-01 00:00:00.000001906   \n",
       "2            L'enfant prodigue        0  1970-01-01 00:00:00.000001907   \n",
       "3           Robbery Under Arms        0  1970-01-01 00:00:00.000001907   \n",
       "4                       Amleto        0  1970-01-01 00:00:00.000001908   \n",
       "\n",
       "   endYear  runtimeMinutes                      genres  averageRating  \\\n",
       "0      NaN           100.0                         NaN            4.5   \n",
       "1      NaN            70.0  Action,Adventure,Biography            6.0   \n",
       "2      NaN            90.0                       Drama            4.6   \n",
       "3      NaN             NaN                       Drama            4.5   \n",
       "4      NaN             NaN                       Drama            3.8   \n",
       "\n",
       "   numVotes  \n",
       "0        14  \n",
       "1       754  \n",
       "2        17  \n",
       "3        23  \n",
       "4        24  "
      ]
     },
     "execution_count": 12,
     "metadata": {},
     "output_type": "execute_result"
    }
   ],
   "source": [
    "title_rating.head()"
   ]
  },
  {
   "cell_type": "code",
   "execution_count": 13,
   "metadata": {},
   "outputs": [],
   "source": [
    "title_rating.genres.fillna('', inplace = True)"
   ]
  },
  {
   "cell_type": "code",
   "execution_count": 14,
   "metadata": {},
   "outputs": [
    {
     "data": {
      "text/plain": [
       "0"
      ]
     },
     "execution_count": 14,
     "metadata": {},
     "output_type": "execute_result"
    }
   ],
   "source": [
    "title_rating.genres.isna().sum()"
   ]
  },
  {
   "cell_type": "markdown",
   "metadata": {},
   "source": [
    "We have 11,666 values that need to be imputed"
   ]
  },
  {
   "cell_type": "markdown",
   "metadata": {},
   "source": [
    "**Imputation strategy**\n",
    "\n",
    "One way to impute genre values is to consider the people working on that movie. Generally people tend to work on similar movies and we can use this hypothesis to impute genre values "
   ]
  },
  {
   "cell_type": "code",
   "execution_count": 15,
   "metadata": {},
   "outputs": [],
   "source": [
    "crew = pd.read_csv('processed/title_rating_crew.csv')\n",
    "principal = pd.read_csv('processed/title_rating_principal.csv')"
   ]
  },
  {
   "cell_type": "code",
   "execution_count": 16,
   "metadata": {},
   "outputs": [],
   "source": [
    "crew['directors'].replace({'\\\\N': ''}, inplace = True)\n",
    "crew['writers'].replace({'\\\\N': ''}, inplace = True)\n",
    "principal['nconst'].replace({'\\\\N': ''}, inplace = True)"
   ]
  },
  {
   "cell_type": "code",
   "execution_count": 17,
   "metadata": {},
   "outputs": [],
   "source": [
    "names = pd.read_csv('processed/name_basics.csv')"
   ]
  },
  {
   "cell_type": "code",
   "execution_count": 18,
   "metadata": {},
   "outputs": [
    {
     "data": {
      "text/html": [
       "<div>\n",
       "<style scoped>\n",
       "    .dataframe tbody tr th:only-of-type {\n",
       "        vertical-align: middle;\n",
       "    }\n",
       "\n",
       "    .dataframe tbody tr th {\n",
       "        vertical-align: top;\n",
       "    }\n",
       "\n",
       "    .dataframe thead th {\n",
       "        text-align: right;\n",
       "    }\n",
       "</style>\n",
       "<table border=\"1\" class=\"dataframe\">\n",
       "  <thead>\n",
       "    <tr style=\"text-align: right;\">\n",
       "      <th></th>\n",
       "      <th>tconst</th>\n",
       "      <th>titleType</th>\n",
       "      <th>primaryTitle</th>\n",
       "      <th>originalTitle</th>\n",
       "      <th>isAdult</th>\n",
       "      <th>startYear</th>\n",
       "      <th>endYear</th>\n",
       "      <th>runtimeMinutes</th>\n",
       "      <th>genres</th>\n",
       "      <th>averageRating</th>\n",
       "      <th>numVotes</th>\n",
       "      <th>directors</th>\n",
       "      <th>writers</th>\n",
       "    </tr>\n",
       "  </thead>\n",
       "  <tbody>\n",
       "    <tr>\n",
       "      <th>0</th>\n",
       "      <td>tt0000502</td>\n",
       "      <td>movie</td>\n",
       "      <td>Bohemios</td>\n",
       "      <td>Bohemios</td>\n",
       "      <td>0</td>\n",
       "      <td>1970-01-01 00:00:00.000001905</td>\n",
       "      <td>NaN</td>\n",
       "      <td>100.0</td>\n",
       "      <td>NaN</td>\n",
       "      <td>4.5</td>\n",
       "      <td>14</td>\n",
       "      <td>nm0063413</td>\n",
       "      <td>nm0063413,nm0657268,nm0675388</td>\n",
       "    </tr>\n",
       "    <tr>\n",
       "      <th>1</th>\n",
       "      <td>tt0000574</td>\n",
       "      <td>movie</td>\n",
       "      <td>The Story of the Kelly Gang</td>\n",
       "      <td>The Story of the Kelly Gang</td>\n",
       "      <td>0</td>\n",
       "      <td>1970-01-01 00:00:00.000001906</td>\n",
       "      <td>NaN</td>\n",
       "      <td>70.0</td>\n",
       "      <td>Action,Adventure,Biography</td>\n",
       "      <td>6.0</td>\n",
       "      <td>754</td>\n",
       "      <td>nm0846879</td>\n",
       "      <td>nm0846879</td>\n",
       "    </tr>\n",
       "    <tr>\n",
       "      <th>2</th>\n",
       "      <td>tt0000591</td>\n",
       "      <td>movie</td>\n",
       "      <td>The Prodigal Son</td>\n",
       "      <td>L'enfant prodigue</td>\n",
       "      <td>0</td>\n",
       "      <td>1970-01-01 00:00:00.000001907</td>\n",
       "      <td>NaN</td>\n",
       "      <td>90.0</td>\n",
       "      <td>Drama</td>\n",
       "      <td>4.6</td>\n",
       "      <td>17</td>\n",
       "      <td>nm0141150</td>\n",
       "      <td>nm0141150</td>\n",
       "    </tr>\n",
       "    <tr>\n",
       "      <th>3</th>\n",
       "      <td>tt0000615</td>\n",
       "      <td>movie</td>\n",
       "      <td>Robbery Under Arms</td>\n",
       "      <td>Robbery Under Arms</td>\n",
       "      <td>0</td>\n",
       "      <td>1970-01-01 00:00:00.000001907</td>\n",
       "      <td>NaN</td>\n",
       "      <td>NaN</td>\n",
       "      <td>Drama</td>\n",
       "      <td>4.5</td>\n",
       "      <td>23</td>\n",
       "      <td>nm0533958</td>\n",
       "      <td>nm0092809,nm0533958</td>\n",
       "    </tr>\n",
       "    <tr>\n",
       "      <th>4</th>\n",
       "      <td>tt0000630</td>\n",
       "      <td>movie</td>\n",
       "      <td>Hamlet</td>\n",
       "      <td>Amleto</td>\n",
       "      <td>0</td>\n",
       "      <td>1970-01-01 00:00:00.000001908</td>\n",
       "      <td>NaN</td>\n",
       "      <td>NaN</td>\n",
       "      <td>Drama</td>\n",
       "      <td>3.8</td>\n",
       "      <td>24</td>\n",
       "      <td>nm0143333</td>\n",
       "      <td>nm0000636</td>\n",
       "    </tr>\n",
       "    <tr>\n",
       "      <th>...</th>\n",
       "      <td>...</td>\n",
       "      <td>...</td>\n",
       "      <td>...</td>\n",
       "      <td>...</td>\n",
       "      <td>...</td>\n",
       "      <td>...</td>\n",
       "      <td>...</td>\n",
       "      <td>...</td>\n",
       "      <td>...</td>\n",
       "      <td>...</td>\n",
       "      <td>...</td>\n",
       "      <td>...</td>\n",
       "      <td>...</td>\n",
       "    </tr>\n",
       "    <tr>\n",
       "      <th>323829</th>\n",
       "      <td>tt9916362</td>\n",
       "      <td>movie</td>\n",
       "      <td>Coven</td>\n",
       "      <td>Akelarre</td>\n",
       "      <td>0</td>\n",
       "      <td>2020-01-01</td>\n",
       "      <td>NaN</td>\n",
       "      <td>92.0</td>\n",
       "      <td>Drama,History</td>\n",
       "      <td>6.4</td>\n",
       "      <td>4447</td>\n",
       "      <td>nm1893148</td>\n",
       "      <td>nm1893148,nm3471432</td>\n",
       "    </tr>\n",
       "    <tr>\n",
       "      <th>323830</th>\n",
       "      <td>tt9916428</td>\n",
       "      <td>movie</td>\n",
       "      <td>The Secret of China</td>\n",
       "      <td>Hong xing zhao yao Zhong guo</td>\n",
       "      <td>0</td>\n",
       "      <td>2019-01-01</td>\n",
       "      <td>NaN</td>\n",
       "      <td>NaN</td>\n",
       "      <td>Adventure,History,War</td>\n",
       "      <td>3.8</td>\n",
       "      <td>14</td>\n",
       "      <td>nm0910951</td>\n",
       "      <td></td>\n",
       "    </tr>\n",
       "    <tr>\n",
       "      <th>323831</th>\n",
       "      <td>tt9916460</td>\n",
       "      <td>tvMovie</td>\n",
       "      <td>Pink Taxi</td>\n",
       "      <td>Pink Taxi</td>\n",
       "      <td>0</td>\n",
       "      <td>2019-01-01</td>\n",
       "      <td>NaN</td>\n",
       "      <td>NaN</td>\n",
       "      <td>Comedy</td>\n",
       "      <td>9.3</td>\n",
       "      <td>17</td>\n",
       "      <td>nm7048843</td>\n",
       "      <td>nm7048843,nm8691452</td>\n",
       "    </tr>\n",
       "    <tr>\n",
       "      <th>323832</th>\n",
       "      <td>tt9916538</td>\n",
       "      <td>movie</td>\n",
       "      <td>Kuambil Lagi Hatiku</td>\n",
       "      <td>Kuambil Lagi Hatiku</td>\n",
       "      <td>0</td>\n",
       "      <td>2019-01-01</td>\n",
       "      <td>NaN</td>\n",
       "      <td>123.0</td>\n",
       "      <td>Drama</td>\n",
       "      <td>8.3</td>\n",
       "      <td>6</td>\n",
       "      <td>nm4457074</td>\n",
       "      <td>nm4843252,nm4900525,nm2679404</td>\n",
       "    </tr>\n",
       "    <tr>\n",
       "      <th>323833</th>\n",
       "      <td>tt9916730</td>\n",
       "      <td>movie</td>\n",
       "      <td>6 Gunn</td>\n",
       "      <td>6 Gunn</td>\n",
       "      <td>0</td>\n",
       "      <td>2017-01-01</td>\n",
       "      <td>NaN</td>\n",
       "      <td>116.0</td>\n",
       "      <td>NaN</td>\n",
       "      <td>8.4</td>\n",
       "      <td>5</td>\n",
       "      <td>nm10538612</td>\n",
       "      <td>nm10538612</td>\n",
       "    </tr>\n",
       "  </tbody>\n",
       "</table>\n",
       "<p>323834 rows × 13 columns</p>\n",
       "</div>"
      ],
      "text/plain": [
       "           tconst titleType                 primaryTitle  \\\n",
       "0       tt0000502     movie                     Bohemios   \n",
       "1       tt0000574     movie  The Story of the Kelly Gang   \n",
       "2       tt0000591     movie             The Prodigal Son   \n",
       "3       tt0000615     movie           Robbery Under Arms   \n",
       "4       tt0000630     movie                       Hamlet   \n",
       "...           ...       ...                          ...   \n",
       "323829  tt9916362     movie                        Coven   \n",
       "323830  tt9916428     movie          The Secret of China   \n",
       "323831  tt9916460   tvMovie                    Pink Taxi   \n",
       "323832  tt9916538     movie          Kuambil Lagi Hatiku   \n",
       "323833  tt9916730     movie                       6 Gunn   \n",
       "\n",
       "                       originalTitle  isAdult                      startYear  \\\n",
       "0                           Bohemios        0  1970-01-01 00:00:00.000001905   \n",
       "1        The Story of the Kelly Gang        0  1970-01-01 00:00:00.000001906   \n",
       "2                  L'enfant prodigue        0  1970-01-01 00:00:00.000001907   \n",
       "3                 Robbery Under Arms        0  1970-01-01 00:00:00.000001907   \n",
       "4                             Amleto        0  1970-01-01 00:00:00.000001908   \n",
       "...                              ...      ...                            ...   \n",
       "323829                      Akelarre        0                     2020-01-01   \n",
       "323830  Hong xing zhao yao Zhong guo        0                     2019-01-01   \n",
       "323831                     Pink Taxi        0                     2019-01-01   \n",
       "323832           Kuambil Lagi Hatiku        0                     2019-01-01   \n",
       "323833                        6 Gunn        0                     2017-01-01   \n",
       "\n",
       "        endYear  runtimeMinutes                      genres  averageRating  \\\n",
       "0           NaN           100.0                         NaN            4.5   \n",
       "1           NaN            70.0  Action,Adventure,Biography            6.0   \n",
       "2           NaN            90.0                       Drama            4.6   \n",
       "3           NaN             NaN                       Drama            4.5   \n",
       "4           NaN             NaN                       Drama            3.8   \n",
       "...         ...             ...                         ...            ...   \n",
       "323829      NaN            92.0               Drama,History            6.4   \n",
       "323830      NaN             NaN       Adventure,History,War            3.8   \n",
       "323831      NaN             NaN                      Comedy            9.3   \n",
       "323832      NaN           123.0                       Drama            8.3   \n",
       "323833      NaN           116.0                         NaN            8.4   \n",
       "\n",
       "        numVotes   directors                        writers  \n",
       "0             14   nm0063413  nm0063413,nm0657268,nm0675388  \n",
       "1            754   nm0846879                      nm0846879  \n",
       "2             17   nm0141150                      nm0141150  \n",
       "3             23   nm0533958            nm0092809,nm0533958  \n",
       "4             24   nm0143333                      nm0000636  \n",
       "...          ...         ...                            ...  \n",
       "323829      4447   nm1893148            nm1893148,nm3471432  \n",
       "323830        14   nm0910951                                 \n",
       "323831        17   nm7048843            nm7048843,nm8691452  \n",
       "323832         6   nm4457074  nm4843252,nm4900525,nm2679404  \n",
       "323833         5  nm10538612                     nm10538612  \n",
       "\n",
       "[323834 rows x 13 columns]"
      ]
     },
     "execution_count": 18,
     "metadata": {},
     "output_type": "execute_result"
    }
   ],
   "source": [
    "crew"
   ]
  },
  {
   "cell_type": "code",
   "execution_count": 19,
   "metadata": {},
   "outputs": [
    {
     "data": {
      "text/html": [
       "<div>\n",
       "<style scoped>\n",
       "    .dataframe tbody tr th:only-of-type {\n",
       "        vertical-align: middle;\n",
       "    }\n",
       "\n",
       "    .dataframe tbody tr th {\n",
       "        vertical-align: top;\n",
       "    }\n",
       "\n",
       "    .dataframe thead th {\n",
       "        text-align: right;\n",
       "    }\n",
       "</style>\n",
       "<table border=\"1\" class=\"dataframe\">\n",
       "  <thead>\n",
       "    <tr style=\"text-align: right;\">\n",
       "      <th></th>\n",
       "      <th>tconst</th>\n",
       "      <th>titleType</th>\n",
       "      <th>primaryTitle</th>\n",
       "      <th>originalTitle</th>\n",
       "      <th>isAdult</th>\n",
       "      <th>startYear</th>\n",
       "      <th>endYear</th>\n",
       "      <th>runtimeMinutes</th>\n",
       "      <th>genres</th>\n",
       "      <th>averageRating</th>\n",
       "      <th>numVotes</th>\n",
       "      <th>ordering</th>\n",
       "      <th>nconst</th>\n",
       "      <th>category</th>\n",
       "      <th>job</th>\n",
       "      <th>characters</th>\n",
       "    </tr>\n",
       "  </thead>\n",
       "  <tbody>\n",
       "    <tr>\n",
       "      <th>0</th>\n",
       "      <td>tt0000502</td>\n",
       "      <td>movie</td>\n",
       "      <td>Bohemios</td>\n",
       "      <td>Bohemios</td>\n",
       "      <td>0</td>\n",
       "      <td>1970-01-01 00:00:00.000001905</td>\n",
       "      <td>NaN</td>\n",
       "      <td>100.0</td>\n",
       "      <td>NaN</td>\n",
       "      <td>4.5</td>\n",
       "      <td>14</td>\n",
       "      <td>1</td>\n",
       "      <td>nm0215752</td>\n",
       "      <td>actor</td>\n",
       "      <td>\\N</td>\n",
       "      <td>\\N</td>\n",
       "    </tr>\n",
       "    <tr>\n",
       "      <th>1</th>\n",
       "      <td>tt0000502</td>\n",
       "      <td>movie</td>\n",
       "      <td>Bohemios</td>\n",
       "      <td>Bohemios</td>\n",
       "      <td>0</td>\n",
       "      <td>1970-01-01 00:00:00.000001905</td>\n",
       "      <td>NaN</td>\n",
       "      <td>100.0</td>\n",
       "      <td>NaN</td>\n",
       "      <td>4.5</td>\n",
       "      <td>14</td>\n",
       "      <td>2</td>\n",
       "      <td>nm0252720</td>\n",
       "      <td>actor</td>\n",
       "      <td>\\N</td>\n",
       "      <td>\\N</td>\n",
       "    </tr>\n",
       "    <tr>\n",
       "      <th>2</th>\n",
       "      <td>tt0000502</td>\n",
       "      <td>movie</td>\n",
       "      <td>Bohemios</td>\n",
       "      <td>Bohemios</td>\n",
       "      <td>0</td>\n",
       "      <td>1970-01-01 00:00:00.000001905</td>\n",
       "      <td>NaN</td>\n",
       "      <td>100.0</td>\n",
       "      <td>NaN</td>\n",
       "      <td>4.5</td>\n",
       "      <td>14</td>\n",
       "      <td>3</td>\n",
       "      <td>nm0063413</td>\n",
       "      <td>director</td>\n",
       "      <td>\\N</td>\n",
       "      <td>\\N</td>\n",
       "    </tr>\n",
       "    <tr>\n",
       "      <th>3</th>\n",
       "      <td>tt0000502</td>\n",
       "      <td>movie</td>\n",
       "      <td>Bohemios</td>\n",
       "      <td>Bohemios</td>\n",
       "      <td>0</td>\n",
       "      <td>1970-01-01 00:00:00.000001905</td>\n",
       "      <td>NaN</td>\n",
       "      <td>100.0</td>\n",
       "      <td>NaN</td>\n",
       "      <td>4.5</td>\n",
       "      <td>14</td>\n",
       "      <td>4</td>\n",
       "      <td>nm0657268</td>\n",
       "      <td>writer</td>\n",
       "      <td>\\N</td>\n",
       "      <td>\\N</td>\n",
       "    </tr>\n",
       "    <tr>\n",
       "      <th>4</th>\n",
       "      <td>tt0000502</td>\n",
       "      <td>movie</td>\n",
       "      <td>Bohemios</td>\n",
       "      <td>Bohemios</td>\n",
       "      <td>0</td>\n",
       "      <td>1970-01-01 00:00:00.000001905</td>\n",
       "      <td>NaN</td>\n",
       "      <td>100.0</td>\n",
       "      <td>NaN</td>\n",
       "      <td>4.5</td>\n",
       "      <td>14</td>\n",
       "      <td>5</td>\n",
       "      <td>nm0675388</td>\n",
       "      <td>writer</td>\n",
       "      <td>\\N</td>\n",
       "      <td>\\N</td>\n",
       "    </tr>\n",
       "    <tr>\n",
       "      <th>...</th>\n",
       "      <td>...</td>\n",
       "      <td>...</td>\n",
       "      <td>...</td>\n",
       "      <td>...</td>\n",
       "      <td>...</td>\n",
       "      <td>...</td>\n",
       "      <td>...</td>\n",
       "      <td>...</td>\n",
       "      <td>...</td>\n",
       "      <td>...</td>\n",
       "      <td>...</td>\n",
       "      <td>...</td>\n",
       "      <td>...</td>\n",
       "      <td>...</td>\n",
       "      <td>...</td>\n",
       "      <td>...</td>\n",
       "    </tr>\n",
       "    <tr>\n",
       "      <th>2885442</th>\n",
       "      <td>tt9916730</td>\n",
       "      <td>movie</td>\n",
       "      <td>6 Gunn</td>\n",
       "      <td>6 Gunn</td>\n",
       "      <td>0</td>\n",
       "      <td>2017-01-01</td>\n",
       "      <td>NaN</td>\n",
       "      <td>116.0</td>\n",
       "      <td>NaN</td>\n",
       "      <td>8.4</td>\n",
       "      <td>5</td>\n",
       "      <td>5</td>\n",
       "      <td>nm10538612</td>\n",
       "      <td>director</td>\n",
       "      <td>\\N</td>\n",
       "      <td>\\N</td>\n",
       "    </tr>\n",
       "    <tr>\n",
       "      <th>2885443</th>\n",
       "      <td>tt9916730</td>\n",
       "      <td>movie</td>\n",
       "      <td>6 Gunn</td>\n",
       "      <td>6 Gunn</td>\n",
       "      <td>0</td>\n",
       "      <td>2017-01-01</td>\n",
       "      <td>NaN</td>\n",
       "      <td>116.0</td>\n",
       "      <td>NaN</td>\n",
       "      <td>8.4</td>\n",
       "      <td>5</td>\n",
       "      <td>6</td>\n",
       "      <td>nm10538614</td>\n",
       "      <td>producer</td>\n",
       "      <td>producer</td>\n",
       "      <td>\\N</td>\n",
       "    </tr>\n",
       "    <tr>\n",
       "      <th>2885444</th>\n",
       "      <td>tt9916730</td>\n",
       "      <td>movie</td>\n",
       "      <td>6 Gunn</td>\n",
       "      <td>6 Gunn</td>\n",
       "      <td>0</td>\n",
       "      <td>2017-01-01</td>\n",
       "      <td>NaN</td>\n",
       "      <td>116.0</td>\n",
       "      <td>NaN</td>\n",
       "      <td>8.4</td>\n",
       "      <td>5</td>\n",
       "      <td>7</td>\n",
       "      <td>nm10538613</td>\n",
       "      <td>producer</td>\n",
       "      <td>associate producer</td>\n",
       "      <td>\\N</td>\n",
       "    </tr>\n",
       "    <tr>\n",
       "      <th>2885445</th>\n",
       "      <td>tt9916730</td>\n",
       "      <td>movie</td>\n",
       "      <td>6 Gunn</td>\n",
       "      <td>6 Gunn</td>\n",
       "      <td>0</td>\n",
       "      <td>2017-01-01</td>\n",
       "      <td>NaN</td>\n",
       "      <td>116.0</td>\n",
       "      <td>NaN</td>\n",
       "      <td>8.4</td>\n",
       "      <td>5</td>\n",
       "      <td>8</td>\n",
       "      <td>nm1957275</td>\n",
       "      <td>cinematographer</td>\n",
       "      <td>\\N</td>\n",
       "      <td>\\N</td>\n",
       "    </tr>\n",
       "    <tr>\n",
       "      <th>2885446</th>\n",
       "      <td>tt9916730</td>\n",
       "      <td>movie</td>\n",
       "      <td>6 Gunn</td>\n",
       "      <td>6 Gunn</td>\n",
       "      <td>0</td>\n",
       "      <td>2017-01-01</td>\n",
       "      <td>NaN</td>\n",
       "      <td>116.0</td>\n",
       "      <td>NaN</td>\n",
       "      <td>8.4</td>\n",
       "      <td>5</td>\n",
       "      <td>9</td>\n",
       "      <td>nm9785908</td>\n",
       "      <td>editor</td>\n",
       "      <td>\\N</td>\n",
       "      <td>\\N</td>\n",
       "    </tr>\n",
       "  </tbody>\n",
       "</table>\n",
       "<p>2885447 rows × 16 columns</p>\n",
       "</div>"
      ],
      "text/plain": [
       "            tconst titleType primaryTitle originalTitle  isAdult  \\\n",
       "0        tt0000502     movie     Bohemios      Bohemios        0   \n",
       "1        tt0000502     movie     Bohemios      Bohemios        0   \n",
       "2        tt0000502     movie     Bohemios      Bohemios        0   \n",
       "3        tt0000502     movie     Bohemios      Bohemios        0   \n",
       "4        tt0000502     movie     Bohemios      Bohemios        0   \n",
       "...            ...       ...          ...           ...      ...   \n",
       "2885442  tt9916730     movie       6 Gunn        6 Gunn        0   \n",
       "2885443  tt9916730     movie       6 Gunn        6 Gunn        0   \n",
       "2885444  tt9916730     movie       6 Gunn        6 Gunn        0   \n",
       "2885445  tt9916730     movie       6 Gunn        6 Gunn        0   \n",
       "2885446  tt9916730     movie       6 Gunn        6 Gunn        0   \n",
       "\n",
       "                             startYear  endYear  runtimeMinutes genres  \\\n",
       "0        1970-01-01 00:00:00.000001905      NaN           100.0    NaN   \n",
       "1        1970-01-01 00:00:00.000001905      NaN           100.0    NaN   \n",
       "2        1970-01-01 00:00:00.000001905      NaN           100.0    NaN   \n",
       "3        1970-01-01 00:00:00.000001905      NaN           100.0    NaN   \n",
       "4        1970-01-01 00:00:00.000001905      NaN           100.0    NaN   \n",
       "...                                ...      ...             ...    ...   \n",
       "2885442                     2017-01-01      NaN           116.0    NaN   \n",
       "2885443                     2017-01-01      NaN           116.0    NaN   \n",
       "2885444                     2017-01-01      NaN           116.0    NaN   \n",
       "2885445                     2017-01-01      NaN           116.0    NaN   \n",
       "2885446                     2017-01-01      NaN           116.0    NaN   \n",
       "\n",
       "         averageRating  numVotes  ordering      nconst         category  \\\n",
       "0                  4.5        14         1   nm0215752            actor   \n",
       "1                  4.5        14         2   nm0252720            actor   \n",
       "2                  4.5        14         3   nm0063413         director   \n",
       "3                  4.5        14         4   nm0657268           writer   \n",
       "4                  4.5        14         5   nm0675388           writer   \n",
       "...                ...       ...       ...         ...              ...   \n",
       "2885442            8.4         5         5  nm10538612         director   \n",
       "2885443            8.4         5         6  nm10538614         producer   \n",
       "2885444            8.4         5         7  nm10538613         producer   \n",
       "2885445            8.4         5         8   nm1957275  cinematographer   \n",
       "2885446            8.4         5         9   nm9785908           editor   \n",
       "\n",
       "                        job characters  \n",
       "0                        \\N         \\N  \n",
       "1                        \\N         \\N  \n",
       "2                        \\N         \\N  \n",
       "3                        \\N         \\N  \n",
       "4                        \\N         \\N  \n",
       "...                     ...        ...  \n",
       "2885442                  \\N         \\N  \n",
       "2885443            producer         \\N  \n",
       "2885444  associate producer         \\N  \n",
       "2885445                  \\N         \\N  \n",
       "2885446                  \\N         \\N  \n",
       "\n",
       "[2885447 rows x 16 columns]"
      ]
     },
     "execution_count": 19,
     "metadata": {},
     "output_type": "execute_result"
    }
   ],
   "source": [
    "principal"
   ]
  },
  {
   "cell_type": "code",
   "execution_count": 20,
   "metadata": {},
   "outputs": [],
   "source": [
    "#creating some useful data stuctures for further processing\n",
    "title_genre = title_rating[['tconst', 'genres']]"
   ]
  },
  {
   "cell_type": "code",
   "execution_count": 21,
   "metadata": {},
   "outputs": [
    {
     "name": "stderr",
     "output_type": "stream",
     "text": [
      "/home/tanmay/anaconda3/lib/python3.7/site-packages/ipykernel_launcher.py:1: SettingWithCopyWarning: \n",
      "A value is trying to be set on a copy of a slice from a DataFrame.\n",
      "Try using .loc[row_indexer,col_indexer] = value instead\n",
      "\n",
      "See the caveats in the documentation: https://pandas.pydata.org/pandas-docs/stable/user_guide/indexing.html#returning-a-view-versus-a-copy\n",
      "  \"\"\"Entry point for launching an IPython kernel.\n"
     ]
    }
   ],
   "source": [
    "title_genre['genres'] = title_genre['genres'].apply(lambda x: split_names(x))"
   ]
  },
  {
   "cell_type": "code",
   "execution_count": 22,
   "metadata": {},
   "outputs": [],
   "source": [
    "title_genre_dict = title_genre.set_index('tconst').to_dict()['genres']"
   ]
  },
  {
   "cell_type": "code",
   "execution_count": 23,
   "metadata": {},
   "outputs": [],
   "source": [
    "names['knownForTitles'].fillna('', inplace = True)"
   ]
  },
  {
   "cell_type": "code",
   "execution_count": 24,
   "metadata": {},
   "outputs": [],
   "source": [
    "names = names[['nconst', 'knownForTitles']]"
   ]
  },
  {
   "cell_type": "code",
   "execution_count": 25,
   "metadata": {},
   "outputs": [],
   "source": [
    "names['knownForTitles'] = names['knownForTitles'].apply(lambda x: split_names(x))\n"
   ]
  },
  {
   "cell_type": "code",
   "execution_count": 28,
   "metadata": {},
   "outputs": [
    {
     "data": {
      "text/html": [
       "<div>\n",
       "<style scoped>\n",
       "    .dataframe tbody tr th:only-of-type {\n",
       "        vertical-align: middle;\n",
       "    }\n",
       "\n",
       "    .dataframe tbody tr th {\n",
       "        vertical-align: top;\n",
       "    }\n",
       "\n",
       "    .dataframe thead th {\n",
       "        text-align: right;\n",
       "    }\n",
       "</style>\n",
       "<table border=\"1\" class=\"dataframe\">\n",
       "  <thead>\n",
       "    <tr style=\"text-align: right;\">\n",
       "      <th></th>\n",
       "      <th>nconst</th>\n",
       "      <th>knownForTitles</th>\n",
       "    </tr>\n",
       "  </thead>\n",
       "  <tbody>\n",
       "    <tr>\n",
       "      <th>0</th>\n",
       "      <td>nm0000001</td>\n",
       "      <td>[tt0050419, tt0031983, tt0072308, tt0053137]</td>\n",
       "    </tr>\n",
       "    <tr>\n",
       "      <th>1</th>\n",
       "      <td>nm0000002</td>\n",
       "      <td>[tt0037382, tt0038355, tt0071877, tt0117057]</td>\n",
       "    </tr>\n",
       "    <tr>\n",
       "      <th>2</th>\n",
       "      <td>nm0000003</td>\n",
       "      <td>[tt0057345, tt0056404, tt0054452, tt0049189]</td>\n",
       "    </tr>\n",
       "    <tr>\n",
       "      <th>3</th>\n",
       "      <td>nm0000004</td>\n",
       "      <td>[tt0080455, tt0078723, tt0072562, tt0077975]</td>\n",
       "    </tr>\n",
       "    <tr>\n",
       "      <th>4</th>\n",
       "      <td>nm0000005</td>\n",
       "      <td>[tt0050986, tt0083922, tt0060827, tt0069467]</td>\n",
       "    </tr>\n",
       "    <tr>\n",
       "      <th>...</th>\n",
       "      <td>...</td>\n",
       "      <td>...</td>\n",
       "    </tr>\n",
       "    <tr>\n",
       "      <th>964582</th>\n",
       "      <td>nm9993616</td>\n",
       "      <td>[tt4844148]</td>\n",
       "    </tr>\n",
       "    <tr>\n",
       "      <th>964583</th>\n",
       "      <td>nm9993650</td>\n",
       "      <td>[tt8739208]</td>\n",
       "    </tr>\n",
       "    <tr>\n",
       "      <th>964584</th>\n",
       "      <td>nm9993690</td>\n",
       "      <td>[tt7888884]</td>\n",
       "    </tr>\n",
       "    <tr>\n",
       "      <th>964585</th>\n",
       "      <td>nm9993691</td>\n",
       "      <td>[tt7888884]</td>\n",
       "    </tr>\n",
       "    <tr>\n",
       "      <th>964586</th>\n",
       "      <td>nm9993693</td>\n",
       "      <td>[tt11580944, tt12856788, tt13847502, tt8302382]</td>\n",
       "    </tr>\n",
       "  </tbody>\n",
       "</table>\n",
       "<p>964587 rows × 2 columns</p>\n",
       "</div>"
      ],
      "text/plain": [
       "           nconst                                   knownForTitles\n",
       "0       nm0000001     [tt0050419, tt0031983, tt0072308, tt0053137]\n",
       "1       nm0000002     [tt0037382, tt0038355, tt0071877, tt0117057]\n",
       "2       nm0000003     [tt0057345, tt0056404, tt0054452, tt0049189]\n",
       "3       nm0000004     [tt0080455, tt0078723, tt0072562, tt0077975]\n",
       "4       nm0000005     [tt0050986, tt0083922, tt0060827, tt0069467]\n",
       "...           ...                                              ...\n",
       "964582  nm9993616                                      [tt4844148]\n",
       "964583  nm9993650                                      [tt8739208]\n",
       "964584  nm9993690                                      [tt7888884]\n",
       "964585  nm9993691                                      [tt7888884]\n",
       "964586  nm9993693  [tt11580944, tt12856788, tt13847502, tt8302382]\n",
       "\n",
       "[964587 rows x 2 columns]"
      ]
     },
     "execution_count": 28,
     "metadata": {},
     "output_type": "execute_result"
    }
   ],
   "source": [
    "names"
   ]
  },
  {
   "cell_type": "code",
   "execution_count": 27,
   "metadata": {},
   "outputs": [],
   "source": [
    "names['nconst'].dropna(inplace = True) "
   ]
  },
  {
   "cell_type": "code",
   "execution_count": 29,
   "metadata": {},
   "outputs": [],
   "source": [
    "names_title_dict = names.set_index('nconst').to_dict()['knownForTitles']"
   ]
  },
  {
   "cell_type": "code",
   "execution_count": 39,
   "metadata": {},
   "outputs": [],
   "source": [
    "t = 'tt0000502'"
   ]
  },
  {
   "cell_type": "code",
   "execution_count": 51,
   "metadata": {},
   "outputs": [],
   "source": [
    "people = set()"
   ]
  },
  {
   "cell_type": "code",
   "execution_count": 52,
   "metadata": {},
   "outputs": [],
   "source": [
    "people.update(principal[principal['tconst'] == t]['nconst'].values)"
   ]
  },
  {
   "cell_type": "code",
   "execution_count": 54,
   "metadata": {},
   "outputs": [],
   "source": [
    "people.update(split_names(crew[crew['tconst'] == t]['directors'].values[0]))\n",
    "people.update(split_names(crew[crew['tconst'] == t]['writers'].values[0]))"
   ]
  },
  {
   "cell_type": "code",
   "execution_count": 55,
   "metadata": {},
   "outputs": [
    {
     "data": {
      "text/plain": [
       "{'nm0063413', 'nm0215752', 'nm0252720', 'nm0657268', 'nm0675388'}"
      ]
     },
     "execution_count": 55,
     "metadata": {},
     "output_type": "execute_result"
    }
   ],
   "source": [
    "people"
   ]
  },
  {
   "cell_type": "code",
   "execution_count": 67,
   "metadata": {},
   "outputs": [
    {
     "name": "stdout",
     "output_type": "stream",
     "text": [
      "['tt0004406', 'tt0000941', 'tt0002886', 'tt0024495']\n",
      "['tt0000502']\n",
      "['tt0031112', 'tt0208070', 'tt0088954', 'tt0064102']\n",
      "['tt0088954', 'tt0064102', 'tt0208070', 'tt0031112']\n",
      "['tt0000502']\n"
     ]
    }
   ],
   "source": [
    "related = set()\n",
    "for p in people:\n",
    "    print(names_title_dict[p])\n",
    "    related.update(names_title_dict[p])"
   ]
  },
  {
   "cell_type": "code",
   "execution_count": 75,
   "metadata": {},
   "outputs": [],
   "source": [
    "genres = []\n",
    "for r in related:\n",
    "    try:\n",
    "        genres = genres+title_genre_dict[r]\n",
    "    except:\n",
    "        pass"
   ]
  },
  {
   "cell_type": "code",
   "execution_count": 77,
   "metadata": {},
   "outputs": [
    {
     "data": {
      "text/plain": [
       "['Comedy', 'Musical', 'Drama', 'Comedy', 'Musical']"
      ]
     },
     "execution_count": 77,
     "metadata": {},
     "output_type": "execute_result"
    }
   ],
   "source": [
    "genres"
   ]
  },
  {
   "cell_type": "code",
   "execution_count": 78,
   "metadata": {},
   "outputs": [],
   "source": [
    "c = Counter(genres)"
   ]
  },
  {
   "cell_type": "code",
   "execution_count": 83,
   "metadata": {},
   "outputs": [
    {
     "data": {
      "text/plain": [
       "[('Comedy', 2), ('Musical', 2)]"
      ]
     },
     "execution_count": 83,
     "metadata": {},
     "output_type": "execute_result"
    }
   ],
   "source": [
    "c.most_common(2)"
   ]
  },
  {
   "cell_type": "code",
   "execution_count": 66,
   "metadata": {},
   "outputs": [],
   "source": [
    "def impute_genre(title, names_title_dict, \n",
    "                 title_genre_dict, \n",
    "                 principal,\n",
    "                 crew):\n",
    "    people = set()\n",
    "    \n",
    "    people.update(principal[principal['tconst'] == title]['nconst'].values)\n",
    "    people.update(split_names(crew[crew['tconst'] == title]['directors'].values[0]))\n",
    "    people.update(split_names(crew[crew['tconst'] == title]['writers'].values[0]))\n",
    "    \n",
    "    related = set()\n",
    "#     print(people)\n",
    "    for p in people:\n",
    "#         print(names_title_dict[p])\n",
    "        try:\n",
    "            related.update(names_title_dict[p])\n",
    "        except:\n",
    "            pass\n",
    "    \n",
    "    genres = []\n",
    "    for r in related:\n",
    "        try:\n",
    "            genres = genres+title_genre_dict[r]\n",
    "        except:\n",
    "            pass\n",
    "        \n",
    "    c = Counter(genres)\n",
    "    comm = c.most_common(2)\n",
    "#     print(comm)\n",
    "    impute = []\n",
    "    for item in comm:\n",
    "        impute.append(item[0])\n",
    "        \n",
    "    return impute\n",
    "    "
   ]
  },
  {
   "cell_type": "code",
   "execution_count": 67,
   "metadata": {},
   "outputs": [
    {
     "data": {
      "text/plain": [
       "['Drama', 'Comedy']"
      ]
     },
     "execution_count": 67,
     "metadata": {},
     "output_type": "execute_result"
    }
   ],
   "source": [
    "impute_genre('tt0076430', names_title_dict, \n",
    "                 title_genre_dict, \n",
    "                 principal,\n",
    "                 crew)"
   ]
  },
  {
   "cell_type": "code",
   "execution_count": 64,
   "metadata": {},
   "outputs": [],
   "source": [
    "# missing_genres =  title_rating[title_rating['genres'] == '']['tconst'].values"
   ]
  },
  {
   "cell_type": "code",
   "execution_count": 72,
   "metadata": {
    "scrolled": true,
    "slideshow": {
     "slide_type": "fragment"
    }
   },
   "outputs": [
    {
     "name": "stderr",
     "output_type": "stream",
     "text": [
      "100%|██████████| 323834/323834 [22:46<00:00, 382.43it/s] \n",
      "\n",
      "\u001b[A\u001b[A                                                  \n",
      "100%|██████████| 323834/323834 [22:46<00:00, 237.03it/s]"
     ]
    },
    {
     "name": "stdout",
     "output_type": "stream",
     "text": []
    },
    {
     "name": "stderr",
     "output_type": "stream",
     "text": [
      "\n"
     ]
    }
   ],
   "source": [
    "for key in tqdm(title_genre_dict.keys(), position=0, leave=True):\n",
    "    if title_genre_dict[key] == []:\n",
    "        title_genre_dict[key] = impute_genre(key, names_title_dict, \n",
    "                                             title_genre_dict, \n",
    "                                             principal,\n",
    "                                             crew)\n",
    "        "
   ]
  },
  {
   "cell_type": "code",
   "execution_count": 76,
   "metadata": {},
   "outputs": [],
   "source": [
    "e_c = 0\n",
    "for k in list(title_genre_dict.keys()):\n",
    "    if title_genre_dict[k] == []:\n",
    "        e_c+=1"
   ]
  },
  {
   "cell_type": "code",
   "execution_count": 81,
   "metadata": {},
   "outputs": [],
   "source": [
    "with open('processed/title_genre_dict.json', 'w') as f:\n",
    "    json.dump(title_genre_dict, f)"
   ]
  },
  {
   "cell_type": "code",
   "execution_count": 84,
   "metadata": {},
   "outputs": [
    {
     "name": "stderr",
     "output_type": "stream",
     "text": [
      "100%|██████████| 323834/323834 [00:00<00:00, 1790366.87it/s]"
     ]
    },
    {
     "name": "stdout",
     "output_type": "stream",
     "text": []
    },
    {
     "name": "stderr",
     "output_type": "stream",
     "text": [
      "\n"
     ]
    }
   ],
   "source": [
    "\n",
    "for k in tqdm(list(title_genre_dict.keys()),  position=0, leave=True):\n",
    "    title_genre_dict[k] = ','.join(title_genre_dict[k])"
   ]
  },
  {
   "cell_type": "code",
   "execution_count": 86,
   "metadata": {},
   "outputs": [],
   "source": [
    "t_g_df = pd.DataFrame.from_dict(title_genre_dict, orient='index')"
   ]
  },
  {
   "cell_type": "code",
   "execution_count": 88,
   "metadata": {},
   "outputs": [],
   "source": [
    "title_genre_new = pd.merge(title_genre, t_g_df, left_on='tconst', right_on=t_g_df)"
   ]
  },
  {
   "cell_type": "code",
   "execution_count": 89,
   "metadata": {},
   "outputs": [
    {
     "data": {
      "text/html": [
       "<div>\n",
       "<style scoped>\n",
       "    .dataframe tbody tr th:only-of-type {\n",
       "        vertical-align: middle;\n",
       "    }\n",
       "\n",
       "    .dataframe tbody tr th {\n",
       "        vertical-align: top;\n",
       "    }\n",
       "\n",
       "    .dataframe thead th {\n",
       "        text-align: right;\n",
       "    }\n",
       "</style>\n",
       "<table border=\"1\" class=\"dataframe\">\n",
       "  <thead>\n",
       "    <tr style=\"text-align: right;\">\n",
       "      <th></th>\n",
       "      <th>tconst</th>\n",
       "      <th>genres</th>\n",
       "      <th>0</th>\n",
       "    </tr>\n",
       "  </thead>\n",
       "  <tbody>\n",
       "    <tr>\n",
       "      <th>0</th>\n",
       "      <td>tt0000502</td>\n",
       "      <td>[]</td>\n",
       "      <td>Comedy,Musical</td>\n",
       "    </tr>\n",
       "    <tr>\n",
       "      <th>1</th>\n",
       "      <td>tt0000574</td>\n",
       "      <td>[Action, Adventure, Biography]</td>\n",
       "      <td>Action,Adventure,Biography</td>\n",
       "    </tr>\n",
       "    <tr>\n",
       "      <th>2</th>\n",
       "      <td>tt0000591</td>\n",
       "      <td>[Drama]</td>\n",
       "      <td>Drama</td>\n",
       "    </tr>\n",
       "    <tr>\n",
       "      <th>3</th>\n",
       "      <td>tt0000615</td>\n",
       "      <td>[Drama]</td>\n",
       "      <td>Drama</td>\n",
       "    </tr>\n",
       "    <tr>\n",
       "      <th>4</th>\n",
       "      <td>tt0000630</td>\n",
       "      <td>[Drama]</td>\n",
       "      <td>Drama</td>\n",
       "    </tr>\n",
       "    <tr>\n",
       "      <th>...</th>\n",
       "      <td>...</td>\n",
       "      <td>...</td>\n",
       "      <td>...</td>\n",
       "    </tr>\n",
       "    <tr>\n",
       "      <th>323829</th>\n",
       "      <td>tt9916362</td>\n",
       "      <td>[Drama, History]</td>\n",
       "      <td>Drama,History</td>\n",
       "    </tr>\n",
       "    <tr>\n",
       "      <th>323830</th>\n",
       "      <td>tt9916428</td>\n",
       "      <td>[Adventure, History, War]</td>\n",
       "      <td>Adventure,History,War</td>\n",
       "    </tr>\n",
       "    <tr>\n",
       "      <th>323831</th>\n",
       "      <td>tt9916460</td>\n",
       "      <td>[Comedy]</td>\n",
       "      <td>Comedy</td>\n",
       "    </tr>\n",
       "    <tr>\n",
       "      <th>323832</th>\n",
       "      <td>tt9916538</td>\n",
       "      <td>[Drama]</td>\n",
       "      <td>Drama</td>\n",
       "    </tr>\n",
       "    <tr>\n",
       "      <th>323833</th>\n",
       "      <td>tt9916730</td>\n",
       "      <td>[]</td>\n",
       "      <td>Drama,Romance</td>\n",
       "    </tr>\n",
       "  </tbody>\n",
       "</table>\n",
       "<p>323834 rows × 3 columns</p>\n",
       "</div>"
      ],
      "text/plain": [
       "           tconst                          genres                           0\n",
       "0       tt0000502                              []              Comedy,Musical\n",
       "1       tt0000574  [Action, Adventure, Biography]  Action,Adventure,Biography\n",
       "2       tt0000591                         [Drama]                       Drama\n",
       "3       tt0000615                         [Drama]                       Drama\n",
       "4       tt0000630                         [Drama]                       Drama\n",
       "...           ...                             ...                         ...\n",
       "323829  tt9916362                [Drama, History]               Drama,History\n",
       "323830  tt9916428       [Adventure, History, War]       Adventure,History,War\n",
       "323831  tt9916460                        [Comedy]                      Comedy\n",
       "323832  tt9916538                         [Drama]                       Drama\n",
       "323833  tt9916730                              []               Drama,Romance\n",
       "\n",
       "[323834 rows x 3 columns]"
      ]
     },
     "execution_count": 89,
     "metadata": {},
     "output_type": "execute_result"
    }
   ],
   "source": [
    "title_genre_new"
   ]
  },
  {
   "cell_type": "code",
   "execution_count": 99,
   "metadata": {},
   "outputs": [],
   "source": [
    "title_rating_new = pd.merge(title_rating, title_genre_new, left_on='tconst', right_on = 'tconst')"
   ]
  },
  {
   "cell_type": "code",
   "execution_count": 106,
   "metadata": {},
   "outputs": [],
   "source": [
    "title_rating_new.drop(columns=['genres_y', 'genres_x'], inplace=True)"
   ]
  },
  {
   "cell_type": "code",
   "execution_count": 109,
   "metadata": {},
   "outputs": [
    {
     "data": {
      "text/html": [
       "<div>\n",
       "<style scoped>\n",
       "    .dataframe tbody tr th:only-of-type {\n",
       "        vertical-align: middle;\n",
       "    }\n",
       "\n",
       "    .dataframe tbody tr th {\n",
       "        vertical-align: top;\n",
       "    }\n",
       "\n",
       "    .dataframe thead th {\n",
       "        text-align: right;\n",
       "    }\n",
       "</style>\n",
       "<table border=\"1\" class=\"dataframe\">\n",
       "  <thead>\n",
       "    <tr style=\"text-align: right;\">\n",
       "      <th></th>\n",
       "      <th>tconst</th>\n",
       "      <th>titleType</th>\n",
       "      <th>primaryTitle</th>\n",
       "      <th>originalTitle</th>\n",
       "      <th>isAdult</th>\n",
       "      <th>startYear</th>\n",
       "      <th>endYear</th>\n",
       "      <th>runtimeMinutes</th>\n",
       "      <th>averageRating</th>\n",
       "      <th>numVotes</th>\n",
       "      <th>0</th>\n",
       "    </tr>\n",
       "  </thead>\n",
       "  <tbody>\n",
       "    <tr>\n",
       "      <th>13</th>\n",
       "      <td>tt0001010</td>\n",
       "      <td>movie</td>\n",
       "      <td>Protección de un convoy de víveres en el puent...</td>\n",
       "      <td>Protección de un convoy de víveres en el puent...</td>\n",
       "      <td>0</td>\n",
       "      <td>1970-01-01 00:00:00.000001909</td>\n",
       "      <td>NaN</td>\n",
       "      <td>NaN</td>\n",
       "      <td>4.6</td>\n",
       "      <td>14</td>\n",
       "      <td></td>\n",
       "    </tr>\n",
       "    <tr>\n",
       "      <th>15</th>\n",
       "      <td>tt0001038</td>\n",
       "      <td>movie</td>\n",
       "      <td>Sherlock Holmes VI</td>\n",
       "      <td>Sherlock Holmes VI</td>\n",
       "      <td>0</td>\n",
       "      <td>1970-01-01 00:00:00.000001910</td>\n",
       "      <td>NaN</td>\n",
       "      <td>NaN</td>\n",
       "      <td>3.8</td>\n",
       "      <td>21</td>\n",
       "      <td></td>\n",
       "    </tr>\n",
       "    <tr>\n",
       "      <th>19</th>\n",
       "      <td>tt0001113</td>\n",
       "      <td>movie</td>\n",
       "      <td>Amor gitano</td>\n",
       "      <td>Amor gitano</td>\n",
       "      <td>0</td>\n",
       "      <td>1970-01-01 00:00:00.000001910</td>\n",
       "      <td>NaN</td>\n",
       "      <td>NaN</td>\n",
       "      <td>5.1</td>\n",
       "      <td>16</td>\n",
       "      <td></td>\n",
       "    </tr>\n",
       "    <tr>\n",
       "      <th>277</th>\n",
       "      <td>tt0005040</td>\n",
       "      <td>movie</td>\n",
       "      <td>Butter</td>\n",
       "      <td>Butter</td>\n",
       "      <td>0</td>\n",
       "      <td>1970-01-01 00:00:00.000001916</td>\n",
       "      <td>NaN</td>\n",
       "      <td>NaN</td>\n",
       "      <td>6.7</td>\n",
       "      <td>11</td>\n",
       "      <td></td>\n",
       "    </tr>\n",
       "    <tr>\n",
       "      <th>366</th>\n",
       "      <td>tt0005869</td>\n",
       "      <td>movie</td>\n",
       "      <td>Pasionaria</td>\n",
       "      <td>Pasionaria</td>\n",
       "      <td>0</td>\n",
       "      <td>1970-01-01 00:00:00.000001915</td>\n",
       "      <td>NaN</td>\n",
       "      <td>NaN</td>\n",
       "      <td>4.4</td>\n",
       "      <td>11</td>\n",
       "      <td></td>\n",
       "    </tr>\n",
       "    <tr>\n",
       "      <th>...</th>\n",
       "      <td>...</td>\n",
       "      <td>...</td>\n",
       "      <td>...</td>\n",
       "      <td>...</td>\n",
       "      <td>...</td>\n",
       "      <td>...</td>\n",
       "      <td>...</td>\n",
       "      <td>...</td>\n",
       "      <td>...</td>\n",
       "      <td>...</td>\n",
       "      <td>...</td>\n",
       "    </tr>\n",
       "    <tr>\n",
       "      <th>318737</th>\n",
       "      <td>tt9013770</td>\n",
       "      <td>movie</td>\n",
       "      <td>The Witches of Gambaga</td>\n",
       "      <td>The Witches of Gambaga</td>\n",
       "      <td>0</td>\n",
       "      <td>2011-01-01</td>\n",
       "      <td>NaN</td>\n",
       "      <td>55.0</td>\n",
       "      <td>7.0</td>\n",
       "      <td>9</td>\n",
       "      <td></td>\n",
       "    </tr>\n",
       "    <tr>\n",
       "      <th>318887</th>\n",
       "      <td>tt9031770</td>\n",
       "      <td>movie</td>\n",
       "      <td>Ogar: Will of Steel</td>\n",
       "      <td>Ogar: Will of Steel</td>\n",
       "      <td>0</td>\n",
       "      <td>2017-01-01</td>\n",
       "      <td>NaN</td>\n",
       "      <td>82.0</td>\n",
       "      <td>5.2</td>\n",
       "      <td>5</td>\n",
       "      <td></td>\n",
       "    </tr>\n",
       "    <tr>\n",
       "      <th>319534</th>\n",
       "      <td>tt9114062</td>\n",
       "      <td>tvMovie</td>\n",
       "      <td>Family Classics: Scrooge (1951) II</td>\n",
       "      <td>Family Classics: Scrooge (1951) II</td>\n",
       "      <td>0</td>\n",
       "      <td>2018-01-01</td>\n",
       "      <td>NaN</td>\n",
       "      <td>NaN</td>\n",
       "      <td>7.4</td>\n",
       "      <td>11</td>\n",
       "      <td></td>\n",
       "    </tr>\n",
       "    <tr>\n",
       "      <th>322768</th>\n",
       "      <td>tt9723258</td>\n",
       "      <td>movie</td>\n",
       "      <td>Little Wound's Warriors</td>\n",
       "      <td>Little Wound's Warriors</td>\n",
       "      <td>0</td>\n",
       "      <td>2017-01-01</td>\n",
       "      <td>NaN</td>\n",
       "      <td>57.0</td>\n",
       "      <td>6.6</td>\n",
       "      <td>12</td>\n",
       "      <td></td>\n",
       "    </tr>\n",
       "    <tr>\n",
       "      <th>323076</th>\n",
       "      <td>tt9778374</td>\n",
       "      <td>movie</td>\n",
       "      <td>Galapagos: Realm of Giant Sharks</td>\n",
       "      <td>Galapagos: Realm of Giant Sharks</td>\n",
       "      <td>0</td>\n",
       "      <td>2012-01-01</td>\n",
       "      <td>NaN</td>\n",
       "      <td>53.0</td>\n",
       "      <td>6.9</td>\n",
       "      <td>42</td>\n",
       "      <td></td>\n",
       "    </tr>\n",
       "  </tbody>\n",
       "</table>\n",
       "<p>540 rows × 11 columns</p>\n",
       "</div>"
      ],
      "text/plain": [
       "           tconst titleType  \\\n",
       "13      tt0001010     movie   \n",
       "15      tt0001038     movie   \n",
       "19      tt0001113     movie   \n",
       "277     tt0005040     movie   \n",
       "366     tt0005869     movie   \n",
       "...           ...       ...   \n",
       "318737  tt9013770     movie   \n",
       "318887  tt9031770     movie   \n",
       "319534  tt9114062   tvMovie   \n",
       "322768  tt9723258     movie   \n",
       "323076  tt9778374     movie   \n",
       "\n",
       "                                             primaryTitle  \\\n",
       "13      Protección de un convoy de víveres en el puent...   \n",
       "15                                     Sherlock Holmes VI   \n",
       "19                                            Amor gitano   \n",
       "277                                                Butter   \n",
       "366                                            Pasionaria   \n",
       "...                                                   ...   \n",
       "318737                             The Witches of Gambaga   \n",
       "318887                                Ogar: Will of Steel   \n",
       "319534                 Family Classics: Scrooge (1951) II   \n",
       "322768                            Little Wound's Warriors   \n",
       "323076                   Galapagos: Realm of Giant Sharks   \n",
       "\n",
       "                                            originalTitle  isAdult  \\\n",
       "13      Protección de un convoy de víveres en el puent...        0   \n",
       "15                                     Sherlock Holmes VI        0   \n",
       "19                                            Amor gitano        0   \n",
       "277                                                Butter        0   \n",
       "366                                            Pasionaria        0   \n",
       "...                                                   ...      ...   \n",
       "318737                             The Witches of Gambaga        0   \n",
       "318887                                Ogar: Will of Steel        0   \n",
       "319534                 Family Classics: Scrooge (1951) II        0   \n",
       "322768                            Little Wound's Warriors        0   \n",
       "323076                   Galapagos: Realm of Giant Sharks        0   \n",
       "\n",
       "                            startYear  endYear  runtimeMinutes  averageRating  \\\n",
       "13      1970-01-01 00:00:00.000001909      NaN             NaN            4.6   \n",
       "15      1970-01-01 00:00:00.000001910      NaN             NaN            3.8   \n",
       "19      1970-01-01 00:00:00.000001910      NaN             NaN            5.1   \n",
       "277     1970-01-01 00:00:00.000001916      NaN             NaN            6.7   \n",
       "366     1970-01-01 00:00:00.000001915      NaN             NaN            4.4   \n",
       "...                               ...      ...             ...            ...   \n",
       "318737                     2011-01-01      NaN            55.0            7.0   \n",
       "318887                     2017-01-01      NaN            82.0            5.2   \n",
       "319534                     2018-01-01      NaN             NaN            7.4   \n",
       "322768                     2017-01-01      NaN            57.0            6.6   \n",
       "323076                     2012-01-01      NaN            53.0            6.9   \n",
       "\n",
       "        numVotes 0   \n",
       "13            14     \n",
       "15            21     \n",
       "19            16     \n",
       "277           11     \n",
       "366           11     \n",
       "...          ... ..  \n",
       "318737         9     \n",
       "318887         5     \n",
       "319534        11     \n",
       "322768        12     \n",
       "323076        42     \n",
       "\n",
       "[540 rows x 11 columns]"
      ]
     },
     "execution_count": 109,
     "metadata": {},
     "output_type": "execute_result"
    }
   ],
   "source": [
    "title_rating_new[title_rating_new[0] == '']"
   ]
  },
  {
   "cell_type": "code",
   "execution_count": 113,
   "metadata": {},
   "outputs": [],
   "source": [
    "title_rating_new.rename(columns={0:'genres'}, inplace = True)"
   ]
  },
  {
   "cell_type": "code",
   "execution_count": 115,
   "metadata": {},
   "outputs": [],
   "source": [
    "title_rating_new.to_csv('processed/title_genre_new.csv', index = False)"
   ]
  },
  {
   "cell_type": "code",
   "execution_count": 116,
   "metadata": {},
   "outputs": [
    {
     "data": {
      "text/plain": [
       "tconst                 0\n",
       "titleType              0\n",
       "primaryTitle           0\n",
       "originalTitle          0\n",
       "isAdult                0\n",
       "startYear             34\n",
       "endYear           323834\n",
       "runtimeMinutes     35737\n",
       "averageRating          0\n",
       "numVotes               0\n",
       "genres                 0\n",
       "dtype: int64"
      ]
     },
     "execution_count": 116,
     "metadata": {},
     "output_type": "execute_result"
    }
   ],
   "source": [
    "title_rating_new.isnull().sum()"
   ]
  },
  {
   "cell_type": "code",
   "execution_count": 16,
   "metadata": {},
   "outputs": [],
   "source": [
    "title_rating_new = pd.read_csv('processed/title_genre_new.csv')"
   ]
  },
  {
   "cell_type": "markdown",
   "metadata": {},
   "source": [
    "Imputing start date"
   ]
  },
  {
   "cell_type": "markdown",
   "metadata": {},
   "source": [
    "Imputing the **Start Date**\n",
    "\n",
    "We can use the TMDB API to impute these values"
   ]
  },
  {
   "cell_type": "code",
   "execution_count": 17,
   "metadata": {},
   "outputs": [],
   "source": [
    "def get_release_date(name):\n",
    "#     print(name)\n",
    "    try:\n",
    "        movie = Movie()\n",
    "        res = movie.search(name)[0]['release_date']\n",
    "        print(pd.to_datetime(res))\n",
    "        return pd.to_datetime(res)\n",
    "    except:\n",
    "        return pd.to_datetime('1980')\n",
    "    "
   ]
  },
  {
   "cell_type": "code",
   "execution_count": 18,
   "metadata": {
    "scrolled": true
   },
   "outputs": [
    {
     "name": "stderr",
     "output_type": "stream",
     "text": [
      " 15%|█▍        | 47781/323834 [00:07<17:03, 269.71it/s] "
     ]
    },
    {
     "name": "stdout",
     "output_type": "stream",
     "text": [
      "1976-05-31 00:00:00\n"
     ]
    },
    {
     "name": "stderr",
     "output_type": "stream",
     "text": [
      " 17%|█▋        | 56231/323834 [00:07<08:14, 540.91it/s]"
     ]
    },
    {
     "name": "stdout",
     "output_type": "stream",
     "text": [
      "1987-06-01 00:00:00\n",
      "2012-10-28 00:00:00\n"
     ]
    },
    {
     "name": "stderr",
     "output_type": "stream",
     "text": [
      " 42%|████▏     | 135216/323834 [00:09<00:05, 31766.98it/s]"
     ]
    },
    {
     "name": "stdout",
     "output_type": "stream",
     "text": [
      "2004-05-13 00:00:00\n"
     ]
    },
    {
     "name": "stderr",
     "output_type": "stream",
     "text": [
      " 47%|████▋     | 151762/323834 [00:10<00:05, 32260.99it/s]"
     ]
    },
    {
     "name": "stdout",
     "output_type": "stream",
     "text": [
      "1983-01-01 00:00:00\n"
     ]
    },
    {
     "name": "stderr",
     "output_type": "stream",
     "text": [
      " 49%|████▉     | 159981/323834 [00:10<00:05, 29885.91it/s]"
     ]
    },
    {
     "name": "stdout",
     "output_type": "stream",
     "text": [
      "2014-08-08 00:00:00\n",
      "2005-11-01 00:00:00\n"
     ]
    },
    {
     "name": "stderr",
     "output_type": "stream",
     "text": [
      " 52%|█████▏    | 167724/323834 [00:10<00:06, 23656.37it/s]"
     ]
    },
    {
     "name": "stdout",
     "output_type": "stream",
     "text": [
      "1998-06-05 00:00:00\n"
     ]
    },
    {
     "name": "stderr",
     "output_type": "stream",
     "text": [
      " 54%|█████▍    | 175781/323834 [00:11<00:07, 19494.30it/s]"
     ]
    },
    {
     "name": "stdout",
     "output_type": "stream",
     "text": [
      "2020-11-20 00:00:00\n",
      "2003-03-01 00:00:00\n"
     ]
    },
    {
     "name": "stderr",
     "output_type": "stream",
     "text": [
      " 59%|█████▊    | 190116/323834 [00:11<00:05, 22457.12it/s]"
     ]
    },
    {
     "name": "stdout",
     "output_type": "stream",
     "text": [
      "2020-01-17 00:00:00\n",
      "2019-07-27 00:00:00\n"
     ]
    },
    {
     "name": "stderr",
     "output_type": "stream",
     "text": [
      " 60%|█████▉    | 192971/323834 [00:11<00:07, 17425.94it/s]"
     ]
    },
    {
     "name": "stdout",
     "output_type": "stream",
     "text": [
      "2020-02-13 00:00:00\n"
     ]
    },
    {
     "name": "stderr",
     "output_type": "stream",
     "text": [
      " 61%|██████▏   | 198755/323834 [00:12<00:06, 20066.79it/s]"
     ]
    },
    {
     "name": "stdout",
     "output_type": "stream",
     "text": [
      "2020-11-06 00:00:00\n"
     ]
    },
    {
     "name": "stderr",
     "output_type": "stream",
     "text": [
      " 65%|██████▍   | 209452/323834 [00:12<00:04, 24374.16it/s]"
     ]
    },
    {
     "name": "stdout",
     "output_type": "stream",
     "text": [
      "2020-12-03 00:00:00\n"
     ]
    },
    {
     "name": "stderr",
     "output_type": "stream",
     "text": [
      " 67%|██████▋   | 217126/323834 [00:12<00:03, 26892.57it/s]"
     ]
    },
    {
     "name": "stdout",
     "output_type": "stream",
     "text": [
      "2021-08-15 00:00:00\n"
     ]
    },
    {
     "name": "stderr",
     "output_type": "stream",
     "text": [
      " 70%|███████   | 226916/323834 [00:13<00:04, 23850.48it/s]"
     ]
    },
    {
     "name": "stdout",
     "output_type": "stream",
     "text": [
      "2001-05-12 00:00:00\n"
     ]
    },
    {
     "name": "stderr",
     "output_type": "stream",
     "text": [
      " 77%|███████▋  | 249822/323834 [00:14<00:02, 24723.46it/s]"
     ]
    },
    {
     "name": "stdout",
     "output_type": "stream",
     "text": [
      "2012-11-26 00:00:00\n"
     ]
    },
    {
     "name": "stderr",
     "output_type": "stream",
     "text": [
      " 80%|███████▉  | 257526/323834 [00:14<00:02, 25936.77it/s]"
     ]
    },
    {
     "name": "stdout",
     "output_type": "stream",
     "text": [
      "1949-12-29 00:00:00\n"
     ]
    },
    {
     "name": "stderr",
     "output_type": "stream",
     "text": [
      " 91%|█████████ | 293486/323834 [00:15<00:00, 32583.21it/s]"
     ]
    },
    {
     "name": "stdout",
     "output_type": "stream",
     "text": [
      "2020-10-12 00:00:00\n"
     ]
    },
    {
     "name": "stderr",
     "output_type": "stream",
     "text": [
      " 93%|█████████▎| 301505/323834 [00:15<00:00, 23307.71it/s]"
     ]
    },
    {
     "name": "stdout",
     "output_type": "stream",
     "text": [
      "2021-01-15 00:00:00\n",
      "2017-07-17 00:00:00\n"
     ]
    },
    {
     "name": "stderr",
     "output_type": "stream",
     "text": [
      "100%|█████████▉| 322361/323834 [00:16<00:00, 16231.20it/s]"
     ]
    },
    {
     "name": "stdout",
     "output_type": "stream",
     "text": [
      "2016-04-14 00:00:00\n"
     ]
    },
    {
     "name": "stderr",
     "output_type": "stream",
     "text": [
      "100%|██████████| 323834/323834 [00:17<00:00, 18817.21it/s]"
     ]
    },
    {
     "name": "stdout",
     "output_type": "stream",
     "text": [
      "2013-05-21 00:00:00\n"
     ]
    },
    {
     "name": "stderr",
     "output_type": "stream",
     "text": [
      "\n"
     ]
    }
   ],
   "source": [
    "title_rating_new['startYear'] = title_rating_new.progress_apply(lambda x: get_release_date(x['primaryTitle']) if pd.isna(x['startYear']) else x['startYear'], axis = 1)"
   ]
  },
  {
   "cell_type": "code",
   "execution_count": 19,
   "metadata": {},
   "outputs": [
    {
     "data": {
      "text/plain": [
       "tconst                 0\n",
       "titleType              0\n",
       "primaryTitle           0\n",
       "originalTitle          0\n",
       "isAdult                0\n",
       "startYear              0\n",
       "endYear           323834\n",
       "runtimeMinutes     35737\n",
       "averageRating          0\n",
       "numVotes               0\n",
       "genres               540\n",
       "dtype: int64"
      ]
     },
     "execution_count": 19,
     "metadata": {},
     "output_type": "execute_result"
    }
   ],
   "source": [
    "title_rating_new.isnull().sum()"
   ]
  },
  {
   "cell_type": "code",
   "execution_count": 20,
   "metadata": {},
   "outputs": [],
   "source": [
    "title_rating_new.drop(columns=['endYear'], inplace = True)"
   ]
  },
  {
   "cell_type": "code",
   "execution_count": 24,
   "metadata": {},
   "outputs": [],
   "source": [
    "no_runtime = title_rating_new[title_rating_new['runtimeMinutes'].isna()]['primaryTitle'].values"
   ]
  },
  {
   "cell_type": "code",
   "execution_count": 22,
   "metadata": {},
   "outputs": [
    {
     "data": {
      "text/plain": [
       "92.72670663005863"
      ]
     },
     "execution_count": 22,
     "metadata": {},
     "output_type": "execute_result"
    }
   ],
   "source": [
    "title_rating_new['runtimeMinutes'].mean()"
   ]
  },
  {
   "cell_type": "code",
   "execution_count": 26,
   "metadata": {},
   "outputs": [],
   "source": [
    "def get_runtime(name):\n",
    "    \n",
    "    try:\n",
    "        movie = Movie()\n",
    "        res = movie.search(name)[0]\n",
    "        movie_id = res['id']\n",
    "        \n",
    "        url = f\"https://api.themoviedb.org/3/movie/{movie_id}?api_key={API_KEY}\"\n",
    "        \n",
    "        res = requests.get(url).json()\n",
    "        return res['runtime']\n",
    "    except:\n",
    "        #returing mean runtime ignoring nulls\n",
    "        return 93\n",
    "        "
   ]
  },
  {
   "cell_type": "code",
   "execution_count": 27,
   "metadata": {},
   "outputs": [
    {
     "name": "stderr",
     "output_type": "stream",
     "text": [
      "100%|██████████| 35737/35737 [2:22:04<00:00,  4.19it/s]   \n"
     ]
    }
   ],
   "source": [
    "runtime_dict = {}\n",
    "for item in tqdm(no_runtime, position=0, leave=True):\n",
    "    runtime_dict[item] = get_runtime(item)"
   ]
  },
  {
   "cell_type": "code",
   "execution_count": 28,
   "metadata": {},
   "outputs": [],
   "source": [
    "with open('runtime_impute_dict.json', 'w') as f:\n",
    "    json.dump(runtime_dict, f)\n"
   ]
  },
  {
   "cell_type": "code",
   "execution_count": 35,
   "metadata": {
    "scrolled": true
   },
   "outputs": [
    {
     "name": "stderr",
     "output_type": "stream",
     "text": [
      "\n",
      "\n",
      "\n",
      "  0%|          | 0/323834 [00:00<?, ?it/s]\u001b[A\u001b[A\u001b[A\n",
      "\n",
      "\n",
      "  0%|          | 82/323834 [00:00<06:34, 819.95it/s]\u001b[A\u001b[A\u001b[A\n",
      "\n",
      "\n",
      "  1%|▏         | 4406/323834 [00:00<04:34, 1161.91it/s]\u001b[A\u001b[A\u001b[A\n",
      "\n",
      "\n",
      "  2%|▏         | 7482/323834 [00:00<03:13, 1633.43it/s]\u001b[A\u001b[A\u001b[A\n",
      "\n",
      "\n",
      "  3%|▎         | 10032/323834 [00:00<02:18, 2271.12it/s]\u001b[A\u001b[A\u001b[A\n",
      "\n",
      "\n",
      "  4%|▍         | 13560/323834 [00:00<01:38, 3157.35it/s]\u001b[A\u001b[A\u001b[A\n",
      "\n",
      "\n",
      "  6%|▌         | 17830/323834 [00:00<01:09, 4371.95it/s]\u001b[A\u001b[A\u001b[A\n",
      "\n",
      "\n",
      "  7%|▋         | 22091/323834 [00:00<00:50, 5982.55it/s]\u001b[A\u001b[A\u001b[A\n",
      "\n",
      "\n",
      "  8%|▊         | 25914/323834 [00:00<00:37, 8009.28it/s]\u001b[A\u001b[A\u001b[A\n",
      "\n",
      "\n",
      "  9%|▉         | 30127/323834 [00:00<00:27, 10579.79it/s]\u001b[A\u001b[A\u001b[A\n",
      "\n",
      "\n",
      " 11%|█         | 34083/323834 [00:01<00:21, 13559.51it/s]\u001b[A\u001b[A\u001b[A\n",
      "\n",
      "\n",
      " 12%|█▏        | 37951/323834 [00:01<00:16, 16840.08it/s]\u001b[A\u001b[A\u001b[A\n",
      "\n",
      "\n",
      " 13%|█▎        | 41936/323834 [00:01<00:13, 20368.21it/s]\u001b[A\u001b[A\u001b[A\n",
      "\n",
      "\n",
      " 14%|█▍        | 45805/323834 [00:01<00:11, 23606.10it/s]\u001b[A\u001b[A\u001b[A\n",
      "\n",
      "\n",
      " 15%|█▌        | 49682/323834 [00:01<00:10, 26743.39it/s]\u001b[A\u001b[A\u001b[A\n",
      "\n",
      "\n",
      " 17%|█▋        | 53529/323834 [00:01<00:09, 28776.34it/s]\u001b[A\u001b[A\u001b[A\n",
      "\n",
      "\n",
      " 18%|█▊        | 57272/323834 [00:01<00:08, 30788.39it/s]\u001b[A\u001b[A\u001b[A\n",
      "\n",
      "\n",
      " 19%|█▉        | 61271/323834 [00:01<00:07, 33070.52it/s]\u001b[A\u001b[A\u001b[A\n",
      "\n",
      "\n",
      " 20%|██        | 65445/323834 [00:01<00:07, 35268.04it/s]\u001b[A\u001b[A\u001b[A\n",
      "\n",
      "\n",
      " 21%|██▏       | 69413/323834 [00:01<00:06, 36484.75it/s]\u001b[A\u001b[A\u001b[A\n",
      "\n",
      "\n",
      " 23%|██▎       | 73345/323834 [00:02<00:06, 37290.52it/s]\u001b[A\u001b[A\u001b[A\n",
      "\n",
      "\n",
      " 24%|██▍       | 77277/323834 [00:02<00:07, 34811.53it/s]\u001b[A\u001b[A\u001b[A\n",
      "\n",
      "\n",
      " 25%|██▍       | 80945/323834 [00:02<00:06, 35351.32it/s]\u001b[A\u001b[A\u001b[A\n",
      "\n",
      "\n",
      " 26%|██▌       | 84605/323834 [00:02<00:06, 34593.19it/s]\u001b[A\u001b[A\u001b[A\n",
      "\n",
      "\n",
      " 27%|██▋       | 88356/323834 [00:02<00:06, 35418.92it/s]\u001b[A\u001b[A\u001b[A\n",
      "\n",
      "\n",
      " 28%|██▊       | 91967/323834 [00:02<00:06, 34685.37it/s]\u001b[A\u001b[A\u001b[A\n",
      "\n",
      "\n",
      " 29%|██▉       | 95487/323834 [00:02<00:07, 32532.18it/s]\u001b[A\u001b[A\u001b[A\n",
      "\n",
      "\n",
      " 31%|███       | 99141/323834 [00:02<00:06, 33637.88it/s]\u001b[A\u001b[A\u001b[A\n",
      "\n",
      "\n",
      " 32%|███▏      | 102738/323834 [00:02<00:06, 34302.50it/s]\u001b[A\u001b[A\u001b[A\n",
      "\n",
      "\n",
      " 33%|███▎      | 106420/323834 [00:02<00:06, 35019.57it/s]\u001b[A\u001b[A\u001b[A\n",
      "\n",
      "\n",
      " 34%|███▍      | 110201/323834 [00:03<00:05, 35807.44it/s]\u001b[A\u001b[A\u001b[A\n",
      "\n",
      "\n",
      " 35%|███▌      | 114341/323834 [00:03<00:05, 37318.93it/s]\u001b[A\u001b[A\u001b[A\n",
      "\n",
      "\n",
      " 36%|███▋      | 118109/323834 [00:03<00:05, 35342.49it/s]\u001b[A\u001b[A\u001b[A\n",
      "\n",
      "\n",
      " 38%|███▊      | 122278/323834 [00:03<00:05, 37033.76it/s]\u001b[A\u001b[A\u001b[A\n",
      "\n",
      "\n",
      " 39%|███▉      | 126159/323834 [00:03<00:05, 37547.64it/s]\u001b[A\u001b[A\u001b[A\n",
      "\n",
      "\n",
      " 40%|████      | 129954/323834 [00:03<00:05, 36802.32it/s]\u001b[A\u001b[A\u001b[A\n",
      "\n",
      "\n",
      " 41%|████▏     | 133666/323834 [00:03<00:05, 36197.96it/s]\u001b[A\u001b[A\u001b[A\n",
      "\n",
      "\n",
      " 43%|████▎     | 137792/323834 [00:03<00:04, 37576.23it/s]\u001b[A\u001b[A\u001b[A\n",
      "\n",
      "\n",
      " 44%|████▍     | 142130/323834 [00:03<00:04, 39147.32it/s]\u001b[A\u001b[A\u001b[A\n",
      "\n",
      "\n",
      " 45%|████▌     | 146479/323834 [00:04<00:04, 40355.43it/s]\u001b[A\u001b[A\u001b[A\n",
      "\n",
      "\n",
      " 46%|████▋     | 150551/323834 [00:04<00:04, 38380.70it/s]\u001b[A\u001b[A\u001b[A\n",
      "\n",
      "\n",
      " 48%|████▊     | 154435/323834 [00:04<00:04, 36982.16it/s]\u001b[A\u001b[A\u001b[A\n",
      "\n",
      "\n",
      " 49%|████▉     | 158176/323834 [00:04<00:04, 36759.97it/s]\u001b[A\u001b[A\u001b[A\n",
      "\n",
      "\n",
      " 50%|████▉     | 161883/323834 [00:04<00:04, 34481.82it/s]\u001b[A\u001b[A\u001b[A\n",
      "\n",
      "\n",
      " 51%|█████▏    | 166144/323834 [00:04<00:04, 36573.70it/s]\u001b[A\u001b[A\u001b[A\n",
      "\n",
      "\n",
      " 53%|█████▎    | 170350/323834 [00:04<00:04, 38061.57it/s]\u001b[A\u001b[A\u001b[A\n",
      "\n",
      "\n",
      " 54%|█████▍    | 174468/323834 [00:04<00:03, 38944.86it/s]\u001b[A\u001b[A\u001b[A\n",
      "\n",
      "\n",
      " 55%|█████▌    | 178576/323834 [00:04<00:03, 39560.49it/s]\u001b[A\u001b[A\u001b[A\n",
      "\n",
      "\n",
      " 56%|█████▋    | 182570/323834 [00:04<00:03, 38776.64it/s]\u001b[A\u001b[A\u001b[A\n",
      "\n",
      "\n",
      " 58%|█████▊    | 186478/323834 [00:05<00:03, 37175.39it/s]\u001b[A\u001b[A\u001b[A\n",
      "\n",
      "\n",
      " 59%|█████▊    | 190231/323834 [00:05<00:03, 35587.98it/s]\u001b[A\u001b[A\u001b[A\n",
      "\n",
      "\n",
      " 60%|█████▉    | 194146/323834 [00:05<00:03, 36586.60it/s]\u001b[A\u001b[A\u001b[A\n",
      "\n",
      "\n",
      " 61%|██████    | 197839/323834 [00:05<00:03, 36406.00it/s]\u001b[A\u001b[A\u001b[A\n",
      "\n",
      "\n",
      " 62%|██████▏   | 201504/323834 [00:05<00:03, 34762.40it/s]\u001b[A\u001b[A\u001b[A\n",
      "\n",
      "\n",
      " 63%|██████▎   | 205540/323834 [00:05<00:03, 36270.72it/s]\u001b[A\u001b[A\u001b[A\n",
      "\n",
      "\n",
      " 65%|██████▍   | 209903/323834 [00:05<00:02, 38202.91it/s]\u001b[A\u001b[A\u001b[A\n",
      "\n",
      "\n",
      " 66%|██████▌   | 213968/323834 [00:05<00:02, 38903.25it/s]\u001b[A\u001b[A\u001b[A\n",
      "\n",
      "\n",
      " 67%|██████▋   | 218066/323834 [00:05<00:02, 39503.79it/s]\u001b[A\u001b[A\u001b[A\n",
      "\n",
      "\n",
      " 69%|██████▊   | 222048/323834 [00:06<00:02, 39341.43it/s]\u001b[A\u001b[A\u001b[A\n",
      "\n",
      "\n",
      " 70%|██████▉   | 226005/323834 [00:06<00:02, 38921.04it/s]\u001b[A\u001b[A\u001b[A\n",
      "\n",
      "\n",
      " 71%|███████   | 229914/323834 [00:06<00:02, 35755.00it/s]\u001b[A\u001b[A\u001b[A\n",
      "\n",
      "\n",
      " 72%|███████▏  | 233552/323834 [00:06<00:02, 33879.59it/s]\u001b[A\u001b[A\u001b[A\n",
      "\n",
      "\n",
      " 73%|███████▎  | 237433/323834 [00:06<00:02, 35219.03it/s]\u001b[A\u001b[A\u001b[A\n",
      "\n",
      "\n",
      " 74%|███████▍  | 241125/323834 [00:06<00:02, 35711.35it/s]\u001b[A\u001b[A\u001b[A\n",
      "\n",
      "\n",
      " 76%|███████▌  | 245110/323834 [00:06<00:02, 36855.57it/s]\u001b[A\u001b[A\u001b[A\n",
      "\n",
      "\n",
      " 77%|███████▋  | 249288/323834 [00:06<00:01, 38203.53it/s]\u001b[A\u001b[A\u001b[A\n",
      "\n",
      "\n",
      " 78%|███████▊  | 253382/323834 [00:06<00:01, 38985.18it/s]\u001b[A\u001b[A\u001b[A\n",
      "\n",
      "\n",
      " 79%|███████▉  | 257313/323834 [00:07<00:01, 38476.25it/s]\u001b[A\u001b[A\u001b[A\n",
      "\n",
      "\n",
      " 81%|████████  | 261185/323834 [00:07<00:01, 38333.71it/s]\u001b[A\u001b[A\u001b[A\n",
      "\n",
      "\n",
      " 82%|████████▏ | 265095/323834 [00:07<00:01, 38559.76it/s]\u001b[A\u001b[A\u001b[A\n",
      "\n",
      "\n",
      " 83%|████████▎ | 268964/323834 [00:07<00:01, 38158.97it/s]\u001b[A\u001b[A\u001b[A\n",
      "\n",
      "\n",
      " 84%|████████▍ | 272790/323834 [00:07<00:01, 37150.83it/s]\u001b[A\u001b[A\u001b[A\n",
      "\n",
      "\n",
      " 85%|████████▌ | 276518/323834 [00:07<00:01, 35511.57it/s]\u001b[A\u001b[A\u001b[A\n",
      "\n",
      "\n",
      " 86%|████████▋ | 280094/323834 [00:07<00:01, 32511.14it/s]\u001b[A\u001b[A\u001b[A\n",
      "\n",
      "\n",
      " 88%|████████▊ | 283412/323834 [00:07<00:01, 28428.71it/s]\u001b[A\u001b[A\u001b[A\n",
      "\n",
      "\n",
      " 89%|████████▉ | 287486/323834 [00:07<00:01, 31262.92it/s]\u001b[A\u001b[A\u001b[A\n",
      "\n",
      "\n",
      " 90%|████████▉ | 291314/323834 [00:08<00:00, 33081.98it/s]\u001b[A\u001b[A\u001b[A\n",
      "\n",
      "\n",
      " 91%|█████████ | 294961/323834 [00:08<00:00, 34028.75it/s]\u001b[A\u001b[A\u001b[A\n",
      "\n",
      "\n",
      " 92%|█████████▏| 298481/323834 [00:08<00:00, 33364.06it/s]\u001b[A\u001b[A\u001b[A\n",
      "\n",
      "\n",
      " 93%|█████████▎| 301921/323834 [00:08<00:00, 33666.26it/s]\u001b[A\u001b[A\u001b[A\n",
      "\n",
      "\n",
      " 94%|█████████▍| 305409/323834 [00:08<00:00, 34019.51it/s]\u001b[A\u001b[A\u001b[A\n",
      "\n",
      "\n",
      " 96%|█████████▌| 309372/323834 [00:08<00:00, 35527.17it/s]\u001b[A\u001b[A\u001b[A\n",
      "\n",
      "\n",
      " 97%|█████████▋| 313428/323834 [00:08<00:00, 36899.61it/s]\u001b[A\u001b[A\u001b[A\n",
      "\n",
      "\n",
      " 98%|█████████▊| 317165/323834 [00:08<00:00, 35057.54it/s]\u001b[A\u001b[A\u001b[A\n",
      "\n",
      "\n",
      "100%|██████████| 323834/323834 [00:08<00:00, 36108.94it/s]\u001b[A\u001b[A\u001b[A\n"
     ]
    }
   ],
   "source": [
    "title_rating_new['runtimeMinutes'] = title_rating_new.progress_apply(lambda x: runtime_dict[x['primaryTitle']] if pd.isna(x['runtimeMinutes']) else x['runtimeMinutes'], axis = 1)"
   ]
  },
  {
   "cell_type": "code",
   "execution_count": 30,
   "metadata": {},
   "outputs": [
    {
     "data": {
      "text/plain": [
       "34938"
      ]
     },
     "execution_count": 30,
     "metadata": {},
     "output_type": "execute_result"
    }
   ],
   "source": [
    "len(runtime_dict.keys())"
   ]
  },
  {
   "cell_type": "code",
   "execution_count": 36,
   "metadata": {},
   "outputs": [
    {
     "data": {
      "text/plain": [
       "tconst               0\n",
       "titleType            0\n",
       "primaryTitle         0\n",
       "originalTitle        0\n",
       "isAdult              0\n",
       "startYear            0\n",
       "runtimeMinutes    1730\n",
       "averageRating        0\n",
       "numVotes             0\n",
       "genres             540\n",
       "dtype: int64"
      ]
     },
     "execution_count": 36,
     "metadata": {},
     "output_type": "execute_result"
    }
   ],
   "source": [
    "title_rating_new.isnull().sum()"
   ]
  },
  {
   "cell_type": "markdown",
   "metadata": {},
   "source": [
    "We fill up the missed values with the mean runtime of 93 mins"
   ]
  },
  {
   "cell_type": "code",
   "execution_count": 37,
   "metadata": {},
   "outputs": [],
   "source": [
    "title_rating_new['runtimeMinutes'].fillna(93, inplace = True)"
   ]
  },
  {
   "cell_type": "code",
   "execution_count": 38,
   "metadata": {},
   "outputs": [],
   "source": [
    "title_rating_new.to_csv('processed/title_rating_new.csv', index = False)"
   ]
  },
  {
   "cell_type": "markdown",
   "metadata": {},
   "source": [
    "## Feature Engineering"
   ]
  },
  {
   "cell_type": "markdown",
   "metadata": {},
   "source": [
    "I'll Use this section to explore some feature engineering"
   ]
  },
  {
   "cell_type": "markdown",
   "metadata": {},
   "source": [
    "### Professional Quality\n",
    "\n",
    "A strong intuitive predictor of the quality of a movie comes from the cast and the crew of that movie. Thus we need to figure out a way to encode these values"
   ]
  },
  {
   "cell_type": "code",
   "execution_count": null,
   "metadata": {},
   "outputs": [],
   "source": []
  }
 ],
 "metadata": {
  "kernelspec": {
   "display_name": "Python 3",
   "language": "python",
   "name": "python3"
  },
  "language_info": {
   "codemirror_mode": {
    "name": "ipython",
    "version": 3
   },
   "file_extension": ".py",
   "mimetype": "text/x-python",
   "name": "python",
   "nbconvert_exporter": "python",
   "pygments_lexer": "ipython3",
   "version": "3.7.6"
  }
 },
 "nbformat": 4,
 "nbformat_minor": 4
}
