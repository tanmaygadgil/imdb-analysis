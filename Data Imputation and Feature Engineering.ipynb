{
 "cells": [
  {
   "cell_type": "markdown",
   "metadata": {},
   "source": [
    "# Data Imputation and Feature Engineering"
   ]
  },
  {
   "cell_type": "markdown",
   "metadata": {},
   "source": [
    "This notebook will feature data imputation for some key features and also some feature enginnering to create new features."
   ]
  },
  {
   "cell_type": "markdown",
   "metadata": {},
   "source": [
    "## Index\n",
    "\n",
    "- [Imports](#Imports)\n",
    "- [Utils](#Utils)\n",
    "- [Data Imputation](#Data-Imputation)\n",
    "    - [Genres](#Genres)\n",
    "    - [Start Year](#Start-Year)\n",
    "    - [Runtime](#Runtime)\n",
    "- [Feature Engineering](#Feature-Engineering)\n",
    "    - [Professional Quality](#Professional-Quality)\n",
    "    - [Number of regions](#Number-of-regions)\n",
    "- [Final Imputation and Clean-Up](#Final-Imputation-and-Clean-Up)\n",
    "- [One hot encoding the genres](#One-hot-encoding-the-genres)"
   ]
  },
  {
   "cell_type": "markdown",
   "metadata": {},
   "source": [
    "## Imports"
   ]
  },
  {
   "cell_type": "code",
   "execution_count": 2,
   "metadata": {},
   "outputs": [],
   "source": [
    "from tmdbv3api import Movie"
   ]
  },
  {
   "cell_type": "code",
   "execution_count": 3,
   "metadata": {},
   "outputs": [],
   "source": [
    "from tmdbv3api import TMDb"
   ]
  },
  {
   "cell_type": "code",
   "execution_count": null,
   "metadata": {},
   "outputs": [],
   "source": [
    "API_KEY = '5b9105a64cdd16b8cc9259f36cae74d0'"
   ]
  },
  {
   "cell_type": "code",
   "execution_count": 4,
   "metadata": {},
   "outputs": [],
   "source": [
    "import requests"
   ]
  },
  {
   "cell_type": "code",
   "execution_count": 5,
   "metadata": {},
   "outputs": [],
   "source": [
    "tmdb = TMDb()\n",
    "tmdb.api_key = API_KEY"
   ]
  },
  {
   "cell_type": "code",
   "execution_count": 6,
   "metadata": {},
   "outputs": [],
   "source": [
    "import pandas as pd\n",
    "import numpy as np\n",
    "import matplotlib.pyplot as plt"
   ]
  },
  {
   "cell_type": "code",
   "execution_count": 7,
   "metadata": {},
   "outputs": [],
   "source": [
    "from collections import Counter"
   ]
  },
  {
   "cell_type": "code",
   "execution_count": 8,
   "metadata": {},
   "outputs": [],
   "source": [
    "import os \n",
    "import sys"
   ]
  },
  {
   "cell_type": "code",
   "execution_count": 9,
   "metadata": {},
   "outputs": [],
   "source": [
    "from tqdm import tqdm"
   ]
  },
  {
   "cell_type": "code",
   "execution_count": 10,
   "metadata": {},
   "outputs": [],
   "source": [
    "import json"
   ]
  },
  {
   "cell_type": "code",
   "execution_count": 11,
   "metadata": {},
   "outputs": [],
   "source": [
    "import tqdm.notebook as tq"
   ]
  },
  {
   "cell_type": "code",
   "execution_count": 12,
   "metadata": {},
   "outputs": [
    {
     "name": "stderr",
     "output_type": "stream",
     "text": [
      "/home/tanmay/anaconda3/lib/python3.7/site-packages/ipykernel_launcher.py:1: FutureWarning: The Panel class is removed from pandas. Accessing it from the top-level namespace will also be removed in the next version\n",
      "  \"\"\"Entry point for launching an IPython kernel.\n"
     ]
    }
   ],
   "source": [
    "from pandas import Panel"
   ]
  },
  {
   "cell_type": "code",
   "execution_count": 13,
   "metadata": {},
   "outputs": [
    {
     "name": "stderr",
     "output_type": "stream",
     "text": [
      "/home/tanmay/anaconda3/lib/python3.7/site-packages/tqdm/std.py:658: FutureWarning: The Panel class is removed from pandas. Accessing it from the top-level namespace will also be removed in the next version\n",
      "  from pandas import Panel\n"
     ]
    }
   ],
   "source": [
    "tqdm.pandas()"
   ]
  },
  {
   "cell_type": "code",
   "execution_count": 14,
   "metadata": {},
   "outputs": [],
   "source": [
    "from pandarallel import pandarallel"
   ]
  },
  {
   "cell_type": "code",
   "execution_count": 15,
   "metadata": {},
   "outputs": [
    {
     "name": "stdout",
     "output_type": "stream",
     "text": [
      "INFO: Pandarallel will run on 4 workers.\n",
      "INFO: Pandarallel will use Memory file system to transfer data between the main process and workers.\n"
     ]
    }
   ],
   "source": [
    "pandarallel.initialize(progress_bar=True)"
   ]
  },
  {
   "cell_type": "markdown",
   "metadata": {},
   "source": [
    "## Utils"
   ]
  },
  {
   "cell_type": "code",
   "execution_count": 101,
   "metadata": {},
   "outputs": [],
   "source": [
    "def split_names(x):\n",
    "    \n",
    "    \"\"\"\n",
    "    A df function that will split a string of names for further processing\n",
    "    \"\"\"\n",
    "    \n",
    "    return [n for n in x.split(',') if (not pd.isna(x) and not x == '')]"
   ]
  },
  {
   "cell_type": "markdown",
   "metadata": {},
   "source": [
    "## Data Imputation"
   ]
  },
  {
   "cell_type": "markdown",
   "metadata": {},
   "source": [
    "The first step is to impute missing data from our datasets.\n",
    "Feature to be imputed are:\n",
    "- Genres\n",
    "- runtime\n",
    "- Start Year\n"
   ]
  },
  {
   "cell_type": "markdown",
   "metadata": {},
   "source": [
    "### Genres"
   ]
  },
  {
   "cell_type": "markdown",
   "metadata": {},
   "source": [
    "**Strategy**\n",
    "\n",
    "Genres provide a strong indicator for the IMDb rating of a film. We can see that certain genres like horror get lower overall scores while genres such as drama or war films get higher scores on average.\n",
    "\n",
    "To impute the genre we follow the following steps:\n",
    "1. Find all titles that do not have a genre associated with them.\n",
    "2. Use the Crew and Principals tables to get a set of people who have worked on those titles\n",
    "3. Get a list of other titles that they are known for \n",
    "4. Get the most common genres of those titles and impute them for our title\n",
    "\n",
    "The working hypothesis for this process is that cast and crew generally tend to work within similar genres and this provides a good proxy for what genre category the film can be a part of."
   ]
  },
  {
   "cell_type": "code",
   "execution_count": 11,
   "metadata": {},
   "outputs": [],
   "source": [
    "title_rating = pd.read_csv('processed/title_rating.csv')"
   ]
  },
  {
   "cell_type": "code",
   "execution_count": 12,
   "metadata": {},
   "outputs": [
    {
     "data": {
      "text/html": [
       "<div>\n",
       "<style scoped>\n",
       "    .dataframe tbody tr th:only-of-type {\n",
       "        vertical-align: middle;\n",
       "    }\n",
       "\n",
       "    .dataframe tbody tr th {\n",
       "        vertical-align: top;\n",
       "    }\n",
       "\n",
       "    .dataframe thead th {\n",
       "        text-align: right;\n",
       "    }\n",
       "</style>\n",
       "<table border=\"1\" class=\"dataframe\">\n",
       "  <thead>\n",
       "    <tr style=\"text-align: right;\">\n",
       "      <th></th>\n",
       "      <th>tconst</th>\n",
       "      <th>titleType</th>\n",
       "      <th>primaryTitle</th>\n",
       "      <th>originalTitle</th>\n",
       "      <th>isAdult</th>\n",
       "      <th>startYear</th>\n",
       "      <th>endYear</th>\n",
       "      <th>runtimeMinutes</th>\n",
       "      <th>genres</th>\n",
       "      <th>averageRating</th>\n",
       "      <th>numVotes</th>\n",
       "    </tr>\n",
       "  </thead>\n",
       "  <tbody>\n",
       "    <tr>\n",
       "      <th>0</th>\n",
       "      <td>tt0000502</td>\n",
       "      <td>movie</td>\n",
       "      <td>Bohemios</td>\n",
       "      <td>Bohemios</td>\n",
       "      <td>0</td>\n",
       "      <td>1970-01-01 00:00:00.000001905</td>\n",
       "      <td>NaN</td>\n",
       "      <td>100.0</td>\n",
       "      <td>NaN</td>\n",
       "      <td>4.5</td>\n",
       "      <td>14</td>\n",
       "    </tr>\n",
       "    <tr>\n",
       "      <th>1</th>\n",
       "      <td>tt0000574</td>\n",
       "      <td>movie</td>\n",
       "      <td>The Story of the Kelly Gang</td>\n",
       "      <td>The Story of the Kelly Gang</td>\n",
       "      <td>0</td>\n",
       "      <td>1970-01-01 00:00:00.000001906</td>\n",
       "      <td>NaN</td>\n",
       "      <td>70.0</td>\n",
       "      <td>Action,Adventure,Biography</td>\n",
       "      <td>6.0</td>\n",
       "      <td>754</td>\n",
       "    </tr>\n",
       "    <tr>\n",
       "      <th>2</th>\n",
       "      <td>tt0000591</td>\n",
       "      <td>movie</td>\n",
       "      <td>The Prodigal Son</td>\n",
       "      <td>L'enfant prodigue</td>\n",
       "      <td>0</td>\n",
       "      <td>1970-01-01 00:00:00.000001907</td>\n",
       "      <td>NaN</td>\n",
       "      <td>90.0</td>\n",
       "      <td>Drama</td>\n",
       "      <td>4.6</td>\n",
       "      <td>17</td>\n",
       "    </tr>\n",
       "    <tr>\n",
       "      <th>3</th>\n",
       "      <td>tt0000615</td>\n",
       "      <td>movie</td>\n",
       "      <td>Robbery Under Arms</td>\n",
       "      <td>Robbery Under Arms</td>\n",
       "      <td>0</td>\n",
       "      <td>1970-01-01 00:00:00.000001907</td>\n",
       "      <td>NaN</td>\n",
       "      <td>NaN</td>\n",
       "      <td>Drama</td>\n",
       "      <td>4.5</td>\n",
       "      <td>23</td>\n",
       "    </tr>\n",
       "    <tr>\n",
       "      <th>4</th>\n",
       "      <td>tt0000630</td>\n",
       "      <td>movie</td>\n",
       "      <td>Hamlet</td>\n",
       "      <td>Amleto</td>\n",
       "      <td>0</td>\n",
       "      <td>1970-01-01 00:00:00.000001908</td>\n",
       "      <td>NaN</td>\n",
       "      <td>NaN</td>\n",
       "      <td>Drama</td>\n",
       "      <td>3.8</td>\n",
       "      <td>24</td>\n",
       "    </tr>\n",
       "  </tbody>\n",
       "</table>\n",
       "</div>"
      ],
      "text/plain": [
       "      tconst titleType                 primaryTitle  \\\n",
       "0  tt0000502     movie                     Bohemios   \n",
       "1  tt0000574     movie  The Story of the Kelly Gang   \n",
       "2  tt0000591     movie             The Prodigal Son   \n",
       "3  tt0000615     movie           Robbery Under Arms   \n",
       "4  tt0000630     movie                       Hamlet   \n",
       "\n",
       "                 originalTitle  isAdult                      startYear  \\\n",
       "0                     Bohemios        0  1970-01-01 00:00:00.000001905   \n",
       "1  The Story of the Kelly Gang        0  1970-01-01 00:00:00.000001906   \n",
       "2            L'enfant prodigue        0  1970-01-01 00:00:00.000001907   \n",
       "3           Robbery Under Arms        0  1970-01-01 00:00:00.000001907   \n",
       "4                       Amleto        0  1970-01-01 00:00:00.000001908   \n",
       "\n",
       "   endYear  runtimeMinutes                      genres  averageRating  \\\n",
       "0      NaN           100.0                         NaN            4.5   \n",
       "1      NaN            70.0  Action,Adventure,Biography            6.0   \n",
       "2      NaN            90.0                       Drama            4.6   \n",
       "3      NaN             NaN                       Drama            4.5   \n",
       "4      NaN             NaN                       Drama            3.8   \n",
       "\n",
       "   numVotes  \n",
       "0        14  \n",
       "1       754  \n",
       "2        17  \n",
       "3        23  \n",
       "4        24  "
      ]
     },
     "execution_count": 12,
     "metadata": {},
     "output_type": "execute_result"
    }
   ],
   "source": [
    "title_rating.head()"
   ]
  },
  {
   "cell_type": "code",
   "execution_count": 13,
   "metadata": {},
   "outputs": [],
   "source": [
    "title_rating.genres.fillna('', inplace = True)"
   ]
  },
  {
   "cell_type": "markdown",
   "metadata": {},
   "source": [
    "We have 11,666 values that need to be imputed"
   ]
  },
  {
   "cell_type": "code",
   "execution_count": 15,
   "metadata": {},
   "outputs": [],
   "source": [
    "crew = pd.read_csv('processed/title_rating_crew.csv')\n",
    "principal = pd.read_csv('processed/title_rating_principal.csv')"
   ]
  },
  {
   "cell_type": "code",
   "execution_count": 16,
   "metadata": {},
   "outputs": [],
   "source": [
    "crew['directors'].replace({'\\\\N': ''}, inplace = True)\n",
    "crew['writers'].replace({'\\\\N': ''}, inplace = True)\n",
    "principal['nconst'].replace({'\\\\N': ''}, inplace = True)"
   ]
  },
  {
   "cell_type": "code",
   "execution_count": 17,
   "metadata": {},
   "outputs": [],
   "source": [
    "names = pd.read_csv('processed/name_basics.csv')"
   ]
  },
  {
   "cell_type": "code",
   "execution_count": 20,
   "metadata": {},
   "outputs": [],
   "source": [
    "#creating some useful data stuctures for further processing\n",
    "title_genre = title_rating[['tconst', 'genres']]"
   ]
  },
  {
   "cell_type": "code",
   "execution_count": 21,
   "metadata": {},
   "outputs": [
    {
     "name": "stderr",
     "output_type": "stream",
     "text": [
      "/home/tanmay/anaconda3/lib/python3.7/site-packages/ipykernel_launcher.py:1: SettingWithCopyWarning: \n",
      "A value is trying to be set on a copy of a slice from a DataFrame.\n",
      "Try using .loc[row_indexer,col_indexer] = value instead\n",
      "\n",
      "See the caveats in the documentation: https://pandas.pydata.org/pandas-docs/stable/user_guide/indexing.html#returning-a-view-versus-a-copy\n",
      "  \"\"\"Entry point for launching an IPython kernel.\n"
     ]
    }
   ],
   "source": [
    "title_genre['genres'] = title_genre['genres'].apply(lambda x: split_names(x))"
   ]
  },
  {
   "cell_type": "code",
   "execution_count": 22,
   "metadata": {},
   "outputs": [],
   "source": [
    "## Creating a mapping between title and genres for the imputation function described later\n",
    "title_genre_dict = title_genre.set_index('tconst').to_dict()['genres']"
   ]
  },
  {
   "cell_type": "code",
   "execution_count": 23,
   "metadata": {},
   "outputs": [],
   "source": [
    "names['knownForTitles'].fillna('', inplace = True)"
   ]
  },
  {
   "cell_type": "code",
   "execution_count": 24,
   "metadata": {},
   "outputs": [],
   "source": [
    "names = names[['nconst', 'knownForTitles']]"
   ]
  },
  {
   "cell_type": "code",
   "execution_count": 25,
   "metadata": {},
   "outputs": [],
   "source": [
    "names['knownForTitles'] = names['knownForTitles'].apply(lambda x: split_names(x))\n"
   ]
  },
  {
   "cell_type": "code",
   "execution_count": 28,
   "metadata": {},
   "outputs": [
    {
     "data": {
      "text/html": [
       "<div>\n",
       "<style scoped>\n",
       "    .dataframe tbody tr th:only-of-type {\n",
       "        vertical-align: middle;\n",
       "    }\n",
       "\n",
       "    .dataframe tbody tr th {\n",
       "        vertical-align: top;\n",
       "    }\n",
       "\n",
       "    .dataframe thead th {\n",
       "        text-align: right;\n",
       "    }\n",
       "</style>\n",
       "<table border=\"1\" class=\"dataframe\">\n",
       "  <thead>\n",
       "    <tr style=\"text-align: right;\">\n",
       "      <th></th>\n",
       "      <th>nconst</th>\n",
       "      <th>knownForTitles</th>\n",
       "    </tr>\n",
       "  </thead>\n",
       "  <tbody>\n",
       "    <tr>\n",
       "      <th>0</th>\n",
       "      <td>nm0000001</td>\n",
       "      <td>[tt0050419, tt0031983, tt0072308, tt0053137]</td>\n",
       "    </tr>\n",
       "    <tr>\n",
       "      <th>1</th>\n",
       "      <td>nm0000002</td>\n",
       "      <td>[tt0037382, tt0038355, tt0071877, tt0117057]</td>\n",
       "    </tr>\n",
       "    <tr>\n",
       "      <th>2</th>\n",
       "      <td>nm0000003</td>\n",
       "      <td>[tt0057345, tt0056404, tt0054452, tt0049189]</td>\n",
       "    </tr>\n",
       "    <tr>\n",
       "      <th>3</th>\n",
       "      <td>nm0000004</td>\n",
       "      <td>[tt0080455, tt0078723, tt0072562, tt0077975]</td>\n",
       "    </tr>\n",
       "    <tr>\n",
       "      <th>4</th>\n",
       "      <td>nm0000005</td>\n",
       "      <td>[tt0050986, tt0083922, tt0060827, tt0069467]</td>\n",
       "    </tr>\n",
       "    <tr>\n",
       "      <th>...</th>\n",
       "      <td>...</td>\n",
       "      <td>...</td>\n",
       "    </tr>\n",
       "    <tr>\n",
       "      <th>964582</th>\n",
       "      <td>nm9993616</td>\n",
       "      <td>[tt4844148]</td>\n",
       "    </tr>\n",
       "    <tr>\n",
       "      <th>964583</th>\n",
       "      <td>nm9993650</td>\n",
       "      <td>[tt8739208]</td>\n",
       "    </tr>\n",
       "    <tr>\n",
       "      <th>964584</th>\n",
       "      <td>nm9993690</td>\n",
       "      <td>[tt7888884]</td>\n",
       "    </tr>\n",
       "    <tr>\n",
       "      <th>964585</th>\n",
       "      <td>nm9993691</td>\n",
       "      <td>[tt7888884]</td>\n",
       "    </tr>\n",
       "    <tr>\n",
       "      <th>964586</th>\n",
       "      <td>nm9993693</td>\n",
       "      <td>[tt11580944, tt12856788, tt13847502, tt8302382]</td>\n",
       "    </tr>\n",
       "  </tbody>\n",
       "</table>\n",
       "<p>964587 rows × 2 columns</p>\n",
       "</div>"
      ],
      "text/plain": [
       "           nconst                                   knownForTitles\n",
       "0       nm0000001     [tt0050419, tt0031983, tt0072308, tt0053137]\n",
       "1       nm0000002     [tt0037382, tt0038355, tt0071877, tt0117057]\n",
       "2       nm0000003     [tt0057345, tt0056404, tt0054452, tt0049189]\n",
       "3       nm0000004     [tt0080455, tt0078723, tt0072562, tt0077975]\n",
       "4       nm0000005     [tt0050986, tt0083922, tt0060827, tt0069467]\n",
       "...           ...                                              ...\n",
       "964582  nm9993616                                      [tt4844148]\n",
       "964583  nm9993650                                      [tt8739208]\n",
       "964584  nm9993690                                      [tt7888884]\n",
       "964585  nm9993691                                      [tt7888884]\n",
       "964586  nm9993693  [tt11580944, tt12856788, tt13847502, tt8302382]\n",
       "\n",
       "[964587 rows x 2 columns]"
      ]
     },
     "execution_count": 28,
     "metadata": {},
     "output_type": "execute_result"
    }
   ],
   "source": [
    "names"
   ]
  },
  {
   "cell_type": "code",
   "execution_count": 27,
   "metadata": {},
   "outputs": [],
   "source": [
    "names['nconst'].dropna(inplace = True) "
   ]
  },
  {
   "cell_type": "code",
   "execution_count": 29,
   "metadata": {},
   "outputs": [],
   "source": [
    "#Creating a mapping between names and known titles for the imputation function described later\n",
    "names_title_dict = names.set_index('nconst').to_dict()['knownForTitles']"
   ]
  },
  {
   "cell_type": "code",
   "execution_count": 66,
   "metadata": {},
   "outputs": [],
   "source": [
    "def impute_genre(title, names_title_dict, \n",
    "                 title_genre_dict, \n",
    "                 principal,\n",
    "                 crew):\n",
    "    \"\"\"\n",
    "    Function to impute the the genre of a movie. Designed to worked with df.apply\n",
    "    \n",
    "    params\n",
    "    \n",
    "    title: id of the title to be imputed\n",
    "    names_title_dict: dict which maps the name of a professional to their known works\n",
    "    title_genre_dict: maps titles to their respective genres\n",
    "    principal: The principal dataframe\n",
    "    crew: the Crew dataframe\n",
    "    \n",
    "    returns\n",
    "    A string which is a comma separated list of genres\n",
    "    \"\"\"\n",
    "    \n",
    "    people = set()\n",
    "    \n",
    "    #Getting al the people that have worked on that title\n",
    "    people.update(principal[principal['tconst'] == title]['nconst'].values)\n",
    "    people.update(split_names(crew[crew['tconst'] == title]['directors'].values[0]))\n",
    "    people.update(split_names(crew[crew['tconst'] == title]['writers'].values[0]))\n",
    "    \n",
    "    related = set()\n",
    "#     print(people)\n",
    "    #Getting all the tiles that the crew have worked on previously\n",
    "    for p in people:\n",
    "#         print(names_title_dict[p])\n",
    "        try:\n",
    "            related.update(names_title_dict[p])\n",
    "        except:\n",
    "            pass\n",
    "    # getting the counts of the genres \n",
    "    genres = []\n",
    "    for r in related:\n",
    "        try:\n",
    "            genres = genres+title_genre_dict[r]\n",
    "        except:\n",
    "            pass\n",
    "        \n",
    "    c = Counter(genres)\n",
    "    comm = c.most_common(2)\n",
    "#     print(comm)\n",
    "    impute = []\n",
    "    #Returning the 2 most common genres that the crew has worked on\n",
    "    for item in comm:\n",
    "        impute.append(item[0])\n",
    "        \n",
    "    return impute\n",
    "    "
   ]
  },
  {
   "cell_type": "code",
   "execution_count": 72,
   "metadata": {
    "scrolled": true,
    "slideshow": {
     "slide_type": "fragment"
    }
   },
   "outputs": [
    {
     "name": "stderr",
     "output_type": "stream",
     "text": [
      "100%|██████████| 323834/323834 [22:46<00:00, 382.43it/s] \n",
      "\n",
      "\u001b[A\u001b[A                                                  \n",
      "100%|██████████| 323834/323834 [22:46<00:00, 237.03it/s]"
     ]
    },
    {
     "name": "stdout",
     "output_type": "stream",
     "text": []
    },
    {
     "name": "stderr",
     "output_type": "stream",
     "text": [
      "\n"
     ]
    }
   ],
   "source": [
    "#Imputing the values into the title_genre map\n",
    "for key in tqdm(title_genre_dict.keys(), position=0, leave=True):\n",
    "    if title_genre_dict[key] == []:\n",
    "        title_genre_dict[key] = impute_genre(key, names_title_dict, \n",
    "                                             title_genre_dict, \n",
    "                                             principal,\n",
    "                                             crew)\n",
    "        "
   ]
  },
  {
   "cell_type": "code",
   "execution_count": 81,
   "metadata": {},
   "outputs": [],
   "source": [
    "#Saving for later use\n",
    "with open('processed/title_genre_dict.json', 'w') as f:\n",
    "    json.dump(title_genre_dict, f)"
   ]
  },
  {
   "cell_type": "code",
   "execution_count": 84,
   "metadata": {},
   "outputs": [
    {
     "name": "stderr",
     "output_type": "stream",
     "text": [
      "100%|██████████| 323834/323834 [00:00<00:00, 1790366.87it/s]"
     ]
    },
    {
     "name": "stdout",
     "output_type": "stream",
     "text": []
    },
    {
     "name": "stderr",
     "output_type": "stream",
     "text": [
      "\n"
     ]
    }
   ],
   "source": [
    "#Converting the lists into string compatip\\ble with the original dataset\n",
    "for k in tqdm(list(title_genre_dict.keys()),  position=0, leave=True):\n",
    "    title_genre_dict[k] = ','.join(title_genre_dict[k])"
   ]
  },
  {
   "cell_type": "code",
   "execution_count": 86,
   "metadata": {},
   "outputs": [],
   "source": [
    "t_g_df = pd.DataFrame.from_dict(title_genre_dict, orient='index')"
   ]
  },
  {
   "cell_type": "code",
   "execution_count": 88,
   "metadata": {},
   "outputs": [],
   "source": [
    "title_genre_new = pd.merge(title_genre, t_g_df, left_on='tconst', right_on=t_g_df)"
   ]
  },
  {
   "cell_type": "code",
   "execution_count": 89,
   "metadata": {},
   "outputs": [
    {
     "data": {
      "text/html": [
       "<div>\n",
       "<style scoped>\n",
       "    .dataframe tbody tr th:only-of-type {\n",
       "        vertical-align: middle;\n",
       "    }\n",
       "\n",
       "    .dataframe tbody tr th {\n",
       "        vertical-align: top;\n",
       "    }\n",
       "\n",
       "    .dataframe thead th {\n",
       "        text-align: right;\n",
       "    }\n",
       "</style>\n",
       "<table border=\"1\" class=\"dataframe\">\n",
       "  <thead>\n",
       "    <tr style=\"text-align: right;\">\n",
       "      <th></th>\n",
       "      <th>tconst</th>\n",
       "      <th>genres</th>\n",
       "      <th>0</th>\n",
       "    </tr>\n",
       "  </thead>\n",
       "  <tbody>\n",
       "    <tr>\n",
       "      <th>0</th>\n",
       "      <td>tt0000502</td>\n",
       "      <td>[]</td>\n",
       "      <td>Comedy,Musical</td>\n",
       "    </tr>\n",
       "    <tr>\n",
       "      <th>1</th>\n",
       "      <td>tt0000574</td>\n",
       "      <td>[Action, Adventure, Biography]</td>\n",
       "      <td>Action,Adventure,Biography</td>\n",
       "    </tr>\n",
       "    <tr>\n",
       "      <th>2</th>\n",
       "      <td>tt0000591</td>\n",
       "      <td>[Drama]</td>\n",
       "      <td>Drama</td>\n",
       "    </tr>\n",
       "    <tr>\n",
       "      <th>3</th>\n",
       "      <td>tt0000615</td>\n",
       "      <td>[Drama]</td>\n",
       "      <td>Drama</td>\n",
       "    </tr>\n",
       "    <tr>\n",
       "      <th>4</th>\n",
       "      <td>tt0000630</td>\n",
       "      <td>[Drama]</td>\n",
       "      <td>Drama</td>\n",
       "    </tr>\n",
       "    <tr>\n",
       "      <th>...</th>\n",
       "      <td>...</td>\n",
       "      <td>...</td>\n",
       "      <td>...</td>\n",
       "    </tr>\n",
       "    <tr>\n",
       "      <th>323829</th>\n",
       "      <td>tt9916362</td>\n",
       "      <td>[Drama, History]</td>\n",
       "      <td>Drama,History</td>\n",
       "    </tr>\n",
       "    <tr>\n",
       "      <th>323830</th>\n",
       "      <td>tt9916428</td>\n",
       "      <td>[Adventure, History, War]</td>\n",
       "      <td>Adventure,History,War</td>\n",
       "    </tr>\n",
       "    <tr>\n",
       "      <th>323831</th>\n",
       "      <td>tt9916460</td>\n",
       "      <td>[Comedy]</td>\n",
       "      <td>Comedy</td>\n",
       "    </tr>\n",
       "    <tr>\n",
       "      <th>323832</th>\n",
       "      <td>tt9916538</td>\n",
       "      <td>[Drama]</td>\n",
       "      <td>Drama</td>\n",
       "    </tr>\n",
       "    <tr>\n",
       "      <th>323833</th>\n",
       "      <td>tt9916730</td>\n",
       "      <td>[]</td>\n",
       "      <td>Drama,Romance</td>\n",
       "    </tr>\n",
       "  </tbody>\n",
       "</table>\n",
       "<p>323834 rows × 3 columns</p>\n",
       "</div>"
      ],
      "text/plain": [
       "           tconst                          genres                           0\n",
       "0       tt0000502                              []              Comedy,Musical\n",
       "1       tt0000574  [Action, Adventure, Biography]  Action,Adventure,Biography\n",
       "2       tt0000591                         [Drama]                       Drama\n",
       "3       tt0000615                         [Drama]                       Drama\n",
       "4       tt0000630                         [Drama]                       Drama\n",
       "...           ...                             ...                         ...\n",
       "323829  tt9916362                [Drama, History]               Drama,History\n",
       "323830  tt9916428       [Adventure, History, War]       Adventure,History,War\n",
       "323831  tt9916460                        [Comedy]                      Comedy\n",
       "323832  tt9916538                         [Drama]                       Drama\n",
       "323833  tt9916730                              []               Drama,Romance\n",
       "\n",
       "[323834 rows x 3 columns]"
      ]
     },
     "execution_count": 89,
     "metadata": {},
     "output_type": "execute_result"
    }
   ],
   "source": [
    "title_genre_new"
   ]
  },
  {
   "cell_type": "code",
   "execution_count": 99,
   "metadata": {},
   "outputs": [],
   "source": [
    "#Merging our imputed data with our original dataset\n",
    "title_rating_new = pd.merge(title_rating, title_genre_new, left_on='tconst', right_on = 'tconst')"
   ]
  },
  {
   "cell_type": "code",
   "execution_count": 106,
   "metadata": {},
   "outputs": [],
   "source": [
    "title_rating_new.drop(columns=['genres_y', 'genres_x'], inplace=True)"
   ]
  },
  {
   "cell_type": "code",
   "execution_count": 109,
   "metadata": {},
   "outputs": [
    {
     "data": {
      "text/html": [
       "<div>\n",
       "<style scoped>\n",
       "    .dataframe tbody tr th:only-of-type {\n",
       "        vertical-align: middle;\n",
       "    }\n",
       "\n",
       "    .dataframe tbody tr th {\n",
       "        vertical-align: top;\n",
       "    }\n",
       "\n",
       "    .dataframe thead th {\n",
       "        text-align: right;\n",
       "    }\n",
       "</style>\n",
       "<table border=\"1\" class=\"dataframe\">\n",
       "  <thead>\n",
       "    <tr style=\"text-align: right;\">\n",
       "      <th></th>\n",
       "      <th>tconst</th>\n",
       "      <th>titleType</th>\n",
       "      <th>primaryTitle</th>\n",
       "      <th>originalTitle</th>\n",
       "      <th>isAdult</th>\n",
       "      <th>startYear</th>\n",
       "      <th>endYear</th>\n",
       "      <th>runtimeMinutes</th>\n",
       "      <th>averageRating</th>\n",
       "      <th>numVotes</th>\n",
       "      <th>0</th>\n",
       "    </tr>\n",
       "  </thead>\n",
       "  <tbody>\n",
       "    <tr>\n",
       "      <th>13</th>\n",
       "      <td>tt0001010</td>\n",
       "      <td>movie</td>\n",
       "      <td>Protección de un convoy de víveres en el puent...</td>\n",
       "      <td>Protección de un convoy de víveres en el puent...</td>\n",
       "      <td>0</td>\n",
       "      <td>1970-01-01 00:00:00.000001909</td>\n",
       "      <td>NaN</td>\n",
       "      <td>NaN</td>\n",
       "      <td>4.6</td>\n",
       "      <td>14</td>\n",
       "      <td></td>\n",
       "    </tr>\n",
       "    <tr>\n",
       "      <th>15</th>\n",
       "      <td>tt0001038</td>\n",
       "      <td>movie</td>\n",
       "      <td>Sherlock Holmes VI</td>\n",
       "      <td>Sherlock Holmes VI</td>\n",
       "      <td>0</td>\n",
       "      <td>1970-01-01 00:00:00.000001910</td>\n",
       "      <td>NaN</td>\n",
       "      <td>NaN</td>\n",
       "      <td>3.8</td>\n",
       "      <td>21</td>\n",
       "      <td></td>\n",
       "    </tr>\n",
       "    <tr>\n",
       "      <th>19</th>\n",
       "      <td>tt0001113</td>\n",
       "      <td>movie</td>\n",
       "      <td>Amor gitano</td>\n",
       "      <td>Amor gitano</td>\n",
       "      <td>0</td>\n",
       "      <td>1970-01-01 00:00:00.000001910</td>\n",
       "      <td>NaN</td>\n",
       "      <td>NaN</td>\n",
       "      <td>5.1</td>\n",
       "      <td>16</td>\n",
       "      <td></td>\n",
       "    </tr>\n",
       "    <tr>\n",
       "      <th>277</th>\n",
       "      <td>tt0005040</td>\n",
       "      <td>movie</td>\n",
       "      <td>Butter</td>\n",
       "      <td>Butter</td>\n",
       "      <td>0</td>\n",
       "      <td>1970-01-01 00:00:00.000001916</td>\n",
       "      <td>NaN</td>\n",
       "      <td>NaN</td>\n",
       "      <td>6.7</td>\n",
       "      <td>11</td>\n",
       "      <td></td>\n",
       "    </tr>\n",
       "    <tr>\n",
       "      <th>366</th>\n",
       "      <td>tt0005869</td>\n",
       "      <td>movie</td>\n",
       "      <td>Pasionaria</td>\n",
       "      <td>Pasionaria</td>\n",
       "      <td>0</td>\n",
       "      <td>1970-01-01 00:00:00.000001915</td>\n",
       "      <td>NaN</td>\n",
       "      <td>NaN</td>\n",
       "      <td>4.4</td>\n",
       "      <td>11</td>\n",
       "      <td></td>\n",
       "    </tr>\n",
       "    <tr>\n",
       "      <th>...</th>\n",
       "      <td>...</td>\n",
       "      <td>...</td>\n",
       "      <td>...</td>\n",
       "      <td>...</td>\n",
       "      <td>...</td>\n",
       "      <td>...</td>\n",
       "      <td>...</td>\n",
       "      <td>...</td>\n",
       "      <td>...</td>\n",
       "      <td>...</td>\n",
       "      <td>...</td>\n",
       "    </tr>\n",
       "    <tr>\n",
       "      <th>318737</th>\n",
       "      <td>tt9013770</td>\n",
       "      <td>movie</td>\n",
       "      <td>The Witches of Gambaga</td>\n",
       "      <td>The Witches of Gambaga</td>\n",
       "      <td>0</td>\n",
       "      <td>2011-01-01</td>\n",
       "      <td>NaN</td>\n",
       "      <td>55.0</td>\n",
       "      <td>7.0</td>\n",
       "      <td>9</td>\n",
       "      <td></td>\n",
       "    </tr>\n",
       "    <tr>\n",
       "      <th>318887</th>\n",
       "      <td>tt9031770</td>\n",
       "      <td>movie</td>\n",
       "      <td>Ogar: Will of Steel</td>\n",
       "      <td>Ogar: Will of Steel</td>\n",
       "      <td>0</td>\n",
       "      <td>2017-01-01</td>\n",
       "      <td>NaN</td>\n",
       "      <td>82.0</td>\n",
       "      <td>5.2</td>\n",
       "      <td>5</td>\n",
       "      <td></td>\n",
       "    </tr>\n",
       "    <tr>\n",
       "      <th>319534</th>\n",
       "      <td>tt9114062</td>\n",
       "      <td>tvMovie</td>\n",
       "      <td>Family Classics: Scrooge (1951) II</td>\n",
       "      <td>Family Classics: Scrooge (1951) II</td>\n",
       "      <td>0</td>\n",
       "      <td>2018-01-01</td>\n",
       "      <td>NaN</td>\n",
       "      <td>NaN</td>\n",
       "      <td>7.4</td>\n",
       "      <td>11</td>\n",
       "      <td></td>\n",
       "    </tr>\n",
       "    <tr>\n",
       "      <th>322768</th>\n",
       "      <td>tt9723258</td>\n",
       "      <td>movie</td>\n",
       "      <td>Little Wound's Warriors</td>\n",
       "      <td>Little Wound's Warriors</td>\n",
       "      <td>0</td>\n",
       "      <td>2017-01-01</td>\n",
       "      <td>NaN</td>\n",
       "      <td>57.0</td>\n",
       "      <td>6.6</td>\n",
       "      <td>12</td>\n",
       "      <td></td>\n",
       "    </tr>\n",
       "    <tr>\n",
       "      <th>323076</th>\n",
       "      <td>tt9778374</td>\n",
       "      <td>movie</td>\n",
       "      <td>Galapagos: Realm of Giant Sharks</td>\n",
       "      <td>Galapagos: Realm of Giant Sharks</td>\n",
       "      <td>0</td>\n",
       "      <td>2012-01-01</td>\n",
       "      <td>NaN</td>\n",
       "      <td>53.0</td>\n",
       "      <td>6.9</td>\n",
       "      <td>42</td>\n",
       "      <td></td>\n",
       "    </tr>\n",
       "  </tbody>\n",
       "</table>\n",
       "<p>540 rows × 11 columns</p>\n",
       "</div>"
      ],
      "text/plain": [
       "           tconst titleType  \\\n",
       "13      tt0001010     movie   \n",
       "15      tt0001038     movie   \n",
       "19      tt0001113     movie   \n",
       "277     tt0005040     movie   \n",
       "366     tt0005869     movie   \n",
       "...           ...       ...   \n",
       "318737  tt9013770     movie   \n",
       "318887  tt9031770     movie   \n",
       "319534  tt9114062   tvMovie   \n",
       "322768  tt9723258     movie   \n",
       "323076  tt9778374     movie   \n",
       "\n",
       "                                             primaryTitle  \\\n",
       "13      Protección de un convoy de víveres en el puent...   \n",
       "15                                     Sherlock Holmes VI   \n",
       "19                                            Amor gitano   \n",
       "277                                                Butter   \n",
       "366                                            Pasionaria   \n",
       "...                                                   ...   \n",
       "318737                             The Witches of Gambaga   \n",
       "318887                                Ogar: Will of Steel   \n",
       "319534                 Family Classics: Scrooge (1951) II   \n",
       "322768                            Little Wound's Warriors   \n",
       "323076                   Galapagos: Realm of Giant Sharks   \n",
       "\n",
       "                                            originalTitle  isAdult  \\\n",
       "13      Protección de un convoy de víveres en el puent...        0   \n",
       "15                                     Sherlock Holmes VI        0   \n",
       "19                                            Amor gitano        0   \n",
       "277                                                Butter        0   \n",
       "366                                            Pasionaria        0   \n",
       "...                                                   ...      ...   \n",
       "318737                             The Witches of Gambaga        0   \n",
       "318887                                Ogar: Will of Steel        0   \n",
       "319534                 Family Classics: Scrooge (1951) II        0   \n",
       "322768                            Little Wound's Warriors        0   \n",
       "323076                   Galapagos: Realm of Giant Sharks        0   \n",
       "\n",
       "                            startYear  endYear  runtimeMinutes  averageRating  \\\n",
       "13      1970-01-01 00:00:00.000001909      NaN             NaN            4.6   \n",
       "15      1970-01-01 00:00:00.000001910      NaN             NaN            3.8   \n",
       "19      1970-01-01 00:00:00.000001910      NaN             NaN            5.1   \n",
       "277     1970-01-01 00:00:00.000001916      NaN             NaN            6.7   \n",
       "366     1970-01-01 00:00:00.000001915      NaN             NaN            4.4   \n",
       "...                               ...      ...             ...            ...   \n",
       "318737                     2011-01-01      NaN            55.0            7.0   \n",
       "318887                     2017-01-01      NaN            82.0            5.2   \n",
       "319534                     2018-01-01      NaN             NaN            7.4   \n",
       "322768                     2017-01-01      NaN            57.0            6.6   \n",
       "323076                     2012-01-01      NaN            53.0            6.9   \n",
       "\n",
       "        numVotes 0   \n",
       "13            14     \n",
       "15            21     \n",
       "19            16     \n",
       "277           11     \n",
       "366           11     \n",
       "...          ... ..  \n",
       "318737         9     \n",
       "318887         5     \n",
       "319534        11     \n",
       "322768        12     \n",
       "323076        42     \n",
       "\n",
       "[540 rows x 11 columns]"
      ]
     },
     "execution_count": 109,
     "metadata": {},
     "output_type": "execute_result"
    }
   ],
   "source": [
    "title_rating_new[title_rating_new[0] == '']"
   ]
  },
  {
   "cell_type": "markdown",
   "metadata": {},
   "source": [
    "We can see that there are 540 titles which do not have crew associated with them. For these titles we impute the most common genres as an intermediate guess"
   ]
  },
  {
   "cell_type": "code",
   "execution_count": 113,
   "metadata": {},
   "outputs": [],
   "source": [
    "title_rating_new.rename(columns={0:'genres'}, inplace = True)"
   ]
  },
  {
   "cell_type": "code",
   "execution_count": 115,
   "metadata": {},
   "outputs": [],
   "source": [
    "#saving intermediate results\n",
    "title_rating_new.to_csv('processed/title_genre_new.csv', index = False)"
   ]
  },
  {
   "cell_type": "code",
   "execution_count": 16,
   "metadata": {},
   "outputs": [],
   "source": [
    "title_rating_new = pd.read_csv('processed/title_genre_new.csv')"
   ]
  },
  {
   "cell_type": "markdown",
   "metadata": {},
   "source": [
    "### Start Year"
   ]
  },
  {
   "cell_type": "markdown",
   "metadata": {},
   "source": [
    "**Strategy**\n",
    "\n",
    "The start year points to the release date for a movie.\n",
    "We can use the TMDB API to impute these values.\n",
    "\n"
   ]
  },
  {
   "cell_type": "code",
   "execution_count": 17,
   "metadata": {},
   "outputs": [],
   "source": [
    "def get_release_date(name):\n",
    "    \n",
    "    \"\"\"\n",
    "    Makes an api call to the TMDB api service to return release dates\n",
    "    \"\"\"\n",
    "#     print(name)\n",
    "    try:\n",
    "        #Search for a movie by name\n",
    "        movie = Movie()\n",
    "        #Get the release date\n",
    "        res = movie.search(name)[0]['release_date']\n",
    "        print(pd.to_datetime(res))\n",
    "        return pd.to_datetime(res)\n",
    "    except:\n",
    "        #In case the api is not able to find the required movie, we return a value of 1960\n",
    "        #Most movies that do not have a release date are usually older\n",
    "        return pd.to_datetime('1960')\n",
    "    "
   ]
  },
  {
   "cell_type": "code",
   "execution_count": 18,
   "metadata": {
    "scrolled": true
   },
   "outputs": [
    {
     "name": "stderr",
     "output_type": "stream",
     "text": [
      " 15%|█▍        | 47781/323834 [00:07<17:03, 269.71it/s] "
     ]
    },
    {
     "name": "stdout",
     "output_type": "stream",
     "text": [
      "1976-05-31 00:00:00\n"
     ]
    },
    {
     "name": "stderr",
     "output_type": "stream",
     "text": [
      " 17%|█▋        | 56231/323834 [00:07<08:14, 540.91it/s]"
     ]
    },
    {
     "name": "stdout",
     "output_type": "stream",
     "text": [
      "1987-06-01 00:00:00\n",
      "2012-10-28 00:00:00\n"
     ]
    },
    {
     "name": "stderr",
     "output_type": "stream",
     "text": [
      " 42%|████▏     | 135216/323834 [00:09<00:05, 31766.98it/s]"
     ]
    },
    {
     "name": "stdout",
     "output_type": "stream",
     "text": [
      "2004-05-13 00:00:00\n"
     ]
    },
    {
     "name": "stderr",
     "output_type": "stream",
     "text": [
      " 47%|████▋     | 151762/323834 [00:10<00:05, 32260.99it/s]"
     ]
    },
    {
     "name": "stdout",
     "output_type": "stream",
     "text": [
      "1983-01-01 00:00:00\n"
     ]
    },
    {
     "name": "stderr",
     "output_type": "stream",
     "text": [
      " 49%|████▉     | 159981/323834 [00:10<00:05, 29885.91it/s]"
     ]
    },
    {
     "name": "stdout",
     "output_type": "stream",
     "text": [
      "2014-08-08 00:00:00\n",
      "2005-11-01 00:00:00\n"
     ]
    },
    {
     "name": "stderr",
     "output_type": "stream",
     "text": [
      " 52%|█████▏    | 167724/323834 [00:10<00:06, 23656.37it/s]"
     ]
    },
    {
     "name": "stdout",
     "output_type": "stream",
     "text": [
      "1998-06-05 00:00:00\n"
     ]
    },
    {
     "name": "stderr",
     "output_type": "stream",
     "text": [
      " 54%|█████▍    | 175781/323834 [00:11<00:07, 19494.30it/s]"
     ]
    },
    {
     "name": "stdout",
     "output_type": "stream",
     "text": [
      "2020-11-20 00:00:00\n",
      "2003-03-01 00:00:00\n"
     ]
    },
    {
     "name": "stderr",
     "output_type": "stream",
     "text": [
      " 59%|█████▊    | 190116/323834 [00:11<00:05, 22457.12it/s]"
     ]
    },
    {
     "name": "stdout",
     "output_type": "stream",
     "text": [
      "2020-01-17 00:00:00\n",
      "2019-07-27 00:00:00\n"
     ]
    },
    {
     "name": "stderr",
     "output_type": "stream",
     "text": [
      " 60%|█████▉    | 192971/323834 [00:11<00:07, 17425.94it/s]"
     ]
    },
    {
     "name": "stdout",
     "output_type": "stream",
     "text": [
      "2020-02-13 00:00:00\n"
     ]
    },
    {
     "name": "stderr",
     "output_type": "stream",
     "text": [
      " 61%|██████▏   | 198755/323834 [00:12<00:06, 20066.79it/s]"
     ]
    },
    {
     "name": "stdout",
     "output_type": "stream",
     "text": [
      "2020-11-06 00:00:00\n"
     ]
    },
    {
     "name": "stderr",
     "output_type": "stream",
     "text": [
      " 65%|██████▍   | 209452/323834 [00:12<00:04, 24374.16it/s]"
     ]
    },
    {
     "name": "stdout",
     "output_type": "stream",
     "text": [
      "2020-12-03 00:00:00\n"
     ]
    },
    {
     "name": "stderr",
     "output_type": "stream",
     "text": [
      " 67%|██████▋   | 217126/323834 [00:12<00:03, 26892.57it/s]"
     ]
    },
    {
     "name": "stdout",
     "output_type": "stream",
     "text": [
      "2021-08-15 00:00:00\n"
     ]
    },
    {
     "name": "stderr",
     "output_type": "stream",
     "text": [
      " 70%|███████   | 226916/323834 [00:13<00:04, 23850.48it/s]"
     ]
    },
    {
     "name": "stdout",
     "output_type": "stream",
     "text": [
      "2001-05-12 00:00:00\n"
     ]
    },
    {
     "name": "stderr",
     "output_type": "stream",
     "text": [
      " 77%|███████▋  | 249822/323834 [00:14<00:02, 24723.46it/s]"
     ]
    },
    {
     "name": "stdout",
     "output_type": "stream",
     "text": [
      "2012-11-26 00:00:00\n"
     ]
    },
    {
     "name": "stderr",
     "output_type": "stream",
     "text": [
      " 80%|███████▉  | 257526/323834 [00:14<00:02, 25936.77it/s]"
     ]
    },
    {
     "name": "stdout",
     "output_type": "stream",
     "text": [
      "1949-12-29 00:00:00\n"
     ]
    },
    {
     "name": "stderr",
     "output_type": "stream",
     "text": [
      " 91%|█████████ | 293486/323834 [00:15<00:00, 32583.21it/s]"
     ]
    },
    {
     "name": "stdout",
     "output_type": "stream",
     "text": [
      "2020-10-12 00:00:00\n"
     ]
    },
    {
     "name": "stderr",
     "output_type": "stream",
     "text": [
      " 93%|█████████▎| 301505/323834 [00:15<00:00, 23307.71it/s]"
     ]
    },
    {
     "name": "stdout",
     "output_type": "stream",
     "text": [
      "2021-01-15 00:00:00\n",
      "2017-07-17 00:00:00\n"
     ]
    },
    {
     "name": "stderr",
     "output_type": "stream",
     "text": [
      "100%|█████████▉| 322361/323834 [00:16<00:00, 16231.20it/s]"
     ]
    },
    {
     "name": "stdout",
     "output_type": "stream",
     "text": [
      "2016-04-14 00:00:00\n"
     ]
    },
    {
     "name": "stderr",
     "output_type": "stream",
     "text": [
      "100%|██████████| 323834/323834 [00:17<00:00, 18817.21it/s]"
     ]
    },
    {
     "name": "stdout",
     "output_type": "stream",
     "text": [
      "2013-05-21 00:00:00\n"
     ]
    },
    {
     "name": "stderr",
     "output_type": "stream",
     "text": [
      "\n"
     ]
    }
   ],
   "source": [
    "title_rating_new['startYear'] = title_rating_new.progress_apply(lambda x: get_release_date(x['primaryTitle']) if pd.isna(x['startYear']) else x['startYear'], axis = 1)"
   ]
  },
  {
   "cell_type": "code",
   "execution_count": 19,
   "metadata": {},
   "outputs": [
    {
     "data": {
      "text/plain": [
       "tconst                 0\n",
       "titleType              0\n",
       "primaryTitle           0\n",
       "originalTitle          0\n",
       "isAdult                0\n",
       "startYear              0\n",
       "endYear           323834\n",
       "runtimeMinutes     35737\n",
       "averageRating          0\n",
       "numVotes               0\n",
       "genres               540\n",
       "dtype: int64"
      ]
     },
     "execution_count": 19,
     "metadata": {},
     "output_type": "execute_result"
    }
   ],
   "source": [
    "title_rating_new.isnull().sum()"
   ]
  },
  {
   "cell_type": "code",
   "execution_count": 20,
   "metadata": {},
   "outputs": [],
   "source": [
    "title_rating_new.drop(columns=['endYear'], inplace = True)"
   ]
  },
  {
   "cell_type": "markdown",
   "metadata": {},
   "source": [
    "### Runtime\n",
    "**Strategy**\n",
    "\n",
    "We can use the TMDB API to get the runtimes as well\n",
    "\n",
    "We search fo rthe moie by title and make a second call to another API which returns the runtime. If we are unable to find the movie, we return the mean runtime of 93 mins."
   ]
  },
  {
   "cell_type": "code",
   "execution_count": 24,
   "metadata": {},
   "outputs": [],
   "source": [
    "no_runtime = title_rating_new[title_rating_new['runtimeMinutes'].isna()]['primaryTitle'].values"
   ]
  },
  {
   "cell_type": "code",
   "execution_count": 22,
   "metadata": {},
   "outputs": [
    {
     "data": {
      "text/plain": [
       "92.72670663005863"
      ]
     },
     "execution_count": 22,
     "metadata": {},
     "output_type": "execute_result"
    }
   ],
   "source": [
    "#Ignoring all nulls, this returns the mean runtime\n",
    "title_rating_new['runtimeMinutes'].mean()"
   ]
  },
  {
   "cell_type": "code",
   "execution_count": 26,
   "metadata": {},
   "outputs": [],
   "source": [
    "def get_runtime(name):\n",
    "    \"\"\"\n",
    "    Makes an api call to the TMDB api service to return the runtime\n",
    "    params:\n",
    "        name: The primaryTile of the movie\n",
    "    returns:\n",
    "        the Movie runtime\n",
    "    \"\"\"\n",
    "    try:\n",
    "        movie = Movie()\n",
    "        res = movie.search(name)[0]\n",
    "        movie_id = res['id']\n",
    "        \n",
    "        url = f\"https://api.themoviedb.org/3/movie/{movie_id}?api_key={API_KEY}\"\n",
    "        \n",
    "        res = requests.get(url).json()\n",
    "        return res['runtime']\n",
    "    except:\n",
    "        #returing mean runtime ignoring nulls\n",
    "        return 93\n",
    "        "
   ]
  },
  {
   "cell_type": "code",
   "execution_count": 27,
   "metadata": {},
   "outputs": [
    {
     "name": "stderr",
     "output_type": "stream",
     "text": [
      "100%|██████████| 35737/35737 [2:22:04<00:00,  4.19it/s]   \n"
     ]
    }
   ],
   "source": [
    "#Adding to a dictionary which will be joined to the dataframe later\n",
    "runtime_dict = {}\n",
    "for item in tqdm(no_runtime, position=0, leave=True):\n",
    "    runtime_dict[item] = get_runtime(item)"
   ]
  },
  {
   "cell_type": "code",
   "execution_count": 28,
   "metadata": {},
   "outputs": [],
   "source": [
    "with open('runtime_impute_dict.json', 'w') as f:\n",
    "    json.dump(runtime_dict, f)\n"
   ]
  },
  {
   "cell_type": "code",
   "execution_count": 35,
   "metadata": {
    "scrolled": true
   },
   "outputs": [
    {
     "name": "stderr",
     "output_type": "stream",
     "text": [
      "\n",
      "\n",
      "\n",
      "  0%|          | 0/323834 [00:00<?, ?it/s]\u001b[A\u001b[A\u001b[A\n",
      "\n",
      "\n",
      "  0%|          | 82/323834 [00:00<06:34, 819.95it/s]\u001b[A\u001b[A\u001b[A\n",
      "\n",
      "\n",
      "  1%|▏         | 4406/323834 [00:00<04:34, 1161.91it/s]\u001b[A\u001b[A\u001b[A\n",
      "\n",
      "\n",
      "  2%|▏         | 7482/323834 [00:00<03:13, 1633.43it/s]\u001b[A\u001b[A\u001b[A\n",
      "\n",
      "\n",
      "  3%|▎         | 10032/323834 [00:00<02:18, 2271.12it/s]\u001b[A\u001b[A\u001b[A\n",
      "\n",
      "\n",
      "  4%|▍         | 13560/323834 [00:00<01:38, 3157.35it/s]\u001b[A\u001b[A\u001b[A\n",
      "\n",
      "\n",
      "  6%|▌         | 17830/323834 [00:00<01:09, 4371.95it/s]\u001b[A\u001b[A\u001b[A\n",
      "\n",
      "\n",
      "  7%|▋         | 22091/323834 [00:00<00:50, 5982.55it/s]\u001b[A\u001b[A\u001b[A\n",
      "\n",
      "\n",
      "  8%|▊         | 25914/323834 [00:00<00:37, 8009.28it/s]\u001b[A\u001b[A\u001b[A\n",
      "\n",
      "\n",
      "  9%|▉         | 30127/323834 [00:00<00:27, 10579.79it/s]\u001b[A\u001b[A\u001b[A\n",
      "\n",
      "\n",
      " 11%|█         | 34083/323834 [00:01<00:21, 13559.51it/s]\u001b[A\u001b[A\u001b[A\n",
      "\n",
      "\n",
      " 12%|█▏        | 37951/323834 [00:01<00:16, 16840.08it/s]\u001b[A\u001b[A\u001b[A\n",
      "\n",
      "\n",
      " 13%|█▎        | 41936/323834 [00:01<00:13, 20368.21it/s]\u001b[A\u001b[A\u001b[A\n",
      "\n",
      "\n",
      " 14%|█▍        | 45805/323834 [00:01<00:11, 23606.10it/s]\u001b[A\u001b[A\u001b[A\n",
      "\n",
      "\n",
      " 15%|█▌        | 49682/323834 [00:01<00:10, 26743.39it/s]\u001b[A\u001b[A\u001b[A\n",
      "\n",
      "\n",
      " 17%|█▋        | 53529/323834 [00:01<00:09, 28776.34it/s]\u001b[A\u001b[A\u001b[A\n",
      "\n",
      "\n",
      " 18%|█▊        | 57272/323834 [00:01<00:08, 30788.39it/s]\u001b[A\u001b[A\u001b[A\n",
      "\n",
      "\n",
      " 19%|█▉        | 61271/323834 [00:01<00:07, 33070.52it/s]\u001b[A\u001b[A\u001b[A\n",
      "\n",
      "\n",
      " 20%|██        | 65445/323834 [00:01<00:07, 35268.04it/s]\u001b[A\u001b[A\u001b[A\n",
      "\n",
      "\n",
      " 21%|██▏       | 69413/323834 [00:01<00:06, 36484.75it/s]\u001b[A\u001b[A\u001b[A\n",
      "\n",
      "\n",
      " 23%|██▎       | 73345/323834 [00:02<00:06, 37290.52it/s]\u001b[A\u001b[A\u001b[A\n",
      "\n",
      "\n",
      " 24%|██▍       | 77277/323834 [00:02<00:07, 34811.53it/s]\u001b[A\u001b[A\u001b[A\n",
      "\n",
      "\n",
      " 25%|██▍       | 80945/323834 [00:02<00:06, 35351.32it/s]\u001b[A\u001b[A\u001b[A\n",
      "\n",
      "\n",
      " 26%|██▌       | 84605/323834 [00:02<00:06, 34593.19it/s]\u001b[A\u001b[A\u001b[A\n",
      "\n",
      "\n",
      " 27%|██▋       | 88356/323834 [00:02<00:06, 35418.92it/s]\u001b[A\u001b[A\u001b[A\n",
      "\n",
      "\n",
      " 28%|██▊       | 91967/323834 [00:02<00:06, 34685.37it/s]\u001b[A\u001b[A\u001b[A\n",
      "\n",
      "\n",
      " 29%|██▉       | 95487/323834 [00:02<00:07, 32532.18it/s]\u001b[A\u001b[A\u001b[A\n",
      "\n",
      "\n",
      " 31%|███       | 99141/323834 [00:02<00:06, 33637.88it/s]\u001b[A\u001b[A\u001b[A\n",
      "\n",
      "\n",
      " 32%|███▏      | 102738/323834 [00:02<00:06, 34302.50it/s]\u001b[A\u001b[A\u001b[A\n",
      "\n",
      "\n",
      " 33%|███▎      | 106420/323834 [00:02<00:06, 35019.57it/s]\u001b[A\u001b[A\u001b[A\n",
      "\n",
      "\n",
      " 34%|███▍      | 110201/323834 [00:03<00:05, 35807.44it/s]\u001b[A\u001b[A\u001b[A\n",
      "\n",
      "\n",
      " 35%|███▌      | 114341/323834 [00:03<00:05, 37318.93it/s]\u001b[A\u001b[A\u001b[A\n",
      "\n",
      "\n",
      " 36%|███▋      | 118109/323834 [00:03<00:05, 35342.49it/s]\u001b[A\u001b[A\u001b[A\n",
      "\n",
      "\n",
      " 38%|███▊      | 122278/323834 [00:03<00:05, 37033.76it/s]\u001b[A\u001b[A\u001b[A\n",
      "\n",
      "\n",
      " 39%|███▉      | 126159/323834 [00:03<00:05, 37547.64it/s]\u001b[A\u001b[A\u001b[A\n",
      "\n",
      "\n",
      " 40%|████      | 129954/323834 [00:03<00:05, 36802.32it/s]\u001b[A\u001b[A\u001b[A\n",
      "\n",
      "\n",
      " 41%|████▏     | 133666/323834 [00:03<00:05, 36197.96it/s]\u001b[A\u001b[A\u001b[A\n",
      "\n",
      "\n",
      " 43%|████▎     | 137792/323834 [00:03<00:04, 37576.23it/s]\u001b[A\u001b[A\u001b[A\n",
      "\n",
      "\n",
      " 44%|████▍     | 142130/323834 [00:03<00:04, 39147.32it/s]\u001b[A\u001b[A\u001b[A\n",
      "\n",
      "\n",
      " 45%|████▌     | 146479/323834 [00:04<00:04, 40355.43it/s]\u001b[A\u001b[A\u001b[A\n",
      "\n",
      "\n",
      " 46%|████▋     | 150551/323834 [00:04<00:04, 38380.70it/s]\u001b[A\u001b[A\u001b[A\n",
      "\n",
      "\n",
      " 48%|████▊     | 154435/323834 [00:04<00:04, 36982.16it/s]\u001b[A\u001b[A\u001b[A\n",
      "\n",
      "\n",
      " 49%|████▉     | 158176/323834 [00:04<00:04, 36759.97it/s]\u001b[A\u001b[A\u001b[A\n",
      "\n",
      "\n",
      " 50%|████▉     | 161883/323834 [00:04<00:04, 34481.82it/s]\u001b[A\u001b[A\u001b[A\n",
      "\n",
      "\n",
      " 51%|█████▏    | 166144/323834 [00:04<00:04, 36573.70it/s]\u001b[A\u001b[A\u001b[A\n",
      "\n",
      "\n",
      " 53%|█████▎    | 170350/323834 [00:04<00:04, 38061.57it/s]\u001b[A\u001b[A\u001b[A\n",
      "\n",
      "\n",
      " 54%|█████▍    | 174468/323834 [00:04<00:03, 38944.86it/s]\u001b[A\u001b[A\u001b[A\n",
      "\n",
      "\n",
      " 55%|█████▌    | 178576/323834 [00:04<00:03, 39560.49it/s]\u001b[A\u001b[A\u001b[A\n",
      "\n",
      "\n",
      " 56%|█████▋    | 182570/323834 [00:04<00:03, 38776.64it/s]\u001b[A\u001b[A\u001b[A\n",
      "\n",
      "\n",
      " 58%|█████▊    | 186478/323834 [00:05<00:03, 37175.39it/s]\u001b[A\u001b[A\u001b[A\n",
      "\n",
      "\n",
      " 59%|█████▊    | 190231/323834 [00:05<00:03, 35587.98it/s]\u001b[A\u001b[A\u001b[A\n",
      "\n",
      "\n",
      " 60%|█████▉    | 194146/323834 [00:05<00:03, 36586.60it/s]\u001b[A\u001b[A\u001b[A\n",
      "\n",
      "\n",
      " 61%|██████    | 197839/323834 [00:05<00:03, 36406.00it/s]\u001b[A\u001b[A\u001b[A\n",
      "\n",
      "\n",
      " 62%|██████▏   | 201504/323834 [00:05<00:03, 34762.40it/s]\u001b[A\u001b[A\u001b[A\n",
      "\n",
      "\n",
      " 63%|██████▎   | 205540/323834 [00:05<00:03, 36270.72it/s]\u001b[A\u001b[A\u001b[A\n",
      "\n",
      "\n",
      " 65%|██████▍   | 209903/323834 [00:05<00:02, 38202.91it/s]\u001b[A\u001b[A\u001b[A\n",
      "\n",
      "\n",
      " 66%|██████▌   | 213968/323834 [00:05<00:02, 38903.25it/s]\u001b[A\u001b[A\u001b[A\n",
      "\n",
      "\n",
      " 67%|██████▋   | 218066/323834 [00:05<00:02, 39503.79it/s]\u001b[A\u001b[A\u001b[A\n",
      "\n",
      "\n",
      " 69%|██████▊   | 222048/323834 [00:06<00:02, 39341.43it/s]\u001b[A\u001b[A\u001b[A\n",
      "\n",
      "\n",
      " 70%|██████▉   | 226005/323834 [00:06<00:02, 38921.04it/s]\u001b[A\u001b[A\u001b[A\n",
      "\n",
      "\n",
      " 71%|███████   | 229914/323834 [00:06<00:02, 35755.00it/s]\u001b[A\u001b[A\u001b[A\n",
      "\n",
      "\n",
      " 72%|███████▏  | 233552/323834 [00:06<00:02, 33879.59it/s]\u001b[A\u001b[A\u001b[A\n",
      "\n",
      "\n",
      " 73%|███████▎  | 237433/323834 [00:06<00:02, 35219.03it/s]\u001b[A\u001b[A\u001b[A\n",
      "\n",
      "\n",
      " 74%|███████▍  | 241125/323834 [00:06<00:02, 35711.35it/s]\u001b[A\u001b[A\u001b[A\n",
      "\n",
      "\n",
      " 76%|███████▌  | 245110/323834 [00:06<00:02, 36855.57it/s]\u001b[A\u001b[A\u001b[A\n",
      "\n",
      "\n",
      " 77%|███████▋  | 249288/323834 [00:06<00:01, 38203.53it/s]\u001b[A\u001b[A\u001b[A\n",
      "\n",
      "\n",
      " 78%|███████▊  | 253382/323834 [00:06<00:01, 38985.18it/s]\u001b[A\u001b[A\u001b[A\n",
      "\n",
      "\n",
      " 79%|███████▉  | 257313/323834 [00:07<00:01, 38476.25it/s]\u001b[A\u001b[A\u001b[A\n",
      "\n",
      "\n",
      " 81%|████████  | 261185/323834 [00:07<00:01, 38333.71it/s]\u001b[A\u001b[A\u001b[A\n",
      "\n",
      "\n",
      " 82%|████████▏ | 265095/323834 [00:07<00:01, 38559.76it/s]\u001b[A\u001b[A\u001b[A\n",
      "\n",
      "\n",
      " 83%|████████▎ | 268964/323834 [00:07<00:01, 38158.97it/s]\u001b[A\u001b[A\u001b[A\n",
      "\n",
      "\n",
      " 84%|████████▍ | 272790/323834 [00:07<00:01, 37150.83it/s]\u001b[A\u001b[A\u001b[A\n",
      "\n",
      "\n",
      " 85%|████████▌ | 276518/323834 [00:07<00:01, 35511.57it/s]\u001b[A\u001b[A\u001b[A\n",
      "\n",
      "\n",
      " 86%|████████▋ | 280094/323834 [00:07<00:01, 32511.14it/s]\u001b[A\u001b[A\u001b[A\n",
      "\n",
      "\n",
      " 88%|████████▊ | 283412/323834 [00:07<00:01, 28428.71it/s]\u001b[A\u001b[A\u001b[A\n",
      "\n",
      "\n",
      " 89%|████████▉ | 287486/323834 [00:07<00:01, 31262.92it/s]\u001b[A\u001b[A\u001b[A\n",
      "\n",
      "\n",
      " 90%|████████▉ | 291314/323834 [00:08<00:00, 33081.98it/s]\u001b[A\u001b[A\u001b[A\n",
      "\n",
      "\n",
      " 91%|█████████ | 294961/323834 [00:08<00:00, 34028.75it/s]\u001b[A\u001b[A\u001b[A\n",
      "\n",
      "\n",
      " 92%|█████████▏| 298481/323834 [00:08<00:00, 33364.06it/s]\u001b[A\u001b[A\u001b[A\n",
      "\n",
      "\n",
      " 93%|█████████▎| 301921/323834 [00:08<00:00, 33666.26it/s]\u001b[A\u001b[A\u001b[A\n",
      "\n",
      "\n",
      " 94%|█████████▍| 305409/323834 [00:08<00:00, 34019.51it/s]\u001b[A\u001b[A\u001b[A\n",
      "\n",
      "\n",
      " 96%|█████████▌| 309372/323834 [00:08<00:00, 35527.17it/s]\u001b[A\u001b[A\u001b[A\n",
      "\n",
      "\n",
      " 97%|█████████▋| 313428/323834 [00:08<00:00, 36899.61it/s]\u001b[A\u001b[A\u001b[A\n",
      "\n",
      "\n",
      " 98%|█████████▊| 317165/323834 [00:08<00:00, 35057.54it/s]\u001b[A\u001b[A\u001b[A\n",
      "\n",
      "\n",
      "100%|██████████| 323834/323834 [00:08<00:00, 36108.94it/s]\u001b[A\u001b[A\u001b[A\n"
     ]
    }
   ],
   "source": [
    "#Add imputed values back to tour dataset\n",
    "title_rating_new['runtimeMinutes'] = title_rating_new.progress_apply(lambda x: runtime_dict[x['primaryTitle']] if pd.isna(x['runtimeMinutes']) else x['runtimeMinutes'], axis = 1)"
   ]
  },
  {
   "cell_type": "code",
   "execution_count": 36,
   "metadata": {},
   "outputs": [
    {
     "data": {
      "text/plain": [
       "tconst               0\n",
       "titleType            0\n",
       "primaryTitle         0\n",
       "originalTitle        0\n",
       "isAdult              0\n",
       "startYear            0\n",
       "runtimeMinutes    1730\n",
       "averageRating        0\n",
       "numVotes             0\n",
       "genres             540\n",
       "dtype: int64"
      ]
     },
     "execution_count": 36,
     "metadata": {},
     "output_type": "execute_result"
    }
   ],
   "source": [
    "title_rating_new.isnull().sum()"
   ]
  },
  {
   "cell_type": "markdown",
   "metadata": {},
   "source": [
    "We fill up the missed values with the mean runtime of 93 mins"
   ]
  },
  {
   "cell_type": "code",
   "execution_count": 37,
   "metadata": {},
   "outputs": [],
   "source": [
    "title_rating_new['runtimeMinutes'].fillna(93, inplace = True)"
   ]
  },
  {
   "cell_type": "code",
   "execution_count": 38,
   "metadata": {},
   "outputs": [],
   "source": [
    "title_rating_new.to_csv('processed/title_rating_new.csv', index = False)"
   ]
  },
  {
   "cell_type": "markdown",
   "metadata": {},
   "source": [
    "## Feature Engineering"
   ]
  },
  {
   "cell_type": "markdown",
   "metadata": {},
   "source": [
    "### Professional Quality\n",
    "\n",
    "A strong intuitive predictor of the quality of a movie comes from the cast and the crew of that movie. A good set of features will encode some notion of the people working on the film into our dataset.\n",
    "\n",
    "We create the following features to achieve that result\n",
    "1. cast_mean: The mean rating of all the titles that a cast member is known for\n",
    "2. cast_std:  The standard deviation of the ratings of all the titles that a cast member is known for\n",
    "3. cast_max: The max rating of all the titles that cast member is known for. We choose max here to account for the psychological effect of a rater. If a member of the cast or the crew has been in a highly rated film, there may be a higher chance that a user will be biased towards a higher rating\n",
    "4. cast_exp: The number of titles that a cast member has worked on. Higher experience may point to better performances and better ratings\n",
    "1. crew_mean: The mean rating of all the titles a crew member is known for\n",
    "2. crew_std: The standard deviation of the ratings of all the titles that a crew member is known for\n",
    "3. crew_max: The max rating of all the titles that crew member is known for. We choose max here to account for the psychological effect of a rater. If a member of the cast or the crew has been in a highly rated film, there may be a higher chance that a user will be biased towards a higher rating. This effect may be less pronounced for the crew\n",
    "4. crew_exp: The number of titles that a crew member has worked on. Higher experience may point to better performances and better ratings\n",
    "\n",
    "A distinction was made between cast and crew\n",
    "\n",
    "Cast includes actors, actresses and people who have appeared as themselves in titles.\n",
    "\n",
    "The crew includes all other roles like directors, writers, composers etc."
   ]
  },
  {
   "cell_type": "code",
   "execution_count": 40,
   "metadata": {},
   "outputs": [],
   "source": [
    "title_rating_principal = pd.read_csv('processed/title_rating_principal.csv')"
   ]
  },
  {
   "cell_type": "code",
   "execution_count": 43,
   "metadata": {},
   "outputs": [],
   "source": [
    "#Getting the mean, std and max rating for each professional\n",
    "prof_qual_df = title_rating_principal.groupby('nconst').agg({\"averageRating\": [np.mean, np.std, max]})"
   ]
  },
  {
   "cell_type": "code",
   "execution_count": 44,
   "metadata": {},
   "outputs": [],
   "source": [
    "prof_qual_df.to_csv('processed/prof_qual_df.csv')"
   ]
  },
  {
   "cell_type": "code",
   "execution_count": 72,
   "metadata": {},
   "outputs": [
    {
     "data": {
      "text/html": [
       "<div>\n",
       "<style scoped>\n",
       "    .dataframe tbody tr th:only-of-type {\n",
       "        vertical-align: middle;\n",
       "    }\n",
       "\n",
       "    .dataframe tbody tr th {\n",
       "        vertical-align: top;\n",
       "    }\n",
       "\n",
       "    .dataframe thead tr th {\n",
       "        text-align: left;\n",
       "    }\n",
       "\n",
       "    .dataframe thead tr:last-of-type th {\n",
       "        text-align: right;\n",
       "    }\n",
       "</style>\n",
       "<table border=\"1\" class=\"dataframe\">\n",
       "  <thead>\n",
       "    <tr>\n",
       "      <th></th>\n",
       "      <th colspan=\"3\" halign=\"left\">averageRating</th>\n",
       "    </tr>\n",
       "    <tr>\n",
       "      <th></th>\n",
       "      <th>mean</th>\n",
       "      <th>std</th>\n",
       "      <th>max</th>\n",
       "    </tr>\n",
       "    <tr>\n",
       "      <th>nconst</th>\n",
       "      <th></th>\n",
       "      <th></th>\n",
       "      <th></th>\n",
       "    </tr>\n",
       "  </thead>\n",
       "  <tbody>\n",
       "    <tr>\n",
       "      <th>nm0000001</th>\n",
       "      <td>6.869697</td>\n",
       "      <td>0.834445</td>\n",
       "      <td>9.0</td>\n",
       "    </tr>\n",
       "    <tr>\n",
       "      <th>nm0000002</th>\n",
       "      <td>6.910000</td>\n",
       "      <td>1.032946</td>\n",
       "      <td>9.2</td>\n",
       "    </tr>\n",
       "    <tr>\n",
       "      <th>nm0000003</th>\n",
       "      <td>6.008475</td>\n",
       "      <td>1.271340</td>\n",
       "      <td>8.9</td>\n",
       "    </tr>\n",
       "    <tr>\n",
       "      <th>nm0000004</th>\n",
       "      <td>6.778571</td>\n",
       "      <td>0.772786</td>\n",
       "      <td>7.9</td>\n",
       "    </tr>\n",
       "    <tr>\n",
       "      <th>nm0000005</th>\n",
       "      <td>6.904464</td>\n",
       "      <td>0.761860</td>\n",
       "      <td>8.4</td>\n",
       "    </tr>\n",
       "    <tr>\n",
       "      <th>...</th>\n",
       "      <td>...</td>\n",
       "      <td>...</td>\n",
       "      <td>...</td>\n",
       "    </tr>\n",
       "    <tr>\n",
       "      <th>nm9993616</th>\n",
       "      <td>6.500000</td>\n",
       "      <td>NaN</td>\n",
       "      <td>6.5</td>\n",
       "    </tr>\n",
       "    <tr>\n",
       "      <th>nm9993650</th>\n",
       "      <td>5.300000</td>\n",
       "      <td>NaN</td>\n",
       "      <td>5.3</td>\n",
       "    </tr>\n",
       "    <tr>\n",
       "      <th>nm9993690</th>\n",
       "      <td>6.300000</td>\n",
       "      <td>NaN</td>\n",
       "      <td>6.3</td>\n",
       "    </tr>\n",
       "    <tr>\n",
       "      <th>nm9993691</th>\n",
       "      <td>6.300000</td>\n",
       "      <td>NaN</td>\n",
       "      <td>6.3</td>\n",
       "    </tr>\n",
       "    <tr>\n",
       "      <th>nm9993693</th>\n",
       "      <td>5.900000</td>\n",
       "      <td>2.969848</td>\n",
       "      <td>8.0</td>\n",
       "    </tr>\n",
       "  </tbody>\n",
       "</table>\n",
       "<p>961113 rows × 3 columns</p>\n",
       "</div>"
      ],
      "text/plain": [
       "          averageRating               \n",
       "                   mean       std  max\n",
       "nconst                                \n",
       "nm0000001      6.869697  0.834445  9.0\n",
       "nm0000002      6.910000  1.032946  9.2\n",
       "nm0000003      6.008475  1.271340  8.9\n",
       "nm0000004      6.778571  0.772786  7.9\n",
       "nm0000005      6.904464  0.761860  8.4\n",
       "...                 ...       ...  ...\n",
       "nm9993616      6.500000       NaN  6.5\n",
       "nm9993650      5.300000       NaN  5.3\n",
       "nm9993690      6.300000       NaN  6.3\n",
       "nm9993691      6.300000       NaN  6.3\n",
       "nm9993693      5.900000  2.969848  8.0\n",
       "\n",
       "[961113 rows x 3 columns]"
      ]
     },
     "execution_count": 72,
     "metadata": {},
     "output_type": "execute_result"
    }
   ],
   "source": [
    "prof_qual_df"
   ]
  },
  {
   "cell_type": "markdown",
   "metadata": {},
   "source": [
    "Get mean values for our features in case we have unknown crew that we need to impute data for."
   ]
  },
  {
   "cell_type": "code",
   "execution_count": 100,
   "metadata": {},
   "outputs": [
    {
     "data": {
      "text/plain": [
       "6.259640942673017"
      ]
     },
     "execution_count": 100,
     "metadata": {},
     "output_type": "execute_result"
    }
   ],
   "source": [
    "prof_qual_df['averageRating']['mean'].mean()"
   ]
  },
  {
   "cell_type": "code",
   "execution_count": 101,
   "metadata": {},
   "outputs": [
    {
     "data": {
      "text/plain": [
       "0.9623025831076207"
      ]
     },
     "execution_count": 101,
     "metadata": {},
     "output_type": "execute_result"
    }
   ],
   "source": [
    "prof_qual_df['averageRating']['std'].mean()\n"
   ]
  },
  {
   "cell_type": "code",
   "execution_count": 102,
   "metadata": {},
   "outputs": [
    {
     "data": {
      "text/plain": [
       "6.634021493829783"
      ]
     },
     "execution_count": 102,
     "metadata": {},
     "output_type": "execute_result"
    }
   ],
   "source": [
    "prof_qual_df['averageRating']['max'].mean()"
   ]
  },
  {
   "cell_type": "code",
   "execution_count": 46,
   "metadata": {},
   "outputs": [
    {
     "data": {
      "text/plain": [
       "tconst                  0\n",
       "titleType               0\n",
       "primaryTitle            0\n",
       "originalTitle           0\n",
       "isAdult                 0\n",
       "startYear             273\n",
       "endYear           2885447\n",
       "runtimeMinutes     287924\n",
       "genres              90058\n",
       "averageRating           0\n",
       "numVotes                0\n",
       "ordering                0\n",
       "nconst                  0\n",
       "category                0\n",
       "job                     0\n",
       "characters              0\n",
       "dtype: int64"
      ]
     },
     "execution_count": 46,
     "metadata": {},
     "output_type": "execute_result"
    }
   ],
   "source": [
    "title_rating_principal.isnull().sum()"
   ]
  },
  {
   "cell_type": "code",
   "execution_count": 58,
   "metadata": {},
   "outputs": [
    {
     "data": {
      "text/plain": [
       "array(['actor', 'director', 'writer', 'cinematographer', 'actress',\n",
       "       'producer', 'composer', 'production_designer', 'self', 'editor',\n",
       "       'archive_footage', 'archive_sound'], dtype=object)"
      ]
     },
     "execution_count": 58,
     "metadata": {},
     "output_type": "execute_result"
    }
   ],
   "source": [
    "title_rating_principal['category'].unique()"
   ]
  },
  {
   "cell_type": "code",
   "execution_count": 59,
   "metadata": {},
   "outputs": [],
   "source": [
    "role_cat_dict = {'cast': ['actor', 'actress', 'self'],\n",
    "                 'crew': ['director', 'writer', 'cinematographer',\n",
    "                          'producer', 'composer', 'production_designer',\n",
    "                          'editor','archive_footage', 'archive_sound']}"
   ]
  },
  {
   "cell_type": "code",
   "execution_count": 54,
   "metadata": {},
   "outputs": [],
   "source": [
    "roles_df = title_rating_principal.groupby('nconst').agg({\"category\": lambda x: list(x)})"
   ]
  },
  {
   "cell_type": "code",
   "execution_count": 56,
   "metadata": {},
   "outputs": [],
   "source": [
    "roles_df['category'] = roles_df['category'].apply(lambda x: set(x)) "
   ]
  },
  {
   "cell_type": "code",
   "execution_count": 57,
   "metadata": {},
   "outputs": [
    {
     "data": {
      "text/html": [
       "<div>\n",
       "<style scoped>\n",
       "    .dataframe tbody tr th:only-of-type {\n",
       "        vertical-align: middle;\n",
       "    }\n",
       "\n",
       "    .dataframe tbody tr th {\n",
       "        vertical-align: top;\n",
       "    }\n",
       "\n",
       "    .dataframe thead th {\n",
       "        text-align: right;\n",
       "    }\n",
       "</style>\n",
       "<table border=\"1\" class=\"dataframe\">\n",
       "  <thead>\n",
       "    <tr style=\"text-align: right;\">\n",
       "      <th></th>\n",
       "      <th>category</th>\n",
       "    </tr>\n",
       "    <tr>\n",
       "      <th>nconst</th>\n",
       "      <th></th>\n",
       "    </tr>\n",
       "  </thead>\n",
       "  <tbody>\n",
       "    <tr>\n",
       "      <th>nm0000001</th>\n",
       "      <td>{actor, archive_footage, self}</td>\n",
       "    </tr>\n",
       "    <tr>\n",
       "      <th>nm0000002</th>\n",
       "      <td>{archive_footage, actress, self}</td>\n",
       "    </tr>\n",
       "    <tr>\n",
       "      <th>nm0000003</th>\n",
       "      <td>{archive_footage, actress, self}</td>\n",
       "    </tr>\n",
       "    <tr>\n",
       "      <th>nm0000004</th>\n",
       "      <td>{actor, archive_footage}</td>\n",
       "    </tr>\n",
       "    <tr>\n",
       "      <th>nm0000005</th>\n",
       "      <td>{writer, producer, actor, director, archive_fo...</td>\n",
       "    </tr>\n",
       "    <tr>\n",
       "      <th>...</th>\n",
       "      <td>...</td>\n",
       "    </tr>\n",
       "    <tr>\n",
       "      <th>nm9993616</th>\n",
       "      <td>{actor}</td>\n",
       "    </tr>\n",
       "    <tr>\n",
       "      <th>nm9993650</th>\n",
       "      <td>{actor}</td>\n",
       "    </tr>\n",
       "    <tr>\n",
       "      <th>nm9993690</th>\n",
       "      <td>{actor}</td>\n",
       "    </tr>\n",
       "    <tr>\n",
       "      <th>nm9993691</th>\n",
       "      <td>{actress}</td>\n",
       "    </tr>\n",
       "    <tr>\n",
       "      <th>nm9993693</th>\n",
       "      <td>{actress}</td>\n",
       "    </tr>\n",
       "  </tbody>\n",
       "</table>\n",
       "<p>961113 rows × 1 columns</p>\n",
       "</div>"
      ],
      "text/plain": [
       "                                                    category\n",
       "nconst                                                      \n",
       "nm0000001                     {actor, archive_footage, self}\n",
       "nm0000002                   {archive_footage, actress, self}\n",
       "nm0000003                   {archive_footage, actress, self}\n",
       "nm0000004                           {actor, archive_footage}\n",
       "nm0000005  {writer, producer, actor, director, archive_fo...\n",
       "...                                                      ...\n",
       "nm9993616                                            {actor}\n",
       "nm9993650                                            {actor}\n",
       "nm9993690                                            {actor}\n",
       "nm9993691                                          {actress}\n",
       "nm9993693                                          {actress}\n",
       "\n",
       "[961113 rows x 1 columns]"
      ]
     },
     "execution_count": 57,
     "metadata": {},
     "output_type": "execute_result"
    }
   ],
   "source": [
    "roles_df"
   ]
  },
  {
   "cell_type": "code",
   "execution_count": 60,
   "metadata": {},
   "outputs": [],
   "source": [
    "roles_df.to_csv('processed/roles_df.csv')"
   ]
  },
  {
   "cell_type": "code",
   "execution_count": 116,
   "metadata": {},
   "outputs": [],
   "source": [
    "#Create a data frame which maps each title to the cast and crew who worked on that title\n",
    "cc_df = title_rating_principal.groupby('tconst').agg({'nconst':lambda x: list(x)})"
   ]
  },
  {
   "cell_type": "code",
   "execution_count": 117,
   "metadata": {},
   "outputs": [
    {
     "data": {
      "text/html": [
       "<div>\n",
       "<style scoped>\n",
       "    .dataframe tbody tr th:only-of-type {\n",
       "        vertical-align: middle;\n",
       "    }\n",
       "\n",
       "    .dataframe tbody tr th {\n",
       "        vertical-align: top;\n",
       "    }\n",
       "\n",
       "    .dataframe thead th {\n",
       "        text-align: right;\n",
       "    }\n",
       "</style>\n",
       "<table border=\"1\" class=\"dataframe\">\n",
       "  <thead>\n",
       "    <tr style=\"text-align: right;\">\n",
       "      <th></th>\n",
       "      <th>nconst</th>\n",
       "    </tr>\n",
       "    <tr>\n",
       "      <th>tconst</th>\n",
       "      <th></th>\n",
       "    </tr>\n",
       "  </thead>\n",
       "  <tbody>\n",
       "    <tr>\n",
       "      <th>tt0000502</th>\n",
       "      <td>[nm0215752, nm0252720, nm0063413, nm0657268, n...</td>\n",
       "    </tr>\n",
       "    <tr>\n",
       "      <th>tt0000574</th>\n",
       "      <td>[nm0675239, nm0846887, nm0846894, nm1431224, n...</td>\n",
       "    </tr>\n",
       "    <tr>\n",
       "      <th>tt0000591</th>\n",
       "      <td>[nm0906197, nm0332182, nm1323543, nm1759558, n...</td>\n",
       "    </tr>\n",
       "    <tr>\n",
       "      <th>tt0000615</th>\n",
       "      <td>[nm3071427, nm0581353, nm0888988, nm0240418, n...</td>\n",
       "    </tr>\n",
       "    <tr>\n",
       "      <th>tt0000630</th>\n",
       "      <td>[nm0624446, nm0143333, nm0000636, nm0209738]</td>\n",
       "    </tr>\n",
       "    <tr>\n",
       "      <th>...</th>\n",
       "      <td>...</td>\n",
       "    </tr>\n",
       "    <tr>\n",
       "      <th>tt9916362</th>\n",
       "      <td>[nm5813626, nm3766704, nm0107165, nm0266723, n...</td>\n",
       "    </tr>\n",
       "    <tr>\n",
       "      <th>tt9916428</th>\n",
       "      <td>[nm3611859, nm9445072, nm8594703, nm0422639, n...</td>\n",
       "    </tr>\n",
       "    <tr>\n",
       "      <th>tt9916460</th>\n",
       "      <td>[nm8796794, nm10538444, nm8691452, nm10538443,...</td>\n",
       "    </tr>\n",
       "    <tr>\n",
       "      <th>tt9916538</th>\n",
       "      <td>[nm4700236, nm8678236, nm1417182, nm10041459, ...</td>\n",
       "    </tr>\n",
       "    <tr>\n",
       "      <th>tt9916730</th>\n",
       "      <td>[nm6096005, nm0059461, nm13233318, nm4852679, ...</td>\n",
       "    </tr>\n",
       "  </tbody>\n",
       "</table>\n",
       "<p>323111 rows × 1 columns</p>\n",
       "</div>"
      ],
      "text/plain": [
       "                                                      nconst\n",
       "tconst                                                      \n",
       "tt0000502  [nm0215752, nm0252720, nm0063413, nm0657268, n...\n",
       "tt0000574  [nm0675239, nm0846887, nm0846894, nm1431224, n...\n",
       "tt0000591  [nm0906197, nm0332182, nm1323543, nm1759558, n...\n",
       "tt0000615  [nm3071427, nm0581353, nm0888988, nm0240418, n...\n",
       "tt0000630       [nm0624446, nm0143333, nm0000636, nm0209738]\n",
       "...                                                      ...\n",
       "tt9916362  [nm5813626, nm3766704, nm0107165, nm0266723, n...\n",
       "tt9916428  [nm3611859, nm9445072, nm8594703, nm0422639, n...\n",
       "tt9916460  [nm8796794, nm10538444, nm8691452, nm10538443,...\n",
       "tt9916538  [nm4700236, nm8678236, nm1417182, nm10041459, ...\n",
       "tt9916730  [nm6096005, nm0059461, nm13233318, nm4852679, ...\n",
       "\n",
       "[323111 rows x 1 columns]"
      ]
     },
     "execution_count": 117,
     "metadata": {},
     "output_type": "execute_result"
    }
   ],
   "source": [
    "cc_df"
   ]
  },
  {
   "cell_type": "code",
   "execution_count": 118,
   "metadata": {},
   "outputs": [],
   "source": [
    "def get_prof_metrics(x):\n",
    "    \n",
    "    \n",
    "    \"\"\"\n",
    "    Generates the mean, std and max ratings for both cast and crew\n",
    "    \n",
    "    params:\n",
    "        x: dataframe series that maps a title to the cast and crew who have worked on taht title \n",
    "    \"\"\"\n",
    "    cc = x['nconst']\n",
    "    \n",
    "    cast_mean = []\n",
    "    cast_std = []\n",
    "    cast_max = []\n",
    "    crew_mean = []\n",
    "    crew_std = []\n",
    "    crew_max = []\n",
    "    # we iterate through every person who has worked on the film and also what jobs they have historically done\n",
    "    for person in cc:\n",
    "#         print(person)\n",
    "        #Get all the roles the person has played \n",
    "        roles = roles_df.loc[person]['category']\n",
    "        for role in roles:\n",
    "            #If they were a cast member their score is added to the cast statistics\n",
    "            if role in role_cat_dict['cast']:\n",
    "                #Use the prof quality table to get statistics for eact cast member\n",
    "                cast_mean.append(prof_qual_df.loc[person]['averageRating']['mean'])\n",
    "                cast_std.append(prof_qual_df.loc[person]['averageRating']['std'])\n",
    "                cast_max.append(prof_qual_df.loc[person]['averageRating']['max'])\n",
    "                \n",
    "            elif role in role_cat_dict['crew']:\n",
    "                #Use the prof quality table to get statistics for eact crew member\n",
    "                #If they were a crew member their score is added to the crew statistics\n",
    "                crew_mean.append(prof_qual_df.loc[person]['averageRating']['mean'])\n",
    "                crew_std.append(prof_qual_df.loc[person]['averageRating']['std'])\n",
    "                crew_max.append(prof_qual_df.loc[person]['averageRating']['max'])\n",
    "    if cast_mean:            \n",
    "        x['cast_mean'] = sum(cast_mean)/len(cast_mean)\n",
    "    else:\n",
    "        #If we are unable to find information about cast and crew, we impute with the global means\n",
    "        x['cast_mean'] = 6.259640942673017\n",
    "    if cast_std:\n",
    "        x['cast_std'] = sum(cast_std)/len(cast_std)\n",
    "    else:\n",
    "        #If we are unable to find information about cast and crew, we impute with the global means\n",
    "        x['cast_std'] = 0.9623025831076207\n",
    "        \n",
    "    if cast_max:\n",
    "        x['cast_max'] = sum(cast_max)/len(cast_max)\n",
    "    else:\n",
    "        #If we are unable to find information about cast and crew, we impute with the global means\n",
    "        x['cast_max'] = 6.634021493829783\n",
    "    if crew_mean:\n",
    "        \n",
    "        x['crew_mean'] = sum(crew_mean)/len(crew_mean)\n",
    "    else:\n",
    "        #If we are unable to find information about cast and crew, we impute with the global means\n",
    "        x['crew_mean'] = 6.259640942673017\n",
    "        \n",
    "    if crew_std:\n",
    "        x['crew_std'] = sum(crew_std)/len(crew_std)\n",
    "    else:\n",
    "        #If we are unable to find information about cast and crew, we impute with the global means\n",
    "        x['crew_std'] = 0.9623025831076207\n",
    "        \n",
    "    if crew_max:\n",
    "        x['crew_max'] = sum(crew_max)/len(crew_max)\n",
    "    else:\n",
    "        #If we are unable to find information about cast and crew, we impute with the global means\n",
    "        x['crew_max'] = 6.634021493829783\n",
    "    \n",
    "    return x\n",
    "#     print(roles)"
   ]
  },
  {
   "cell_type": "code",
   "execution_count": 120,
   "metadata": {
    "scrolled": true
   },
   "outputs": [
    {
     "name": "stderr",
     "output_type": "stream",
     "text": [
      "\n",
      "\n",
      "\n",
      "\n",
      "\n",
      "\n",
      "\n",
      "\n",
      "\n",
      "  0%|          | 468/323111 [00:19<1:38:37, 54.53it/s]\u001b[A\u001b[A\u001b[A\u001b[A\u001b[A\u001b[A\u001b[A\u001b[A\u001b[A"
     ]
    }
   ],
   "source": [
    "cc_df = cc_df.apply(lambda x: get_prof_metrics(x), axis = 1)"
   ]
  },
  {
   "cell_type": "code",
   "execution_count": 129,
   "metadata": {},
   "outputs": [],
   "source": [
    "# Creating a dataframe which maps a professional to the number of titles thay have worked on \n",
    "prof_exp_df = title_rating_principal.groupby('nconst').agg({\"tconst\":'count'})"
   ]
  },
  {
   "cell_type": "code",
   "execution_count": 133,
   "metadata": {},
   "outputs": [
    {
     "data": {
      "text/plain": [
       "tconst    3.002193\n",
       "dtype: float64"
      ]
     },
     "execution_count": 133,
     "metadata": {},
     "output_type": "execute_result"
    }
   ],
   "source": [
    "prof_exp_df.mean()"
   ]
  },
  {
   "cell_type": "code",
   "execution_count": 147,
   "metadata": {},
   "outputs": [],
   "source": [
    "def get_prof_experience(x):\n",
    "    \"\"\"\n",
    "    Generates the exp metric for both cast and crew\n",
    "    \n",
    "    params:\n",
    "        x: dataframe series that maps a title to the cast and crew who have worked on taht title \n",
    "    \"\"\"\n",
    "    cc = x['nconst']\n",
    "    crew_exp = []\n",
    "    cast_exp = []\n",
    "    for person in cc:\n",
    "#         print(person)\n",
    "        roles = roles_df.loc[person]['category']\n",
    "        for role in roles:\n",
    "            #Use the prof experience table to get statistics for eact cast member\n",
    "            if role in role_cat_dict['cast']:\n",
    "                cast_exp.append(prof_exp_df.loc[person]['tconst'])\n",
    "            elif role in role_cat_dict['crew']:\n",
    "                crew_exp.append(prof_exp_df.loc[person]['tconst'])\n",
    "    if cast_exp:            \n",
    "        x['cast_exp'] = sum(cast_exp)/len(cast_exp)\n",
    "    else:\n",
    "        #if we are unable to find information about crew experience we return the global mean of 3 titles\n",
    "        x['cast_exp'] = 3\n",
    "    if crew_exp:\n",
    "    \n",
    "        x['crew_exp'] = sum(crew_exp)/len(crew_exp)\n",
    "    else:\n",
    "        x['crew_exp'] = 3\n",
    "        \n",
    "    \n",
    "    return x"
   ]
  },
  {
   "cell_type": "code",
   "execution_count": null,
   "metadata": {},
   "outputs": [],
   "source": [
    "cc_df = cc_df.parallel_apply(lambda x: get_prof_experience(x), axis = 1)"
   ]
  },
  {
   "cell_type": "code",
   "execution_count": null,
   "metadata": {},
   "outputs": [],
   "source": []
  },
  {
   "cell_type": "code",
   "execution_count": 51,
   "metadata": {},
   "outputs": [],
   "source": [
    "cc_df.to_csv('processed/cc_df.csv')"
   ]
  },
  {
   "cell_type": "markdown",
   "metadata": {},
   "source": [
    "Merging our created features with the master dataset"
   ]
  },
  {
   "cell_type": "code",
   "execution_count": 52,
   "metadata": {},
   "outputs": [],
   "source": [
    "cc_df = pd.read_csv('processed/cc_df.csv')"
   ]
  },
  {
   "cell_type": "code",
   "execution_count": 57,
   "metadata": {},
   "outputs": [],
   "source": [
    "title_rating_prof = pd.merge(title_rating_new, cc_df, on='tconst', how='left')"
   ]
  },
  {
   "cell_type": "code",
   "execution_count": 58,
   "metadata": {},
   "outputs": [
    {
     "data": {
      "text/html": [
       "<div>\n",
       "<style scoped>\n",
       "    .dataframe tbody tr th:only-of-type {\n",
       "        vertical-align: middle;\n",
       "    }\n",
       "\n",
       "    .dataframe tbody tr th {\n",
       "        vertical-align: top;\n",
       "    }\n",
       "\n",
       "    .dataframe thead th {\n",
       "        text-align: right;\n",
       "    }\n",
       "</style>\n",
       "<table border=\"1\" class=\"dataframe\">\n",
       "  <thead>\n",
       "    <tr style=\"text-align: right;\">\n",
       "      <th></th>\n",
       "      <th>tconst</th>\n",
       "      <th>titleType</th>\n",
       "      <th>primaryTitle</th>\n",
       "      <th>originalTitle</th>\n",
       "      <th>isAdult</th>\n",
       "      <th>startYear</th>\n",
       "      <th>runtimeMinutes</th>\n",
       "      <th>averageRating</th>\n",
       "      <th>numVotes</th>\n",
       "      <th>genres</th>\n",
       "      <th>Unnamed: 0</th>\n",
       "      <th>nconst</th>\n",
       "      <th>cast_mean</th>\n",
       "      <th>cast_std</th>\n",
       "      <th>cast_max</th>\n",
       "      <th>crew_mean</th>\n",
       "      <th>crew_std</th>\n",
       "      <th>crew_max</th>\n",
       "      <th>cast_exp</th>\n",
       "      <th>crew_exp</th>\n",
       "    </tr>\n",
       "  </thead>\n",
       "  <tbody>\n",
       "    <tr>\n",
       "      <th>0</th>\n",
       "      <td>tt0000502</td>\n",
       "      <td>movie</td>\n",
       "      <td>Bohemios</td>\n",
       "      <td>Bohemios</td>\n",
       "      <td>0</td>\n",
       "      <td>1970-01-01 00:00:00.000001905</td>\n",
       "      <td>100.0</td>\n",
       "      <td>4.5</td>\n",
       "      <td>14</td>\n",
       "      <td>Comedy,Musical</td>\n",
       "      <td>0.0</td>\n",
       "      <td>['nm0215752', 'nm0252720', 'nm0063413', 'nm065...</td>\n",
       "      <td>4.500000</td>\n",
       "      <td>NaN</td>\n",
       "      <td>4.500000</td>\n",
       "      <td>5.357143</td>\n",
       "      <td>1.016246</td>\n",
       "      <td>6.366667</td>\n",
       "      <td>1.000000</td>\n",
       "      <td>5.000000</td>\n",
       "    </tr>\n",
       "    <tr>\n",
       "      <th>1</th>\n",
       "      <td>tt0000574</td>\n",
       "      <td>movie</td>\n",
       "      <td>The Story of the Kelly Gang</td>\n",
       "      <td>The Story of the Kelly Gang</td>\n",
       "      <td>0</td>\n",
       "      <td>1970-01-01 00:00:00.000001906</td>\n",
       "      <td>70.0</td>\n",
       "      <td>6.0</td>\n",
       "      <td>754</td>\n",
       "      <td>Action,Adventure,Biography</td>\n",
       "      <td>1.0</td>\n",
       "      <td>['nm0675239', 'nm0846887', 'nm0846894', 'nm143...</td>\n",
       "      <td>6.000000</td>\n",
       "      <td>NaN</td>\n",
       "      <td>6.000000</td>\n",
       "      <td>5.802778</td>\n",
       "      <td>NaN</td>\n",
       "      <td>6.033333</td>\n",
       "      <td>1.000000</td>\n",
       "      <td>1.833333</td>\n",
       "    </tr>\n",
       "    <tr>\n",
       "      <th>2</th>\n",
       "      <td>tt0000591</td>\n",
       "      <td>movie</td>\n",
       "      <td>The Prodigal Son</td>\n",
       "      <td>L'enfant prodigue</td>\n",
       "      <td>0</td>\n",
       "      <td>1970-01-01 00:00:00.000001907</td>\n",
       "      <td>90.0</td>\n",
       "      <td>4.6</td>\n",
       "      <td>17</td>\n",
       "      <td>Drama</td>\n",
       "      <td>2.0</td>\n",
       "      <td>['nm0906197', 'nm0332182', 'nm1323543', 'nm175...</td>\n",
       "      <td>5.178571</td>\n",
       "      <td>NaN</td>\n",
       "      <td>5.725000</td>\n",
       "      <td>4.800000</td>\n",
       "      <td>0.282843</td>\n",
       "      <td>5.000000</td>\n",
       "      <td>4.000000</td>\n",
       "      <td>2.000000</td>\n",
       "    </tr>\n",
       "    <tr>\n",
       "      <th>3</th>\n",
       "      <td>tt0000615</td>\n",
       "      <td>movie</td>\n",
       "      <td>Robbery Under Arms</td>\n",
       "      <td>Robbery Under Arms</td>\n",
       "      <td>0</td>\n",
       "      <td>1970-01-01 00:00:00.000001907</td>\n",
       "      <td>96.0</td>\n",
       "      <td>4.5</td>\n",
       "      <td>23</td>\n",
       "      <td>Drama</td>\n",
       "      <td>3.0</td>\n",
       "      <td>['nm3071427', 'nm0581353', 'nm0888988', 'nm024...</td>\n",
       "      <td>4.800000</td>\n",
       "      <td>NaN</td>\n",
       "      <td>5.100000</td>\n",
       "      <td>4.766667</td>\n",
       "      <td>NaN</td>\n",
       "      <td>5.133333</td>\n",
       "      <td>1.333333</td>\n",
       "      <td>2.333333</td>\n",
       "    </tr>\n",
       "    <tr>\n",
       "      <th>4</th>\n",
       "      <td>tt0000630</td>\n",
       "      <td>movie</td>\n",
       "      <td>Hamlet</td>\n",
       "      <td>Amleto</td>\n",
       "      <td>0</td>\n",
       "      <td>1970-01-01 00:00:00.000001908</td>\n",
       "      <td>130.0</td>\n",
       "      <td>3.8</td>\n",
       "      <td>24</td>\n",
       "      <td>Drama</td>\n",
       "      <td>4.0</td>\n",
       "      <td>['nm0624446', 'nm0143333', 'nm0000636', 'nm020...</td>\n",
       "      <td>5.337500</td>\n",
       "      <td>1.242302</td>\n",
       "      <td>6.650000</td>\n",
       "      <td>5.801958</td>\n",
       "      <td>1.409807</td>\n",
       "      <td>7.575000</td>\n",
       "      <td>4.500000</td>\n",
       "      <td>163.500000</td>\n",
       "    </tr>\n",
       "    <tr>\n",
       "      <th>...</th>\n",
       "      <td>...</td>\n",
       "      <td>...</td>\n",
       "      <td>...</td>\n",
       "      <td>...</td>\n",
       "      <td>...</td>\n",
       "      <td>...</td>\n",
       "      <td>...</td>\n",
       "      <td>...</td>\n",
       "      <td>...</td>\n",
       "      <td>...</td>\n",
       "      <td>...</td>\n",
       "      <td>...</td>\n",
       "      <td>...</td>\n",
       "      <td>...</td>\n",
       "      <td>...</td>\n",
       "      <td>...</td>\n",
       "      <td>...</td>\n",
       "      <td>...</td>\n",
       "      <td>...</td>\n",
       "      <td>...</td>\n",
       "    </tr>\n",
       "    <tr>\n",
       "      <th>323829</th>\n",
       "      <td>tt9916362</td>\n",
       "      <td>movie</td>\n",
       "      <td>Coven</td>\n",
       "      <td>Akelarre</td>\n",
       "      <td>0</td>\n",
       "      <td>2020-01-01</td>\n",
       "      <td>92.0</td>\n",
       "      <td>6.4</td>\n",
       "      <td>4447</td>\n",
       "      <td>Drama,History</td>\n",
       "      <td>323106.0</td>\n",
       "      <td>['nm5813626', 'nm3766704', 'nm0107165', 'nm026...</td>\n",
       "      <td>6.148864</td>\n",
       "      <td>NaN</td>\n",
       "      <td>7.575000</td>\n",
       "      <td>6.353927</td>\n",
       "      <td>NaN</td>\n",
       "      <td>7.028571</td>\n",
       "      <td>17.750000</td>\n",
       "      <td>6.428571</td>\n",
       "    </tr>\n",
       "    <tr>\n",
       "      <th>323830</th>\n",
       "      <td>tt9916428</td>\n",
       "      <td>movie</td>\n",
       "      <td>The Secret of China</td>\n",
       "      <td>Hong xing zhao yao Zhong guo</td>\n",
       "      <td>0</td>\n",
       "      <td>2019-01-01</td>\n",
       "      <td>93.0</td>\n",
       "      <td>3.8</td>\n",
       "      <td>14</td>\n",
       "      <td>Adventure,History,War</td>\n",
       "      <td>323107.0</td>\n",
       "      <td>['nm3611859', 'nm9445072', 'nm8594703', 'nm042...</td>\n",
       "      <td>4.542778</td>\n",
       "      <td>NaN</td>\n",
       "      <td>5.083333</td>\n",
       "      <td>4.691667</td>\n",
       "      <td>1.100755</td>\n",
       "      <td>6.000000</td>\n",
       "      <td>4.500000</td>\n",
       "      <td>7.500000</td>\n",
       "    </tr>\n",
       "    <tr>\n",
       "      <th>323831</th>\n",
       "      <td>tt9916460</td>\n",
       "      <td>tvMovie</td>\n",
       "      <td>Pink Taxi</td>\n",
       "      <td>Pink Taxi</td>\n",
       "      <td>0</td>\n",
       "      <td>2019-01-01</td>\n",
       "      <td>10.0</td>\n",
       "      <td>9.3</td>\n",
       "      <td>17</td>\n",
       "      <td>Comedy</td>\n",
       "      <td>323108.0</td>\n",
       "      <td>['nm8796794', 'nm10538444', 'nm8691452', 'nm10...</td>\n",
       "      <td>9.300000</td>\n",
       "      <td>NaN</td>\n",
       "      <td>9.300000</td>\n",
       "      <td>9.300000</td>\n",
       "      <td>NaN</td>\n",
       "      <td>9.300000</td>\n",
       "      <td>1.000000</td>\n",
       "      <td>1.000000</td>\n",
       "    </tr>\n",
       "    <tr>\n",
       "      <th>323832</th>\n",
       "      <td>tt9916538</td>\n",
       "      <td>movie</td>\n",
       "      <td>Kuambil Lagi Hatiku</td>\n",
       "      <td>Kuambil Lagi Hatiku</td>\n",
       "      <td>0</td>\n",
       "      <td>2019-01-01</td>\n",
       "      <td>123.0</td>\n",
       "      <td>8.3</td>\n",
       "      <td>6</td>\n",
       "      <td>Drama</td>\n",
       "      <td>323109.0</td>\n",
       "      <td>['nm4700236', 'nm8678236', 'nm1417182', 'nm100...</td>\n",
       "      <td>7.267708</td>\n",
       "      <td>NaN</td>\n",
       "      <td>8.300000</td>\n",
       "      <td>7.083557</td>\n",
       "      <td>NaN</td>\n",
       "      <td>8.300000</td>\n",
       "      <td>9.250000</td>\n",
       "      <td>15.555556</td>\n",
       "    </tr>\n",
       "    <tr>\n",
       "      <th>323833</th>\n",
       "      <td>tt9916730</td>\n",
       "      <td>movie</td>\n",
       "      <td>6 Gunn</td>\n",
       "      <td>6 Gunn</td>\n",
       "      <td>0</td>\n",
       "      <td>2017-01-01</td>\n",
       "      <td>116.0</td>\n",
       "      <td>8.4</td>\n",
       "      <td>5</td>\n",
       "      <td>Drama,Romance</td>\n",
       "      <td>323110.0</td>\n",
       "      <td>['nm6096005', 'nm0059461', 'nm13233318', 'nm48...</td>\n",
       "      <td>7.784167</td>\n",
       "      <td>NaN</td>\n",
       "      <td>8.550000</td>\n",
       "      <td>7.869444</td>\n",
       "      <td>NaN</td>\n",
       "      <td>8.400000</td>\n",
       "      <td>7.250000</td>\n",
       "      <td>4.666667</td>\n",
       "    </tr>\n",
       "  </tbody>\n",
       "</table>\n",
       "<p>323834 rows × 20 columns</p>\n",
       "</div>"
      ],
      "text/plain": [
       "           tconst titleType                 primaryTitle  \\\n",
       "0       tt0000502     movie                     Bohemios   \n",
       "1       tt0000574     movie  The Story of the Kelly Gang   \n",
       "2       tt0000591     movie             The Prodigal Son   \n",
       "3       tt0000615     movie           Robbery Under Arms   \n",
       "4       tt0000630     movie                       Hamlet   \n",
       "...           ...       ...                          ...   \n",
       "323829  tt9916362     movie                        Coven   \n",
       "323830  tt9916428     movie          The Secret of China   \n",
       "323831  tt9916460   tvMovie                    Pink Taxi   \n",
       "323832  tt9916538     movie          Kuambil Lagi Hatiku   \n",
       "323833  tt9916730     movie                       6 Gunn   \n",
       "\n",
       "                       originalTitle  isAdult                      startYear  \\\n",
       "0                           Bohemios        0  1970-01-01 00:00:00.000001905   \n",
       "1        The Story of the Kelly Gang        0  1970-01-01 00:00:00.000001906   \n",
       "2                  L'enfant prodigue        0  1970-01-01 00:00:00.000001907   \n",
       "3                 Robbery Under Arms        0  1970-01-01 00:00:00.000001907   \n",
       "4                             Amleto        0  1970-01-01 00:00:00.000001908   \n",
       "...                              ...      ...                            ...   \n",
       "323829                      Akelarre        0                     2020-01-01   \n",
       "323830  Hong xing zhao yao Zhong guo        0                     2019-01-01   \n",
       "323831                     Pink Taxi        0                     2019-01-01   \n",
       "323832           Kuambil Lagi Hatiku        0                     2019-01-01   \n",
       "323833                        6 Gunn        0                     2017-01-01   \n",
       "\n",
       "        runtimeMinutes  averageRating  numVotes                      genres  \\\n",
       "0                100.0            4.5        14              Comedy,Musical   \n",
       "1                 70.0            6.0       754  Action,Adventure,Biography   \n",
       "2                 90.0            4.6        17                       Drama   \n",
       "3                 96.0            4.5        23                       Drama   \n",
       "4                130.0            3.8        24                       Drama   \n",
       "...                ...            ...       ...                         ...   \n",
       "323829            92.0            6.4      4447               Drama,History   \n",
       "323830            93.0            3.8        14       Adventure,History,War   \n",
       "323831            10.0            9.3        17                      Comedy   \n",
       "323832           123.0            8.3         6                       Drama   \n",
       "323833           116.0            8.4         5               Drama,Romance   \n",
       "\n",
       "        Unnamed: 0                                             nconst  \\\n",
       "0              0.0  ['nm0215752', 'nm0252720', 'nm0063413', 'nm065...   \n",
       "1              1.0  ['nm0675239', 'nm0846887', 'nm0846894', 'nm143...   \n",
       "2              2.0  ['nm0906197', 'nm0332182', 'nm1323543', 'nm175...   \n",
       "3              3.0  ['nm3071427', 'nm0581353', 'nm0888988', 'nm024...   \n",
       "4              4.0  ['nm0624446', 'nm0143333', 'nm0000636', 'nm020...   \n",
       "...            ...                                                ...   \n",
       "323829    323106.0  ['nm5813626', 'nm3766704', 'nm0107165', 'nm026...   \n",
       "323830    323107.0  ['nm3611859', 'nm9445072', 'nm8594703', 'nm042...   \n",
       "323831    323108.0  ['nm8796794', 'nm10538444', 'nm8691452', 'nm10...   \n",
       "323832    323109.0  ['nm4700236', 'nm8678236', 'nm1417182', 'nm100...   \n",
       "323833    323110.0  ['nm6096005', 'nm0059461', 'nm13233318', 'nm48...   \n",
       "\n",
       "        cast_mean  cast_std  cast_max  crew_mean  crew_std  crew_max  \\\n",
       "0        4.500000       NaN  4.500000   5.357143  1.016246  6.366667   \n",
       "1        6.000000       NaN  6.000000   5.802778       NaN  6.033333   \n",
       "2        5.178571       NaN  5.725000   4.800000  0.282843  5.000000   \n",
       "3        4.800000       NaN  5.100000   4.766667       NaN  5.133333   \n",
       "4        5.337500  1.242302  6.650000   5.801958  1.409807  7.575000   \n",
       "...           ...       ...       ...        ...       ...       ...   \n",
       "323829   6.148864       NaN  7.575000   6.353927       NaN  7.028571   \n",
       "323830   4.542778       NaN  5.083333   4.691667  1.100755  6.000000   \n",
       "323831   9.300000       NaN  9.300000   9.300000       NaN  9.300000   \n",
       "323832   7.267708       NaN  8.300000   7.083557       NaN  8.300000   \n",
       "323833   7.784167       NaN  8.550000   7.869444       NaN  8.400000   \n",
       "\n",
       "         cast_exp    crew_exp  \n",
       "0        1.000000    5.000000  \n",
       "1        1.000000    1.833333  \n",
       "2        4.000000    2.000000  \n",
       "3        1.333333    2.333333  \n",
       "4        4.500000  163.500000  \n",
       "...           ...         ...  \n",
       "323829  17.750000    6.428571  \n",
       "323830   4.500000    7.500000  \n",
       "323831   1.000000    1.000000  \n",
       "323832   9.250000   15.555556  \n",
       "323833   7.250000    4.666667  \n",
       "\n",
       "[323834 rows x 20 columns]"
      ]
     },
     "execution_count": 58,
     "metadata": {},
     "output_type": "execute_result"
    }
   ],
   "source": [
    "title_rating_prof"
   ]
  },
  {
   "cell_type": "code",
   "execution_count": 59,
   "metadata": {},
   "outputs": [],
   "source": [
    "title_rating_prof.to_csv('processed/title_rating_prof.csv', index = False)"
   ]
  },
  {
   "cell_type": "markdown",
   "metadata": {},
   "source": [
    "### Number of regions\n",
    "\n",
    "The number of features a movie was shown is a strong indicator of how popular a movie is. More popular movies generally tend to be better rated. Capturing the number of regions the title was featured can help the model predict its IMDB rating"
   ]
  },
  {
   "cell_type": "code",
   "execution_count": 60,
   "metadata": {},
   "outputs": [],
   "source": [
    "title_rating_akas = pd.read_csv('processed/title_rating_aka.csv')"
   ]
  },
  {
   "cell_type": "code",
   "execution_count": 61,
   "metadata": {},
   "outputs": [
    {
     "data": {
      "text/html": [
       "<div>\n",
       "<style scoped>\n",
       "    .dataframe tbody tr th:only-of-type {\n",
       "        vertical-align: middle;\n",
       "    }\n",
       "\n",
       "    .dataframe tbody tr th {\n",
       "        vertical-align: top;\n",
       "    }\n",
       "\n",
       "    .dataframe thead th {\n",
       "        text-align: right;\n",
       "    }\n",
       "</style>\n",
       "<table border=\"1\" class=\"dataframe\">\n",
       "  <thead>\n",
       "    <tr style=\"text-align: right;\">\n",
       "      <th></th>\n",
       "      <th>tconst</th>\n",
       "      <th>titleType</th>\n",
       "      <th>primaryTitle</th>\n",
       "      <th>originalTitle</th>\n",
       "      <th>isAdult</th>\n",
       "      <th>startYear</th>\n",
       "      <th>endYear</th>\n",
       "      <th>runtimeMinutes</th>\n",
       "      <th>genres</th>\n",
       "      <th>averageRating</th>\n",
       "      <th>numVotes</th>\n",
       "      <th>titleId</th>\n",
       "      <th>ordering</th>\n",
       "      <th>title</th>\n",
       "      <th>region</th>\n",
       "      <th>language</th>\n",
       "      <th>types</th>\n",
       "      <th>attributes</th>\n",
       "      <th>isOriginalTitle</th>\n",
       "    </tr>\n",
       "  </thead>\n",
       "  <tbody>\n",
       "    <tr>\n",
       "      <th>0</th>\n",
       "      <td>tt0000502</td>\n",
       "      <td>movie</td>\n",
       "      <td>Bohemios</td>\n",
       "      <td>Bohemios</td>\n",
       "      <td>0</td>\n",
       "      <td>1970-01-01 00:00:00.000001905</td>\n",
       "      <td>NaN</td>\n",
       "      <td>100.0</td>\n",
       "      <td>NaN</td>\n",
       "      <td>4.5</td>\n",
       "      <td>14</td>\n",
       "      <td>tt0000502</td>\n",
       "      <td>1</td>\n",
       "      <td>Bohemios</td>\n",
       "      <td>\\N</td>\n",
       "      <td>\\N</td>\n",
       "      <td>original</td>\n",
       "      <td>\\N</td>\n",
       "      <td>1</td>\n",
       "    </tr>\n",
       "    <tr>\n",
       "      <th>1</th>\n",
       "      <td>tt0000502</td>\n",
       "      <td>movie</td>\n",
       "      <td>Bohemios</td>\n",
       "      <td>Bohemios</td>\n",
       "      <td>0</td>\n",
       "      <td>1970-01-01 00:00:00.000001905</td>\n",
       "      <td>NaN</td>\n",
       "      <td>100.0</td>\n",
       "      <td>NaN</td>\n",
       "      <td>4.5</td>\n",
       "      <td>14</td>\n",
       "      <td>tt0000502</td>\n",
       "      <td>2</td>\n",
       "      <td>Bohemios</td>\n",
       "      <td>ES</td>\n",
       "      <td>\\N</td>\n",
       "      <td>imdbDisplay</td>\n",
       "      <td>\\N</td>\n",
       "      <td>0</td>\n",
       "    </tr>\n",
       "    <tr>\n",
       "      <th>2</th>\n",
       "      <td>tt0000574</td>\n",
       "      <td>movie</td>\n",
       "      <td>The Story of the Kelly Gang</td>\n",
       "      <td>The Story of the Kelly Gang</td>\n",
       "      <td>0</td>\n",
       "      <td>1970-01-01 00:00:00.000001906</td>\n",
       "      <td>NaN</td>\n",
       "      <td>70.0</td>\n",
       "      <td>Action,Adventure,Biography</td>\n",
       "      <td>6.0</td>\n",
       "      <td>754</td>\n",
       "      <td>tt0000574</td>\n",
       "      <td>10</td>\n",
       "      <td>The Story of the Kelly Gang</td>\n",
       "      <td>AU</td>\n",
       "      <td>\\N</td>\n",
       "      <td>imdbDisplay</td>\n",
       "      <td>\\N</td>\n",
       "      <td>0</td>\n",
       "    </tr>\n",
       "    <tr>\n",
       "      <th>3</th>\n",
       "      <td>tt0000574</td>\n",
       "      <td>movie</td>\n",
       "      <td>The Story of the Kelly Gang</td>\n",
       "      <td>The Story of the Kelly Gang</td>\n",
       "      <td>0</td>\n",
       "      <td>1970-01-01 00:00:00.000001906</td>\n",
       "      <td>NaN</td>\n",
       "      <td>70.0</td>\n",
       "      <td>Action,Adventure,Biography</td>\n",
       "      <td>6.0</td>\n",
       "      <td>754</td>\n",
       "      <td>tt0000574</td>\n",
       "      <td>1</td>\n",
       "      <td>Kelly bandájának története</td>\n",
       "      <td>HU</td>\n",
       "      <td>\\N</td>\n",
       "      <td>imdbDisplay</td>\n",
       "      <td>\\N</td>\n",
       "      <td>0</td>\n",
       "    </tr>\n",
       "    <tr>\n",
       "      <th>4</th>\n",
       "      <td>tt0000574</td>\n",
       "      <td>movie</td>\n",
       "      <td>The Story of the Kelly Gang</td>\n",
       "      <td>The Story of the Kelly Gang</td>\n",
       "      <td>0</td>\n",
       "      <td>1970-01-01 00:00:00.000001906</td>\n",
       "      <td>NaN</td>\n",
       "      <td>70.0</td>\n",
       "      <td>Action,Adventure,Biography</td>\n",
       "      <td>6.0</td>\n",
       "      <td>754</td>\n",
       "      <td>tt0000574</td>\n",
       "      <td>2</td>\n",
       "      <td>Ned Kelly and His Gang</td>\n",
       "      <td>AU</td>\n",
       "      <td>\\N</td>\n",
       "      <td>imdbDisplay</td>\n",
       "      <td>\\N</td>\n",
       "      <td>0</td>\n",
       "    </tr>\n",
       "    <tr>\n",
       "      <th>...</th>\n",
       "      <td>...</td>\n",
       "      <td>...</td>\n",
       "      <td>...</td>\n",
       "      <td>...</td>\n",
       "      <td>...</td>\n",
       "      <td>...</td>\n",
       "      <td>...</td>\n",
       "      <td>...</td>\n",
       "      <td>...</td>\n",
       "      <td>...</td>\n",
       "      <td>...</td>\n",
       "      <td>...</td>\n",
       "      <td>...</td>\n",
       "      <td>...</td>\n",
       "      <td>...</td>\n",
       "      <td>...</td>\n",
       "      <td>...</td>\n",
       "      <td>...</td>\n",
       "      <td>...</td>\n",
       "    </tr>\n",
       "    <tr>\n",
       "      <th>2105360</th>\n",
       "      <td>tt9916428</td>\n",
       "      <td>movie</td>\n",
       "      <td>The Secret of China</td>\n",
       "      <td>Hong xing zhao yao Zhong guo</td>\n",
       "      <td>0</td>\n",
       "      <td>2019-01-01</td>\n",
       "      <td>NaN</td>\n",
       "      <td>NaN</td>\n",
       "      <td>Adventure,History,War</td>\n",
       "      <td>3.8</td>\n",
       "      <td>14</td>\n",
       "      <td>tt9916428</td>\n",
       "      <td>5</td>\n",
       "      <td>Hong xing zhao yao Zhong guo</td>\n",
       "      <td>CN</td>\n",
       "      <td>\\N</td>\n",
       "      <td>\\N</td>\n",
       "      <td>\\N</td>\n",
       "      <td>0</td>\n",
       "    </tr>\n",
       "    <tr>\n",
       "      <th>2105361</th>\n",
       "      <td>tt9916460</td>\n",
       "      <td>tvMovie</td>\n",
       "      <td>Pink Taxi</td>\n",
       "      <td>Pink Taxi</td>\n",
       "      <td>0</td>\n",
       "      <td>2019-01-01</td>\n",
       "      <td>NaN</td>\n",
       "      <td>NaN</td>\n",
       "      <td>Comedy</td>\n",
       "      <td>9.3</td>\n",
       "      <td>17</td>\n",
       "      <td>tt9916460</td>\n",
       "      <td>1</td>\n",
       "      <td>Ροζ Ταξί</td>\n",
       "      <td>GR</td>\n",
       "      <td>\\N</td>\n",
       "      <td>imdbDisplay</td>\n",
       "      <td>\\N</td>\n",
       "      <td>0</td>\n",
       "    </tr>\n",
       "    <tr>\n",
       "      <th>2105362</th>\n",
       "      <td>tt9916460</td>\n",
       "      <td>tvMovie</td>\n",
       "      <td>Pink Taxi</td>\n",
       "      <td>Pink Taxi</td>\n",
       "      <td>0</td>\n",
       "      <td>2019-01-01</td>\n",
       "      <td>NaN</td>\n",
       "      <td>NaN</td>\n",
       "      <td>Comedy</td>\n",
       "      <td>9.3</td>\n",
       "      <td>17</td>\n",
       "      <td>tt9916460</td>\n",
       "      <td>2</td>\n",
       "      <td>Pink Taxi</td>\n",
       "      <td>\\N</td>\n",
       "      <td>\\N</td>\n",
       "      <td>original</td>\n",
       "      <td>\\N</td>\n",
       "      <td>1</td>\n",
       "    </tr>\n",
       "    <tr>\n",
       "      <th>2105363</th>\n",
       "      <td>tt9916538</td>\n",
       "      <td>movie</td>\n",
       "      <td>Kuambil Lagi Hatiku</td>\n",
       "      <td>Kuambil Lagi Hatiku</td>\n",
       "      <td>0</td>\n",
       "      <td>2019-01-01</td>\n",
       "      <td>NaN</td>\n",
       "      <td>123.0</td>\n",
       "      <td>Drama</td>\n",
       "      <td>8.3</td>\n",
       "      <td>6</td>\n",
       "      <td>tt9916538</td>\n",
       "      <td>1</td>\n",
       "      <td>Kuambil Lagi Hatiku</td>\n",
       "      <td>ID</td>\n",
       "      <td>\\N</td>\n",
       "      <td>\\N</td>\n",
       "      <td>\\N</td>\n",
       "      <td>0</td>\n",
       "    </tr>\n",
       "    <tr>\n",
       "      <th>2105364</th>\n",
       "      <td>tt9916730</td>\n",
       "      <td>movie</td>\n",
       "      <td>6 Gunn</td>\n",
       "      <td>6 Gunn</td>\n",
       "      <td>0</td>\n",
       "      <td>2017-01-01</td>\n",
       "      <td>NaN</td>\n",
       "      <td>116.0</td>\n",
       "      <td>NaN</td>\n",
       "      <td>8.4</td>\n",
       "      <td>5</td>\n",
       "      <td>tt9916730</td>\n",
       "      <td>1</td>\n",
       "      <td>6 Gunn</td>\n",
       "      <td>IN</td>\n",
       "      <td>\\N</td>\n",
       "      <td>\\N</td>\n",
       "      <td>\\N</td>\n",
       "      <td>0</td>\n",
       "    </tr>\n",
       "  </tbody>\n",
       "</table>\n",
       "<p>2105365 rows × 19 columns</p>\n",
       "</div>"
      ],
      "text/plain": [
       "            tconst titleType                 primaryTitle  \\\n",
       "0        tt0000502     movie                     Bohemios   \n",
       "1        tt0000502     movie                     Bohemios   \n",
       "2        tt0000574     movie  The Story of the Kelly Gang   \n",
       "3        tt0000574     movie  The Story of the Kelly Gang   \n",
       "4        tt0000574     movie  The Story of the Kelly Gang   \n",
       "...            ...       ...                          ...   \n",
       "2105360  tt9916428     movie          The Secret of China   \n",
       "2105361  tt9916460   tvMovie                    Pink Taxi   \n",
       "2105362  tt9916460   tvMovie                    Pink Taxi   \n",
       "2105363  tt9916538     movie          Kuambil Lagi Hatiku   \n",
       "2105364  tt9916730     movie                       6 Gunn   \n",
       "\n",
       "                        originalTitle  isAdult                      startYear  \\\n",
       "0                            Bohemios        0  1970-01-01 00:00:00.000001905   \n",
       "1                            Bohemios        0  1970-01-01 00:00:00.000001905   \n",
       "2         The Story of the Kelly Gang        0  1970-01-01 00:00:00.000001906   \n",
       "3         The Story of the Kelly Gang        0  1970-01-01 00:00:00.000001906   \n",
       "4         The Story of the Kelly Gang        0  1970-01-01 00:00:00.000001906   \n",
       "...                               ...      ...                            ...   \n",
       "2105360  Hong xing zhao yao Zhong guo        0                     2019-01-01   \n",
       "2105361                     Pink Taxi        0                     2019-01-01   \n",
       "2105362                     Pink Taxi        0                     2019-01-01   \n",
       "2105363           Kuambil Lagi Hatiku        0                     2019-01-01   \n",
       "2105364                        6 Gunn        0                     2017-01-01   \n",
       "\n",
       "         endYear  runtimeMinutes                      genres  averageRating  \\\n",
       "0            NaN           100.0                         NaN            4.5   \n",
       "1            NaN           100.0                         NaN            4.5   \n",
       "2            NaN            70.0  Action,Adventure,Biography            6.0   \n",
       "3            NaN            70.0  Action,Adventure,Biography            6.0   \n",
       "4            NaN            70.0  Action,Adventure,Biography            6.0   \n",
       "...          ...             ...                         ...            ...   \n",
       "2105360      NaN             NaN       Adventure,History,War            3.8   \n",
       "2105361      NaN             NaN                      Comedy            9.3   \n",
       "2105362      NaN             NaN                      Comedy            9.3   \n",
       "2105363      NaN           123.0                       Drama            8.3   \n",
       "2105364      NaN           116.0                         NaN            8.4   \n",
       "\n",
       "         numVotes    titleId  ordering                         title region  \\\n",
       "0              14  tt0000502         1                      Bohemios     \\N   \n",
       "1              14  tt0000502         2                      Bohemios     ES   \n",
       "2             754  tt0000574        10   The Story of the Kelly Gang     AU   \n",
       "3             754  tt0000574         1    Kelly bandájának története     HU   \n",
       "4             754  tt0000574         2        Ned Kelly and His Gang     AU   \n",
       "...           ...        ...       ...                           ...    ...   \n",
       "2105360        14  tt9916428         5  Hong xing zhao yao Zhong guo     CN   \n",
       "2105361        17  tt9916460         1                      Ροζ Ταξί     GR   \n",
       "2105362        17  tt9916460         2                     Pink Taxi     \\N   \n",
       "2105363         6  tt9916538         1           Kuambil Lagi Hatiku     ID   \n",
       "2105364         5  tt9916730         1                        6 Gunn     IN   \n",
       "\n",
       "        language        types attributes  isOriginalTitle  \n",
       "0             \\N     original         \\N                1  \n",
       "1             \\N  imdbDisplay         \\N                0  \n",
       "2             \\N  imdbDisplay         \\N                0  \n",
       "3             \\N  imdbDisplay         \\N                0  \n",
       "4             \\N  imdbDisplay         \\N                0  \n",
       "...          ...          ...        ...              ...  \n",
       "2105360       \\N           \\N         \\N                0  \n",
       "2105361       \\N  imdbDisplay         \\N                0  \n",
       "2105362       \\N     original         \\N                1  \n",
       "2105363       \\N           \\N         \\N                0  \n",
       "2105364       \\N           \\N         \\N                0  \n",
       "\n",
       "[2105365 rows x 19 columns]"
      ]
     },
     "execution_count": 61,
     "metadata": {},
     "output_type": "execute_result"
    }
   ],
   "source": [
    "title_rating_akas"
   ]
  },
  {
   "cell_type": "code",
   "execution_count": 63,
   "metadata": {},
   "outputs": [],
   "source": [
    "#Get the number of regions each title was featured in\n",
    "regions_df = title_rating_akas.groupby('tconst').agg({'title':'count'})\n"
   ]
  },
  {
   "cell_type": "code",
   "execution_count": 66,
   "metadata": {},
   "outputs": [],
   "source": [
    "title_rating_prof_reg = pd.merge(title_rating_prof, regions_df, left_on='tconst', right_on=regions_df.index, how = 'left')"
   ]
  },
  {
   "cell_type": "code",
   "execution_count": 68,
   "metadata": {},
   "outputs": [],
   "source": [
    "title_rating_prof_reg.rename(columns={'title':'numRegions'}, inplace=True)"
   ]
  },
  {
   "cell_type": "code",
   "execution_count": 69,
   "metadata": {},
   "outputs": [],
   "source": [
    "title_rating_prof_reg.to_csv('processed/title_rating_prof_reg.csv')"
   ]
  },
  {
   "cell_type": "code",
   "execution_count": 82,
   "metadata": {},
   "outputs": [],
   "source": [
    "title_rating_prof_reg = pd.read_csv('processed/title_rating_prof_reg.csv')"
   ]
  },
  {
   "cell_type": "markdown",
   "metadata": {},
   "source": [
    "## Final Imputation and Clean-Up\n",
    "\n",
    "This section fills out any nulls missed in the previous steps"
   ]
  },
  {
   "cell_type": "code",
   "execution_count": 83,
   "metadata": {},
   "outputs": [
    {
     "data": {
      "text/plain": [
       "Unnamed: 0             0\n",
       "tconst                 0\n",
       "titleType              0\n",
       "primaryTitle           0\n",
       "originalTitle          0\n",
       "isAdult                0\n",
       "startYear              0\n",
       "runtimeMinutes         0\n",
       "averageRating          0\n",
       "numVotes               0\n",
       "genres               540\n",
       "Unnamed: 0.1         723\n",
       "nconst               723\n",
       "cast_mean            723\n",
       "cast_std          150713\n",
       "cast_max             723\n",
       "crew_mean            723\n",
       "crew_std          155979\n",
       "crew_max             723\n",
       "cast_exp             723\n",
       "crew_exp             723\n",
       "numRegions          1084\n",
       "dtype: int64"
      ]
     },
     "execution_count": 83,
     "metadata": {},
     "output_type": "execute_result"
    }
   ],
   "source": [
    "title_rating_prof_reg.isnull().sum()"
   ]
  },
  {
   "cell_type": "code",
   "execution_count": 98,
   "metadata": {},
   "outputs": [],
   "source": [
    "try:\n",
    "    title_rating_prof_reg.drop(columns = ['nconst'], inplace = True)\n",
    "    title_rating_prof_reg.drop(columns = ['Unnamed: 0.1'], inplace = True)\n",
    "    \n",
    "except:\n",
    "    pass\n",
    "    "
   ]
  },
  {
   "cell_type": "markdown",
   "metadata": {},
   "source": [
    "#### Imputing the remaining nulls"
   ]
  },
  {
   "cell_type": "code",
   "execution_count": 85,
   "metadata": {},
   "outputs": [],
   "source": [
    "#Imputing mean performance with the over all-mean\n",
    "title_rating_prof_reg.cast_mean.fillna(6.2, inplace=True)\n",
    "title_rating_prof_reg.crew_mean.fillna(6.2, inplace=True)"
   ]
  },
  {
   "cell_type": "code",
   "execution_count": 86,
   "metadata": {},
   "outputs": [],
   "source": [
    "#Imputing std with 0 (these people have worked only on one title)\n",
    "\n",
    "title_rating_prof_reg.cast_std.fillna(0, inplace=True)\n",
    "title_rating_prof_reg.crew_std.fillna(0, inplace=True)"
   ]
  },
  {
   "cell_type": "code",
   "execution_count": 87,
   "metadata": {},
   "outputs": [],
   "source": [
    "#Imputing max with the mean of the max \n",
    "\n",
    "title_rating_prof_reg.cast_max.fillna(6.6, inplace=True)\n",
    "title_rating_prof_reg.crew_max.fillna(6.6, inplace=True)"
   ]
  },
  {
   "cell_type": "code",
   "execution_count": 88,
   "metadata": {},
   "outputs": [],
   "source": [
    "#Imputing experience with a value of 1 \n",
    "\n",
    "title_rating_prof_reg.cast_exp.fillna(1, inplace=True)\n",
    "title_rating_prof_reg.crew_exp.fillna(1, inplace=True)"
   ]
  },
  {
   "cell_type": "code",
   "execution_count": 89,
   "metadata": {},
   "outputs": [],
   "source": [
    "#Imputing numregions with 1 (The movie has to be featured in atleast one region)\n",
    "\n",
    "title_rating_prof_reg.numRegions.fillna(1, inplace=True)\n"
   ]
  },
  {
   "cell_type": "code",
   "execution_count": 99,
   "metadata": {},
   "outputs": [
    {
     "data": {
      "text/plain": [
       "tconst              0\n",
       "titleType           0\n",
       "primaryTitle        0\n",
       "originalTitle       0\n",
       "isAdult             0\n",
       "startYear           0\n",
       "runtimeMinutes      0\n",
       "averageRating       0\n",
       "numVotes            0\n",
       "genres            540\n",
       "cast_mean           0\n",
       "cast_std            0\n",
       "cast_max            0\n",
       "crew_mean           0\n",
       "crew_std            0\n",
       "crew_max            0\n",
       "cast_exp            0\n",
       "crew_exp            0\n",
       "numRegions          0\n",
       "dtype: int64"
      ]
     },
     "execution_count": 99,
     "metadata": {},
     "output_type": "execute_result"
    }
   ],
   "source": [
    "title_rating_prof_reg.isnull().sum()"
   ]
  },
  {
   "cell_type": "markdown",
   "metadata": {},
   "source": [
    "Imputing the missing genres"
   ]
  },
  {
   "cell_type": "code",
   "execution_count": 105,
   "metadata": {},
   "outputs": [
    {
     "data": {
      "text/plain": [
       "0         None\n",
       "1         None\n",
       "2         None\n",
       "3         None\n",
       "4         None\n",
       "          ... \n",
       "323829    None\n",
       "323830    None\n",
       "323831    None\n",
       "323832    None\n",
       "323833    None\n",
       "Name: genres, Length: 323294, dtype: object"
      ]
     },
     "execution_count": 105,
     "metadata": {},
     "output_type": "execute_result"
    }
   ],
   "source": [
    "all_genres = []\n",
    "title_rating_prof_reg['genres'].dropna().apply(lambda x: all_genres.extend(split_names(x)))"
   ]
  },
  {
   "cell_type": "code",
   "execution_count": 107,
   "metadata": {},
   "outputs": [],
   "source": [
    "c = Counter(all_genres)"
   ]
  },
  {
   "cell_type": "code",
   "execution_count": 142,
   "metadata": {},
   "outputs": [
    {
     "data": {
      "text/plain": [
       "dict_items([('Comedy', 82117), ('Musical', 7334), ('Action', 33599), ('Adventure', 19393), ('Biography', 10721), ('Drama', 149327), ('Fantasy', 9494), ('Romance', 35598), ('Crime', 27514), ('Thriller', 26179), ('War', 6669), ('Family', 13427), ('History', 9558), ('Sci-Fi', 7555), ('Documentary', 54829), ('Western', 5339), ('Mystery', 11873), ('Horror', 20677), ('Music', 8533), ('Sport', 3902), ('Animation', 5925), ('Film-Noir', 764), ('News', 681), ('Adult', 4518), ('Reality-TV', 127), ('Talk-Show', 22), ('Short', 25), ('Game-Show', 7)])"
      ]
     },
     "execution_count": 142,
     "metadata": {},
     "output_type": "execute_result"
    }
   ],
   "source": [
    "c.items()"
   ]
  },
  {
   "cell_type": "code",
   "execution_count": 143,
   "metadata": {},
   "outputs": [],
   "source": [
    "#unique genres\n",
    "genres = set()\n",
    "for i in c.items():\n",
    "    genres.add(i[0])"
   ]
  },
  {
   "cell_type": "code",
   "execution_count": 144,
   "metadata": {},
   "outputs": [
    {
     "data": {
      "text/plain": [
       "{'Action',\n",
       " 'Adult',\n",
       " 'Adventure',\n",
       " 'Animation',\n",
       " 'Biography',\n",
       " 'Comedy',\n",
       " 'Crime',\n",
       " 'Documentary',\n",
       " 'Drama',\n",
       " 'Family',\n",
       " 'Fantasy',\n",
       " 'Film-Noir',\n",
       " 'Game-Show',\n",
       " 'History',\n",
       " 'Horror',\n",
       " 'Music',\n",
       " 'Musical',\n",
       " 'Mystery',\n",
       " 'News',\n",
       " 'Reality-TV',\n",
       " 'Romance',\n",
       " 'Sci-Fi',\n",
       " 'Short',\n",
       " 'Sport',\n",
       " 'Talk-Show',\n",
       " 'Thriller',\n",
       " 'War',\n",
       " 'Western'}"
      ]
     },
     "execution_count": 144,
     "metadata": {},
     "output_type": "execute_result"
    }
   ],
   "source": [
    "genres"
   ]
  },
  {
   "cell_type": "code",
   "execution_count": 109,
   "metadata": {},
   "outputs": [
    {
     "data": {
      "text/plain": [
       "[('Drama', 149327), ('Comedy', 82117), ('Documentary', 54829)]"
      ]
     },
     "execution_count": 109,
     "metadata": {},
     "output_type": "execute_result"
    }
   ],
   "source": [
    "c.most_common(3)"
   ]
  },
  {
   "cell_type": "markdown",
   "metadata": {},
   "source": [
    "Imputing the remaing genres with the most popular categories"
   ]
  },
  {
   "cell_type": "code",
   "execution_count": 111,
   "metadata": {},
   "outputs": [],
   "source": [
    "title_rating_prof_reg.fillna('Drama,Comedy', inplace=True)"
   ]
  },
  {
   "cell_type": "code",
   "execution_count": 124,
   "metadata": {},
   "outputs": [],
   "source": [
    "title_rating_prof_reg.to_csv('processed/title_rating_prof_reg.csv', index = False)"
   ]
  },
  {
   "cell_type": "markdown",
   "metadata": {},
   "source": [
    "### One hot encoding the genres"
   ]
  },
  {
   "cell_type": "code",
   "execution_count": 134,
   "metadata": {},
   "outputs": [],
   "source": [
    "title_rating_prof_reg = pd.read_csv('processed/title_rating_prof_reg.csv')"
   ]
  },
  {
   "cell_type": "code",
   "execution_count": 123,
   "metadata": {},
   "outputs": [
    {
     "data": {
      "text/plain": [
       "0                      [Comedy, Musical]\n",
       "1         [Action, Adventure, Biography]\n",
       "2                                [Drama]\n",
       "3                                [Drama]\n",
       "4                                [Drama]\n",
       "                       ...              \n",
       "323829                  [Drama, History]\n",
       "323830         [Adventure, History, War]\n",
       "323831                          [Comedy]\n",
       "323832                           [Drama]\n",
       "323833                  [Drama, Romance]\n",
       "Name: genres, Length: 323834, dtype: object"
      ]
     },
     "execution_count": 123,
     "metadata": {},
     "output_type": "execute_result"
    }
   ],
   "source": [
    "title_rating_prof_reg['genres'] = title_rating_prof_reg['genres'].apply(lambda x: split_names(x))"
   ]
  },
  {
   "cell_type": "code",
   "execution_count": 128,
   "metadata": {},
   "outputs": [],
   "source": [
    "from sklearn.preprocessing import MultiLabelBinarizer"
   ]
  },
  {
   "cell_type": "code",
   "execution_count": 150,
   "metadata": {},
   "outputs": [
    {
     "data": {
      "text/plain": [
       "array(['Action', 'Adult', 'Adventure', 'Animation', 'Biography', 'Comedy',\n",
       "       'Crime', 'Documentary', 'Drama', 'Family', 'Fantasy', 'Film-Noir',\n",
       "       'Game-Show', 'History', 'Horror', 'Music', 'Musical', 'Mystery',\n",
       "       'News', 'Reality-TV', 'Romance', 'Sci-Fi', 'Short', 'Sport',\n",
       "       'Talk-Show', 'Thriller', 'War', 'Western'], dtype=object)"
      ]
     },
     "execution_count": 150,
     "metadata": {},
     "output_type": "execute_result"
    }
   ],
   "source": [
    "mlb = MultiLabelBinarizer()\n",
    "mlb.fit(list(title_rating_prof_reg['genres'].apply(lambda x: x.split(','))))\n",
    "mlb.classes_"
   ]
  },
  {
   "cell_type": "code",
   "execution_count": 155,
   "metadata": {},
   "outputs": [],
   "source": [
    "#Create a dataframe with each genre onehot encoded\n",
    "onehot_genres_df = pd.DataFrame(mlb.transform(list(title_rating_prof_reg['genres'].apply(lambda x: x.split(',')))), columns=mlb.classes_)"
   ]
  },
  {
   "cell_type": "code",
   "execution_count": 157,
   "metadata": {},
   "outputs": [],
   "source": [
    "title_rating_prof_reg_one = title_rating_prof_reg.join(onehot_genres_df)"
   ]
  },
  {
   "cell_type": "code",
   "execution_count": 159,
   "metadata": {},
   "outputs": [
    {
     "data": {
      "text/html": [
       "<div>\n",
       "<style scoped>\n",
       "    .dataframe tbody tr th:only-of-type {\n",
       "        vertical-align: middle;\n",
       "    }\n",
       "\n",
       "    .dataframe tbody tr th {\n",
       "        vertical-align: top;\n",
       "    }\n",
       "\n",
       "    .dataframe thead th {\n",
       "        text-align: right;\n",
       "    }\n",
       "</style>\n",
       "<table border=\"1\" class=\"dataframe\">\n",
       "  <thead>\n",
       "    <tr style=\"text-align: right;\">\n",
       "      <th></th>\n",
       "      <th>tconst</th>\n",
       "      <th>titleType</th>\n",
       "      <th>primaryTitle</th>\n",
       "      <th>originalTitle</th>\n",
       "      <th>isAdult</th>\n",
       "      <th>startYear</th>\n",
       "      <th>runtimeMinutes</th>\n",
       "      <th>averageRating</th>\n",
       "      <th>numVotes</th>\n",
       "      <th>genres</th>\n",
       "      <th>...</th>\n",
       "      <th>News</th>\n",
       "      <th>Reality-TV</th>\n",
       "      <th>Romance</th>\n",
       "      <th>Sci-Fi</th>\n",
       "      <th>Short</th>\n",
       "      <th>Sport</th>\n",
       "      <th>Talk-Show</th>\n",
       "      <th>Thriller</th>\n",
       "      <th>War</th>\n",
       "      <th>Western</th>\n",
       "    </tr>\n",
       "  </thead>\n",
       "  <tbody>\n",
       "    <tr>\n",
       "      <th>0</th>\n",
       "      <td>tt0000502</td>\n",
       "      <td>movie</td>\n",
       "      <td>Bohemios</td>\n",
       "      <td>Bohemios</td>\n",
       "      <td>0</td>\n",
       "      <td>1970-01-01 00:00:00.000001905</td>\n",
       "      <td>100.0</td>\n",
       "      <td>4.5</td>\n",
       "      <td>14</td>\n",
       "      <td>Comedy,Musical</td>\n",
       "      <td>...</td>\n",
       "      <td>0</td>\n",
       "      <td>0</td>\n",
       "      <td>0</td>\n",
       "      <td>0</td>\n",
       "      <td>0</td>\n",
       "      <td>0</td>\n",
       "      <td>0</td>\n",
       "      <td>0</td>\n",
       "      <td>0</td>\n",
       "      <td>0</td>\n",
       "    </tr>\n",
       "    <tr>\n",
       "      <th>1</th>\n",
       "      <td>tt0000574</td>\n",
       "      <td>movie</td>\n",
       "      <td>The Story of the Kelly Gang</td>\n",
       "      <td>The Story of the Kelly Gang</td>\n",
       "      <td>0</td>\n",
       "      <td>1970-01-01 00:00:00.000001906</td>\n",
       "      <td>70.0</td>\n",
       "      <td>6.0</td>\n",
       "      <td>754</td>\n",
       "      <td>Action,Adventure,Biography</td>\n",
       "      <td>...</td>\n",
       "      <td>0</td>\n",
       "      <td>0</td>\n",
       "      <td>0</td>\n",
       "      <td>0</td>\n",
       "      <td>0</td>\n",
       "      <td>0</td>\n",
       "      <td>0</td>\n",
       "      <td>0</td>\n",
       "      <td>0</td>\n",
       "      <td>0</td>\n",
       "    </tr>\n",
       "    <tr>\n",
       "      <th>2</th>\n",
       "      <td>tt0000591</td>\n",
       "      <td>movie</td>\n",
       "      <td>The Prodigal Son</td>\n",
       "      <td>L'enfant prodigue</td>\n",
       "      <td>0</td>\n",
       "      <td>1970-01-01 00:00:00.000001907</td>\n",
       "      <td>90.0</td>\n",
       "      <td>4.6</td>\n",
       "      <td>17</td>\n",
       "      <td>Drama</td>\n",
       "      <td>...</td>\n",
       "      <td>0</td>\n",
       "      <td>0</td>\n",
       "      <td>0</td>\n",
       "      <td>0</td>\n",
       "      <td>0</td>\n",
       "      <td>0</td>\n",
       "      <td>0</td>\n",
       "      <td>0</td>\n",
       "      <td>0</td>\n",
       "      <td>0</td>\n",
       "    </tr>\n",
       "    <tr>\n",
       "      <th>3</th>\n",
       "      <td>tt0000615</td>\n",
       "      <td>movie</td>\n",
       "      <td>Robbery Under Arms</td>\n",
       "      <td>Robbery Under Arms</td>\n",
       "      <td>0</td>\n",
       "      <td>1970-01-01 00:00:00.000001907</td>\n",
       "      <td>96.0</td>\n",
       "      <td>4.5</td>\n",
       "      <td>23</td>\n",
       "      <td>Drama</td>\n",
       "      <td>...</td>\n",
       "      <td>0</td>\n",
       "      <td>0</td>\n",
       "      <td>0</td>\n",
       "      <td>0</td>\n",
       "      <td>0</td>\n",
       "      <td>0</td>\n",
       "      <td>0</td>\n",
       "      <td>0</td>\n",
       "      <td>0</td>\n",
       "      <td>0</td>\n",
       "    </tr>\n",
       "    <tr>\n",
       "      <th>4</th>\n",
       "      <td>tt0000630</td>\n",
       "      <td>movie</td>\n",
       "      <td>Hamlet</td>\n",
       "      <td>Amleto</td>\n",
       "      <td>0</td>\n",
       "      <td>1970-01-01 00:00:00.000001908</td>\n",
       "      <td>130.0</td>\n",
       "      <td>3.8</td>\n",
       "      <td>24</td>\n",
       "      <td>Drama</td>\n",
       "      <td>...</td>\n",
       "      <td>0</td>\n",
       "      <td>0</td>\n",
       "      <td>0</td>\n",
       "      <td>0</td>\n",
       "      <td>0</td>\n",
       "      <td>0</td>\n",
       "      <td>0</td>\n",
       "      <td>0</td>\n",
       "      <td>0</td>\n",
       "      <td>0</td>\n",
       "    </tr>\n",
       "    <tr>\n",
       "      <th>...</th>\n",
       "      <td>...</td>\n",
       "      <td>...</td>\n",
       "      <td>...</td>\n",
       "      <td>...</td>\n",
       "      <td>...</td>\n",
       "      <td>...</td>\n",
       "      <td>...</td>\n",
       "      <td>...</td>\n",
       "      <td>...</td>\n",
       "      <td>...</td>\n",
       "      <td>...</td>\n",
       "      <td>...</td>\n",
       "      <td>...</td>\n",
       "      <td>...</td>\n",
       "      <td>...</td>\n",
       "      <td>...</td>\n",
       "      <td>...</td>\n",
       "      <td>...</td>\n",
       "      <td>...</td>\n",
       "      <td>...</td>\n",
       "      <td>...</td>\n",
       "    </tr>\n",
       "    <tr>\n",
       "      <th>323829</th>\n",
       "      <td>tt9916362</td>\n",
       "      <td>movie</td>\n",
       "      <td>Coven</td>\n",
       "      <td>Akelarre</td>\n",
       "      <td>0</td>\n",
       "      <td>2020-01-01</td>\n",
       "      <td>92.0</td>\n",
       "      <td>6.4</td>\n",
       "      <td>4447</td>\n",
       "      <td>Drama,History</td>\n",
       "      <td>...</td>\n",
       "      <td>0</td>\n",
       "      <td>0</td>\n",
       "      <td>0</td>\n",
       "      <td>0</td>\n",
       "      <td>0</td>\n",
       "      <td>0</td>\n",
       "      <td>0</td>\n",
       "      <td>0</td>\n",
       "      <td>0</td>\n",
       "      <td>0</td>\n",
       "    </tr>\n",
       "    <tr>\n",
       "      <th>323830</th>\n",
       "      <td>tt9916428</td>\n",
       "      <td>movie</td>\n",
       "      <td>The Secret of China</td>\n",
       "      <td>Hong xing zhao yao Zhong guo</td>\n",
       "      <td>0</td>\n",
       "      <td>2019-01-01</td>\n",
       "      <td>93.0</td>\n",
       "      <td>3.8</td>\n",
       "      <td>14</td>\n",
       "      <td>Adventure,History,War</td>\n",
       "      <td>...</td>\n",
       "      <td>0</td>\n",
       "      <td>0</td>\n",
       "      <td>0</td>\n",
       "      <td>0</td>\n",
       "      <td>0</td>\n",
       "      <td>0</td>\n",
       "      <td>0</td>\n",
       "      <td>0</td>\n",
       "      <td>1</td>\n",
       "      <td>0</td>\n",
       "    </tr>\n",
       "    <tr>\n",
       "      <th>323831</th>\n",
       "      <td>tt9916460</td>\n",
       "      <td>tvMovie</td>\n",
       "      <td>Pink Taxi</td>\n",
       "      <td>Pink Taxi</td>\n",
       "      <td>0</td>\n",
       "      <td>2019-01-01</td>\n",
       "      <td>10.0</td>\n",
       "      <td>9.3</td>\n",
       "      <td>17</td>\n",
       "      <td>Comedy</td>\n",
       "      <td>...</td>\n",
       "      <td>0</td>\n",
       "      <td>0</td>\n",
       "      <td>0</td>\n",
       "      <td>0</td>\n",
       "      <td>0</td>\n",
       "      <td>0</td>\n",
       "      <td>0</td>\n",
       "      <td>0</td>\n",
       "      <td>0</td>\n",
       "      <td>0</td>\n",
       "    </tr>\n",
       "    <tr>\n",
       "      <th>323832</th>\n",
       "      <td>tt9916538</td>\n",
       "      <td>movie</td>\n",
       "      <td>Kuambil Lagi Hatiku</td>\n",
       "      <td>Kuambil Lagi Hatiku</td>\n",
       "      <td>0</td>\n",
       "      <td>2019-01-01</td>\n",
       "      <td>123.0</td>\n",
       "      <td>8.3</td>\n",
       "      <td>6</td>\n",
       "      <td>Drama</td>\n",
       "      <td>...</td>\n",
       "      <td>0</td>\n",
       "      <td>0</td>\n",
       "      <td>0</td>\n",
       "      <td>0</td>\n",
       "      <td>0</td>\n",
       "      <td>0</td>\n",
       "      <td>0</td>\n",
       "      <td>0</td>\n",
       "      <td>0</td>\n",
       "      <td>0</td>\n",
       "    </tr>\n",
       "    <tr>\n",
       "      <th>323833</th>\n",
       "      <td>tt9916730</td>\n",
       "      <td>movie</td>\n",
       "      <td>6 Gunn</td>\n",
       "      <td>6 Gunn</td>\n",
       "      <td>0</td>\n",
       "      <td>2017-01-01</td>\n",
       "      <td>116.0</td>\n",
       "      <td>8.4</td>\n",
       "      <td>5</td>\n",
       "      <td>Drama,Romance</td>\n",
       "      <td>...</td>\n",
       "      <td>0</td>\n",
       "      <td>0</td>\n",
       "      <td>1</td>\n",
       "      <td>0</td>\n",
       "      <td>0</td>\n",
       "      <td>0</td>\n",
       "      <td>0</td>\n",
       "      <td>0</td>\n",
       "      <td>0</td>\n",
       "      <td>0</td>\n",
       "    </tr>\n",
       "  </tbody>\n",
       "</table>\n",
       "<p>323834 rows × 47 columns</p>\n",
       "</div>"
      ],
      "text/plain": [
       "           tconst titleType                 primaryTitle  \\\n",
       "0       tt0000502     movie                     Bohemios   \n",
       "1       tt0000574     movie  The Story of the Kelly Gang   \n",
       "2       tt0000591     movie             The Prodigal Son   \n",
       "3       tt0000615     movie           Robbery Under Arms   \n",
       "4       tt0000630     movie                       Hamlet   \n",
       "...           ...       ...                          ...   \n",
       "323829  tt9916362     movie                        Coven   \n",
       "323830  tt9916428     movie          The Secret of China   \n",
       "323831  tt9916460   tvMovie                    Pink Taxi   \n",
       "323832  tt9916538     movie          Kuambil Lagi Hatiku   \n",
       "323833  tt9916730     movie                       6 Gunn   \n",
       "\n",
       "                       originalTitle  isAdult                      startYear  \\\n",
       "0                           Bohemios        0  1970-01-01 00:00:00.000001905   \n",
       "1        The Story of the Kelly Gang        0  1970-01-01 00:00:00.000001906   \n",
       "2                  L'enfant prodigue        0  1970-01-01 00:00:00.000001907   \n",
       "3                 Robbery Under Arms        0  1970-01-01 00:00:00.000001907   \n",
       "4                             Amleto        0  1970-01-01 00:00:00.000001908   \n",
       "...                              ...      ...                            ...   \n",
       "323829                      Akelarre        0                     2020-01-01   \n",
       "323830  Hong xing zhao yao Zhong guo        0                     2019-01-01   \n",
       "323831                     Pink Taxi        0                     2019-01-01   \n",
       "323832           Kuambil Lagi Hatiku        0                     2019-01-01   \n",
       "323833                        6 Gunn        0                     2017-01-01   \n",
       "\n",
       "        runtimeMinutes  averageRating  numVotes                      genres  \\\n",
       "0                100.0            4.5        14              Comedy,Musical   \n",
       "1                 70.0            6.0       754  Action,Adventure,Biography   \n",
       "2                 90.0            4.6        17                       Drama   \n",
       "3                 96.0            4.5        23                       Drama   \n",
       "4                130.0            3.8        24                       Drama   \n",
       "...                ...            ...       ...                         ...   \n",
       "323829            92.0            6.4      4447               Drama,History   \n",
       "323830            93.0            3.8        14       Adventure,History,War   \n",
       "323831            10.0            9.3        17                      Comedy   \n",
       "323832           123.0            8.3         6                       Drama   \n",
       "323833           116.0            8.4         5               Drama,Romance   \n",
       "\n",
       "        ...  News  Reality-TV  Romance  Sci-Fi  Short  Sport  Talk-Show  \\\n",
       "0       ...     0           0        0       0      0      0          0   \n",
       "1       ...     0           0        0       0      0      0          0   \n",
       "2       ...     0           0        0       0      0      0          0   \n",
       "3       ...     0           0        0       0      0      0          0   \n",
       "4       ...     0           0        0       0      0      0          0   \n",
       "...     ...   ...         ...      ...     ...    ...    ...        ...   \n",
       "323829  ...     0           0        0       0      0      0          0   \n",
       "323830  ...     0           0        0       0      0      0          0   \n",
       "323831  ...     0           0        0       0      0      0          0   \n",
       "323832  ...     0           0        0       0      0      0          0   \n",
       "323833  ...     0           0        1       0      0      0          0   \n",
       "\n",
       "        Thriller  War  Western  \n",
       "0              0    0        0  \n",
       "1              0    0        0  \n",
       "2              0    0        0  \n",
       "3              0    0        0  \n",
       "4              0    0        0  \n",
       "...          ...  ...      ...  \n",
       "323829         0    0        0  \n",
       "323830         0    1        0  \n",
       "323831         0    0        0  \n",
       "323832         0    0        0  \n",
       "323833         0    0        0  \n",
       "\n",
       "[323834 rows x 47 columns]"
      ]
     },
     "execution_count": 159,
     "metadata": {},
     "output_type": "execute_result"
    }
   ],
   "source": [
    "title_rating_prof_reg_one"
   ]
  },
  {
   "cell_type": "code",
   "execution_count": 160,
   "metadata": {},
   "outputs": [],
   "source": [
    "title_rating_prof_reg_one.to_csv('processed/title_rating_prof_reg_one.csv', index = False)"
   ]
  },
  {
   "cell_type": "code",
   "execution_count": null,
   "metadata": {},
   "outputs": [],
   "source": []
  }
 ],
 "metadata": {
  "kernelspec": {
   "display_name": "Python 3",
   "language": "python",
   "name": "python3"
  },
  "language_info": {
   "codemirror_mode": {
    "name": "ipython",
    "version": 3
   },
   "file_extension": ".py",
   "mimetype": "text/x-python",
   "name": "python",
   "nbconvert_exporter": "python",
   "pygments_lexer": "ipython3",
   "version": "3.7.6"
  }
 },
 "nbformat": 4,
 "nbformat_minor": 4
}
